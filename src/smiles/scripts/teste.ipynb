{
 "cells": [
  {
   "cell_type": "markdown",
   "source": [
    "# qHTS for Inhibitors of human tyrosyl-DNA phosphodiesterase 1 (TDP1): qHTS in cells in absence of CPT"
   ],
   "metadata": {
    "collapsed": false
   }
  },
  {
   "cell_type": "markdown",
   "source": [
    "## Introduction\n",
    "Human tyrosyl-DNA phosphodiesterase 1 (TDP1) is a novel repair gene, and we propose to use it as a new target for anticancer drug development. TDP1 is not an essential protein, but under treatment with topoisomerase I poison (camptothecin: CPT), TDP1 works as a critical factor for cell survival. To directly identify novel TDP1 inhibitors active in a cellular environment, we have knocked-out the Tdp1 gene in chicken DT40 cells (Tdp1-/-) and generated a complemented counterpart cells that contains a stable transfection of the human TDP1 gene (Tdp1-/-;hTDP1 cells). For the primary screen, Tdp1-/-;hTDP1 cells will be exposed to small molecules in the presence or absence of CPT, and their growth kinetics will be evaluated after 48 hours by measuring ATP activity. If a given compound shows a synergistic effect with CPT, this compound could inhibit the repair pathway of CPT-induced lesions including the TDP1-mediated repair pathway. The hit compounds will then be evaluated in the presence or absence of CPT using Tdp1-/- cells. If a compound shows synergistic effect with CPT in Tdp1-/-;hTDP1 cells, but not with Tdp1-/- cells, such compound could be involved in the TDP1-mediated repair pathway inhibition. In tertiary assays, biochemical gel-based assays will be used to assess whether the hit compounds specifically target TDP1."
   ],
   "metadata": {
    "collapsed": false
   }
  },
  {
   "cell_type": "markdown",
   "source": [
    "## Imports"
   ],
   "metadata": {
    "collapsed": false
   }
  },
  {
   "cell_type": "code",
   "execution_count": null,
   "outputs": [],
   "source": [
    "import numpy as np\n",
    "import pandas as pd\n",
    "from scipy import stats\n",
    "import statsmodels.api as sm\n",
    "from sklearn import preprocessing\n",
    "from sklearn.decomposition import PCA\n",
    "from scipy.cluster.hierarchy import dendrogram, linkage\n",
    "from sklearn.cluster import KMeans\n",
    "import matplotlib.pyplot as plt\n",
    "import missingno as msno\n",
    "import seaborn as sns\n",
    "from standardizer.CustomStandardizer import CustomStandardizer\n",
    "from loaders.Loaders import CSVLoader\n",
    "import sys\n",
    "%matplotlib inline\n",
    "pd.set_option('display.max_columns', 100)\n",
    "pd.set_option('display.max_rows', 100)\n",
    "\n",
    "sys.path.append('src')"
   ],
   "metadata": {
    "collapsed": false,
    "pycharm": {
     "name": "#%%\n"
    }
   }
  },
  {
   "cell_type": "markdown",
   "source": [
    "## Initial exploration"
   ],
   "metadata": {
    "collapsed": false
   }
  },
  {
   "cell_type": "markdown",
   "source": [
    "### Carregar o dataset\n",
    "The first step, analysing this dataset, includes loading and displaying TDP1 data."
   ],
   "metadata": {
    "collapsed": false
   }
  },
  {
   "cell_type": "code",
   "execution_count": null,
   "outputs": [],
   "source": [
    "file = '../dataset/TDP1_activity_dataset.csv'\n",
    "dataset = pd.read_csv(file, sep=',')\n",
    "dataset.head()"
   ],
   "metadata": {
    "collapsed": false,
    "pycharm": {
     "name": "#%%\n"
    }
   }
  },
  {
   "cell_type": "markdown",
   "source": [
    "### Simple Analyses\n",
    "This following step was taken to analyse how data presents itself along the lines and collumns of the Datasets"
   ],
   "metadata": {
    "collapsed": false
   }
  },
  {
   "cell_type": "code",
   "execution_count": null,
   "outputs": [],
   "source": [
    "dataset.size"
   ],
   "metadata": {
    "collapsed": false,
    "pycharm": {
     "name": "#%%\n"
    }
   }
  },
  {
   "cell_type": "code",
   "execution_count": null,
   "outputs": [],
   "source": [
    "dataset.shape"
   ],
   "metadata": {
    "collapsed": false,
    "pycharm": {
     "name": "#%%\n"
    }
   }
  },
  {
   "cell_type": "markdown",
   "source": [
    "O nosso dataset foi carregado sobre o nome \"dataset\" que possui 40.000 moléculas distintas e 48 características da sua análise, totalizando em 1.920.000 valores."
   ],
   "metadata": {
    "collapsed": false
   }
  },
  {
   "cell_type": "code",
   "execution_count": null,
   "outputs": [],
   "source": [
    "dataset.columns"
   ],
   "metadata": {
    "collapsed": false,
    "pycharm": {
     "name": "#%%\n"
    }
   }
  },
  {
   "cell_type": "markdown",
   "source": [
    "| ColumnsName | Description |\n",
    "| :-: | :-: |\n",
    "| **PUBCHEM_RESULT_TAG** | This column contains an increasing number starting from one. |\n",
    "| **PUBCHEM_SID** | PubChem SubstanceID |\n",
    "| **PUBCHEM_CID** | PubChem CompoundID |\n",
    "| **PUBCHEM_ACTIVITY_OUTCOME** | This field allows the submitter to make an expert judgment call about the activity of each test result. Using a number, the value is set to 1 (inactive) or 2 (active) based on whatever means appropriate. In addition to active/inactive, this field can also be set to 3 (inconclusive), 4 (unspecified) or 5 (probe). The 'probe' designation indicates that the activity of the test result has been tested and confirmed though multiple rounds of experimental inquiry |\n",
    "| **PUBCHEM_ACTIVITY_SCORE** | The activity of a test result may be assigned a normalized score between 0 and 100 where the most active result rows have scores closer to 100 and inactive closer to 0, so that one can rank the result based on this data and prioritize hits |\n",
    "| **PUBCHEM_ACTIVITY_URL** | An URL may optionally be provided for Assay Data reported for this Substance in this column. |\n",
    "| **PUBCHEM_ASSAYDATA_COMMENT** | Textual annotation and comments |\n",
    "| **Potency** | Concentration at which compound exhibits half-maximal efficacy |\n",
    "| **Efficacy** | Maximal efficacy of compound, reported as a percentage of control |\n",
    "| **Analysis Comment** | Annotation/notes on a particular compound's data or its analysis |\n",
    "| **Activity_Score** | Activity score |\n",
    "| **Curve_Description** | A description of dose-response curve quality |\n",
    "| **Fit_LogAC50** | The logarithm of the AC50 from a fit of the data to the Hill equation (calculated based on Molar Units) |\n",
    "| **Fit_HillSlope** | The Hill slope from a fit of the data to the Hill equation |\n",
    "| **Fit_R2** | R^2 fit value of the curve. Closer to 1.0 equates to better Hill equation fit |\n",
    "| **Fit_InfiniteActivity** | The asymptotic efficacy from a fit of the data to the Hill equation |\n",
    "| **Fit_ZeroActivity** | Efficacy at zero concentration of compound from a fit of the data to the Hill equation |\n",
    "| **Fit_CurveClass** | Numerical encoding of curve description for the fitted Hill equation |\n",
    "| **Excluded_Points** | Which dose-response titration points were excluded from analysis based on outlier analysis |\n",
    "| **Max_Response** | Maximum activity observed for compound (usually at highest concentration tested) |\n",
    "| **Activity at xx uM*** | % Activity at given concentration |\n",
    "| **Compound QC** | NCGC designation for data stage: 'qHTS', 'qHTS Verification', 'Secondary Profiling' |\n",
    "| **smiles** | SMILES (Simplified Molecular Input Line Entry System) is a chemical notation that allows a user to represent a chemical structure in a way that can be used by the computer. |"
   ],
   "metadata": {
    "collapsed": false
   }
  },
  {
   "cell_type": "markdown",
   "source": [
    "*Activity at xx uM corresponde as atividades em todas em concentraçoes presentes no dataset."
   ],
   "metadata": {
    "collapsed": false,
    "pycharm": {
     "name": "#%% md\n"
    }
   }
  },
  {
   "cell_type": "code",
   "execution_count": null,
   "outputs": [],
   "source": [
    "dataset.dtypes"
   ],
   "metadata": {
    "collapsed": false,
    "pycharm": {
     "name": "#%%\n"
    }
   }
  },
  {
   "cell_type": "code",
   "execution_count": null,
   "outputs": [],
   "source": [
    "sub_dataset = dataset[['Potency', 'Efficacy', 'Fit_LogAC50', 'Fit_HillSlope', 'Fit_R2',\n",
    "       'Fit_InfiniteActivity', 'Fit_ZeroActivity', 'Activity at 0.0000295000 uM',\n",
    "       'Activity at 0.0000590000 uM', 'Activity at 0.0001503265 uM',\n",
    "       'Activity at 0.0002712146 uM', 'Activity at 0.0005895491 uM',\n",
    "       'Activity at 0.00117 uM', 'Activity at 0.00179 uM',\n",
    "       'Activity at 0.00299 uM', 'Activity at 0.00672 uM',\n",
    "       'Activity at 0.014 uM', 'Activity at 0.026 uM', 'Activity at 0.040 uM',\n",
    "       'Activity at 0.074 uM', 'Activity at 0.167 uM', 'Activity at 0.363 uM',\n",
    "       'Activity at 0.628 uM', 'Activity at 0.975 uM', 'Activity at 1.849 uM',\n",
    "       'Activity at 4.119 uM', 'Activity at 9.037 uM', 'Activity at 15.83 uM',\n",
    "       'Activity at 21.08 uM', 'Activity at 46.23 uM', 'Activity at 92.54 uM',\n",
    "       'Activity at 165.6 uM']]\n",
    "\n",
    "sub_dataset.describe()"
   ],
   "metadata": {
    "collapsed": false,
    "pycharm": {
     "name": "#%%\n"
    }
   }
  },
  {
   "cell_type": "markdown",
   "source": [
    "## Pre-Processing\n",
    "\n",
    "De seguida, o número de valores nao atríbuidos serao contados tanto na totalidade como por coluna."
   ],
   "metadata": {
    "collapsed": false
   }
  },
  {
   "cell_type": "markdown",
   "source": [
    "### Visualization of the NA's"
   ],
   "metadata": {
    "collapsed": false
   }
  },
  {
   "cell_type": "code",
   "execution_count": null,
   "outputs": [],
   "source": [
    "print(dataset.isna().sum())\n",
    "print(f\"TOTAL: {dataset.isna().sum().sum()}\")"
   ],
   "metadata": {
    "collapsed": false,
    "pycharm": {
     "name": "#%%\n"
    }
   }
  },
  {
   "cell_type": "code",
   "execution_count": null,
   "outputs": [],
   "source": [
    "msno.bar(dataset,  sort=\"ascending\")"
   ],
   "metadata": {
    "collapsed": false,
    "pycharm": {
     "name": "#%%\n"
    }
   }
  },
  {
   "cell_type": "markdown",
   "source": [
    "Podemos observar que existem algumas colunas completamente constituidas por NA's, como \"PUBCHEM_ASSAYDATA_COMMENT\" e \"Analysis Comment\". Desta forma, estas colunas nao fornecem qualquer tipo de informaçao do dataset.\n",
    "Destaca-se a ausencia de smile em 10 das moléculas.\n",
    "\n",
    "É possível observar que 50,3% dos valores sao NA's."
   ],
   "metadata": {
    "collapsed": false
   }
  },
  {
   "cell_type": "markdown",
   "source": [
    "### Drop specific features"
   ],
   "metadata": {
    "collapsed": false
   }
  },
  {
   "cell_type": "code",
   "execution_count": null,
   "outputs": [],
   "source": [
    "dataset = dataset.dropna(axis=1, how='all')\n",
    "dataset.drop(['PUBCHEM_ACTIVITY_URL', 'Compound QC'], axis=1)\n",
    "dataset = dataset[dataset['smiles'].notna()]\n",
    "\n",
    "print(dataset.shape)\n",
    "print(dataset.columns)"
   ],
   "metadata": {
    "collapsed": false,
    "pycharm": {
     "name": "#%%\n"
    }
   }
  },
  {
   "cell_type": "markdown",
   "source": [
    "Foram removidas 3 colunas constituidas apenas por NA's, o que permitiu reduzir o dataset para 45 colunas no total.\n",
    "Também foram removidas colunas cuja informaçao nao será útil para as analises posteriores. Mais específicamente, foram removidas as colunas \"PUBCHEM_ACTIVITY_URL\" e \"Compound QC\", reduzindo assim o total de colunas para 43.\n",
    "As 10 moléculas que não possuiam notação SMILE foram removidas do dataset."
   ],
   "metadata": {
    "collapsed": false
   }
  },
  {
   "cell_type": "markdown",
   "source": [
    "### Graphic Analyses\n",
    "#### Activity_outcome and Phenotype"
   ],
   "metadata": {
    "collapsed": false
   }
  },
  {
   "cell_type": "code",
   "execution_count": null,
   "outputs": [],
   "source": [
    "activity = dataset.groupby('PUBCHEM_ACTIVITY_OUTCOME').size()\n",
    "labels_activity = dataset.groupby('PUBCHEM_ACTIVITY_OUTCOME').size().index\n",
    "dataset.groupby('PUBCHEM_ACTIVITY_OUTCOME').size()"
   ],
   "metadata": {
    "collapsed": false,
    "pycharm": {
     "name": "#%%\n"
    }
   }
  },
  {
   "cell_type": "code",
   "execution_count": null,
   "outputs": [],
   "source": [
    "fenotipo = dataset.groupby('Phenotype').size()\n",
    "labels_fenotipo = dataset.groupby('Phenotype').size().index\n",
    "dataset.groupby('Phenotype').size()"
   ],
   "metadata": {
    "collapsed": false,
    "pycharm": {
     "name": "#%%\n"
    }
   }
  },
  {
   "cell_type": "markdown",
   "source": [
    "#### Pie Charts Activity_outcome and Phenotype\n",
    "MUDAR PARA BARRAS"
   ],
   "metadata": {
    "collapsed": false
   }
  },
  {
   "cell_type": "code",
   "execution_count": null,
   "outputs": [],
   "source": [
    "fig, (ax1, ax2) = plt.subplots(1, 2, figsize=(15, 5))\n",
    "ax1.pie(activity, labels=labels_activity, autopct='%1.1f%%', startangle=90)\n",
    "ax1.set_title('PUBCHEM_Activity_Outcome')\n",
    "ax2.pie(fenotipo, labels=labels_fenotipo, autopct='%1.1f%%', startangle=360)\n",
    "ax2.set_title('Phenotype')"
   ],
   "metadata": {
    "collapsed": false,
    "pycharm": {
     "name": "#%%\n"
    }
   }
  },
  {
   "cell_type": "markdown",
   "source": [
    "#### Boxplots of Activity at 46.23 uM, 1.849 uM, 0.363 uM, 0.00299 uM and 9.037 uM\n",
    "REVER"
   ],
   "metadata": {
    "collapsed": false
   }
  },
  {
   "cell_type": "code",
   "execution_count": null,
   "outputs": [],
   "source": [
    "plt.subplots(figsize=(10, 10))\n",
    "sns.set(font_scale=1.4)\n",
    "plt.title(\"Activity at 0.00299 uM\", fontsize=25)\n",
    "sns.boxplot(y=\"Activity at 0.00299 uM\",\n",
    "            data=dataset, palette=\"Set3\")"
   ],
   "metadata": {
    "collapsed": false,
    "pycharm": {
     "name": "#%%\n"
    }
   }
  },
  {
   "cell_type": "code",
   "execution_count": null,
   "outputs": [],
   "source": [
    "plt.subplots(figsize=(10, 10))\n",
    "sns.set(font_scale=1.4)\n",
    "plt.title(\"Activity at 0.363 uM\", fontsize=25)\n",
    "sns.boxplot(y=\"Activity at 0.363 uM\",\n",
    "            data=dataset, palette=\"Set3\")"
   ],
   "metadata": {
    "collapsed": false,
    "pycharm": {
     "name": "#%%\n"
    }
   }
  },
  {
   "cell_type": "code",
   "execution_count": null,
   "outputs": [],
   "source": [
    "plt.subplots(figsize=(10, 10))\n",
    "sns.set(font_scale=1.4)\n",
    "plt.title(\"Activity at 1.849 uM\", fontsize=25)\n",
    "sns.boxplot(y=\"Activity at 1.849 uM\",\n",
    "            data=dataset, palette=\"Set3\")"
   ],
   "metadata": {
    "collapsed": false,
    "pycharm": {
     "name": "#%%\n"
    }
   }
  },
  {
   "cell_type": "code",
   "execution_count": null,
   "outputs": [],
   "source": [
    "plt.subplots(figsize=(10, 10))\n",
    "sns.set(font_scale=1.4)\n",
    "plt.title(\"Activity at 9.037 uM\", fontsize=25)\n",
    "sns.boxplot(y=\"Activity at 9.037 uM\",\n",
    "            data=dataset, palette=\"Set3\")"
   ],
   "metadata": {
    "collapsed": false,
    "pycharm": {
     "name": "#%%\n"
    }
   }
  },
  {
   "cell_type": "code",
   "execution_count": null,
   "outputs": [],
   "source": [
    "plt.subplots(figsize=(10, 10))\n",
    "sns.set(font_scale=1.4)\n",
    "plt.title(\"Activity at 46.23 uM\", fontsize=25)\n",
    "sns.boxplot(y=\"Activity at 46.23 uM\",\n",
    "            data=dataset, palette=\"Set3\")"
   ],
   "metadata": {
    "collapsed": false,
    "pycharm": {
     "name": "#%%\n"
    }
   }
  },
  {
   "cell_type": "markdown",
   "source": [
    "## Standardize molecules"
   ],
   "metadata": {
    "collapsed": false
   }
  },
  {
   "cell_type": "code",
   "execution_count": null,
   "outputs": [],
   "source": [
    "def standardize(dataset, id_field ,mols_field,class_field):\n",
    "\n",
    "    loader = CSVLoader(dataset,\n",
    "                       id_field=id_field,\n",
    "                       mols_field = mols_field,\n",
    "                       labels_fields = class_field)\n",
    "\n",
    "    dataset = loader.create_dataset()\n",
    "\n",
    "    standardisation_params = {\n",
    "        'REMOVE_ISOTOPE': True,\n",
    "        'NEUTRALISE_CHARGE': True,\n",
    "        'REMOVE_STEREO': False,\n",
    "        'KEEP_BIGGEST': True,\n",
    "        'ADD_HYDROGEN': False,\n",
    "        'KEKULIZE': True,\n",
    "        'NEUTRALISE_CHARGE_LATE': True}\n",
    "\n",
    "    CustomStandardizer(params = standardisation_params).standardize(dataset)\n",
    "\n",
    "    return dataset"
   ],
   "metadata": {
    "collapsed": false,
    "pycharm": {
     "name": "#%%\n"
    }
   }
  },
  {
   "cell_type": "code",
   "execution_count": null,
   "outputs": [],
   "source": [
    "dataset = standardize(file, \"PUBCHEM_CID\", \"smiles\", \"PUBCHEM_ACTIVITY_OUTCOME\")\n",
    "dataset.save_to_csv(\"../dataset/standardized.csv\")"
   ],
   "metadata": {
    "collapsed": false,
    "pycharm": {
     "name": "#%%\n"
    }
   }
  },
  {
   "cell_type": "code",
   "execution_count": null,
   "outputs": [],
   "source": [
    "dataset = pd.read_csv(\"../dataset/standardized.csv\")"
   ],
   "metadata": {
    "collapsed": false,
    "pycharm": {
     "name": "#%%\n"
    }
   }
  },
  {
   "cell_type": "code",
   "execution_count": null,
   "outputs": [],
   "source": [
    "# from rdkit.Chem import MolFromSmiles, Descriptors, AllChem, rdMolDescriptors\n",
    "from rdkit.Chem import Descriptors, AllChem\n",
    "from rdkit import Chem, DataStructs\n",
    "\n",
    "def get_molecular_descriptors(molecules):\n",
    "    descrip = np.zeros((len(molecules), 14))\n",
    "\n",
    "    i = 0\n",
    "\n",
    "    for molec in molecules:\n",
    "        descrip[i, 0] = Descriptors.ExactMolWt(molec)\n",
    "        descrip[i, 1] = Chem.Crippen.MolLogP(molec)\n",
    "        descrip[i, 2] = Chem.Lipinski.RingCount(molec)\n",
    "        descrip[i, 3] = Chem.Lipinski.NumAliphaticCarbocycles(molec)\n",
    "        descrip[i, 4] = Chem.Lipinski.NumAliphaticHeterocycles(molec)\n",
    "        descrip[i, 5] = Chem.Lipinski.NumAromaticRings(molec)\n",
    "        descrip[i, 6] = Descriptors.TPSA(molec)\n",
    "        descrip[i, 7] = Chem.Lipinski.NHOHCount(molec)\n",
    "        descrip[i, 8] = Chem.Lipinski.NOCount(molec)\n",
    "        descrip[i, 9] = Chem.Lipinski.NumHAcceptors(molec)\n",
    "        descrip[i, 10] = Chem.Lipinski.NumHDonors(molec)\n",
    "        descrip[i, 11] = Descriptors.NumValenceElectrons(molec)\n",
    "        descrip[i, 12] = Chem.Lipinski.NumRotatableBonds(molec)\n",
    "        descrip[i, 13] = Descriptors.NumRadicalElectrons(molec)\n",
    "        i += 1\n",
    "\n",
    "    columns = [\"Molecular Weight\", \"LogP\", \"Ring Count\", \"NumAliphaticCarbocycles\", \"NumAliphaticHeterocycles\",\n",
    "               \"NumAromaticRings\", \"TPSA\", \"NHOHCount\", \"NOCount\", \"NumHAcceptors\", \"NumHDonors\", \"NumValenceElectrons\",\n",
    "               \"NumRotatableBonds\", \"NumRadicalElectrons\"]\n",
    "\n",
    "    df = pd.DataFrame(descrip, columns=columns)\n",
    "    return df"
   ],
   "metadata": {
    "collapsed": false,
    "pycharm": {
     "name": "#%%\n"
    }
   }
  },
  {
   "cell_type": "code",
   "execution_count": null,
   "outputs": [],
   "source": [
    "molecules = [Chem.MolFromSmiles(smile) for smile in dataset.mols]"
   ],
   "metadata": {
    "collapsed": false,
    "pycharm": {
     "name": "#%%\n"
    }
   }
  },
  {
   "cell_type": "code",
   "execution_count": null,
   "outputs": [],
   "source": [
    "molecular_descriptors = get_molecular_descriptors(molecules)\n",
    "molecular_descriptors[\"activity\"] = dataset.y"
   ],
   "metadata": {
    "collapsed": false,
    "pycharm": {
     "name": "#%%\n"
    }
   }
  },
  {
   "cell_type": "code",
   "execution_count": null,
   "outputs": [],
   "source": [
    "molecular_descriptors"
   ],
   "metadata": {
    "collapsed": false,
    "pycharm": {
     "name": "#%%\n"
    }
   }
  },
  {
   "cell_type": "code",
   "execution_count": null,
   "outputs": [],
   "source": [
    "def generate_box_plot(feature, class_name, title, dataframe, orientation):\n",
    "    plt.subplots(figsize=(20, 10))\n",
    "    sns.set(font_scale=1.4)\n",
    "    plt.title(title, fontsize=25)\n",
    "    sns.boxplot(x=feature, y=class_name, orient=orientation,\n",
    "                data=dataframe, palette=\"Set3\")\n",
    "\n",
    "\n",
    "def generate_multiple_box_plots(dataframe, title, columns, class_name):\n",
    "    plt.subplots(figsize=(20, 10))\n",
    "    sns.set(font_scale=1.4)\n",
    "    plt.title(title, fontsize=25)\n",
    "    columns.append(class_name)\n",
    "    sns.boxplot(x=\"variable\", y=\"value\", data=pd.melt(dataframe.loc[:, columns], class_name), hue=class_name,\n",
    "                palette=\"Set3\")"
   ],
   "metadata": {
    "collapsed": false,
    "pycharm": {
     "name": "#%%\n"
    }
   }
  },
  {
   "cell_type": "code",
   "execution_count": null,
   "outputs": [],
   "source": [
    "generate_box_plot(\"Molecular Weight\", \"activity\", \"\", molecular_descriptors, \"h\")"
   ],
   "metadata": {
    "collapsed": false,
    "pycharm": {
     "name": "#%%\n"
    }
   }
  },
  {
   "cell_type": "code",
   "execution_count": null,
   "outputs": [],
   "source": [
    "columns = [\"Ring Count\", \"NumAromaticRings\"]\n",
    "\n",
    "generate_multiple_box_plots(molecular_descriptors, \"\", columns, \"activity\")"
   ],
   "metadata": {
    "collapsed": false,
    "pycharm": {
     "name": "#%%\n"
    }
   }
  },
  {
   "cell_type": "markdown",
   "source": [
    "## Feature generation"
   ],
   "metadata": {
    "collapsed": false
   }
  },
  {
   "cell_type": "code",
   "execution_count": null,
   "outputs": [],
   "source": [
    "from compoundFeaturization.rdkitFingerprints import MorganFingerprint\n",
    "from loaders.Loaders import CSVLoader\n",
    "\n",
    "loader = CSVLoader(\"standardized.csv\",\n",
    "                   mols_field='mols',\n",
    "                   labels_fields='y')\n",
    "\n",
    "dataset = loader.create_dataset()"
   ],
   "metadata": {
    "collapsed": false,
    "pycharm": {
     "name": "#%%\n"
    }
   }
  },
  {
   "cell_type": "markdown",
   "source": [
    "### Generate fingerprints"
   ],
   "metadata": {
    "collapsed": false
   }
  },
  {
   "cell_type": "code",
   "execution_count": null,
   "outputs": [],
   "source": [
    "MorganFingerprint().featurize(dataset)"
   ],
   "metadata": {
    "collapsed": false,
    "pycharm": {
     "name": "#%%\n"
    }
   }
  },
  {
   "cell_type": "markdown",
   "source": [
    "### Generate molecular descriptors"
   ],
   "metadata": {
    "collapsed": false
   }
  },
  {
   "cell_type": "code",
   "execution_count": null,
   "outputs": [],
   "source": [
    "from compoundFeaturization.rdkitDescriptors import TwoDimensionDescriptors\n",
    "from scalers.sklearnScalers import StandardScaler\n",
    "\n",
    "scaler = StandardScaler()\n",
    "TwoDimensionDescriptors().featurize(dataset, scaler=scaler)"
   ],
   "metadata": {
    "collapsed": false,
    "pycharm": {
     "name": "#%%\n"
    }
   }
  },
  {
   "cell_type": "markdown",
   "source": [
    "## Feature Selection"
   ],
   "metadata": {
    "collapsed": false
   }
  },
  {
   "cell_type": "code",
   "execution_count": null,
   "outputs": [],
   "source": [
    "from featureSelection.baseFeatureSelector import LowVarianceFS, KbestFS, BorutaAlgorithm"
   ],
   "metadata": {
    "collapsed": false,
    "pycharm": {
     "name": "#%%\n"
    }
   }
  },
  {
   "cell_type": "code",
   "execution_count": null,
   "outputs": [],
   "source": [
    "LowVarianceFS().select_features(dataset)"
   ],
   "metadata": {
    "collapsed": false,
    "pycharm": {
     "name": "#%%\n"
    }
   }
  },
  {
   "cell_type": "code",
   "execution_count": null,
   "outputs": [],
   "source": [
    "dataset.y"
   ],
   "metadata": {
    "collapsed": false,
    "pycharm": {
     "name": "#%%\n"
    }
   }
  },
  {
   "cell_type": "code",
   "execution_count": null,
   "outputs": [],
   "source": [
    "import numpy as np\n",
    "np.any(np.isnan(dataset.X))"
   ],
   "metadata": {
    "collapsed": false,
    "pycharm": {
     "name": "#%%\n"
    }
   }
  },
  {
   "cell_type": "code",
   "execution_count": null,
   "outputs": [],
   "source": [
    "BorutaAlgorithm(max_iter=10, n_estimators=100).select_features(dataset)"
   ],
   "metadata": {
    "collapsed": false,
    "pycharm": {
     "name": "#%%\n"
    }
   }
  },
  {
   "cell_type": "code",
   "execution_count": null,
   "outputs": [],
   "source": [
    "dataset.X"
   ],
   "metadata": {
    "collapsed": false,
    "pycharm": {
     "name": "#%%\n"
    }
   }
  },
  {
   "cell_type": "markdown",
   "source": [
    "## Unsupervised exploration"
   ],
   "metadata": {
    "collapsed": false
   }
  },
  {
   "cell_type": "code",
   "execution_count": null,
   "outputs": [],
   "source": [
    "from rdkit import Chem, DataStructs\n",
    "from copy import copy"
   ],
   "metadata": {
    "collapsed": false,
    "pycharm": {
     "name": "#%%\n"
    }
   }
  },
  {
   "cell_type": "code",
   "execution_count": null,
   "outputs": [],
   "source": [
    "import numpy as np\n",
    "def generate_similarities(fps):\n",
    "    similarities_list = []\n",
    "    bv1 = DataStructs.ExplicitBitVect(fps.shape[1])\n",
    "\n",
    "    new_fps = []\n",
    "    for fp in fps:\n",
    "        bv12 = copy(bv1)\n",
    "        for i,bit in enumerate(fp):\n",
    "            if bit == 1:\n",
    "               bv12.SetBit(i)\n",
    "        new_fps.append(bv12)\n",
    "\n",
    "    for i in range(0,2000):\n",
    "        remaining_fp = new_fps[:i] + new_fps[i+1:]\n",
    "        similarities = DataStructs.BulkTanimotoSimilarity(new_fps[i], remaining_fp)\n",
    "        similarities.insert(i,1)\n",
    "        similarities_list.append(similarities)\n",
    "\n",
    "    return np.transpose(np.array(similarities_list))\n"
   ],
   "metadata": {
    "collapsed": false,
    "pycharm": {
     "name": "#%%\n"
    }
   }
  },
  {
   "cell_type": "code",
   "execution_count": null,
   "outputs": [],
   "source": [
    "similarities = generate_similarities(dataset.X)"
   ],
   "metadata": {
    "collapsed": false,
    "pycharm": {
     "name": "#%%\n"
    }
   }
  },
  {
   "cell_type": "code",
   "execution_count": null,
   "outputs": [],
   "source": [
    "from sklearn.manifold import TSNE\n",
    "from sklearn.decomposition import PCA\n",
    "\n",
    "pca = PCA(n_components = 2)\n",
    "\n",
    "# Transform the data\n",
    "df = pca.fit_transform(similarities)\n",
    "\n",
    "tsne_df = TSNE(n_components=2).fit_transform(df)"
   ],
   "metadata": {
    "collapsed": false,
    "pycharm": {
     "name": "#%%\n"
    }
   }
  },
  {
   "cell_type": "code",
   "execution_count": null,
   "outputs": [],
   "source": [
    "labels = dataset.y\n",
    "\n",
    "plt.figure(figsize=(20, 20))\n",
    "sns.scatterplot(\n",
    "    df[:, 0], df[:, 1],\n",
    "    hue=labels,\n",
    "    palette=sns.color_palette(\"deep\", 2),\n",
    "    legend=\"full\",\n",
    "    s=25\n",
    ")"
   ],
   "metadata": {
    "collapsed": false,
    "pycharm": {
     "name": "#%%\n"
    }
   }
  },
  {
   "cell_type": "code",
   "execution_count": null,
   "outputs": [],
   "source": [
    "labels = dataset.y\n",
    "\n",
    "plt.figure(figsize=(20, 20))\n",
    "sns.scatterplot(\n",
    "    tsne_df[:, 0], tsne_df[:, 1],\n",
    "    hue=labels,\n",
    "    palette=sns.color_palette(\"deep\", 2),\n",
    "    legend=\"full\",\n",
    "    s=25\n",
    ")"
   ],
   "metadata": {
    "collapsed": false,
    "pycharm": {
     "name": "#%%\n"
    }
   }
  }
 ],
 "metadata": {
  "interpreter": {
   "hash": "3caf13703c5b1c02abff9fa597e671e1239d1d668b6a345ae62ddadff9d8fc63"
  },
  "kernelspec": {
   "display_name": "Python 3 (ipykernel)",
   "language": "python",
   "name": "python3"
  },
  "language_info": {
   "codemirror_mode": {
    "name": "ipython",
    "version": 3
   },
   "file_extension": ".py",
   "mimetype": "text/x-python",
   "name": "python",
   "nbconvert_exporter": "python",
   "pygments_lexer": "ipython3",
   "version": "3.9.7"
  }
 },
 "nbformat": 4,
 "nbformat_minor": 2
}
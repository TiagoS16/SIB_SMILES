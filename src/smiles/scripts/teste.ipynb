{
 "cells": [
  {
   "cell_type": "markdown",
   "source": [
    "# qHTS for Inhibitors of human tyrosyl-DNA phosphodiesterase 1 (TDP1): qHTS in cells in absence of CPT"
   ],
   "metadata": {
    "collapsed": false
   }
  },
  {
   "cell_type": "markdown",
   "source": [
    "## Introduction\n",
    "###### Human tyrosyl-DNA phosphodiesterase 1 (TDP1) is a novel repair gene, and we propose to use it as a new target for anticancer drug development. TDP1 is not an essential protein, but under treatment with topoisomerase I poison (camptothecin: CPT), TDP1 works as a critical factor for cell survival. To directly identify novel TDP1 inhibitors active in a cellular environment, we have knocked-out the Tdp1 gene in chicken DT40 cells (Tdp1-/-) and generated a complemented counterpart cells that contains a stable transfection of the human TDP1 gene (Tdp1-/-;hTDP1 cells). For the primary screen, Tdp1-/-;hTDP1 cells will be exposed to small molecules in the presence or absence of CPT, and their growth kinetics will be evaluated after 48 hours by measuring ATP activity. If a given compound shows a synergistic effect with CPT, this compound could inhibit the repair pathway of CPT-induced lesions including the TDP1-mediated repair pathway. The hit compounds will then be evaluated in the presence or absence of CPT using Tdp1-/- cells. If a compound shows synergistic effect with CPT in Tdp1-/-;hTDP1 cells, but not with Tdp1-/- cells, such compound could be involved in the TDP1-mediated repair pathway inhibition. In tertiary assays, biochemical gel-based assays will be used to assess whether the hit compounds specifically target TDP1."
   ],
   "metadata": {
    "collapsed": false,
    "pycharm": {
     "name": "#%% md\n"
    }
   }
  },
  {
   "cell_type": "markdown",
   "source": [
    "## Imports"
   ],
   "metadata": {
    "collapsed": false
   }
  },
  {
   "cell_type": "code",
   "execution_count": null,
   "outputs": [],
   "source": [
    "import numpy as np\n",
    "import pandas as pd\n",
    "from scipy import stats\n",
    "import statsmodels.api as sm\n",
    "from sklearn import preprocessing\n",
    "from sklearn.decomposition import PCA\n",
    "from scipy.cluster.hierarchy import dendrogram, linkage\n",
    "from sklearn.cluster import KMeans\n",
    "import matplotlib.pyplot as plt\n",
    "import missingno as msno\n",
    "import seaborn as sns\n",
    "from standardizer.CustomStandardizer import CustomStandardizer\n",
    "from loaders.Loaders import CSVLoader"
   ],
   "metadata": {
    "collapsed": false,
    "pycharm": {
     "name": "#%%\n"
    }
   }
  },
  {
   "cell_type": "markdown",
   "source": [
    "## Initial exploration"
   ],
   "metadata": {
    "collapsed": false,
    "pycharm": {
     "name": "#%% md\n"
    }
   }
  },
  {
   "cell_type": "markdown",
   "source": [
    "### Carregar o dataset\n",
    "###### The first step, analysing this dataset, includes loading and displaying TDP1 data."
   ],
   "metadata": {
    "collapsed": false,
    "pycharm": {
     "name": "#%% md\n"
    }
   }
  },
  {
   "cell_type": "code",
   "execution_count": null,
   "outputs": [],
   "source": [
    "file = 'C:/Users/rafes/Documents/GitHub/SIB_SMILES/src/smiles/dataset/TDP1_activity_dataset.csv'\n",
    "dataframe = pd.read_csv(file, sep=',', dtype={'Excluded_Points': str, 'Compound QC': str, 'smiles': str})\n",
    "dataframe.head()"
   ],
   "metadata": {
    "collapsed": false,
    "pycharm": {
     "name": "#%%\n"
    }
   }
  },
  {
   "cell_type": "markdown",
   "source": [
    "### Simple Analyses\n",
    "###### This following step was taken to analyse how data presents itself along the lines and collumns of the Datasets"
   ],
   "metadata": {
    "collapsed": false
   }
  },
  {
   "cell_type": "code",
   "execution_count": null,
   "outputs": [],
   "source": [
    "dataframe.size\n",
    "dataframe.shape\n",
    "dataframe.columns\n",
    "dataframe.dtypes\n",
    "dataframe.describe()"
   ],
   "metadata": {
    "collapsed": false,
    "pycharm": {
     "name": "#%%\n"
    }
   }
  },
  {
   "cell_type": "markdown",
   "source": [
    "## Pre-Processing"
   ],
   "metadata": {
    "collapsed": false
   }
  },
  {
   "cell_type": "markdown",
   "source": [
    "### Visualization of the NAn's in each collumn"
   ],
   "metadata": {
    "collapsed": false,
    "pycharm": {
     "name": "#%% md\n"
    }
   }
  },
  {
   "cell_type": "code",
   "execution_count": null,
   "outputs": [],
   "source": [
    "dataframe.isna().sum().sum()\n",
    "dataframe.isna().sum()\n",
    "\n",
    "msno.bar(dataframe,  sort=\"ascending\")"
   ],
   "metadata": {
    "collapsed": false,
    "pycharm": {
     "name": "#%%\n"
    }
   }
  },
  {
   "cell_type": "markdown",
   "source": [
    "###### The dataset presented a wide number of NA values (VER ...)"
   ],
   "metadata": {
    "collapsed": false,
    "pycharm": {
     "name": "#%% md\n"
    }
   }
  },
  {
   "cell_type": "markdown",
   "source": [
    "### Drop specific features"
   ],
   "metadata": {
    "collapsed": false,
    "pycharm": {
     "name": "#%% md\n"
    }
   }
  },
  {
   "cell_type": "code",
   "execution_count": null,
   "outputs": [],
   "source": [
    "del dataframe['PUBCHEM_ACTIVITY_URL']  # drop de colunas desnecessarias\n",
    "del dataframe['Compound QC']\n",
    "\n",
    "dataframe.shape\n",
    "dataframe.columns"
   ],
   "metadata": {
    "collapsed": false,
    "pycharm": {
     "name": "#%%\n"
    }
   }
  },
  {
   "cell_type": "markdown",
   "source": [
    "### Graphic Analyses\n",
    "#### Activity_outcome nad Phenotype"
   ],
   "metadata": {
    "collapsed": false,
    "pycharm": {
     "name": "#%% md\n"
    }
   }
  },
  {
   "cell_type": "code",
   "source": [
    "activity = dataframe.groupby('PUBCHEM_ACTIVITY_OUTCOME').size()\n",
    "labels_activity = dataframe.groupby('PUBCHEM_ACTIVITY_OUTCOME').size().index\n",
    "dataframe.groupby('PUBCHEM_ACTIVITY_OUTCOME').size()\n",
    "\n",
    "fenotipo = dataframe.groupby('Phenotype').size()\n",
    "labels_fenotipo = dataframe.groupby('Phenotype').size().index\n",
    "dataframe.groupby('Phenotype').size()"
   ],
   "metadata": {
    "collapsed": false,
    "pycharm": {
     "name": "#%%\n"
    }
   },
   "execution_count": null,
   "outputs": []
  },
  {
   "cell_type": "markdown",
   "source": [
    "#### Pie Charts Activity_outcome and Phenotype"
   ],
   "metadata": {
    "collapsed": false
   }
  },
  {
   "cell_type": "code",
   "execution_count": null,
   "outputs": [],
   "source": [
    "fig, (ax1, ax2) = plt.subplots(1, 2, figsize=(15, 5))\n",
    "ax1.pie(activity, labels=labels_activity, autopct='%1.1f%%', startangle=90)\n",
    "ax1.set_title('PUBCHEM_Activity_Outcome')\n",
    "ax2.pie(fenotipo, labels=labels_fenotipo, autopct='%1.1f%%', startangle=360)\n",
    "ax2.set_title('Phenotype')"
   ],
   "metadata": {
    "collapsed": false,
    "pycharm": {
     "name": "#%%\n"
    }
   }
  },
  {
   "cell_type": "markdown",
   "source": [
    "#### Boxplots of Activity at 46.23 uM, 1.849 uM, 0.363 uM, 0.00299 uM and 9.037 uM"
   ],
   "metadata": {
    "collapsed": false
   }
  },
  {
   "cell_type": "code",
   "execution_count": null,
   "outputs": [],
   "source": [
    "plt.subplots(figsize=(10, 10))\n",
    "sns.set(font_scale=1.4)\n",
    "plt.title(\"Activity at 46.23 uM\", fontsize=25)\n",
    "sns.boxplot(y=\"Activity at 46.23 uM\",\n",
    "            data=dataframe, palette=\"Set3\")\n",
    "\n",
    "plt.subplots(figsize=(10, 10))\n",
    "sns.set(font_scale=1.4)\n",
    "plt.title(\"Activity at 1.849 uM\", fontsize=25)\n",
    "sns.boxplot(y=\"Activity at 1.849 uM\",\n",
    "            data=dataframe, palette=\"Set3\")\n",
    "\n",
    "plt.subplots(figsize=(10, 10))\n",
    "sns.set(font_scale=1.4)\n",
    "plt.title(\"Activity at 0.363 uM\", fontsize=25)\n",
    "sns.boxplot(y=\"Activity at 0.363 uM\",\n",
    "            data=dataframe, palette=\"Set3\")\n",
    "\n",
    "plt.subplots(figsize=(10, 10))\n",
    "sns.set(font_scale=1.4)\n",
    "plt.title(\"Activity at 0.00299 uM\", fontsize=25)\n",
    "sns.boxplot(y=\"Activity at 0.00299 uM\",\n",
    "            data=dataframe, palette=\"Set3\")\n",
    "\n",
    "plt.subplots(figsize=(10, 10))\n",
    "sns.set(font_scale=1.4)\n",
    "plt.title(\"Activity at 9.037 uM\", fontsize=25)\n",
    "sns.boxplot(y=\"Activity at 9.037 uM\",\n",
    "            data=dataframe, palette=\"Set3\")"
   ],
   "metadata": {
    "collapsed": false,
    "pycharm": {
     "name": "#%%\n"
    }
   }
  },
  {
   "cell_type": "markdown",
   "source": [
    "## Standardize molecules"
   ],
   "metadata": {
    "collapsed": false,
    "pycharm": {
     "name": "#%% md\n"
    }
   }
  },
  {
   "cell_type": "code",
   "execution_count": null,
   "outputs": [],
   "source": [
    "def standardize(dataset, id_field ,mols_field,class_field):\n",
    "\n",
    "    loader = CSVLoader(dataset,\n",
    "                       id_field=id_field,\n",
    "                       mols_field = mols_field,\n",
    "                       labels_fields = class_field)\n",
    "\n",
    "    dataset = loader.create_dataset()\n",
    "\n",
    "    standardisation_params = {\n",
    "        'REMOVE_ISOTOPE': True,\n",
    "        'NEUTRALISE_CHARGE': True,\n",
    "        'REMOVE_STEREO': False,\n",
    "        'KEEP_BIGGEST': True,\n",
    "        'ADD_HYDROGEN': False,\n",
    "        'KEKULIZE': True,\n",
    "        'NEUTRALISE_CHARGE_LATE': True}\n",
    "\n",
    "    CustomStandardizer(params = standardisation_params).standardize(dataset)\n",
    "\n",
    "    return dataset"
   ],
   "metadata": {
    "collapsed": false,
    "pycharm": {
     "name": "#%%\n"
    }
   }
  },
  {
   "cell_type": "code",
   "execution_count": null,
   "outputs": [],
   "source": [
    "dataframe = standardize(file, \"PUBCHEM_CID\", \"smiles\", \"PUBCHEM_ACTIVITY_OUTCOME\")"
   ],
   "metadata": {
    "collapsed": false,
    "pycharm": {
     "name": "#%%\n"
    }
   }
  }
 ],
 "metadata": {
  "interpreter": {
   "hash": "3caf13703c5b1c02abff9fa597e671e1239d1d668b6a345ae62ddadff9d8fc63"
  },
  "kernelspec": {
   "display_name": "Python 3.7.9 64-bit ('py37': conda)",
   "language": "python",
   "name": "python3"
  },
  "language_info": {
   "codemirror_mode": {
    "name": "ipython",
    "version": 3
   },
   "file_extension": ".py",
   "mimetype": "text/x-python",
   "name": "python",
   "nbconvert_exporter": "python",
   "pygments_lexer": "ipython3",
   "version": "3.8.3"
  },
  "orig_nbformat": 4
 },
 "nbformat": 4,
 "nbformat_minor": 2
}
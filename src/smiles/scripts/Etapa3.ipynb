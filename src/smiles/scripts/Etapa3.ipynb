{
 "cells": [
  {
   "cell_type": "markdown",
   "metadata": {
    "pycharm": {
     "name": "#%% md\n"
    }
   },
   "source": [
    "# Etapa 3 - Machine Learning"
   ]
  },
  {
   "cell_type": "markdown",
   "metadata": {},
   "source": [
    "## Imports"
   ]
  },
  {
   "cell_type": "code",
   "execution_count": 1,
   "metadata": {
    "pycharm": {
     "name": "#%%\n"
    }
   },
   "outputs": [],
   "source": [
    "import warnings\n",
    "import random\n",
    "import numpy as np\n",
    "import pandas as pd\n",
    "import matplotlib.pyplot as plt\n",
    "from sklearn.model_selection import train_test_split, cross_val_score, StratifiedKFold\n",
    "from sklearn.metrics import (classification_report, confusion_matrix, accuracy_score, f1_score, recall_score, matthews_corrcoef, ConfusionMatrixDisplay, precision_score)\n",
    "from sklearn.neural_network import MLPClassifier\n",
    "from sklearn.ensemble import RandomForestClassifier, VotingClassifier\n",
    "from sklearn.naive_bayes import GaussianNB\n",
    "from sklearn.neighbors import KNeighborsClassifier\n",
    "from sklearn.experimental import enable_halving_search_cv\n",
    "from sklearn.model_selection import HalvingRandomSearchCV, HalvingGridSearchCV\n",
    "\n",
    "%matplotlib inline\n",
    "\n",
    "warnings.filterwarnings('ignore')\n",
    "\n",
    "# rand = 1483433244"
   ]
  },
  {
   "cell_type": "markdown",
   "metadata": {},
   "source": [
    "# Functions"
   ]
  },
  {
   "cell_type": "markdown",
   "metadata": {},
   "source": [
    "Metrics"
   ]
  },
  {
   "cell_type": "code",
   "execution_count": 2,
   "metadata": {
    "pycharm": {
     "name": "#%%\n"
    }
   },
   "outputs": [],
   "source": [
    "def metrics(label_test, predict):\n",
    "    print('METRICS:')\n",
    "    print(f\"Accuracy score:\\n{accuracy_score(label_test, predict)}\\n\")\n",
    "    print(f\"Recall score:\\n{recall_score(label_test, predict, average='weighted')}\\n\")\n",
    "    print(f\"Precison score:\\n{precision_score(label_test, predict, average='weighted', zero_division=0)}\\n\")\n",
    "    print(f\"F1-score:\\n{f1_score(label_test, predict, average='weighted')}\\n\")\n",
    "    print(f\"MCC score:\\n{matthews_corrcoef(label_test, predict)}\\n\")\n",
    "    print(f\"Confusion matrix:\\n{confusion_matrix(label_test, predict)}\\n\")\n",
    "    print(f\"Classification report:\\n{classification_report(label_test, predict, zero_division=True)}\\n\")\n",
    "    ConfusionMatrixDisplay(confusion_matrix(label_test, predict)).plot(cmap=plt.cm.Blues)\n"
   ]
  },
  {
   "cell_type": "markdown",
   "metadata": {},
   "source": [
    "ML"
   ]
  },
  {
   "cell_type": "code",
   "execution_count": 3,
   "metadata": {
    "pycharm": {
     "name": "#%%\n"
    }
   },
   "outputs": [],
   "source": [
    "def ml(model, dataset, labels, param=None, rand=None):\n",
    "    # SPLIT\n",
    "    data_train, data_test, label_train, label_test = train_test_split(dataset, labels, test_size=0.3)\n",
    "\n",
    "    # k-fold\n",
    "    kfold = StratifiedKFold(n_splits=5, random_state=rand, shuffle=False)\n",
    "    # Cross validation\n",
    "    scores_scoring = cross_val_score(model, X=data_train, y=label_train, cv=kfold, scoring='accuracy')\n",
    "    print(f'Cross Validation accuracy score: {np.mean(scores_scoring)}\\n')\n",
    "\n",
    "    # model training - FIT\n",
    "    model.fit(data_train, label_train)\n",
    "\n",
    "    # PREDICT\n",
    "    predict = model.predict(X=data_test)\n",
    "    base_model = accuracy_score(label_test, predict)\n",
    "    print('Base Model Accuracy: {:.3f}\\n'.format(base_model))\n",
    "\n",
    "    if param != None:\n",
    "        ## OPTIMIZATION\n",
    "        search = HalvingGridSearchCV(estimator=model, param_grid=param, cv=kfold, scoring='accuracy', random_state=rand,\n",
    "                                     n_jobs=-1)\n",
    "        # search = HalvingRandomSearchCV(estimator=model, param_distributions=param, cv=kfold, scoring='accuracy',\n",
    "        #                                random_state=rand, n_jobs=-1)\n",
    "        search.fit(X=data_train, y=label_train)\n",
    "\n",
    "        best_params = search.best_params_\n",
    "        print(f'{best_params}\\n')\n",
    "        # OPTI MODEL FITTED\n",
    "        best_model = search.best_estimator_\n",
    "        predict_opt = best_model.predict(X=data_test)\n",
    "        opt_model = accuracy_score(label_test, predict_opt)\n",
    "        print('Optimized Model Accuracy: {:.3f}\\n'.format(opt_model))\n",
    "\n",
    "        improv = ((opt_model-base_model)/base_model*100)\n",
    "        print('Optimized model improved {:.3f}% over base model.\\n'.format(improv))\n",
    "\n",
    "        if improv >= 0:\n",
    "            predict = predict_opt\n",
    "\n",
    "    # Metrics\n",
    "    metrics(label_test, predict)"
   ]
  },
  {
   "cell_type": "markdown",
   "metadata": {},
   "source": [
    "The *ml* function will firstly do a cross validation to evaluate the model adaptation to the data. Secondly, it will fit the model and then predict the test set labels and it's corresponding accuracy. Lastly, it will do a hyperparameter optimization and then use the best parameters to predict the test set labels and it's accuracy."
   ]
  },
  {
   "cell_type": "markdown",
   "metadata": {},
   "source": [
    "# Models"
   ]
  },
  {
   "cell_type": "code",
   "execution_count": 4,
   "metadata": {
    "pycharm": {
     "name": "#%%\n"
    }
   },
   "outputs": [],
   "source": [
    "rf = RandomForestClassifier(n_jobs=-1)\n",
    "nb = GaussianNB()\n",
    "knn = KNeighborsClassifier(n_jobs=-1)\n",
    "voting = VotingClassifier(estimators=[('Random Forest', rf), ('Naive Bayes', nb), ('KNN', knn)], voting='soft', n_jobs=-1)\n",
    "nn = MLPClassifier(early_stopping=True)"
   ]
  },
  {
   "cell_type": "markdown",
   "metadata": {},
   "source": [
    "# Hyperparameters"
   ]
  },
  {
   "cell_type": "code",
   "execution_count": 5,
   "metadata": {
    "pycharm": {
     "name": "#%%\n"
    }
   },
   "outputs": [],
   "source": [
    "params_rf = {'n_estimators': range(10, 211, 50), 'criterion': ['entropy', 'gini'], 'max_features': ['sqrt', 'log2', None],\n",
    "          'bootstrap': [True, False]}\n",
    "params_knn = {'n_neighbors': range(2, 11, 2), 'weights': ['distance', 'uniform'], 'leaf_size': range(10, 50, 10), 'p': [1, 2]}\n",
    "params_nn = {'activation': ['identity', 'logistic', 'tanh', 'relu'], 'learning_rate': ['constant', 'invscaling', 'adaptive']}"
   ]
  },
  {
   "cell_type": "markdown",
   "metadata": {},
   "source": [
    "# Binary Classification"
   ]
  },
  {
   "cell_type": "markdown",
   "metadata": {},
   "source": [
    "### Load data"
   ]
  },
  {
   "cell_type": "code",
   "execution_count": 6,
   "metadata": {
    "pycharm": {
     "name": "#%%\n"
    }
   },
   "outputs": [],
   "source": [
    "descriptors = pd.read_csv('../dataset/binary_class/descriptors_fs.csv', sep=',')\n",
    "fingerprint = pd.read_csv('../dataset/binary_class/rdk_fs.csv', sep=',')\n",
    "\n",
    "descriptors_data_b = descriptors.drop(\"activity\", axis=1)\n",
    "descriptors_label_b = descriptors[\"activity\"]\n",
    "fingerprint_data_b = fingerprint.drop(\"activity\", axis=1)\n",
    "fingerprint_label_b = fingerprint[\"activity\"]"
   ]
  },
  {
   "cell_type": "markdown",
   "metadata": {},
   "source": [
    "## Descriptors"
   ]
  },
  {
   "cell_type": "markdown",
   "metadata": {},
   "source": [
    "### Random Forest"
   ]
  },
  {
   "cell_type": "code",
   "execution_count": 7,
   "metadata": {
    "pycharm": {
     "name": "#%%\n"
    }
   },
   "outputs": [
    {
     "name": "stdout",
     "output_type": "stream",
     "text": [
      "Cross Validation accuracy score: 0.8167690142187769\n",
      "\n",
      "Base Model Accuracy: 0.814\n",
      "\n",
      "{'bootstrap': False, 'criterion': 'gini', 'max_features': 'sqrt', 'n_estimators': 210}\n",
      "\n",
      "Optimized Model Accuracy: 0.825\n",
      "\n",
      "Optimized model improved 1.383% over base model.\n",
      "\n",
      "METRICS:\n",
      "Accuracy score:\n",
      "0.8249562390597649\n",
      "\n",
      "Recall score:\n",
      "0.8249562390597649\n",
      "\n",
      "Precison score:\n",
      "0.8250103766937189\n",
      "\n",
      "F1-score:\n",
      "0.8249428545125113\n",
      "\n",
      "MCC score:\n",
      "0.6499516363947181\n",
      "\n",
      "Confusion matrix:\n",
      "[[5014 1008]\n",
      " [1092 4883]]\n",
      "\n",
      "Classification report:\n",
      "              precision    recall  f1-score   support\n",
      "\n",
      "           0       0.82      0.83      0.83      6022\n",
      "           1       0.83      0.82      0.82      5975\n",
      "\n",
      "    accuracy                           0.82     11997\n",
      "   macro avg       0.83      0.82      0.82     11997\n",
      "weighted avg       0.83      0.82      0.82     11997\n",
      "\n",
      "\n"
     ]
    },
    {
     "data": {
      "text/plain": "<Figure size 432x288 with 2 Axes>",
      "image/png": "[encoded data removed]"
     },
     "metadata": {
      "needs_background": "light"
     },
     "output_type": "display_data"
    }
   ],
   "source": [
    "ml(rf, descriptors_data_b, descriptors_label_b, params_rf)"
   ]
  },
  {
   "cell_type": "markdown",
   "metadata": {},
   "source": [
    "### Gaussian Naive Bayes"
   ]
  },
  {
   "cell_type": "code",
   "execution_count": 8,
   "metadata": {
    "pycharm": {
     "name": "#%%\n"
    }
   },
   "outputs": [
    {
     "name": "stdout",
     "output_type": "stream",
     "text": [
      "Cross Validation accuracy score: 0.700628908303625\n",
      "\n",
      "Base Model Accuracy: 0.698\n",
      "\n",
      "METRICS:\n",
      "Accuracy score:\n",
      "0.6975077102608985\n",
      "\n",
      "Recall score:\n",
      "0.6975077102608985\n",
      "\n",
      "Precison score:\n",
      "0.6978109891185129\n",
      "\n",
      "F1-score:\n",
      "0.697409401972181\n",
      "\n",
      "MCC score:\n",
      "0.3953367814679376\n",
      "\n",
      "Confusion matrix:\n",
      "[[4287 1701]\n",
      " [1928 4081]]\n",
      "\n",
      "Classification report:\n",
      "              precision    recall  f1-score   support\n",
      "\n",
      "           0       0.69      0.72      0.70      5988\n",
      "           1       0.71      0.68      0.69      6009\n",
      "\n",
      "    accuracy                           0.70     11997\n",
      "   macro avg       0.70      0.70      0.70     11997\n",
      "weighted avg       0.70      0.70      0.70     11997\n",
      "\n",
      "\n"
     ]
    },
    {
     "data": {
      "text/plain": "<Figure size 432x288 with 2 Axes>",
      "image/png": "[encoded data removed]"
     },
     "metadata": {
      "needs_background": "light"
     },
     "output_type": "display_data"
    }
   ],
   "source": [
    "ml(nb, descriptors_data_b, descriptors_label_b, None)"
   ]
  },
  {
   "cell_type": "markdown",
   "metadata": {},
   "source": [
    "### K Nearest Neighbors"
   ]
  },
  {
   "cell_type": "code",
   "execution_count": 9,
   "metadata": {
    "pycharm": {
     "name": "#%%\n"
    }
   },
   "outputs": [
    {
     "name": "stdout",
     "output_type": "stream",
     "text": [
      "Cross Validation accuracy score: 0.7918688907406461\n",
      "\n",
      "Base Model Accuracy: 0.803\n",
      "\n",
      "{'leaf_size': 10, 'n_neighbors': 10, 'p': 1, 'weights': 'distance'}\n",
      "\n",
      "Optimized Model Accuracy: 0.820\n",
      "\n",
      "Optimized model improved 2.128% over base model.\n",
      "\n",
      "METRICS:\n",
      "Accuracy score:\n",
      "0.8200383429190631\n",
      "\n",
      "Recall score:\n",
      "0.8200383429190631\n",
      "\n",
      "Precison score:\n",
      "0.821265246730681\n",
      "\n",
      "F1-score:\n",
      "0.8198477575158695\n",
      "\n",
      "MCC score:\n",
      "0.6412708887254108\n",
      "\n",
      "Confusion matrix:\n",
      "[[5122  892]\n",
      " [1267 4716]]\n",
      "\n",
      "Classification report:\n",
      "              precision    recall  f1-score   support\n",
      "\n",
      "           0       0.80      0.85      0.83      6014\n",
      "           1       0.84      0.79      0.81      5983\n",
      "\n",
      "    accuracy                           0.82     11997\n",
      "   macro avg       0.82      0.82      0.82     11997\n",
      "weighted avg       0.82      0.82      0.82     11997\n",
      "\n",
      "\n"
     ]
    },
    {
     "data": {
      "text/plain": "<Figure size 432x288 with 2 Axes>",
      "image/png": "[encoded data removed]"
     },
     "metadata": {
      "needs_background": "light"
     },
     "output_type": "display_data"
    }
   ],
   "source": [
    "ml(knn, descriptors_data_b, descriptors_label_b, params_knn)"
   ]
  },
  {
   "cell_type": "markdown",
   "metadata": {},
   "source": [
    "### Voting Classifier\n",
    "This model will include all the previous models."
   ]
  },
  {
   "cell_type": "code",
   "execution_count": 10,
   "metadata": {
    "pycharm": {
     "name": "#%%\n"
    }
   },
   "outputs": [
    {
     "name": "stdout",
     "output_type": "stream",
     "text": [
      "Cross Validation accuracy score: 0.7689337611390182\n",
      "\n",
      "Base Model Accuracy: 0.773\n",
      "\n",
      "METRICS:\n",
      "Accuracy score:\n",
      "0.7731099441527048\n",
      "\n",
      "Recall score:\n",
      "0.7731099441527048\n",
      "\n",
      "Precison score:\n",
      "0.7749555324440315\n",
      "\n",
      "F1-score:\n",
      "0.7727789824130432\n",
      "\n",
      "MCC score:\n",
      "0.5481270726434556\n",
      "\n",
      "Confusion matrix:\n",
      "[[4855 1120]\n",
      " [1602 4420]]\n",
      "\n",
      "Classification report:\n",
      "              precision    recall  f1-score   support\n",
      "\n",
      "           0       0.75      0.81      0.78      5975\n",
      "           1       0.80      0.73      0.76      6022\n",
      "\n",
      "    accuracy                           0.77     11997\n",
      "   macro avg       0.77      0.77      0.77     11997\n",
      "weighted avg       0.77      0.77      0.77     11997\n",
      "\n",
      "\n"
     ]
    },
    {
     "data": {
      "text/plain": "<Figure size 432x288 with 2 Axes>",
      "image/png": "[encoded data removed]"
     },
     "metadata": {
      "needs_background": "light"
     },
     "output_type": "display_data"
    }
   ],
   "source": [
    "ml(voting, descriptors_data_b, descriptors_label_b, None)"
   ]
  },
  {
   "cell_type": "markdown",
   "metadata": {},
   "source": [
    "### Neural Network"
   ]
  },
  {
   "cell_type": "code",
   "execution_count": 11,
   "metadata": {
    "pycharm": {
     "name": "#%%\n"
    }
   },
   "outputs": [
    {
     "name": "stdout",
     "output_type": "stream",
     "text": [
      "Cross Validation accuracy score: 0.7982637638617778\n",
      "\n",
      "Base Model Accuracy: 0.800\n",
      "\n",
      "{'activation': 'relu', 'learning_rate': 'constant'}\n",
      "\n",
      "Optimized Model Accuracy: 0.803\n",
      "\n",
      "Optimized model improved 0.365% over base model.\n",
      "\n",
      "METRICS:\n",
      "Accuracy score:\n",
      "0.8030340918562974\n",
      "\n",
      "Recall score:\n",
      "0.8030340918562974\n",
      "\n",
      "Precison score:\n",
      "0.8030501082412916\n",
      "\n",
      "F1-score:\n",
      "0.80301994984085\n",
      "\n",
      "MCC score:\n",
      "0.6060388585556704\n",
      "\n",
      "Confusion matrix:\n",
      "[[4735 1213]\n",
      " [1150 4899]]\n",
      "\n",
      "Classification report:\n",
      "              precision    recall  f1-score   support\n",
      "\n",
      "           0       0.80      0.80      0.80      5948\n",
      "           1       0.80      0.81      0.81      6049\n",
      "\n",
      "    accuracy                           0.80     11997\n",
      "   macro avg       0.80      0.80      0.80     11997\n",
      "weighted avg       0.80      0.80      0.80     11997\n",
      "\n",
      "\n"
     ]
    },
    {
     "data": {
      "text/plain": "<Figure size 432x288 with 2 Axes>",
      "image/png": "[encoded data removed]"
     },
     "metadata": {
      "needs_background": "light"
     },
     "output_type": "display_data"
    }
   ],
   "source": [
    "ml(nn, descriptors_data_b, descriptors_label_b, params_nn)"
   ]
  },
  {
   "cell_type": "markdown",
   "metadata": {},
   "source": [
    "## Fingerprints"
   ]
  },
  {
   "cell_type": "markdown",
   "metadata": {
    "pycharm": {
     "name": "#%% md\n"
    }
   },
   "source": [
    "### Random Forest"
   ]
  },
  {
   "cell_type": "code",
   "execution_count": 12,
   "metadata": {
    "pycharm": {
     "name": "#%%\n"
    }
   },
   "outputs": [
    {
     "name": "stdout",
     "output_type": "stream",
     "text": [
      "Cross Validation accuracy score: 0.8037723267712087\n",
      "\n",
      "Base Model Accuracy: 0.811\n",
      "\n",
      "{'bootstrap': False, 'criterion': 'gini', 'max_features': 'log2', 'n_estimators': 210}\n",
      "\n",
      "Optimized Model Accuracy: 0.816\n",
      "\n",
      "Optimized model improved 0.617% over base model.\n",
      "\n",
      "METRICS:\n",
      "Accuracy score:\n",
      "0.8157039259814953\n",
      "\n",
      "Recall score:\n",
      "0.8157039259814953\n",
      "\n",
      "Precison score:\n",
      "0.8157779180719127\n",
      "\n",
      "F1-score:\n",
      "0.8156659167392267\n",
      "\n",
      "MCC score:\n",
      "0.6313873312287823\n",
      "\n",
      "Confusion matrix:\n",
      "[[5022 1048]\n",
      " [1163 4764]]\n",
      "\n",
      "Classification report:\n",
      "              precision    recall  f1-score   support\n",
      "\n",
      "           0       0.81      0.83      0.82      6070\n",
      "           1       0.82      0.80      0.81      5927\n",
      "\n",
      "    accuracy                           0.82     11997\n",
      "   macro avg       0.82      0.82      0.82     11997\n",
      "weighted avg       0.82      0.82      0.82     11997\n",
      "\n",
      "\n"
     ]
    },
    {
     "data": {
      "text/plain": "<Figure size 432x288 with 2 Axes>",
      "image/png": "[encoded data removed]"
     },
     "metadata": {
      "needs_background": "light"
     },
     "output_type": "display_data"
    }
   ],
   "source": [
    "ml(rf, fingerprint_data_b, fingerprint_label_b, params_rf)"
   ]
  },
  {
   "cell_type": "markdown",
   "metadata": {
    "pycharm": {
     "name": "#%% md\n"
    }
   },
   "source": [
    "### Gaussian Naive Bayes"
   ]
  },
  {
   "cell_type": "code",
   "execution_count": 13,
   "metadata": {
    "pycharm": {
     "name": "#%%\n"
    }
   },
   "outputs": [
    {
     "name": "stdout",
     "output_type": "stream",
     "text": [
      "Cross Validation accuracy score: 0.6642733055799468\n",
      "\n",
      "Base Model Accuracy: 0.659\n",
      "\n",
      "METRICS:\n",
      "Accuracy score:\n",
      "0.6589980828540468\n",
      "\n",
      "Recall score:\n",
      "0.6589980828540468\n",
      "\n",
      "Precison score:\n",
      "0.6589994731743735\n",
      "\n",
      "F1-score:\n",
      "0.6589987368064278\n",
      "\n",
      "MCC score:\n",
      "0.3179561390493684\n",
      "\n",
      "Confusion matrix:\n",
      "[[3999 2047]\n",
      " [2044 3907]]\n",
      "\n",
      "Classification report:\n",
      "              precision    recall  f1-score   support\n",
      "\n",
      "           0       0.66      0.66      0.66      6046\n",
      "           1       0.66      0.66      0.66      5951\n",
      "\n",
      "    accuracy                           0.66     11997\n",
      "   macro avg       0.66      0.66      0.66     11997\n",
      "weighted avg       0.66      0.66      0.66     11997\n",
      "\n",
      "\n"
     ]
    },
    {
     "data": {
      "text/plain": "<Figure size 432x288 with 2 Axes>",
      "image/png": "[encoded data removed]"
     },
     "metadata": {
      "needs_background": "light"
     },
     "output_type": "display_data"
    }
   ],
   "source": [
    "ml(nb, fingerprint_data_b, fingerprint_label_b, None)"
   ]
  },
  {
   "cell_type": "markdown",
   "metadata": {
    "pycharm": {
     "name": "#%% md\n"
    }
   },
   "source": [
    "### K Nearest Neighbors"
   ]
  },
  {
   "cell_type": "code",
   "execution_count": 14,
   "metadata": {
    "pycharm": {
     "name": "#%%\n"
    }
   },
   "outputs": [
    {
     "name": "stdout",
     "output_type": "stream",
     "text": [
      "Cross Validation accuracy score: 0.7723005837119002\n",
      "\n",
      "Base Model Accuracy: 0.785\n",
      "\n",
      "METRICS:\n",
      "Accuracy score:\n",
      "0.7846128198716346\n",
      "\n",
      "Recall score:\n",
      "0.7846128198716346\n",
      "\n",
      "Precison score:\n",
      "0.7886630619329894\n",
      "\n",
      "F1-score:\n",
      "0.7838590076299586\n",
      "\n",
      "MCC score:\n",
      "0.5732679673237986\n",
      "\n",
      "Confusion matrix:\n",
      "[[5060  937]\n",
      " [1647 4353]]\n",
      "\n",
      "Classification report:\n",
      "              precision    recall  f1-score   support\n",
      "\n",
      "           0       0.75      0.84      0.80      5997\n",
      "           1       0.82      0.73      0.77      6000\n",
      "\n",
      "    accuracy                           0.78     11997\n",
      "   macro avg       0.79      0.78      0.78     11997\n",
      "weighted avg       0.79      0.78      0.78     11997\n",
      "\n",
      "\n"
     ]
    },
    {
     "data": {
      "text/plain": "<Figure size 432x288 with 2 Axes>",
      "image/png": "[encoded data removed]"
     },
     "metadata": {
      "needs_background": "light"
     },
     "output_type": "display_data"
    }
   ],
   "source": [
    "ml(knn, fingerprint_data_b, fingerprint_label_b, None)"
   ]
  },
  {
   "cell_type": "markdown",
   "metadata": {
    "pycharm": {
     "name": "#%% md\n"
    }
   },
   "source": [
    "### Voting Classifier\n",
    "This model will include all the previous models."
   ]
  },
  {
   "cell_type": "code",
   "execution_count": 15,
   "metadata": {
    "pycharm": {
     "name": "#%%\n"
    }
   },
   "outputs": [
    {
     "name": "stdout",
     "output_type": "stream",
     "text": [
      "Cross Validation accuracy score: 0.747472577945291\n",
      "\n",
      "Base Model Accuracy: 0.755\n",
      "\n",
      "METRICS:\n",
      "Accuracy score:\n",
      "0.7550220888555472\n",
      "\n",
      "Recall score:\n",
      "0.7550220888555472\n",
      "\n",
      "Precison score:\n",
      "0.7555432802487837\n",
      "\n",
      "F1-score:\n",
      "0.7549303664840812\n",
      "\n",
      "MCC score:\n",
      "0.510601261104675\n",
      "\n",
      "Confusion matrix:\n",
      "[[4633 1340]\n",
      " [1599 4425]]\n",
      "\n",
      "Classification report:\n",
      "              precision    recall  f1-score   support\n",
      "\n",
      "           0       0.74      0.78      0.76      5973\n",
      "           1       0.77      0.73      0.75      6024\n",
      "\n",
      "    accuracy                           0.76     11997\n",
      "   macro avg       0.76      0.76      0.75     11997\n",
      "weighted avg       0.76      0.76      0.75     11997\n",
      "\n",
      "\n"
     ]
    },
    {
     "data": {
      "text/plain": "<Figure size 432x288 with 2 Axes>",
      "image/png": "[encoded data removed]"
     },
     "metadata": {
      "needs_background": "light"
     },
     "output_type": "display_data"
    }
   ],
   "source": [
    "ml(voting, fingerprint_data_b, fingerprint_label_b, None)"
   ]
  },
  {
   "cell_type": "markdown",
   "metadata": {
    "pycharm": {
     "name": "#%% md\n"
    }
   },
   "source": [
    "### Neural Network"
   ]
  },
  {
   "cell_type": "code",
   "execution_count": 16,
   "metadata": {
    "pycharm": {
     "name": "#%%\n"
    }
   },
   "outputs": [
    {
     "name": "stdout",
     "output_type": "stream",
     "text": [
      "Cross Validation accuracy score: 0.7739077073235848\n",
      "\n",
      "Base Model Accuracy: 0.791\n",
      "\n",
      "METRICS:\n",
      "Accuracy score:\n",
      "0.7905309660748521\n",
      "\n",
      "Recall score:\n",
      "0.7905309660748521\n",
      "\n",
      "Precison score:\n",
      "0.7905310119889472\n",
      "\n",
      "F1-score:\n",
      "0.7905309835393534\n",
      "\n",
      "MCC score:\n",
      "0.5810615239867741\n",
      "\n",
      "Confusion matrix:\n",
      "[[4748 1257]\n",
      " [1256 4736]]\n",
      "\n",
      "Classification report:\n",
      "              precision    recall  f1-score   support\n",
      "\n",
      "           0       0.79      0.79      0.79      6005\n",
      "           1       0.79      0.79      0.79      5992\n",
      "\n",
      "    accuracy                           0.79     11997\n",
      "   macro avg       0.79      0.79      0.79     11997\n",
      "weighted avg       0.79      0.79      0.79     11997\n",
      "\n",
      "\n"
     ]
    },
    {
     "data": {
      "text/plain": "<Figure size 432x288 with 2 Axes>",
      "image/png": "[encoded data removed]"
     },
     "metadata": {
      "needs_background": "light"
     },
     "output_type": "display_data"
    }
   ],
   "source": [
    "ml(nn, fingerprint_data_b, fingerprint_label_b, None)"
   ]
  },
  {
   "cell_type": "markdown",
   "metadata": {},
   "source": [
    "# Multiclass"
   ]
  },
  {
   "cell_type": "markdown",
   "metadata": {},
   "source": [
    "### Load data"
   ]
  },
  {
   "cell_type": "code",
   "execution_count": 17,
   "metadata": {
    "pycharm": {
     "name": "#%%\n"
    }
   },
   "outputs": [],
   "source": [
    "descriptors = pd.read_csv('../dataset/multiclass/descriptors_fs.csv', sep=',')\n",
    "fingerprint = pd.read_csv('../dataset/multiclass/rdk_fs.csv', sep=',')\n",
    "\n",
    "descriptors_data_m = descriptors.drop(\"Activity at 46.23 uM\", axis=1)\n",
    "descriptors_label_m = descriptors[\"Activity at 46.23 uM\"]\n",
    "fingerprint_data_m = fingerprint.drop(\"Activity at 46.23 uM\", axis=1)\n",
    "fingerprint_label_m = fingerprint[\"Activity at 46.23 uM\"]"
   ]
  },
  {
   "cell_type": "markdown",
   "metadata": {
    "pycharm": {
     "name": "#%% md\n"
    }
   },
   "source": [
    "### Random Forest"
   ]
  },
  {
   "cell_type": "code",
   "execution_count": 18,
   "metadata": {
    "pycharm": {
     "name": "#%%\n"
    }
   },
   "outputs": [
    {
     "name": "stdout",
     "output_type": "stream",
     "text": [
      "Cross Validation accuracy score: 0.5676621042100294\n",
      "\n",
      "Base Model Accuracy: 0.579\n",
      "\n",
      "{'bootstrap': True, 'criterion': 'entropy', 'max_features': 'sqrt', 'n_estimators': 210}\n",
      "\n",
      "Optimized Model Accuracy: 0.581\n",
      "\n",
      "Optimized model improved 0.461% over base model.\n",
      "\n",
      "METRICS:\n",
      "Accuracy score:\n",
      "0.5813953488372093\n",
      "\n",
      "Recall score:\n",
      "0.5813953488372093\n",
      "\n",
      "Precison score:\n",
      "0.53872817133716\n",
      "\n",
      "F1-score:\n",
      "0.5244405595507412\n",
      "\n",
      "MCC score:\n",
      "0.36863665984755034\n",
      "\n",
      "Confusion matrix:\n",
      "[[ 139 1169  303    5]\n",
      " [ 176 3347  895    9]\n",
      " [  21  771 3371  188]\n",
      " [   3  168 1314  118]]\n",
      "\n",
      "Classification report:\n",
      "              precision    recall  f1-score   support\n",
      "\n",
      "           0       0.41      0.09      0.14      1616\n",
      "           1       0.61      0.76      0.68      4427\n",
      "           2       0.57      0.77      0.66      4351\n",
      "           3       0.37      0.07      0.12      1603\n",
      "\n",
      "    accuracy                           0.58     11997\n",
      "   macro avg       0.49      0.42      0.40     11997\n",
      "weighted avg       0.54      0.58      0.52     11997\n",
      "\n",
      "\n"
     ]
    },
    {
     "data": {
      "text/plain": "<Figure size 432x288 with 2 Axes>",
      "image/png": "[encoded data removed]"
     },
     "metadata": {
      "needs_background": "light"
     },
     "output_type": "display_data"
    }
   ],
   "source": [
    "ml(rf, descriptors_data_m, descriptors_label_m, params_rf)"
   ]
  },
  {
   "cell_type": "markdown",
   "metadata": {
    "pycharm": {
     "name": "#%% md\n"
    }
   },
   "source": [
    "### Gaussian Naive Bayes"
   ]
  },
  {
   "cell_type": "code",
   "execution_count": 19,
   "metadata": {
    "pycharm": {
     "name": "#%%\n"
    }
   },
   "outputs": [
    {
     "name": "stdout",
     "output_type": "stream",
     "text": [
      "Cross Validation accuracy score: 0.39489837700691843\n",
      "\n",
      "Base Model Accuracy: 0.399\n",
      "\n",
      "METRICS:\n",
      "Accuracy score:\n",
      "0.398849712428107\n",
      "\n",
      "Recall score:\n",
      "0.398849712428107\n",
      "\n",
      "Precison score:\n",
      "0.41276107322066524\n",
      "\n",
      "F1-score:\n",
      "0.39151367266147413\n",
      "\n",
      "MCC score:\n",
      "0.16238228024859214\n",
      "\n",
      "Confusion matrix:\n",
      "[[ 249  819  291  207]\n",
      " [ 478 2489  949  477]\n",
      " [ 153 1299 1257 1750]\n",
      " [  47  343  399  790]]\n",
      "\n",
      "Classification report:\n",
      "              precision    recall  f1-score   support\n",
      "\n",
      "           0       0.27      0.16      0.20      1566\n",
      "           1       0.50      0.57      0.53      4393\n",
      "           2       0.43      0.28      0.34      4459\n",
      "           3       0.25      0.50      0.33      1579\n",
      "\n",
      "    accuracy                           0.40     11997\n",
      "   macro avg       0.36      0.38      0.35     11997\n",
      "weighted avg       0.41      0.40      0.39     11997\n",
      "\n",
      "\n"
     ]
    },
    {
     "data": {
      "text/plain": "<Figure size 432x288 with 2 Axes>",
      "image/png": "[encoded data removed]"
     },
     "metadata": {
      "needs_background": "light"
     },
     "output_type": "display_data"
    }
   ],
   "source": [
    "ml(nb, descriptors_data_m, descriptors_label_m, None)"
   ]
  },
  {
   "cell_type": "markdown",
   "metadata": {
    "pycharm": {
     "name": "#%% md\n"
    }
   },
   "source": [
    "### K Nearest Neighbors"
   ]
  },
  {
   "cell_type": "code",
   "execution_count": 20,
   "metadata": {
    "pycharm": {
     "name": "#%%\n"
    }
   },
   "outputs": [
    {
     "name": "stdout",
     "output_type": "stream",
     "text": [
      "Cross Validation accuracy score: 0.5171120359687564\n",
      "\n",
      "Base Model Accuracy: 0.522\n",
      "\n",
      "METRICS:\n",
      "Accuracy score:\n",
      "0.5222972409769109\n",
      "\n",
      "Recall score:\n",
      "0.5222972409769109\n",
      "\n",
      "Precison score:\n",
      "0.49373009404699525\n",
      "\n",
      "F1-score:\n",
      "0.5013704561080207\n",
      "\n",
      "MCC score:\n",
      "0.29111356573583885\n",
      "\n",
      "Confusion matrix:\n",
      "[[ 329 1005  256   26]\n",
      " [ 604 2856  847   81]\n",
      " [ 195  938 2847  420]\n",
      " [  43  230 1086  234]]\n",
      "\n",
      "Classification report:\n",
      "              precision    recall  f1-score   support\n",
      "\n",
      "           0       0.28      0.20      0.24      1616\n",
      "           1       0.57      0.65      0.61      4388\n",
      "           2       0.57      0.65      0.60      4400\n",
      "           3       0.31      0.15      0.20      1593\n",
      "\n",
      "    accuracy                           0.52     11997\n",
      "   macro avg       0.43      0.41      0.41     11997\n",
      "weighted avg       0.49      0.52      0.50     11997\n",
      "\n",
      "\n"
     ]
    },
    {
     "data": {
      "text/plain": "<Figure size 432x288 with 2 Axes>",
      "image/png": "[encoded data removed]"
     },
     "metadata": {
      "needs_background": "light"
     },
     "output_type": "display_data"
    }
   ],
   "source": [
    "ml(knn, descriptors_data_m, descriptors_label_m, None)"
   ]
  },
  {
   "cell_type": "markdown",
   "metadata": {
    "pycharm": {
     "name": "#%% md\n"
    }
   },
   "source": [
    "### Voting Classifier\n",
    "This model will include all the previous models."
   ]
  },
  {
   "cell_type": "code",
   "execution_count": 21,
   "metadata": {
    "pycharm": {
     "name": "#%%\n"
    }
   },
   "outputs": [
    {
     "name": "stdout",
     "output_type": "stream",
     "text": [
      "Cross Validation accuracy score: 0.5060376090483671\n",
      "\n",
      "Base Model Accuracy: 0.510\n",
      "\n",
      "METRICS:\n",
      "Accuracy score:\n",
      "0.510460948570476\n",
      "\n",
      "Recall score:\n",
      "0.510460948570476\n",
      "\n",
      "Precison score:\n",
      "0.48641569507595767\n",
      "\n",
      "F1-score:\n",
      "0.48894295946010197\n",
      "\n",
      "MCC score:\n",
      "0.2780506712926585\n",
      "\n",
      "Confusion matrix:\n",
      "[[ 168 1049  313   83]\n",
      " [ 259 2965  952  172]\n",
      " [  78  940 2537  836]\n",
      " [  19  225  947  454]]\n",
      "\n",
      "Classification report:\n",
      "              precision    recall  f1-score   support\n",
      "\n",
      "           0       0.32      0.10      0.16      1613\n",
      "           1       0.57      0.68      0.62      4348\n",
      "           2       0.53      0.58      0.56      4391\n",
      "           3       0.29      0.28      0.28      1645\n",
      "\n",
      "    accuracy                           0.51     11997\n",
      "   macro avg       0.43      0.41      0.40     11997\n",
      "weighted avg       0.49      0.51      0.49     11997\n",
      "\n",
      "\n"
     ]
    },
    {
     "data": {
      "text/plain": "<Figure size 432x288 with 2 Axes>",
      "image/png": "[encoded data removed]"
     },
     "metadata": {
      "needs_background": "light"
     },
     "output_type": "display_data"
    }
   ],
   "source": [
    "ml(voting, descriptors_data_m, descriptors_label_m, None)"
   ]
  },
  {
   "cell_type": "markdown",
   "metadata": {
    "pycharm": {
     "name": "#%% md\n"
    }
   },
   "source": [
    "### Neural Network"
   ]
  },
  {
   "cell_type": "code",
   "execution_count": 22,
   "metadata": {
    "pycharm": {
     "name": "#%%\n"
    }
   },
   "outputs": [
    {
     "name": "stdout",
     "output_type": "stream",
     "text": [
      "Cross Validation accuracy score: 0.5565522756736851\n",
      "\n",
      "Base Model Accuracy: 0.555\n",
      "\n",
      "METRICS:\n",
      "Accuracy score:\n",
      "0.5546386596649162\n",
      "\n",
      "Recall score:\n",
      "0.5546386596649162\n",
      "\n",
      "Precison score:\n",
      "0.5147805654844219\n",
      "\n",
      "F1-score:\n",
      "0.4875066310554618\n",
      "\n",
      "MCC score:\n",
      "0.3221803990659744\n",
      "\n",
      "Confusion matrix:\n",
      "[[ 101 1208  323    3]\n",
      " [ 110 3192 1011    7]\n",
      " [  29 1055 3322   54]\n",
      " [   8  253 1282   39]]\n",
      "\n",
      "Classification report:\n",
      "              precision    recall  f1-score   support\n",
      "\n",
      "           0       0.41      0.06      0.11      1635\n",
      "           1       0.56      0.74      0.64      4320\n",
      "           2       0.56      0.74      0.64      4460\n",
      "           3       0.38      0.02      0.05      1582\n",
      "\n",
      "    accuracy                           0.55     11997\n",
      "   macro avg       0.48      0.39      0.36     11997\n",
      "weighted avg       0.51      0.55      0.49     11997\n",
      "\n",
      "\n"
     ]
    },
    {
     "data": {
      "text/plain": "<Figure size 432x288 with 2 Axes>",
      "image/png": "[encoded data removed]"
     },
     "metadata": {
      "needs_background": "light"
     },
     "output_type": "display_data"
    }
   ],
   "source": [
    "ml(nn, descriptors_data_m, descriptors_label_m, None)"
   ]
  },
  {
   "cell_type": "markdown",
   "metadata": {
    "pycharm": {
     "name": "#%% md\n"
    }
   },
   "source": [
    "## Fingerprints"
   ]
  },
  {
   "cell_type": "markdown",
   "metadata": {
    "pycharm": {
     "name": "#%% md\n"
    }
   },
   "source": [
    "### Random Forest"
   ]
  },
  {
   "cell_type": "code",
   "execution_count": 23,
   "metadata": {
    "pycharm": {
     "name": "#%%\n"
    }
   },
   "outputs": [
    {
     "name": "stdout",
     "output_type": "stream",
     "text": [
      "Cross Validation accuracy score: 0.5471011991691213\n",
      "\n",
      "Base Model Accuracy: 0.551\n",
      "\n",
      "{'bootstrap': True, 'criterion': 'entropy', 'max_features': 'log2', 'n_estimators': 160}\n",
      "\n",
      "Optimized Model Accuracy: 0.555\n",
      "\n",
      "Optimized model improved 0.666% over base model.\n",
      "\n",
      "METRICS:\n",
      "Accuracy score:\n",
      "0.5546386596649162\n",
      "\n",
      "Recall score:\n",
      "0.5546386596649162\n",
      "\n",
      "Precison score:\n",
      "0.5142238813764338\n",
      "\n",
      "F1-score:\n",
      "0.520148235444327\n",
      "\n",
      "MCC score:\n",
      "0.33301003116125455\n",
      "\n",
      "Confusion matrix:\n",
      "[[ 223 1066  297   14]\n",
      " [ 384 3029  901   43]\n",
      " [  60  748 3185  425]\n",
      " [  12  206 1187  217]]\n",
      "\n",
      "Classification report:\n",
      "              precision    recall  f1-score   support\n",
      "\n",
      "           0       0.33      0.14      0.20      1600\n",
      "           1       0.60      0.70      0.64      4357\n",
      "           2       0.57      0.72      0.64      4418\n",
      "           3       0.31      0.13      0.19      1622\n",
      "\n",
      "    accuracy                           0.55     11997\n",
      "   macro avg       0.45      0.42      0.42     11997\n",
      "weighted avg       0.51      0.55      0.52     11997\n",
      "\n",
      "\n"
     ]
    },
    {
     "data": {
      "text/plain": "<Figure size 432x288 with 2 Axes>",
      "image/png": "[encoded data removed]"
     },
     "metadata": {
      "needs_background": "light"
     },
     "output_type": "display_data"
    }
   ],
   "source": [
    "ml(rf, fingerprint_data_m, fingerprint_label_m, params_rf)"
   ]
  },
  {
   "cell_type": "markdown",
   "metadata": {
    "pycharm": {
     "name": "#%% md\n"
    }
   },
   "source": [
    "### Gaussian Naive Bayes"
   ]
  },
  {
   "cell_type": "code",
   "execution_count": 24,
   "metadata": {
    "pycharm": {
     "name": "#%%\n"
    }
   },
   "outputs": [
    {
     "name": "stdout",
     "output_type": "stream",
     "text": [
      "Cross Validation accuracy score: 0.3545529266601415\n",
      "\n",
      "Base Model Accuracy: 0.350\n",
      "\n",
      "METRICS:\n",
      "Accuracy score:\n",
      "0.3500041677085938\n",
      "\n",
      "Recall score:\n",
      "0.3500041677085938\n",
      "\n",
      "Precison score:\n",
      "0.3913173287162848\n",
      "\n",
      "F1-score:\n",
      "0.35214167393271006\n",
      "\n",
      "MCC score:\n",
      "0.12607005303493846\n",
      "\n",
      "Confusion matrix:\n",
      "[[ 362  689  219  263]\n",
      " [ 866 2050  791  725]\n",
      " [ 457 1069  983 1895]\n",
      " [ 130  336  358  804]]\n",
      "\n",
      "Classification report:\n",
      "              precision    recall  f1-score   support\n",
      "\n",
      "           0       0.20      0.24      0.22      1533\n",
      "           1       0.49      0.46      0.48      4432\n",
      "           2       0.42      0.22      0.29      4404\n",
      "           3       0.22      0.49      0.30      1628\n",
      "\n",
      "    accuracy                           0.35     11997\n",
      "   macro avg       0.33      0.35      0.32     11997\n",
      "weighted avg       0.39      0.35      0.35     11997\n",
      "\n",
      "\n"
     ]
    },
    {
     "data": {
      "text/plain": "<Figure size 432x288 with 2 Axes>",
      "image/png": "[encoded data removed]"
     },
     "metadata": {
      "needs_background": "light"
     },
     "output_type": "display_data"
    }
   ],
   "source": [
    "ml(nb, fingerprint_data_m, fingerprint_label_m, None)"
   ]
  },
  {
   "cell_type": "markdown",
   "metadata": {
    "pycharm": {
     "name": "#%% md\n"
    }
   },
   "source": [
    "### K Nearest Neighbors"
   ]
  },
  {
   "cell_type": "code",
   "execution_count": 25,
   "metadata": {
    "pycharm": {
     "name": "#%%\n"
    }
   },
   "outputs": [
    {
     "name": "stdout",
     "output_type": "stream",
     "text": [
      "Cross Validation accuracy score: 0.5114849210364658\n",
      "\n",
      "Base Model Accuracy: 0.527\n",
      "\n",
      "METRICS:\n",
      "Accuracy score:\n",
      "0.5265483037426023\n",
      "\n",
      "Recall score:\n",
      "0.5265483037426023\n",
      "\n",
      "Precison score:\n",
      "0.49441828678157074\n",
      "\n",
      "F1-score:\n",
      "0.5029760725424355\n",
      "\n",
      "MCC score:\n",
      "0.29658436072482003\n",
      "\n",
      "Confusion matrix:\n",
      "[[ 332  928  337   43]\n",
      " [ 559 2670 1002   87]\n",
      " [ 172  758 3116  419]\n",
      " [  53  203 1119  199]]\n",
      "\n",
      "Classification report:\n",
      "              precision    recall  f1-score   support\n",
      "\n",
      "           0       0.30      0.20      0.24      1640\n",
      "           1       0.59      0.62      0.60      4318\n",
      "           2       0.56      0.70      0.62      4465\n",
      "           3       0.27      0.13      0.17      1574\n",
      "\n",
      "    accuracy                           0.53     11997\n",
      "   macro avg       0.43      0.41      0.41     11997\n",
      "weighted avg       0.49      0.53      0.50     11997\n",
      "\n",
      "\n"
     ]
    },
    {
     "data": {
      "text/plain": "<Figure size 432x288 with 2 Axes>",
      "image/png": "[encoded data removed]"
     },
     "metadata": {
      "needs_background": "light"
     },
     "output_type": "display_data"
    }
   ],
   "source": [
    "ml(knn, fingerprint_data_m, fingerprint_label_m, None)"
   ]
  },
  {
   "cell_type": "markdown",
   "metadata": {
    "pycharm": {
     "name": "#%% md\n"
    }
   },
   "source": [
    "### Voting Classifier\n",
    "This model will include all the previous models."
   ]
  },
  {
   "cell_type": "code",
   "execution_count": 26,
   "metadata": {
    "pycharm": {
     "name": "#%%\n"
    }
   },
   "outputs": [
    {
     "name": "stdout",
     "output_type": "stream",
     "text": [
      "Cross Validation accuracy score: 0.46954566416028587\n",
      "\n",
      "Base Model Accuracy: 0.484\n",
      "\n",
      "METRICS:\n",
      "Accuracy score:\n",
      "0.4837042593981829\n",
      "\n",
      "Recall score:\n",
      "0.4837042593981829\n",
      "\n",
      "Precison score:\n",
      "0.48343943335958933\n",
      "\n",
      "F1-score:\n",
      "0.4813691657830793\n",
      "\n",
      "MCC score:\n",
      "0.25835731998360656\n",
      "\n",
      "Confusion matrix:\n",
      "[[ 266  904  264  140]\n",
      " [ 509 2679  850  370]\n",
      " [ 183  777 2311 1116]\n",
      " [  68  208  805  547]]\n",
      "\n",
      "Classification report:\n",
      "              precision    recall  f1-score   support\n",
      "\n",
      "           0       0.26      0.17      0.20      1574\n",
      "           1       0.59      0.61      0.60      4408\n",
      "           2       0.55      0.53      0.54      4387\n",
      "           3       0.25      0.34      0.29      1628\n",
      "\n",
      "    accuracy                           0.48     11997\n",
      "   macro avg       0.41      0.41      0.41     11997\n",
      "weighted avg       0.48      0.48      0.48     11997\n",
      "\n",
      "\n"
     ]
    },
    {
     "data": {
      "text/plain": "<Figure size 432x288 with 2 Axes>",
      "image/png": "[encoded data removed]"
     },
     "metadata": {
      "needs_background": "light"
     },
     "output_type": "display_data"
    }
   ],
   "source": [
    "ml(voting, fingerprint_data_m, fingerprint_label_m, None)"
   ]
  },
  {
   "cell_type": "markdown",
   "metadata": {
    "pycharm": {
     "name": "#%% md\n"
    }
   },
   "source": [
    "### Neural Network"
   ]
  },
  {
   "cell_type": "code",
   "execution_count": 27,
   "metadata": {
    "pycharm": {
     "name": "#%%\n"
    }
   },
   "outputs": [
    {
     "name": "stdout",
     "output_type": "stream",
     "text": [
      "Cross Validation accuracy score: 0.5326689532230946\n",
      "\n",
      "Base Model Accuracy: 0.538\n",
      "\n",
      "METRICS:\n",
      "Accuracy score:\n",
      "0.5377177627740268\n",
      "\n",
      "Recall score:\n",
      "0.5377177627740268\n",
      "\n",
      "Precison score:\n",
      "0.45904911983954866\n",
      "\n",
      "F1-score:\n",
      "0.4587493923810659\n",
      "\n",
      "MCC score:\n",
      "0.29444643152894184\n",
      "\n",
      "Confusion matrix:\n",
      "[[  13 1267  317    1]\n",
      " [  29 3447  896   12]\n",
      " [   5 1356 2975   42]\n",
      " [   6  401 1214   16]]\n",
      "\n",
      "Classification report:\n",
      "              precision    recall  f1-score   support\n",
      "\n",
      "           0       0.25      0.01      0.02      1598\n",
      "           1       0.53      0.79      0.64      4384\n",
      "           2       0.55      0.68      0.61      4378\n",
      "           3       0.23      0.01      0.02      1637\n",
      "\n",
      "    accuracy                           0.54     11997\n",
      "   macro avg       0.39      0.37      0.32     11997\n",
      "weighted avg       0.46      0.54      0.46     11997\n",
      "\n",
      "\n"
     ]
    },
    {
     "data": {
      "text/plain": "<Figure size 432x288 with 2 Axes>",
      "image/png": "[encoded data removed]"
     },
     "metadata": {
      "needs_background": "light"
     },
     "output_type": "display_data"
    }
   ],
   "source": [
    "ml(nn, fingerprint_data_m, fingerprint_label_m, None)"
   ]
  }
 ],
 "metadata": {
  "kernelspec": {
   "display_name": "Python 3 (ipykernel)",
   "language": "python",
   "name": "python3"
  },
  "language_info": {
   "codemirror_mode": {
    "name": "ipython",
    "version": 3
   },
   "file_extension": ".py",
   "mimetype": "text/x-python",
   "name": "python",
   "nbconvert_exporter": "python",
   "pygments_lexer": "ipython3",
   "version": "3.9.7"
  }
 },
 "nbformat": 4,
 "nbformat_minor": 1
}
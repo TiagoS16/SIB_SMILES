{
 "cells": [
  {
   "cell_type": "markdown",
   "metadata": {
    "pycharm": {
     "name": "#%% md\n"
    }
   },
   "source": [
    "# Etapa 3 - Machine Learning"
   ]
  },
  {
   "cell_type": "markdown",
   "metadata": {},
   "source": [
    "## Imports"
   ]
  },
  {
   "cell_type": "code",
   "execution_count": 1,
   "metadata": {
    "pycharm": {
     "name": "#%%\n"
    }
   },
   "outputs": [],
   "source": [
    "import warnings\n",
    "import numpy as np\n",
    "import pandas as pd\n",
    "import matplotlib.pyplot as plt\n",
    "from sklearn.model_selection import train_test_split, cross_val_score, StratifiedKFold\n",
    "from sklearn.metrics import (classification_report, confusion_matrix, accuracy_score, f1_score, recall_score, matthews_corrcoef, ConfusionMatrixDisplay, precision_score, mean_squared_error, r2_score, explained_variance_score)\n",
    "from sklearn.neural_network import MLPClassifier, MLPRegressor\n",
    "from sklearn.ensemble import RandomForestClassifier, VotingClassifier, RandomForestRegressor, VotingRegressor\n",
    "from sklearn.naive_bayes import GaussianNB\n",
    "from sklearn.neighbors import KNeighborsClassifier, KNeighborsRegressor\n",
    "from sklearn.linear_model import LinearRegression\n",
    "from sklearn.experimental import enable_halving_search_cv\n",
    "from sklearn.model_selection import HalvingGridSearchCV\n",
    "from sklearn.preprocessing import StandardScaler\n",
    "from imblearn.under_sampling import ClusterCentroids\n",
    "\n",
    "%matplotlib inline\n",
    "\n",
    "warnings.filterwarnings('ignore')"
   ]
  },
  {
   "cell_type": "markdown",
   "metadata": {},
   "source": [
    "# Functions"
   ]
  },
  {
   "cell_type": "markdown",
   "metadata": {},
   "source": [
    "Metrics"
   ]
  },
  {
   "cell_type": "code",
   "execution_count": 2,
   "metadata": {
    "pycharm": {
     "name": "#%%\n"
    }
   },
   "outputs": [],
   "source": [
    "def metrics(label_test, predict, reg=False):\n",
    "    print('METRICS:')\n",
    "    if reg is False:\n",
    "        print(f\"Accuracy score:\\n{accuracy_score(label_test, predict)}\\n\")\n",
    "        print(f\"Recall score:\\n{recall_score(label_test, predict, average='weighted')}\\n\")\n",
    "        print(f\"Precison score:\\n{precision_score(label_test, predict, average='weighted', zero_division=0)}\\n\")\n",
    "        print(f\"F1-score:\\n{f1_score(label_test, predict, average='weighted')}\\n\")\n",
    "        print(f\"MCC score:\\n{matthews_corrcoef(label_test, predict)}\\n\")\n",
    "        print(f\"Confusion matrix:\\n{confusion_matrix(label_test, predict)}\\n\")\n",
    "        print(f\"Classification report:\\n{classification_report(label_test, predict, zero_division=True)}\\n\")\n",
    "        ConfusionMatrixDisplay(confusion_matrix(label_test, predict)).plot(cmap=plt.cm.Blues)\n",
    "    else:\n",
    "        print(f\"Explained variance score:\\n{explained_variance_score(label_test, predict)}\\n\")\n",
    "        print(f\"R2 score:\\n{r2_score(label_test, predict)}\\n\")\n",
    "        print(f\"Mean squared error:\\n{mean_squared_error(label_test, predict)}\\n\")\n"
   ]
  },
  {
   "cell_type": "markdown",
   "metadata": {},
   "source": [
    "ML"
   ]
  },
  {
   "cell_type": "code",
   "execution_count": 3,
   "metadata": {
    "pycharm": {
     "name": "#%%\n"
    }
   },
   "outputs": [],
   "source": [
    "def ml(model, data_train, data_test, label_train, label_test, param=None, reg=False, sampling=False):\n",
    "    if sampling is True:\n",
    "        data_train, label_train = ClusterCentroids(n_jobs=4).fit_resample(data_train, label_train)\n",
    "\n",
    "    # k-fold\n",
    "    kfold = StratifiedKFold(n_splits=5, random_state=None, shuffle=False)\n",
    "    # Cross validation\n",
    "    if reg is False:\n",
    "        scores_scoring = cross_val_score(model, X=data_train, y=label_train, cv=kfold, scoring='accuracy')\n",
    "        print(f'Cross Validation accuracy score: {np.mean(scores_scoring)}\\n')\n",
    "    else:\n",
    "        scores_scoring = cross_val_score(model, X=data_train, y=label_train, cv=kfold, scoring='accuracy')\n",
    "        print(f'Cross Validation accuracy score: {np.mean(scores_scoring)}\\n')\n",
    "\n",
    "    # model training - FIT\n",
    "    model.fit(data_train, label_train)\n",
    "\n",
    "    # PREDICT\n",
    "    predict = model.predict(X=data_test)\n",
    "    if reg is False:\n",
    "        base_model = accuracy_score(label_test, predict)\n",
    "        print('Base Model Accuracy: {:.3f}\\n'.format(base_model))\n",
    "    else:\n",
    "        base_model = accuracy_score(label_test, predict)\n",
    "        print('Base Model Accuracy: {:.3f}\\n'.format(base_model))\n",
    "\n",
    "    if param != None:\n",
    "        ## OPTIMIZATION\n",
    "        if reg is False:\n",
    "            search = HalvingGridSearchCV(estimator=model, param_grid=param, cv=kfold, scoring='accuracy', random_state=None,\n",
    "                                         n_jobs=4)\n",
    "        else:\n",
    "            search = HalvingGridSearchCV(estimator=model, param_grid=param, cv=kfold, scoring='accuracy', random_state=None,\n",
    "                                         n_jobs=4)\n",
    "        search.fit(X=data_train, y=label_train)\n",
    "\n",
    "        best_params = search.best_params_\n",
    "        print(f'{best_params}\\n')\n",
    "        # OPTI MODEL FITTED\n",
    "        best_model = search.best_estimator_\n",
    "        predict_opt = best_model.predict(X=data_test)\n",
    "        if reg is False:\n",
    "            opt_model = accuracy_score(label_test, predict_opt)\n",
    "            print('Optimized Model Accuracy: {:.3f}\\n'.format(opt_model))\n",
    "        else:\n",
    "            opt_model = accuracy_score(label_test, predict_opt)\n",
    "            print('Optimized Model Accuracy: {:.3f}\\n'.format(opt_model))\n",
    "\n",
    "        improv = ((opt_model-base_model)/base_model*100)\n",
    "        print('Optimized model improved {:.3f}% over base model.\\n'.format(improv))\n",
    "\n",
    "        if improv >= 0:\n",
    "            predict = predict_opt\n",
    "\n",
    "    # Metrics\n",
    "    metrics(label_test, predict, reg=reg)"
   ]
  },
  {
   "cell_type": "markdown",
   "metadata": {},
   "source": [
    "The *ml* function will firstly do a cross validation to evaluate the model adaptation to the data. Secondly, it will fit the model and then predict the test set labels and it's corresponding accuracy. Lastly, it will do a hyperparameter optimization and then use the best parameters to predict the test set labels and it's accuracy."
   ]
  },
  {
   "cell_type": "markdown",
   "metadata": {},
   "source": [
    "# Models"
   ]
  },
  {
   "cell_type": "code",
   "execution_count": 4,
   "metadata": {
    "pycharm": {
     "name": "#%%\n"
    }
   },
   "outputs": [],
   "source": [
    "rf = RandomForestClassifier(n_jobs=4)\n",
    "nb = GaussianNB()\n",
    "knn = KNeighborsClassifier(n_jobs=4)\n",
    "voting = VotingClassifier(estimators=[('Random Forest', rf), ('Naive Bayes', nb), ('KNN', knn)], voting='soft', n_jobs=4)\n",
    "nn = MLPClassifier(early_stopping=True)"
   ]
  },
  {
   "cell_type": "markdown",
   "metadata": {},
   "source": [
    "# Hyperparameters"
   ]
  },
  {
   "cell_type": "code",
   "execution_count": 5,
   "metadata": {
    "pycharm": {
     "name": "#%%\n"
    }
   },
   "outputs": [],
   "source": [
    "params_rf = {'n_estimators': range(50, 251, 25), 'criterion': ['entropy', 'gini'], 'max_features': ['sqrt', 'log2', None],\n",
    "          'bootstrap': [True, False]}\n",
    "params_knn = {'n_neighbors': range(2, 17, 2), 'weights': ['distance', 'uniform'], 'leaf_size': range(10, 50, 10), 'p': [1, 2]}\n",
    "params_nn = {'activation': ['identity', 'logistic', 'tanh', 'relu'], 'learning_rate': ['constant', 'invscaling', 'adaptive']}"
   ]
  },
  {
   "cell_type": "markdown",
   "metadata": {},
   "source": [
    "# Binary Classification"
   ]
  },
  {
   "cell_type": "markdown",
   "metadata": {},
   "source": [
    "### Load data"
   ]
  },
  {
   "cell_type": "code",
   "execution_count": 6,
   "metadata": {
    "pycharm": {
     "name": "#%%\n"
    }
   },
   "outputs": [],
   "source": [
    "descriptors = pd.read_csv('../dataset/binary_class/descriptors_fs.csv', sep=',')\n",
    "fingerprint = pd.read_csv('../dataset/binary_class/rdk_fs.csv', sep=',')\n",
    "\n",
    "descriptors_data_b = descriptors.drop(\"activity\", axis=1)\n",
    "descriptors_label_b = descriptors[\"activity\"]\n",
    "fingerprint_data_b = fingerprint.drop(\"activity\", axis=1)\n",
    "fingerprint_label_b = fingerprint[\"activity\"]"
   ]
  },
  {
   "cell_type": "markdown",
   "metadata": {},
   "source": [
    "## Descriptors"
   ]
  },
  {
   "cell_type": "code",
   "execution_count": 7,
   "metadata": {
    "collapsed": false,
    "pycharm": {
     "name": "#%%\n"
    }
   },
   "outputs": [],
   "source": [
    "# SPLIT\n",
    "data_train, data_test, label_train, label_test = train_test_split(descriptors_data_b, descriptors_label_b, test_size=0.3)"
   ]
  },
  {
   "cell_type": "markdown",
   "metadata": {},
   "source": [
    "### Random Forest"
   ]
  },
  {
   "cell_type": "code",
   "execution_count": 8,
   "metadata": {
    "pycharm": {
     "name": "#%%\n"
    }
   },
   "outputs": [
    {
     "name": "stdout",
     "output_type": "stream",
     "text": [
      "Cross Validation accuracy score: 0.8130900601667946\n",
      "\n",
      "Base Model Accuracy: 0.824\n",
      "\n",
      "{'bootstrap': False, 'criterion': 'gini', 'max_features': 'sqrt', 'n_estimators': 225}\n",
      "\n",
      "Optimized Model Accuracy: 0.834\n",
      "\n",
      "Optimized model improved 1.173% over base model.\n",
      "\n",
      "METRICS:\n",
      "Accuracy score:\n",
      "0.8339584896224056\n",
      "\n",
      "Recall score:\n",
      "0.8339584896224056\n",
      "\n",
      "Precison score:\n",
      "0.8342567312596383\n",
      "\n",
      "F1-score:\n",
      "0.8339665883087611\n",
      "\n",
      "MCC score:\n",
      "0.668194379939681\n",
      "\n",
      "Confusion matrix:\n",
      "[[4980  918]\n",
      " [1074 5025]]\n",
      "\n",
      "Classification report:\n",
      "              precision    recall  f1-score   support\n",
      "\n",
      "           0       0.82      0.84      0.83      5898\n",
      "           1       0.85      0.82      0.83      6099\n",
      "\n",
      "    accuracy                           0.83     11997\n",
      "   macro avg       0.83      0.83      0.83     11997\n",
      "weighted avg       0.83      0.83      0.83     11997\n",
      "\n",
      "\n"
     ]
    },
    {
     "data": {
      "image/png": "[encoded data removed]",
      "text/plain": [
       "<Figure size 432x288 with 2 Axes>"
      ]
     },
     "metadata": {
      "needs_background": "light"
     },
     "output_type": "display_data"
    }
   ],
   "source": [
    "ml(rf, data_train, data_test, label_train, label_test, params_rf)"
   ]
  },
  {
   "cell_type": "markdown",
   "metadata": {},
   "source": [
    "### Gaussian Naive Bayes"
   ]
  },
  {
   "cell_type": "code",
   "execution_count": 9,
   "metadata": {
    "pycharm": {
     "name": "#%%\n"
    }
   },
   "outputs": [
    {
     "name": "stdout",
     "output_type": "stream",
     "text": [
      "Cross Validation accuracy score: 0.6974498266003581\n",
      "\n",
      "Base Model Accuracy: 0.699\n",
      "\n",
      "METRICS:\n",
      "Accuracy score:\n",
      "0.6993415020421773\n",
      "\n",
      "Recall score:\n",
      "0.6993415020421773\n",
      "\n",
      "Precison score:\n",
      "0.7000395143938295\n",
      "\n",
      "F1-score:\n",
      "0.6992899399143353\n",
      "\n",
      "MCC score:\n",
      "0.3994530646774577\n",
      "\n",
      "Confusion matrix:\n",
      "[[4238 1660]\n",
      " [1947 4152]]\n",
      "\n",
      "Classification report:\n",
      "              precision    recall  f1-score   support\n",
      "\n",
      "           0       0.69      0.72      0.70      5898\n",
      "           1       0.71      0.68      0.70      6099\n",
      "\n",
      "    accuracy                           0.70     11997\n",
      "   macro avg       0.70      0.70      0.70     11997\n",
      "weighted avg       0.70      0.70      0.70     11997\n",
      "\n",
      "\n"
     ]
    },
    {
     "data": {
      "image/png": "[encoded data removed]",
      "text/plain": [
       "<Figure size 432x288 with 2 Axes>"
      ]
     },
     "metadata": {
      "needs_background": "light"
     },
     "output_type": "display_data"
    }
   ],
   "source": [
    "ml(nb, data_train, data_test, label_train, label_test, None)"
   ]
  },
  {
   "cell_type": "markdown",
   "metadata": {},
   "source": [
    "### K Nearest Neighbors"
   ]
  },
  {
   "cell_type": "code",
   "execution_count": 10,
   "metadata": {
    "pycharm": {
     "name": "#%%\n"
    }
   },
   "outputs": [
    {
     "name": "stdout",
     "output_type": "stream",
     "text": [
      "Cross Validation accuracy score: 0.7908335721410978\n",
      "\n",
      "Base Model Accuracy: 0.803\n",
      "\n",
      "{'leaf_size': 40, 'n_neighbors': 14, 'p': 1, 'weights': 'distance'}\n",
      "\n",
      "Optimized Model Accuracy: 0.818\n",
      "\n",
      "Optimized model improved 1.931% over base model.\n",
      "\n",
      "METRICS:\n",
      "Accuracy score:\n",
      "0.8184546136534133\n",
      "\n",
      "Recall score:\n",
      "0.8184546136534133\n",
      "\n",
      "Precison score:\n",
      "0.8205334519597219\n",
      "\n",
      "F1-score:\n",
      "0.818307876133188\n",
      "\n",
      "MCC score:\n",
      "0.6391150856676271\n",
      "\n",
      "Confusion matrix:\n",
      "[[5037  861]\n",
      " [1317 4782]]\n",
      "\n",
      "Classification report:\n",
      "              precision    recall  f1-score   support\n",
      "\n",
      "           0       0.79      0.85      0.82      5898\n",
      "           1       0.85      0.78      0.81      6099\n",
      "\n",
      "    accuracy                           0.82     11997\n",
      "   macro avg       0.82      0.82      0.82     11997\n",
      "weighted avg       0.82      0.82      0.82     11997\n",
      "\n",
      "\n"
     ]
    },
    {
     "data": {
      "image/png": "[encoded data removed]",
      "text/plain": [
       "<Figure size 432x288 with 2 Axes>"
      ]
     },
     "metadata": {
      "needs_background": "light"
     },
     "output_type": "display_data"
    }
   ],
   "source": [
    "ml(knn, data_train, data_test, label_train, label_test, params_knn)"
   ]
  },
  {
   "cell_type": "markdown",
   "metadata": {},
   "source": [
    "### Voting Classifier\n",
    "This model will include all the previous models."
   ]
  },
  {
   "cell_type": "code",
   "execution_count": 11,
   "metadata": {
    "pycharm": {
     "name": "#%%\n"
    }
   },
   "outputs": [
    {
     "name": "stdout",
     "output_type": "stream",
     "text": [
      "Cross Validation accuracy score: 0.7661835443615492\n",
      "\n",
      "Base Model Accuracy: 0.778\n",
      "\n",
      "METRICS:\n",
      "Accuracy score:\n",
      "0.7782779028090356\n",
      "\n",
      "Recall score:\n",
      "0.7782779028090356\n",
      "\n",
      "Precison score:\n",
      "0.7806161984214754\n",
      "\n",
      "F1-score:\n",
      "0.7780349731617424\n",
      "\n",
      "MCC score:\n",
      "0.5590821478341618\n",
      "\n",
      "Confusion matrix:\n",
      "[[4823 1075]\n",
      " [1585 4514]]\n",
      "\n",
      "Classification report:\n",
      "              precision    recall  f1-score   support\n",
      "\n",
      "           0       0.75      0.82      0.78      5898\n",
      "           1       0.81      0.74      0.77      6099\n",
      "\n",
      "    accuracy                           0.78     11997\n",
      "   macro avg       0.78      0.78      0.78     11997\n",
      "weighted avg       0.78      0.78      0.78     11997\n",
      "\n",
      "\n"
     ]
    },
    {
     "data": {
      "image/png": "[encoded data removed]",
      "text/plain": [
       "<Figure size 432x288 with 2 Axes>"
      ]
     },
     "metadata": {
      "needs_background": "light"
     },
     "output_type": "display_data"
    }
   ],
   "source": [
    "ml(voting, data_train, data_test, label_train, label_test, None)"
   ]
  },
  {
   "cell_type": "markdown",
   "metadata": {},
   "source": [
    "### Neural Network"
   ]
  },
  {
   "cell_type": "code",
   "execution_count": 12,
   "metadata": {
    "pycharm": {
     "name": "#%%\n"
    }
   },
   "outputs": [
    {
     "name": "stdout",
     "output_type": "stream",
     "text": [
      "Cross Validation accuracy score: 0.801800773258584\n",
      "\n",
      "Base Model Accuracy: 0.804\n",
      "\n",
      "{'activation': 'relu', 'learning_rate': 'adaptive'}\n",
      "\n",
      "Optimized Model Accuracy: 0.812\n",
      "\n",
      "Optimized model improved 0.984% over base model.\n",
      "\n",
      "METRICS:\n",
      "Accuracy score:\n",
      "0.8122864049345669\n",
      "\n",
      "Recall score:\n",
      "0.8122864049345669\n",
      "\n",
      "Precison score:\n",
      "0.8122951404224513\n",
      "\n",
      "F1-score:\n",
      "0.8122598501319745\n",
      "\n",
      "MCC score:\n",
      "0.6244373052175678\n",
      "\n",
      "Confusion matrix:\n",
      "[[4735 1163]\n",
      " [1089 5010]]\n",
      "\n",
      "Classification report:\n",
      "              precision    recall  f1-score   support\n",
      "\n",
      "           0       0.81      0.80      0.81      5898\n",
      "           1       0.81      0.82      0.82      6099\n",
      "\n",
      "    accuracy                           0.81     11997\n",
      "   macro avg       0.81      0.81      0.81     11997\n",
      "weighted avg       0.81      0.81      0.81     11997\n",
      "\n",
      "\n"
     ]
    },
    {
     "data": {
      "image/png": "[encoded data removed]",
      "text/plain": [
       "<Figure size 432x288 with 2 Axes>"
      ]
     },
     "metadata": {
      "needs_background": "light"
     },
     "output_type": "display_data"
    }
   ],
   "source": [
    "ml(nn, data_train, data_test, label_train, label_test, params_nn)"
   ]
  },
  {
   "cell_type": "markdown",
   "metadata": {
    "collapsed": false,
    "pycharm": {
     "name": "#%% md\n"
    }
   },
   "source": [
    "## Descriptors without feature selection"
   ]
  },
  {
   "cell_type": "code",
   "execution_count": 13,
   "metadata": {
    "collapsed": false,
    "pycharm": {
     "name": "#%%\n"
    }
   },
   "outputs": [],
   "source": [
    "descriptors = pd.read_csv('../dataset/binary_class/descriptors_binary.csv', sep=',')\n",
    "\n",
    "descriptors_data_b = descriptors.drop(\"activity\", axis=1)\n",
    "descriptors_data_b = StandardScaler().fit_transform(descriptors_data_b)\n",
    "descriptors_label_b = descriptors[\"activity\"]"
   ]
  },
  {
   "cell_type": "markdown",
   "metadata": {
    "collapsed": false,
    "pycharm": {
     "name": "#%% md\n"
    }
   },
   "source": [
    "### Random Forest"
   ]
  },
  {
   "cell_type": "code",
   "execution_count": 14,
   "metadata": {
    "collapsed": false,
    "pycharm": {
     "name": "#%%\n"
    }
   },
   "outputs": [
    {
     "name": "stdout",
     "output_type": "stream",
     "text": [
      "Cross Validation accuracy score: 0.8128043458993117\n",
      "\n",
      "Base Model Accuracy: 0.822\n",
      "\n",
      "{'bootstrap': False, 'criterion': 'gini', 'max_features': 'log2', 'n_estimators': 225}\n",
      "\n",
      "Optimized Model Accuracy: 0.833\n",
      "\n",
      "Optimized model improved 1.369% over base model.\n",
      "\n",
      "METRICS:\n",
      "Accuracy score:\n",
      "0.8332083020755189\n",
      "\n",
      "Recall score:\n",
      "0.8332083020755189\n",
      "\n",
      "Precison score:\n",
      "0.8333791912157449\n",
      "\n",
      "F1-score:\n",
      "0.833219826350048\n",
      "\n",
      "MCC score:\n",
      "0.6665465217740154\n",
      "\n",
      "Confusion matrix:\n",
      "[[4954  944]\n",
      " [1057 5042]]\n",
      "\n",
      "Classification report:\n",
      "              precision    recall  f1-score   support\n",
      "\n",
      "           0       0.82      0.84      0.83      5898\n",
      "           1       0.84      0.83      0.83      6099\n",
      "\n",
      "    accuracy                           0.83     11997\n",
      "   macro avg       0.83      0.83      0.83     11997\n",
      "weighted avg       0.83      0.83      0.83     11997\n",
      "\n",
      "\n"
     ]
    },
    {
     "data": {
      "image/png": "[encoded data removed]",
      "text/plain": [
       "<Figure size 432x288 with 2 Axes>"
      ]
     },
     "metadata": {
      "needs_background": "light"
     },
     "output_type": "display_data"
    }
   ],
   "source": [
    "ml(rf, data_train, data_test, label_train, label_test, params_rf)"
   ]
  },
  {
   "cell_type": "markdown",
   "metadata": {
    "collapsed": false
   },
   "source": [
    "comparaçao"
   ]
  },
  {
   "cell_type": "markdown",
   "metadata": {},
   "source": [
    "## Fingerprints"
   ]
  },
  {
   "cell_type": "code",
   "execution_count": 15,
   "metadata": {
    "collapsed": false,
    "pycharm": {
     "name": "#%%\n"
    }
   },
   "outputs": [],
   "source": [
    "# SPLIT\n",
    "data_train, data_test, label_train, label_test = train_test_split(fingerprint_data_b, fingerprint_label_b, test_size=0.3)"
   ]
  },
  {
   "cell_type": "markdown",
   "metadata": {
    "pycharm": {
     "name": "#%% md\n"
    }
   },
   "source": [
    "### Random Forest"
   ]
  },
  {
   "cell_type": "code",
   "execution_count": 16,
   "metadata": {
    "pycharm": {
     "name": "#%%\n"
    }
   },
   "outputs": [
    {
     "name": "stdout",
     "output_type": "stream",
     "text": [
      "Cross Validation accuracy score: 0.8020220971679919\n",
      "\n",
      "Base Model Accuracy: 0.817\n",
      "\n",
      "{'bootstrap': False, 'criterion': 'gini', 'max_features': 'sqrt', 'n_estimators': 200}\n",
      "\n",
      "Optimized Model Accuracy: 0.822\n",
      "\n",
      "Optimized model improved 0.530% over base model.\n",
      "\n",
      "METRICS:\n",
      "Accuracy score:\n",
      "0.8217054263565892\n",
      "\n",
      "Recall score:\n",
      "0.8217054263565892\n",
      "\n",
      "Precison score:\n",
      "0.8218071913059133\n",
      "\n",
      "F1-score:\n",
      "0.8216957288283242\n",
      "\n",
      "MCC score:\n",
      "0.6435176949154559\n",
      "\n",
      "Confusion matrix:\n",
      "[[4967 1018]\n",
      " [1121 4891]]\n",
      "\n",
      "Classification report:\n",
      "              precision    recall  f1-score   support\n",
      "\n",
      "           0       0.82      0.83      0.82      5985\n",
      "           1       0.83      0.81      0.82      6012\n",
      "\n",
      "    accuracy                           0.82     11997\n",
      "   macro avg       0.82      0.82      0.82     11997\n",
      "weighted avg       0.82      0.82      0.82     11997\n",
      "\n",
      "\n"
     ]
    },
    {
     "data": {
      "image/png": "[encoded data removed]",
      "text/plain": [
       "<Figure size 432x288 with 2 Axes>"
      ]
     },
     "metadata": {
      "needs_background": "light"
     },
     "output_type": "display_data"
    }
   ],
   "source": [
    "ml(rf, data_train, data_test, label_train, label_test, params_rf)"
   ]
  },
  {
   "cell_type": "markdown",
   "metadata": {
    "pycharm": {
     "name": "#%% md\n"
    }
   },
   "source": [
    "### Gaussian Naive Bayes"
   ]
  },
  {
   "cell_type": "code",
   "execution_count": 17,
   "metadata": {
    "pycharm": {
     "name": "#%%\n"
    }
   },
   "outputs": [
    {
     "name": "stdout",
     "output_type": "stream",
     "text": [
      "Cross Validation accuracy score: 0.6604507542018203\n",
      "\n",
      "Base Model Accuracy: 0.668\n",
      "\n",
      "METRICS:\n",
      "Accuracy score:\n",
      "0.6675002083854297\n",
      "\n",
      "Recall score:\n",
      "0.6675002083854297\n",
      "\n",
      "Precison score:\n",
      "0.6675463030714901\n",
      "\n",
      "F1-score:\n",
      "0.6674881489375273\n",
      "\n",
      "MCC score:\n",
      "0.3350539945629327\n",
      "\n",
      "Confusion matrix:\n",
      "[[4034 1951]\n",
      " [2038 3974]]\n",
      "\n",
      "Classification report:\n",
      "              precision    recall  f1-score   support\n",
      "\n",
      "           0       0.66      0.67      0.67      5985\n",
      "           1       0.67      0.66      0.67      6012\n",
      "\n",
      "    accuracy                           0.67     11997\n",
      "   macro avg       0.67      0.67      0.67     11997\n",
      "weighted avg       0.67      0.67      0.67     11997\n",
      "\n",
      "\n"
     ]
    },
    {
     "data": {
      "image/png": "[encoded data removed]",
      "text/plain": [
       "<Figure size 432x288 with 2 Axes>"
      ]
     },
     "metadata": {
      "needs_background": "light"
     },
     "output_type": "display_data"
    }
   ],
   "source": [
    "ml(nb, data_train, data_test, label_train, label_test, None)"
   ]
  },
  {
   "cell_type": "markdown",
   "metadata": {
    "pycharm": {
     "name": "#%% md\n"
    }
   },
   "source": [
    "### K Nearest Neighbors"
   ]
  },
  {
   "cell_type": "code",
   "execution_count": 18,
   "metadata": {
    "pycharm": {
     "name": "#%%\n"
    }
   },
   "outputs": [
    {
     "name": "stdout",
     "output_type": "stream",
     "text": [
      "Cross Validation accuracy score: 0.7722646460945501\n",
      "\n",
      "Base Model Accuracy: 0.787\n",
      "\n",
      "{'leaf_size': 30, 'n_neighbors': 10, 'p': 1, 'weights': 'distance'}\n",
      "\n",
      "Optimized Model Accuracy: 0.802\n",
      "\n",
      "Optimized model improved 1.895% over base model.\n",
      "\n",
      "METRICS:\n",
      "Accuracy score:\n",
      "0.8022839043094107\n",
      "\n",
      "Recall score:\n",
      "0.8022839043094107\n",
      "\n",
      "Precison score:\n",
      "0.8071382682772271\n",
      "\n",
      "F1-score:\n",
      "0.8015362919977285\n",
      "\n",
      "MCC score:\n",
      "0.6094569225849665\n",
      "\n",
      "Confusion matrix:\n",
      "[[5174  811]\n",
      " [1561 4451]]\n",
      "\n",
      "Classification report:\n",
      "              precision    recall  f1-score   support\n",
      "\n",
      "           0       0.77      0.86      0.81      5985\n",
      "           1       0.85      0.74      0.79      6012\n",
      "\n",
      "    accuracy                           0.80     11997\n",
      "   macro avg       0.81      0.80      0.80     11997\n",
      "weighted avg       0.81      0.80      0.80     11997\n",
      "\n",
      "\n"
     ]
    },
    {
     "data": {
      "image/png": "[encoded data removed]",
      "text/plain": [
       "<Figure size 432x288 with 2 Axes>"
      ]
     },
     "metadata": {
      "needs_background": "light"
     },
     "output_type": "display_data"
    }
   ],
   "source": [
    "ml(knn, data_train, data_test, label_train, label_test, params_knn)"
   ]
  },
  {
   "cell_type": "markdown",
   "metadata": {
    "pycharm": {
     "name": "#%% md\n"
    }
   },
   "source": [
    "### Voting Classifier\n",
    "This model will include all the previous models."
   ]
  },
  {
   "cell_type": "code",
   "execution_count": 19,
   "metadata": {
    "pycharm": {
     "name": "#%%\n"
    }
   },
   "outputs": [
    {
     "name": "stdout",
     "output_type": "stream",
     "text": [
      "Cross Validation accuracy score: 0.7473653521423881\n",
      "\n",
      "Base Model Accuracy: 0.758\n",
      "\n",
      "METRICS:\n",
      "Accuracy score:\n",
      "0.7576060681837126\n",
      "\n",
      "Recall score:\n",
      "0.7576060681837126\n",
      "\n",
      "Precison score:\n",
      "0.7583423507867391\n",
      "\n",
      "F1-score:\n",
      "0.7574542105650359\n",
      "\n",
      "MCC score:\n",
      "0.5159740349292274\n",
      "\n",
      "Confusion matrix:\n",
      "[[4688 1297]\n",
      " [1611 4401]]\n",
      "\n",
      "Classification report:\n",
      "              precision    recall  f1-score   support\n",
      "\n",
      "           0       0.74      0.78      0.76      5985\n",
      "           1       0.77      0.73      0.75      6012\n",
      "\n",
      "    accuracy                           0.76     11997\n",
      "   macro avg       0.76      0.76      0.76     11997\n",
      "weighted avg       0.76      0.76      0.76     11997\n",
      "\n",
      "\n"
     ]
    },
    {
     "data": {
      "image/png": "[encoded data removed]",
      "text/plain": [
       "<Figure size 432x288 with 2 Axes>"
      ]
     },
     "metadata": {
      "needs_background": "light"
     },
     "output_type": "display_data"
    }
   ],
   "source": [
    "ml(voting, data_train, data_test, label_train, label_test, None)"
   ]
  },
  {
   "cell_type": "markdown",
   "metadata": {
    "pycharm": {
     "name": "#%% md\n"
    }
   },
   "source": [
    "### Neural Network"
   ]
  },
  {
   "cell_type": "code",
   "execution_count": 20,
   "metadata": {
    "pycharm": {
     "name": "#%%\n"
    }
   },
   "outputs": [
    {
     "name": "stdout",
     "output_type": "stream",
     "text": [
      "Cross Validation accuracy score: 0.7731577903240391\n",
      "\n",
      "Base Model Accuracy: 0.784\n",
      "\n",
      "{'activation': 'tanh', 'learning_rate': 'constant'}\n",
      "\n",
      "Optimized Model Accuracy: 0.790\n",
      "\n",
      "Optimized model improved 0.723% over base model.\n",
      "\n",
      "METRICS:\n",
      "Accuracy score:\n",
      "0.7898641326998417\n",
      "\n",
      "Recall score:\n",
      "0.7898641326998417\n",
      "\n",
      "Precison score:\n",
      "0.7899206441298807\n",
      "\n",
      "F1-score:\n",
      "0.789858134879355\n",
      "\n",
      "MCC score:\n",
      "0.5797888745021978\n",
      "\n",
      "Confusion matrix:\n",
      "[[4764 1221]\n",
      " [1300 4712]]\n",
      "\n",
      "Classification report:\n",
      "              precision    recall  f1-score   support\n",
      "\n",
      "           0       0.79      0.80      0.79      5985\n",
      "           1       0.79      0.78      0.79      6012\n",
      "\n",
      "    accuracy                           0.79     11997\n",
      "   macro avg       0.79      0.79      0.79     11997\n",
      "weighted avg       0.79      0.79      0.79     11997\n",
      "\n",
      "\n"
     ]
    },
    {
     "data": {
      "image/png": "[encoded data removed]",
      "text/plain": [
       "<Figure size 432x288 with 2 Axes>"
      ]
     },
     "metadata": {
      "needs_background": "light"
     },
     "output_type": "display_data"
    }
   ],
   "source": [
    "ml(nn, data_train, data_test, label_train, label_test, params_nn)"
   ]
  },
  {
   "cell_type": "markdown",
   "metadata": {
    "collapsed": false
   },
   "source": [
    "## Comparation"
   ]
  },
  {
   "cell_type": "markdown",
   "metadata": {
    "collapsed": false
   },
   "source": [
    "TABLE HERE"
   ]
  },
  {
   "cell_type": "markdown",
   "metadata": {},
   "source": [
    "# Multiclass"
   ]
  },
  {
   "cell_type": "markdown",
   "metadata": {},
   "source": [
    "### Load data"
   ]
  },
  {
   "cell_type": "code",
   "execution_count": 21,
   "metadata": {
    "pycharm": {
     "name": "#%%\n"
    }
   },
   "outputs": [],
   "source": [
    "descriptors = pd.read_csv('../dataset/multiclass/descriptors_fs.csv', sep=',')\n",
    "fingerprint = pd.read_csv('../dataset/multiclass/rdk_fs.csv', sep=',')\n",
    "\n",
    "descriptors_data_m = descriptors.drop(\"Activity at 46.23 uM\", axis=1)\n",
    "descriptors_label_m = descriptors[\"Activity at 46.23 uM\"]\n",
    "fingerprint_data_m = fingerprint.drop(\"Activity at 46.23 uM\", axis=1)\n",
    "fingerprint_label_m = fingerprint[\"Activity at 46.23 uM\"]"
   ]
  },
  {
   "cell_type": "markdown",
   "metadata": {
    "collapsed": false
   },
   "source": [
    "## Descriptors"
   ]
  },
  {
   "cell_type": "code",
   "execution_count": 22,
   "metadata": {
    "collapsed": false,
    "pycharm": {
     "name": "#%%\n"
    }
   },
   "outputs": [],
   "source": [
    "# SPLIT\n",
    "data_train, data_test, label_train, label_test = train_test_split(descriptors_data_m, descriptors_label_m, test_size=0.3)"
   ]
  },
  {
   "cell_type": "markdown",
   "metadata": {
    "pycharm": {
     "name": "#%% md\n"
    }
   },
   "source": [
    "### Random Forest Classifier"
   ]
  },
  {
   "cell_type": "code",
   "execution_count": 23,
   "metadata": {
    "pycharm": {
     "name": "#%%\n"
    }
   },
   "outputs": [
    {
     "name": "stdout",
     "output_type": "stream",
     "text": [
      "Cross Validation accuracy score: 0.5715000976175435\n",
      "\n",
      "Base Model Accuracy: 0.570\n",
      "\n",
      "{'bootstrap': True, 'criterion': 'entropy', 'max_features': 'sqrt', 'n_estimators': 250}\n",
      "\n",
      "Optimized Model Accuracy: 0.574\n",
      "\n",
      "Optimized model improved 0.732% over base model.\n",
      "\n",
      "METRICS:\n",
      "Accuracy score:\n",
      "0.5740632562797297\n",
      "\n",
      "Recall score:\n",
      "0.5740632562797297\n",
      "\n",
      "Precison score:\n",
      "0.5291462954388862\n",
      "\n",
      "F1-score:\n",
      "0.5148369343451838\n",
      "\n",
      "MCC score:\n",
      "0.3561289916114144\n",
      "\n",
      "Confusion matrix:\n",
      "[[ 125 1175  288    2]\n",
      " [ 185 3321  885    9]\n",
      " [  15  862 3333  158]\n",
      " [   1  184 1340  100]]\n",
      "\n",
      "Classification report:\n",
      "              precision    recall  f1-score   support\n",
      "\n",
      "           0       0.38      0.08      0.13      1590\n",
      "           1       0.60      0.75      0.67      4400\n",
      "           2       0.57      0.76      0.65      4368\n",
      "           3       0.37      0.06      0.11      1625\n",
      "\n",
      "    accuracy                           0.57     11983\n",
      "   macro avg       0.48      0.41      0.39     11983\n",
      "weighted avg       0.53      0.57      0.51     11983\n",
      "\n",
      "\n"
     ]
    },
    {
     "data": {
      "image/png": "[encoded data removed]",
      "text/plain": [
       "<Figure size 432x288 with 2 Axes>"
      ]
     },
     "metadata": {
      "needs_background": "light"
     },
     "output_type": "display_data"
    }
   ],
   "source": [
    "ml(rf, data_train, data_test, label_train, label_test, params_rf)"
   ]
  },
  {
   "cell_type": "markdown",
   "metadata": {
    "pycharm": {
     "name": "#%% md\n"
    }
   },
   "source": [
    "### Gaussian Naive Bayes"
   ]
  },
  {
   "cell_type": "code",
   "execution_count": 24,
   "metadata": {
    "pycharm": {
     "name": "#%%\n"
    }
   },
   "outputs": [
    {
     "name": "stdout",
     "output_type": "stream",
     "text": [
      "Cross Validation accuracy score: 0.3963088670249474\n",
      "\n",
      "Base Model Accuracy: 0.395\n",
      "\n",
      "METRICS:\n",
      "Accuracy score:\n",
      "0.3949762163064341\n",
      "\n",
      "Recall score:\n",
      "0.3949762163064341\n",
      "\n",
      "Precison score:\n",
      "0.4081772909330985\n",
      "\n",
      "F1-score:\n",
      "0.38502576342132944\n",
      "\n",
      "MCC score:\n",
      "0.15806469022294425\n",
      "\n",
      "Confusion matrix:\n",
      "[[ 226  865  277  222]\n",
      " [ 422 2548  884  546]\n",
      " [ 123 1287 1161 1797]\n",
      " [  36  371  420  798]]\n",
      "\n",
      "Classification report:\n",
      "              precision    recall  f1-score   support\n",
      "\n",
      "           0       0.28      0.14      0.19      1590\n",
      "           1       0.50      0.58      0.54      4400\n",
      "           2       0.42      0.27      0.33      4368\n",
      "           3       0.24      0.49      0.32      1625\n",
      "\n",
      "    accuracy                           0.39     11983\n",
      "   macro avg       0.36      0.37      0.34     11983\n",
      "weighted avg       0.41      0.39      0.39     11983\n",
      "\n",
      "\n"
     ]
    },
    {
     "data": {
      "image/png": "[encoded data removed]",
      "text/plain": [
       "<Figure size 432x288 with 2 Axes>"
      ]
     },
     "metadata": {
      "needs_background": "light"
     },
     "output_type": "display_data"
    }
   ],
   "source": [
    "ml(nb, data_train, data_test, label_train, label_test, None)"
   ]
  },
  {
   "cell_type": "markdown",
   "metadata": {
    "pycharm": {
     "name": "#%% md\n"
    }
   },
   "source": [
    "### K Nearest Neighbors Classifier"
   ]
  },
  {
   "cell_type": "code",
   "execution_count": 25,
   "metadata": {
    "pycharm": {
     "is_executing": true,
     "name": "#%%\n"
    }
   },
   "outputs": [
    {
     "name": "stdout",
     "output_type": "stream",
     "text": [
      "Cross Validation accuracy score: 0.5138061336057924\n",
      "\n",
      "Base Model Accuracy: 0.518\n",
      "\n",
      "{'leaf_size': 40, 'n_neighbors': 16, 'p': 1, 'weights': 'distance'}\n",
      "\n",
      "Optimized Model Accuracy: 0.557\n",
      "\n",
      "Optimized model improved 7.502% over base model.\n",
      "\n",
      "METRICS:\n",
      "Accuracy score:\n",
      "0.5572894934490529\n",
      "\n",
      "Recall score:\n",
      "0.5572894934490529\n",
      "\n",
      "Precison score:\n",
      "0.5090601225862557\n",
      "\n",
      "F1-score:\n",
      "0.5073424955007781\n",
      "\n",
      "MCC score:\n",
      "0.33191560243006396\n",
      "\n",
      "Confusion matrix:\n",
      "[[ 144 1118  316   12]\n",
      " [ 230 3099 1030   41]\n",
      " [  32  778 3303  255]\n",
      " [   6  184 1303  132]]\n",
      "\n",
      "Classification report:\n",
      "              precision    recall  f1-score   support\n",
      "\n",
      "           0       0.35      0.09      0.14      1590\n",
      "           1       0.60      0.70      0.65      4400\n",
      "           2       0.55      0.76      0.64      4368\n",
      "           3       0.30      0.08      0.13      1625\n",
      "\n",
      "    accuracy                           0.56     11983\n",
      "   macro avg       0.45      0.41      0.39     11983\n",
      "weighted avg       0.51      0.56      0.51     11983\n",
      "\n",
      "\n"
     ]
    },
    {
     "data": {
      "image/png": "[encoded data removed]",
      "text/plain": [
       "<Figure size 432x288 with 2 Axes>"
      ]
     },
     "metadata": {
      "needs_background": "light"
     },
     "output_type": "display_data"
    }
   ],
   "source": [
    "ml(knn, data_train, data_test, label_train, label_test, params_knn)"
   ]
  },
  {
   "cell_type": "markdown",
   "metadata": {
    "pycharm": {
     "name": "#%% md\n"
    }
   },
   "source": [
    "### Voting Classifier\n",
    "This model will include all the previous models."
   ]
  },
  {
   "cell_type": "code",
   "execution_count": 26,
   "metadata": {
    "pycharm": {
     "is_executing": true,
     "name": "#%%\n"
    }
   },
   "outputs": [
    {
     "name": "stdout",
     "output_type": "stream",
     "text": [
      "Cross Validation accuracy score: 0.4986765466367493\n",
      "\n",
      "Base Model Accuracy: 0.502\n",
      "\n",
      "METRICS:\n",
      "Accuracy score:\n",
      "0.5021280146874739\n",
      "\n",
      "Recall score:\n",
      "0.5021280146874739\n",
      "\n",
      "Precison score:\n",
      "0.4846674598295465\n",
      "\n",
      "F1-score:\n",
      "0.48460307168278943\n",
      "\n",
      "MCC score:\n",
      "0.26789169061659784\n",
      "\n",
      "Confusion matrix:\n",
      "[[ 187 1016  293   94]\n",
      " [ 283 2968  918  231]\n",
      " [  62  980 2402  924]\n",
      " [  20  241  904  460]]\n",
      "\n",
      "Classification report:\n",
      "              precision    recall  f1-score   support\n",
      "\n",
      "           0       0.34      0.12      0.17      1590\n",
      "           1       0.57      0.67      0.62      4400\n",
      "           2       0.53      0.55      0.54      4368\n",
      "           3       0.27      0.28      0.28      1625\n",
      "\n",
      "    accuracy                           0.50     11983\n",
      "   macro avg       0.43      0.41      0.40     11983\n",
      "weighted avg       0.48      0.50      0.48     11983\n",
      "\n",
      "\n"
     ]
    },
    {
     "data": {
      "image/png": "[encoded data removed]",
      "text/plain": [
       "<Figure size 432x288 with 2 Axes>"
      ]
     },
     "metadata": {
      "needs_background": "light"
     },
     "output_type": "display_data"
    }
   ],
   "source": [
    "ml(voting, data_train, data_test, label_train, label_test, None)"
   ]
  },
  {
   "cell_type": "markdown",
   "metadata": {
    "pycharm": {
     "name": "#%% md\n"
    }
   },
   "source": [
    "### Neural Network Classifier"
   ]
  },
  {
   "cell_type": "code",
   "execution_count": 27,
   "metadata": {
    "pycharm": {
     "is_executing": true,
     "name": "#%%\n"
    }
   },
   "outputs": [
    {
     "name": "stdout",
     "output_type": "stream",
     "text": [
      "Cross Validation accuracy score: 0.5560483855491236\n",
      "\n",
      "Base Model Accuracy: 0.555\n",
      "\n",
      "{'activation': 'tanh', 'learning_rate': 'constant'}\n",
      "\n",
      "Optimized Model Accuracy: 0.550\n",
      "\n",
      "Optimized model improved -0.947% over base model.\n",
      "\n",
      "METRICS:\n",
      "Accuracy score:\n",
      "0.5554535592088793\n",
      "\n",
      "Recall score:\n",
      "0.5554535592088793\n",
      "\n",
      "Precison score:\n",
      "0.5109195252076658\n",
      "\n",
      "F1-score:\n",
      "0.48600130430570093\n",
      "\n",
      "MCC score:\n",
      "0.3234573443723524\n",
      "\n",
      "Confusion matrix:\n",
      "[[  57 1197  335    1]\n",
      " [  71 3334  990    5]\n",
      " [  16 1056 3205   91]\n",
      " [  10  232 1323   60]]\n",
      "\n",
      "Classification report:\n",
      "              precision    recall  f1-score   support\n",
      "\n",
      "           0       0.37      0.04      0.07      1590\n",
      "           1       0.57      0.76      0.65      4400\n",
      "           2       0.55      0.73      0.63      4368\n",
      "           3       0.38      0.04      0.07      1625\n",
      "\n",
      "    accuracy                           0.56     11983\n",
      "   macro avg       0.47      0.39      0.35     11983\n",
      "weighted avg       0.51      0.56      0.49     11983\n",
      "\n",
      "\n"
     ]
    },
    {
     "data": {
      "image/png": "[encoded data removed]",
      "text/plain": [
       "<Figure size 432x288 with 2 Axes>"
      ]
     },
     "metadata": {
      "needs_background": "light"
     },
     "output_type": "display_data"
    }
   ],
   "source": [
    "ml(nn, data_train, data_test, label_train, label_test, params_nn)"
   ]
  },
  {
   "cell_type": "markdown",
   "metadata": {
    "collapsed": false
   },
   "source": [
    "### Undersampling"
   ]
  },
  {
   "cell_type": "code",
   "execution_count": 28,
   "metadata": {
    "collapsed": false,
    "pycharm": {
     "name": "#%%\n"
    }
   },
   "outputs": [
    {
     "name": "stdout",
     "output_type": "stream",
     "text": [
      "Cross Validation accuracy score: 0.4577597840755735\n",
      "\n",
      "Base Model Accuracy: 0.371\n",
      "\n",
      "{'bootstrap': True, 'criterion': 'entropy', 'max_features': None, 'n_estimators': 100}\n",
      "\n",
      "Optimized Model Accuracy: 0.363\n",
      "\n",
      "Optimized model improved -2.359% over base model.\n",
      "\n",
      "METRICS:\n",
      "Accuracy score:\n",
      "0.3714428774096637\n",
      "\n",
      "Recall score:\n",
      "0.3714428774096637\n",
      "\n",
      "Precison score:\n",
      "0.4745742402183311\n",
      "\n",
      "F1-score:\n",
      "0.3822463410912073\n",
      "\n",
      "MCC score:\n",
      "0.19910127211356274\n",
      "\n",
      "Confusion matrix:\n",
      "[[ 818  497  120  155]\n",
      " [2023 1440  467  470]\n",
      " [ 599  462 1290 2017]\n",
      " [ 124   98  500  903]]\n",
      "\n",
      "Classification report:\n",
      "              precision    recall  f1-score   support\n",
      "\n",
      "           0       0.23      0.51      0.32      1590\n",
      "           1       0.58      0.33      0.42      4400\n",
      "           2       0.54      0.30      0.38      4368\n",
      "           3       0.25      0.56      0.35      1625\n",
      "\n",
      "    accuracy                           0.37     11983\n",
      "   macro avg       0.40      0.42      0.37     11983\n",
      "weighted avg       0.47      0.37      0.38     11983\n",
      "\n",
      "\n"
     ]
    },
    {
     "data": {
      "image/png": "[encoded data removed]",
      "text/plain": [
       "<Figure size 432x288 with 2 Axes>"
      ]
     },
     "metadata": {
      "needs_background": "light"
     },
     "output_type": "display_data"
    }
   ],
   "source": [
    "ml(rf, data_train, data_test, label_train, label_test, params_rf, sampling=True)"
   ]
  },
  {
   "cell_type": "markdown",
   "metadata": {
    "pycharm": {
     "name": "#%% md\n"
    }
   },
   "source": [
    "## Fingerprints"
   ]
  },
  {
   "cell_type": "code",
   "execution_count": 29,
   "metadata": {
    "collapsed": false,
    "pycharm": {
     "name": "#%%\n"
    }
   },
   "outputs": [],
   "source": [
    "# SPLIT\n",
    "data_train, data_test, label_train, label_test = train_test_split(fingerprint_data_m, fingerprint_label_m, test_size=0.3)"
   ]
  },
  {
   "cell_type": "markdown",
   "metadata": {
    "pycharm": {
     "name": "#%% md\n"
    }
   },
   "source": [
    "### Random Forest Classifier"
   ]
  },
  {
   "cell_type": "code",
   "execution_count": 30,
   "metadata": {
    "pycharm": {
     "is_executing": true,
     "name": "#%%\n"
    }
   },
   "outputs": [
    {
     "name": "stdout",
     "output_type": "stream",
     "text": [
      "Cross Validation accuracy score: 0.5420629580700027\n",
      "\n",
      "Base Model Accuracy: 0.557\n",
      "\n",
      "{'bootstrap': True, 'criterion': 'gini', 'max_features': 'log2', 'n_estimators': 225}\n",
      "\n",
      "Optimized Model Accuracy: 0.558\n",
      "\n",
      "Optimized model improved 0.045% over base model.\n",
      "\n",
      "METRICS:\n",
      "Accuracy score:\n",
      "0.5577067512309104\n",
      "\n",
      "Recall score:\n",
      "0.5577067512309104\n",
      "\n",
      "Precison score:\n",
      "0.5213832635362105\n",
      "\n",
      "F1-score:\n",
      "0.5244868758561237\n",
      "\n",
      "MCC score:\n",
      "0.3380502035895744\n",
      "\n",
      "Confusion matrix:\n",
      "[[ 250 1070  308   14]\n",
      " [ 365 3058  889   42]\n",
      " [  42  781 3148  434]\n",
      " [  11  201 1143  227]]\n",
      "\n",
      "Classification report:\n",
      "              precision    recall  f1-score   support\n",
      "\n",
      "           0       0.37      0.15      0.22      1642\n",
      "           1       0.60      0.70      0.65      4354\n",
      "           2       0.57      0.71      0.64      4405\n",
      "           3       0.32      0.14      0.20      1582\n",
      "\n",
      "    accuracy                           0.56     11983\n",
      "   macro avg       0.47      0.43      0.42     11983\n",
      "weighted avg       0.52      0.56      0.52     11983\n",
      "\n",
      "\n"
     ]
    },
    {
     "data": {
      "image/png": "[encoded data removed]",
      "text/plain": [
       "<Figure size 432x288 with 2 Axes>"
      ]
     },
     "metadata": {
      "needs_background": "light"
     },
     "output_type": "display_data"
    }
   ],
   "source": [
    "ml(rf, data_train, data_test, label_train, label_test, params_rf)"
   ]
  },
  {
   "cell_type": "markdown",
   "metadata": {
    "pycharm": {
     "name": "#%% md\n"
    }
   },
   "source": [
    "### Gaussian Naive Bayes"
   ]
  },
  {
   "cell_type": "code",
   "execution_count": 31,
   "metadata": {
    "pycharm": {
     "is_executing": true,
     "name": "#%%\n"
    }
   },
   "outputs": [
    {
     "name": "stdout",
     "output_type": "stream",
     "text": [
      "Cross Validation accuracy score: 0.3420132857092778\n",
      "\n",
      "Base Model Accuracy: 0.349\n",
      "\n",
      "METRICS:\n",
      "Accuracy score:\n",
      "0.3493282149712092\n",
      "\n",
      "Recall score:\n",
      "0.3493282149712092\n",
      "\n",
      "Precison score:\n",
      "0.3941568101652765\n",
      "\n",
      "F1-score:\n",
      "0.35304170081988057\n",
      "\n",
      "MCC score:\n",
      "0.13071815680466617\n",
      "\n",
      "Confusion matrix:\n",
      "[[ 459  654  261  268]\n",
      " [1035 1880  771  668]\n",
      " [ 468 1076 1050 1811]\n",
      " [ 153  306  326  797]]\n",
      "\n",
      "Classification report:\n",
      "              precision    recall  f1-score   support\n",
      "\n",
      "           0       0.22      0.28      0.24      1642\n",
      "           1       0.48      0.43      0.45      4354\n",
      "           2       0.44      0.24      0.31      4405\n",
      "           3       0.22      0.50      0.31      1582\n",
      "\n",
      "    accuracy                           0.35     11983\n",
      "   macro avg       0.34      0.36      0.33     11983\n",
      "weighted avg       0.39      0.35      0.35     11983\n",
      "\n",
      "\n"
     ]
    },
    {
     "data": {
      "image/png": "[encoded data removed]",
      "text/plain": [
       "<Figure size 432x288 with 2 Axes>"
      ]
     },
     "metadata": {
      "needs_background": "light"
     },
     "output_type": "display_data"
    }
   ],
   "source": [
    "ml(nb, data_train, data_test, label_train, label_test, None)"
   ]
  },
  {
   "cell_type": "markdown",
   "metadata": {
    "pycharm": {
     "name": "#%% md\n"
    }
   },
   "source": [
    "### K Nearest Neighbors Classifier"
   ]
  },
  {
   "cell_type": "code",
   "execution_count": 32,
   "metadata": {
    "pycharm": {
     "is_executing": true,
     "name": "#%%\n"
    }
   },
   "outputs": [
    {
     "name": "stdout",
     "output_type": "stream",
     "text": [
      "Cross Validation accuracy score: 0.5108018737450772\n",
      "\n",
      "Base Model Accuracy: 0.524\n",
      "\n",
      "{'leaf_size': 20, 'n_neighbors': 16, 'p': 1, 'weights': 'distance'}\n",
      "\n",
      "Optimized Model Accuracy: 0.550\n",
      "\n",
      "Optimized model improved 5.099% over base model.\n",
      "\n",
      "METRICS:\n",
      "Accuracy score:\n",
      "0.5504464658265876\n",
      "\n",
      "Recall score:\n",
      "0.5504464658265876\n",
      "\n",
      "Precison score:\n",
      "0.5154397786501101\n",
      "\n",
      "F1-score:\n",
      "0.5135397248618475\n",
      "\n",
      "MCC score:\n",
      "0.32709517359641876\n",
      "\n",
      "Confusion matrix:\n",
      "[[ 229  981  416   16]\n",
      " [ 310 2815 1163   66]\n",
      " [  52  626 3361  366]\n",
      " [  13  150 1228  191]]\n",
      "\n",
      "Classification report:\n",
      "              precision    recall  f1-score   support\n",
      "\n",
      "           0       0.38      0.14      0.20      1642\n",
      "           1       0.62      0.65      0.63      4354\n",
      "           2       0.54      0.76      0.64      4405\n",
      "           3       0.30      0.12      0.17      1582\n",
      "\n",
      "    accuracy                           0.55     11983\n",
      "   macro avg       0.46      0.42      0.41     11983\n",
      "weighted avg       0.52      0.55      0.51     11983\n",
      "\n",
      "\n"
     ]
    },
    {
     "data": {
      "image/png": "[encoded data removed]",
      "text/plain": [
       "<Figure size 432x288 with 2 Axes>"
      ]
     },
     "metadata": {
      "needs_background": "light"
     },
     "output_type": "display_data"
    }
   ],
   "source": [
    "ml(knn, data_train, data_test, label_train, label_test, params_knn)"
   ]
  },
  {
   "cell_type": "markdown",
   "metadata": {
    "pycharm": {
     "name": "#%% md\n"
    }
   },
   "source": [
    "### Voting Classifier\n",
    "This model will include all the previous models."
   ]
  },
  {
   "cell_type": "code",
   "execution_count": 33,
   "metadata": {
    "pycharm": {
     "is_executing": true,
     "name": "#%%\n"
    }
   },
   "outputs": [
    {
     "name": "stdout",
     "output_type": "stream",
     "text": [
      "Cross Validation accuracy score: 0.472315671082869\n",
      "\n",
      "Base Model Accuracy: 0.486\n",
      "\n",
      "METRICS:\n",
      "Accuracy score:\n",
      "0.4855211549695402\n",
      "\n",
      "Recall score:\n",
      "0.4855211549695402\n",
      "\n",
      "Precison score:\n",
      "0.4843526515654967\n",
      "\n",
      "F1-score:\n",
      "0.4815672590687241\n",
      "\n",
      "MCC score:\n",
      "0.2602581483766855\n",
      "\n",
      "Confusion matrix:\n",
      "[[ 289  952  265  136]\n",
      " [ 474 2696  853  331]\n",
      " [ 142  820 2308 1135]\n",
      " [  58  192  807  525]]\n",
      "\n",
      "Classification report:\n",
      "              precision    recall  f1-score   support\n",
      "\n",
      "           0       0.30      0.18      0.22      1642\n",
      "           1       0.58      0.62      0.60      4354\n",
      "           2       0.55      0.52      0.53      4405\n",
      "           3       0.25      0.33      0.28      1582\n",
      "\n",
      "    accuracy                           0.49     11983\n",
      "   macro avg       0.42      0.41      0.41     11983\n",
      "weighted avg       0.48      0.49      0.48     11983\n",
      "\n",
      "\n"
     ]
    },
    {
     "data": {
      "image/png": "[encoded data removed]",
      "text/plain": [
       "<Figure size 432x288 with 2 Axes>"
      ]
     },
     "metadata": {
      "needs_background": "light"
     },
     "output_type": "display_data"
    }
   ],
   "source": [
    "ml(voting, data_train, data_test, label_train, label_test, None)"
   ]
  },
  {
   "cell_type": "markdown",
   "metadata": {
    "pycharm": {
     "name": "#%% md\n"
    }
   },
   "source": [
    "### Neural Network Classifier"
   ]
  },
  {
   "cell_type": "code",
   "execution_count": 34,
   "metadata": {
    "pycharm": {
     "is_executing": true,
     "name": "#%%\n"
    }
   },
   "outputs": [
    {
     "name": "stdout",
     "output_type": "stream",
     "text": [
      "Cross Validation accuracy score: 0.5351954999208057\n",
      "\n",
      "Base Model Accuracy: 0.552\n",
      "\n",
      "{'activation': 'relu', 'learning_rate': 'constant'}\n",
      "\n",
      "Optimized Model Accuracy: 0.539\n",
      "\n",
      "Optimized model improved -2.372% over base model.\n",
      "\n",
      "METRICS:\n",
      "Accuracy score:\n",
      "0.5524493031795042\n",
      "\n",
      "Recall score:\n",
      "0.5524493031795042\n",
      "\n",
      "Precison score:\n",
      "0.4907678385132045\n",
      "\n",
      "F1-score:\n",
      "0.4814870763076892\n",
      "\n",
      "MCC score:\n",
      "0.3190782653712013\n",
      "\n",
      "Confusion matrix:\n",
      "[[  36 1224  371   11]\n",
      " [  49 3255 1028   22]\n",
      " [  18 1006 3269  112]\n",
      " [  11  288 1223   60]]\n",
      "\n",
      "Classification report:\n",
      "              precision    recall  f1-score   support\n",
      "\n",
      "           0       0.32      0.02      0.04      1642\n",
      "           1       0.56      0.75      0.64      4354\n",
      "           2       0.55      0.74      0.64      4405\n",
      "           3       0.29      0.04      0.07      1582\n",
      "\n",
      "    accuracy                           0.55     11983\n",
      "   macro avg       0.43      0.39      0.35     11983\n",
      "weighted avg       0.49      0.55      0.48     11983\n",
      "\n",
      "\n"
     ]
    },
    {
     "data": {
      "image/png": "[encoded data removed]",
      "text/plain": [
       "<Figure size 432x288 with 2 Axes>"
      ]
     },
     "metadata": {
      "needs_background": "light"
     },
     "output_type": "display_data"
    }
   ],
   "source": [
    "ml(nn, data_train, data_test, label_train, label_test, params_nn)"
   ]
  },
  {
   "cell_type": "markdown",
   "metadata": {
    "collapsed": false
   },
   "source": [
    "## Regression"
   ]
  },
  {
   "cell_type": "markdown",
   "metadata": {
    "collapsed": false
   },
   "source": [
    "### Load data"
   ]
  },
  {
   "cell_type": "code",
   "execution_count": 35,
   "metadata": {
    "collapsed": false,
    "pycharm": {
     "name": "#%%\n"
    }
   },
   "outputs": [],
   "source": [
    "descriptors = pd.read_csv('../dataset/regression/descriptors_fs.csv', sep=',')\n",
    "fingerprint = pd.read_csv('../dataset/regression/rdk_fs.csv', sep=',')\n",
    "\n",
    "descriptors_data_r = descriptors.drop(\"Activity at 46.23 uM\", axis=1)\n",
    "descriptors_label_r = descriptors[\"Activity at 46.23 uM\"]\n",
    "fingerprint_data_r = fingerprint.drop(\"Activity at 46.23 uM\", axis=1)\n",
    "fingerprint_label_r = fingerprint[\"Activity at 46.23 uM\"]"
   ]
  },
  {
   "cell_type": "markdown",
   "metadata": {
    "collapsed": false
   },
   "source": [
    "### Models"
   ]
  },
  {
   "cell_type": "code",
   "execution_count": 36,
   "metadata": {
    "collapsed": false,
    "pycharm": {
     "name": "#%%\n"
    }
   },
   "outputs": [],
   "source": [
    "rf = RandomForestRegressor(n_jobs=4)\n",
    "lr = LinearRegression()\n",
    "knn = KNeighborsRegressor(n_jobs=4)\n",
    "voting = VotingRegressor(estimators=[('Random Forest', rf), ('Linear Regression', lr), ('KNN', knn)], n_jobs=4)\n",
    "nn = MLPRegressor(early_stopping=True)"
   ]
  },
  {
   "cell_type": "markdown",
   "metadata": {
    "collapsed": false
   },
   "source": [
    "## Descriptors"
   ]
  },
  {
   "cell_type": "code",
   "execution_count": 37,
   "metadata": {
    "collapsed": false,
    "pycharm": {
     "name": "#%%\n"
    }
   },
   "outputs": [],
   "source": [
    "# SPLIT\n",
    "data_train, data_test, label_train, label_test = train_test_split(descriptors_data_r, descriptors_label_r, test_size=0.3)"
   ]
  },
  {
   "cell_type": "markdown",
   "metadata": {
    "collapsed": false
   },
   "source": [
    "### Random Forest Regressor"
   ]
  },
  {
   "cell_type": "code",
   "execution_count": 38,
   "metadata": {
    "collapsed": false,
    "pycharm": {
     "name": "#%%\n"
    }
   },
   "outputs": [
    {
     "ename": "ValueError",
     "evalue": "Supported target types are: ('binary', 'multiclass'). Got 'continuous' instead.",
     "output_type": "error",
     "traceback": [
      "\u001b[1;31m---------------------------------------------------------------------------\u001b[0m",
      "\u001b[1;31mEmpty\u001b[0m                                     Traceback (most recent call last)",
      "\u001b[1;32mC:\\Anaconda3\\lib\\site-packages\\joblib\\parallel.py\u001b[0m in \u001b[0;36mdispatch_one_batch\u001b[1;34m(self, iterator)\u001b[0m\n\u001b[0;32m    821\u001b[0m             \u001b[1;32mtry\u001b[0m\u001b[1;33m:\u001b[0m\u001b[1;33m\u001b[0m\u001b[1;33m\u001b[0m\u001b[0m\n\u001b[1;32m--> 822\u001b[1;33m                 \u001b[0mtasks\u001b[0m \u001b[1;33m=\u001b[0m \u001b[0mself\u001b[0m\u001b[1;33m.\u001b[0m\u001b[0m_ready_batches\u001b[0m\u001b[1;33m.\u001b[0m\u001b[0mget\u001b[0m\u001b[1;33m(\u001b[0m\u001b[0mblock\u001b[0m\u001b[1;33m=\u001b[0m\u001b[1;32mFalse\u001b[0m\u001b[1;33m)\u001b[0m\u001b[1;33m\u001b[0m\u001b[1;33m\u001b[0m\u001b[0m\n\u001b[0m\u001b[0;32m    823\u001b[0m             \u001b[1;32mexcept\u001b[0m \u001b[0mqueue\u001b[0m\u001b[1;33m.\u001b[0m\u001b[0mEmpty\u001b[0m\u001b[1;33m:\u001b[0m\u001b[1;33m\u001b[0m\u001b[1;33m\u001b[0m\u001b[0m\n",
      "\u001b[1;32mC:\\Anaconda3\\lib\\queue.py\u001b[0m in \u001b[0;36mget\u001b[1;34m(self, block, timeout)\u001b[0m\n\u001b[0;32m    167\u001b[0m                 \u001b[1;32mif\u001b[0m \u001b[1;32mnot\u001b[0m \u001b[0mself\u001b[0m\u001b[1;33m.\u001b[0m\u001b[0m_qsize\u001b[0m\u001b[1;33m(\u001b[0m\u001b[1;33m)\u001b[0m\u001b[1;33m:\u001b[0m\u001b[1;33m\u001b[0m\u001b[1;33m\u001b[0m\u001b[0m\n\u001b[1;32m--> 168\u001b[1;33m                     \u001b[1;32mraise\u001b[0m \u001b[0mEmpty\u001b[0m\u001b[1;33m\u001b[0m\u001b[1;33m\u001b[0m\u001b[0m\n\u001b[0m\u001b[0;32m    169\u001b[0m             \u001b[1;32melif\u001b[0m \u001b[0mtimeout\u001b[0m \u001b[1;32mis\u001b[0m \u001b[1;32mNone\u001b[0m\u001b[1;33m:\u001b[0m\u001b[1;33m\u001b[0m\u001b[1;33m\u001b[0m\u001b[0m\n",
      "\u001b[1;31mEmpty\u001b[0m: ",
      "\nDuring handling of the above exception, another exception occurred:\n",
      "\u001b[1;31mValueError\u001b[0m                                Traceback (most recent call last)",
      "\u001b[1;32m~\\AppData\\Local\\Temp/ipykernel_11100/444467416.py\u001b[0m in \u001b[0;36m<module>\u001b[1;34m\u001b[0m\n\u001b[1;32m----> 1\u001b[1;33m \u001b[0mml\u001b[0m\u001b[1;33m(\u001b[0m\u001b[0mrf\u001b[0m\u001b[1;33m,\u001b[0m \u001b[0mdata_train\u001b[0m\u001b[1;33m,\u001b[0m \u001b[0mdata_test\u001b[0m\u001b[1;33m,\u001b[0m \u001b[0mlabel_train\u001b[0m\u001b[1;33m,\u001b[0m \u001b[0mlabel_test\u001b[0m\u001b[1;33m,\u001b[0m \u001b[0mparams_rf\u001b[0m\u001b[1;33m)\u001b[0m\u001b[1;33m\u001b[0m\u001b[1;33m\u001b[0m\u001b[0m\n\u001b[0m",
      "\u001b[1;32m~\\AppData\\Local\\Temp/ipykernel_11100/3908249058.py\u001b[0m in \u001b[0;36mml\u001b[1;34m(model, data_train, data_test, label_train, label_test, param, reg, sampling)\u001b[0m\n\u001b[0;32m      7\u001b[0m     \u001b[1;31m# Cross validation\u001b[0m\u001b[1;33m\u001b[0m\u001b[1;33m\u001b[0m\u001b[0m\n\u001b[0;32m      8\u001b[0m     \u001b[1;32mif\u001b[0m \u001b[0mreg\u001b[0m \u001b[1;32mis\u001b[0m \u001b[1;32mFalse\u001b[0m\u001b[1;33m:\u001b[0m\u001b[1;33m\u001b[0m\u001b[1;33m\u001b[0m\u001b[0m\n\u001b[1;32m----> 9\u001b[1;33m         \u001b[0mscores_scoring\u001b[0m \u001b[1;33m=\u001b[0m \u001b[0mcross_val_score\u001b[0m\u001b[1;33m(\u001b[0m\u001b[0mmodel\u001b[0m\u001b[1;33m,\u001b[0m \u001b[0mX\u001b[0m\u001b[1;33m=\u001b[0m\u001b[0mdata_train\u001b[0m\u001b[1;33m,\u001b[0m \u001b[0my\u001b[0m\u001b[1;33m=\u001b[0m\u001b[0mlabel_train\u001b[0m\u001b[1;33m,\u001b[0m \u001b[0mcv\u001b[0m\u001b[1;33m=\u001b[0m\u001b[0mkfold\u001b[0m\u001b[1;33m,\u001b[0m \u001b[0mscoring\u001b[0m\u001b[1;33m=\u001b[0m\u001b[1;34m'accuracy'\u001b[0m\u001b[1;33m)\u001b[0m\u001b[1;33m\u001b[0m\u001b[1;33m\u001b[0m\u001b[0m\n\u001b[0m\u001b[0;32m     10\u001b[0m         \u001b[0mprint\u001b[0m\u001b[1;33m(\u001b[0m\u001b[1;34mf'Cross Validation accuracy score: {np.mean(scores_scoring)}\\n'\u001b[0m\u001b[1;33m)\u001b[0m\u001b[1;33m\u001b[0m\u001b[1;33m\u001b[0m\u001b[0m\n\u001b[0;32m     11\u001b[0m     \u001b[1;32melse\u001b[0m\u001b[1;33m:\u001b[0m\u001b[1;33m\u001b[0m\u001b[1;33m\u001b[0m\u001b[0m\n",
      "\u001b[1;32mC:\\Anaconda3\\lib\\site-packages\\sklearn\\utils\\validation.py\u001b[0m in \u001b[0;36minner_f\u001b[1;34m(*args, **kwargs)\u001b[0m\n\u001b[0;32m     61\u001b[0m             \u001b[0mextra_args\u001b[0m \u001b[1;33m=\u001b[0m \u001b[0mlen\u001b[0m\u001b[1;33m(\u001b[0m\u001b[0margs\u001b[0m\u001b[1;33m)\u001b[0m \u001b[1;33m-\u001b[0m \u001b[0mlen\u001b[0m\u001b[1;33m(\u001b[0m\u001b[0mall_args\u001b[0m\u001b[1;33m)\u001b[0m\u001b[1;33m\u001b[0m\u001b[1;33m\u001b[0m\u001b[0m\n\u001b[0;32m     62\u001b[0m             \u001b[1;32mif\u001b[0m \u001b[0mextra_args\u001b[0m \u001b[1;33m<=\u001b[0m \u001b[1;36m0\u001b[0m\u001b[1;33m:\u001b[0m\u001b[1;33m\u001b[0m\u001b[1;33m\u001b[0m\u001b[0m\n\u001b[1;32m---> 63\u001b[1;33m                 \u001b[1;32mreturn\u001b[0m \u001b[0mf\u001b[0m\u001b[1;33m(\u001b[0m\u001b[1;33m*\u001b[0m\u001b[0margs\u001b[0m\u001b[1;33m,\u001b[0m \u001b[1;33m**\u001b[0m\u001b[0mkwargs\u001b[0m\u001b[1;33m)\u001b[0m\u001b[1;33m\u001b[0m\u001b[1;33m\u001b[0m\u001b[0m\n\u001b[0m\u001b[0;32m     64\u001b[0m \u001b[1;33m\u001b[0m\u001b[0m\n\u001b[0;32m     65\u001b[0m             \u001b[1;31m# extra_args > 0\u001b[0m\u001b[1;33m\u001b[0m\u001b[1;33m\u001b[0m\u001b[0m\n",
      "\u001b[1;32mC:\\Anaconda3\\lib\\site-packages\\sklearn\\model_selection\\_validation.py\u001b[0m in \u001b[0;36mcross_val_score\u001b[1;34m(estimator, X, y, groups, scoring, cv, n_jobs, verbose, fit_params, pre_dispatch, error_score)\u001b[0m\n\u001b[0;32m    443\u001b[0m     \u001b[0mscorer\u001b[0m \u001b[1;33m=\u001b[0m \u001b[0mcheck_scoring\u001b[0m\u001b[1;33m(\u001b[0m\u001b[0mestimator\u001b[0m\u001b[1;33m,\u001b[0m \u001b[0mscoring\u001b[0m\u001b[1;33m=\u001b[0m\u001b[0mscoring\u001b[0m\u001b[1;33m)\u001b[0m\u001b[1;33m\u001b[0m\u001b[1;33m\u001b[0m\u001b[0m\n\u001b[0;32m    444\u001b[0m \u001b[1;33m\u001b[0m\u001b[0m\n\u001b[1;32m--> 445\u001b[1;33m     cv_results = cross_validate(estimator=estimator, X=X, y=y, groups=groups,\n\u001b[0m\u001b[0;32m    446\u001b[0m                                 \u001b[0mscoring\u001b[0m\u001b[1;33m=\u001b[0m\u001b[1;33m{\u001b[0m\u001b[1;34m'score'\u001b[0m\u001b[1;33m:\u001b[0m \u001b[0mscorer\u001b[0m\u001b[1;33m}\u001b[0m\u001b[1;33m,\u001b[0m \u001b[0mcv\u001b[0m\u001b[1;33m=\u001b[0m\u001b[0mcv\u001b[0m\u001b[1;33m,\u001b[0m\u001b[1;33m\u001b[0m\u001b[1;33m\u001b[0m\u001b[0m\n\u001b[0;32m    447\u001b[0m                                 \u001b[0mn_jobs\u001b[0m\u001b[1;33m=\u001b[0m\u001b[0mn_jobs\u001b[0m\u001b[1;33m,\u001b[0m \u001b[0mverbose\u001b[0m\u001b[1;33m=\u001b[0m\u001b[0mverbose\u001b[0m\u001b[1;33m,\u001b[0m\u001b[1;33m\u001b[0m\u001b[1;33m\u001b[0m\u001b[0m\n",
      "\u001b[1;32mC:\\Anaconda3\\lib\\site-packages\\sklearn\\utils\\validation.py\u001b[0m in \u001b[0;36minner_f\u001b[1;34m(*args, **kwargs)\u001b[0m\n\u001b[0;32m     61\u001b[0m             \u001b[0mextra_args\u001b[0m \u001b[1;33m=\u001b[0m \u001b[0mlen\u001b[0m\u001b[1;33m(\u001b[0m\u001b[0margs\u001b[0m\u001b[1;33m)\u001b[0m \u001b[1;33m-\u001b[0m \u001b[0mlen\u001b[0m\u001b[1;33m(\u001b[0m\u001b[0mall_args\u001b[0m\u001b[1;33m)\u001b[0m\u001b[1;33m\u001b[0m\u001b[1;33m\u001b[0m\u001b[0m\n\u001b[0;32m     62\u001b[0m             \u001b[1;32mif\u001b[0m \u001b[0mextra_args\u001b[0m \u001b[1;33m<=\u001b[0m \u001b[1;36m0\u001b[0m\u001b[1;33m:\u001b[0m\u001b[1;33m\u001b[0m\u001b[1;33m\u001b[0m\u001b[0m\n\u001b[1;32m---> 63\u001b[1;33m                 \u001b[1;32mreturn\u001b[0m \u001b[0mf\u001b[0m\u001b[1;33m(\u001b[0m\u001b[1;33m*\u001b[0m\u001b[0margs\u001b[0m\u001b[1;33m,\u001b[0m \u001b[1;33m**\u001b[0m\u001b[0mkwargs\u001b[0m\u001b[1;33m)\u001b[0m\u001b[1;33m\u001b[0m\u001b[1;33m\u001b[0m\u001b[0m\n\u001b[0m\u001b[0;32m     64\u001b[0m \u001b[1;33m\u001b[0m\u001b[0m\n\u001b[0;32m     65\u001b[0m             \u001b[1;31m# extra_args > 0\u001b[0m\u001b[1;33m\u001b[0m\u001b[1;33m\u001b[0m\u001b[0m\n",
      "\u001b[1;32mC:\\Anaconda3\\lib\\site-packages\\sklearn\\model_selection\\_validation.py\u001b[0m in \u001b[0;36mcross_validate\u001b[1;34m(estimator, X, y, groups, scoring, cv, n_jobs, verbose, fit_params, pre_dispatch, return_train_score, return_estimator, error_score)\u001b[0m\n\u001b[0;32m    248\u001b[0m     parallel = Parallel(n_jobs=n_jobs, verbose=verbose,\n\u001b[0;32m    249\u001b[0m                         pre_dispatch=pre_dispatch)\n\u001b[1;32m--> 250\u001b[1;33m     results = parallel(\n\u001b[0m\u001b[0;32m    251\u001b[0m         delayed(_fit_and_score)(\n\u001b[0;32m    252\u001b[0m             \u001b[0mclone\u001b[0m\u001b[1;33m(\u001b[0m\u001b[0mestimator\u001b[0m\u001b[1;33m)\u001b[0m\u001b[1;33m,\u001b[0m \u001b[0mX\u001b[0m\u001b[1;33m,\u001b[0m \u001b[0my\u001b[0m\u001b[1;33m,\u001b[0m \u001b[0mscorers\u001b[0m\u001b[1;33m,\u001b[0m \u001b[0mtrain\u001b[0m\u001b[1;33m,\u001b[0m \u001b[0mtest\u001b[0m\u001b[1;33m,\u001b[0m \u001b[0mverbose\u001b[0m\u001b[1;33m,\u001b[0m \u001b[1;32mNone\u001b[0m\u001b[1;33m,\u001b[0m\u001b[1;33m\u001b[0m\u001b[1;33m\u001b[0m\u001b[0m\n",
      "\u001b[1;32mC:\\Anaconda3\\lib\\site-packages\\joblib\\parallel.py\u001b[0m in \u001b[0;36m__call__\u001b[1;34m(self, iterable)\u001b[0m\n\u001b[0;32m   1041\u001b[0m             \u001b[1;31m# remaining jobs.\u001b[0m\u001b[1;33m\u001b[0m\u001b[1;33m\u001b[0m\u001b[0m\n\u001b[0;32m   1042\u001b[0m             \u001b[0mself\u001b[0m\u001b[1;33m.\u001b[0m\u001b[0m_iterating\u001b[0m \u001b[1;33m=\u001b[0m \u001b[1;32mFalse\u001b[0m\u001b[1;33m\u001b[0m\u001b[1;33m\u001b[0m\u001b[0m\n\u001b[1;32m-> 1043\u001b[1;33m             \u001b[1;32mif\u001b[0m \u001b[0mself\u001b[0m\u001b[1;33m.\u001b[0m\u001b[0mdispatch_one_batch\u001b[0m\u001b[1;33m(\u001b[0m\u001b[0miterator\u001b[0m\u001b[1;33m)\u001b[0m\u001b[1;33m:\u001b[0m\u001b[1;33m\u001b[0m\u001b[1;33m\u001b[0m\u001b[0m\n\u001b[0m\u001b[0;32m   1044\u001b[0m                 \u001b[0mself\u001b[0m\u001b[1;33m.\u001b[0m\u001b[0m_iterating\u001b[0m \u001b[1;33m=\u001b[0m \u001b[0mself\u001b[0m\u001b[1;33m.\u001b[0m\u001b[0m_original_iterator\u001b[0m \u001b[1;32mis\u001b[0m \u001b[1;32mnot\u001b[0m \u001b[1;32mNone\u001b[0m\u001b[1;33m\u001b[0m\u001b[1;33m\u001b[0m\u001b[0m\n\u001b[0;32m   1045\u001b[0m \u001b[1;33m\u001b[0m\u001b[0m\n",
      "\u001b[1;32mC:\\Anaconda3\\lib\\site-packages\\joblib\\parallel.py\u001b[0m in \u001b[0;36mdispatch_one_batch\u001b[1;34m(self, iterator)\u001b[0m\n\u001b[0;32m    831\u001b[0m                 \u001b[0mbig_batch_size\u001b[0m \u001b[1;33m=\u001b[0m \u001b[0mbatch_size\u001b[0m \u001b[1;33m*\u001b[0m \u001b[0mn_jobs\u001b[0m\u001b[1;33m\u001b[0m\u001b[1;33m\u001b[0m\u001b[0m\n\u001b[0;32m    832\u001b[0m \u001b[1;33m\u001b[0m\u001b[0m\n\u001b[1;32m--> 833\u001b[1;33m                 \u001b[0mislice\u001b[0m \u001b[1;33m=\u001b[0m \u001b[0mlist\u001b[0m\u001b[1;33m(\u001b[0m\u001b[0mitertools\u001b[0m\u001b[1;33m.\u001b[0m\u001b[0mislice\u001b[0m\u001b[1;33m(\u001b[0m\u001b[0miterator\u001b[0m\u001b[1;33m,\u001b[0m \u001b[0mbig_batch_size\u001b[0m\u001b[1;33m)\u001b[0m\u001b[1;33m)\u001b[0m\u001b[1;33m\u001b[0m\u001b[1;33m\u001b[0m\u001b[0m\n\u001b[0m\u001b[0;32m    834\u001b[0m                 \u001b[1;32mif\u001b[0m \u001b[0mlen\u001b[0m\u001b[1;33m(\u001b[0m\u001b[0mislice\u001b[0m\u001b[1;33m)\u001b[0m \u001b[1;33m==\u001b[0m \u001b[1;36m0\u001b[0m\u001b[1;33m:\u001b[0m\u001b[1;33m\u001b[0m\u001b[1;33m\u001b[0m\u001b[0m\n\u001b[0;32m    835\u001b[0m                     \u001b[1;32mreturn\u001b[0m \u001b[1;32mFalse\u001b[0m\u001b[1;33m\u001b[0m\u001b[1;33m\u001b[0m\u001b[0m\n",
      "\u001b[1;32mC:\\Anaconda3\\lib\\site-packages\\sklearn\\model_selection\\_validation.py\u001b[0m in \u001b[0;36m<genexpr>\u001b[1;34m(.0)\u001b[0m\n\u001b[0;32m    248\u001b[0m     parallel = Parallel(n_jobs=n_jobs, verbose=verbose,\n\u001b[0;32m    249\u001b[0m                         pre_dispatch=pre_dispatch)\n\u001b[1;32m--> 250\u001b[1;33m     results = parallel(\n\u001b[0m\u001b[0;32m    251\u001b[0m         delayed(_fit_and_score)(\n\u001b[0;32m    252\u001b[0m             \u001b[0mclone\u001b[0m\u001b[1;33m(\u001b[0m\u001b[0mestimator\u001b[0m\u001b[1;33m)\u001b[0m\u001b[1;33m,\u001b[0m \u001b[0mX\u001b[0m\u001b[1;33m,\u001b[0m \u001b[0my\u001b[0m\u001b[1;33m,\u001b[0m \u001b[0mscorers\u001b[0m\u001b[1;33m,\u001b[0m \u001b[0mtrain\u001b[0m\u001b[1;33m,\u001b[0m \u001b[0mtest\u001b[0m\u001b[1;33m,\u001b[0m \u001b[0mverbose\u001b[0m\u001b[1;33m,\u001b[0m \u001b[1;32mNone\u001b[0m\u001b[1;33m,\u001b[0m\u001b[1;33m\u001b[0m\u001b[1;33m\u001b[0m\u001b[0m\n",
      "\u001b[1;32mC:\\Anaconda3\\lib\\site-packages\\sklearn\\model_selection\\_split.py\u001b[0m in \u001b[0;36msplit\u001b[1;34m(self, X, y, groups)\u001b[0m\n\u001b[0;32m    330\u001b[0m                 .format(self.n_splits, n_samples))\n\u001b[0;32m    331\u001b[0m \u001b[1;33m\u001b[0m\u001b[0m\n\u001b[1;32m--> 332\u001b[1;33m         \u001b[1;32mfor\u001b[0m \u001b[0mtrain\u001b[0m\u001b[1;33m,\u001b[0m \u001b[0mtest\u001b[0m \u001b[1;32min\u001b[0m \u001b[0msuper\u001b[0m\u001b[1;33m(\u001b[0m\u001b[1;33m)\u001b[0m\u001b[1;33m.\u001b[0m\u001b[0msplit\u001b[0m\u001b[1;33m(\u001b[0m\u001b[0mX\u001b[0m\u001b[1;33m,\u001b[0m \u001b[0my\u001b[0m\u001b[1;33m,\u001b[0m \u001b[0mgroups\u001b[0m\u001b[1;33m)\u001b[0m\u001b[1;33m:\u001b[0m\u001b[1;33m\u001b[0m\u001b[1;33m\u001b[0m\u001b[0m\n\u001b[0m\u001b[0;32m    333\u001b[0m             \u001b[1;32myield\u001b[0m \u001b[0mtrain\u001b[0m\u001b[1;33m,\u001b[0m \u001b[0mtest\u001b[0m\u001b[1;33m\u001b[0m\u001b[1;33m\u001b[0m\u001b[0m\n\u001b[0;32m    334\u001b[0m \u001b[1;33m\u001b[0m\u001b[0m\n",
      "\u001b[1;32mC:\\Anaconda3\\lib\\site-packages\\sklearn\\model_selection\\_split.py\u001b[0m in \u001b[0;36msplit\u001b[1;34m(self, X, y, groups)\u001b[0m\n\u001b[0;32m     78\u001b[0m         \u001b[0mX\u001b[0m\u001b[1;33m,\u001b[0m \u001b[0my\u001b[0m\u001b[1;33m,\u001b[0m \u001b[0mgroups\u001b[0m \u001b[1;33m=\u001b[0m \u001b[0mindexable\u001b[0m\u001b[1;33m(\u001b[0m\u001b[0mX\u001b[0m\u001b[1;33m,\u001b[0m \u001b[0my\u001b[0m\u001b[1;33m,\u001b[0m \u001b[0mgroups\u001b[0m\u001b[1;33m)\u001b[0m\u001b[1;33m\u001b[0m\u001b[1;33m\u001b[0m\u001b[0m\n\u001b[0;32m     79\u001b[0m         \u001b[0mindices\u001b[0m \u001b[1;33m=\u001b[0m \u001b[0mnp\u001b[0m\u001b[1;33m.\u001b[0m\u001b[0marange\u001b[0m\u001b[1;33m(\u001b[0m\u001b[0m_num_samples\u001b[0m\u001b[1;33m(\u001b[0m\u001b[0mX\u001b[0m\u001b[1;33m)\u001b[0m\u001b[1;33m)\u001b[0m\u001b[1;33m\u001b[0m\u001b[1;33m\u001b[0m\u001b[0m\n\u001b[1;32m---> 80\u001b[1;33m         \u001b[1;32mfor\u001b[0m \u001b[0mtest_index\u001b[0m \u001b[1;32min\u001b[0m \u001b[0mself\u001b[0m\u001b[1;33m.\u001b[0m\u001b[0m_iter_test_masks\u001b[0m\u001b[1;33m(\u001b[0m\u001b[0mX\u001b[0m\u001b[1;33m,\u001b[0m \u001b[0my\u001b[0m\u001b[1;33m,\u001b[0m \u001b[0mgroups\u001b[0m\u001b[1;33m)\u001b[0m\u001b[1;33m:\u001b[0m\u001b[1;33m\u001b[0m\u001b[1;33m\u001b[0m\u001b[0m\n\u001b[0m\u001b[0;32m     81\u001b[0m             \u001b[0mtrain_index\u001b[0m \u001b[1;33m=\u001b[0m \u001b[0mindices\u001b[0m\u001b[1;33m[\u001b[0m\u001b[0mnp\u001b[0m\u001b[1;33m.\u001b[0m\u001b[0mlogical_not\u001b[0m\u001b[1;33m(\u001b[0m\u001b[0mtest_index\u001b[0m\u001b[1;33m)\u001b[0m\u001b[1;33m]\u001b[0m\u001b[1;33m\u001b[0m\u001b[1;33m\u001b[0m\u001b[0m\n\u001b[0;32m     82\u001b[0m             \u001b[0mtest_index\u001b[0m \u001b[1;33m=\u001b[0m \u001b[0mindices\u001b[0m\u001b[1;33m[\u001b[0m\u001b[0mtest_index\u001b[0m\u001b[1;33m]\u001b[0m\u001b[1;33m\u001b[0m\u001b[1;33m\u001b[0m\u001b[0m\n",
      "\u001b[1;32mC:\\Anaconda3\\lib\\site-packages\\sklearn\\model_selection\\_split.py\u001b[0m in \u001b[0;36m_iter_test_masks\u001b[1;34m(self, X, y, groups)\u001b[0m\n\u001b[0;32m    691\u001b[0m \u001b[1;33m\u001b[0m\u001b[0m\n\u001b[0;32m    692\u001b[0m     \u001b[1;32mdef\u001b[0m \u001b[0m_iter_test_masks\u001b[0m\u001b[1;33m(\u001b[0m\u001b[0mself\u001b[0m\u001b[1;33m,\u001b[0m \u001b[0mX\u001b[0m\u001b[1;33m,\u001b[0m \u001b[0my\u001b[0m\u001b[1;33m=\u001b[0m\u001b[1;32mNone\u001b[0m\u001b[1;33m,\u001b[0m \u001b[0mgroups\u001b[0m\u001b[1;33m=\u001b[0m\u001b[1;32mNone\u001b[0m\u001b[1;33m)\u001b[0m\u001b[1;33m:\u001b[0m\u001b[1;33m\u001b[0m\u001b[1;33m\u001b[0m\u001b[0m\n\u001b[1;32m--> 693\u001b[1;33m         \u001b[0mtest_folds\u001b[0m \u001b[1;33m=\u001b[0m \u001b[0mself\u001b[0m\u001b[1;33m.\u001b[0m\u001b[0m_make_test_folds\u001b[0m\u001b[1;33m(\u001b[0m\u001b[0mX\u001b[0m\u001b[1;33m,\u001b[0m \u001b[0my\u001b[0m\u001b[1;33m)\u001b[0m\u001b[1;33m\u001b[0m\u001b[1;33m\u001b[0m\u001b[0m\n\u001b[0m\u001b[0;32m    694\u001b[0m         \u001b[1;32mfor\u001b[0m \u001b[0mi\u001b[0m \u001b[1;32min\u001b[0m \u001b[0mrange\u001b[0m\u001b[1;33m(\u001b[0m\u001b[0mself\u001b[0m\u001b[1;33m.\u001b[0m\u001b[0mn_splits\u001b[0m\u001b[1;33m)\u001b[0m\u001b[1;33m:\u001b[0m\u001b[1;33m\u001b[0m\u001b[1;33m\u001b[0m\u001b[0m\n\u001b[0;32m    695\u001b[0m             \u001b[1;32myield\u001b[0m \u001b[0mtest_folds\u001b[0m \u001b[1;33m==\u001b[0m \u001b[0mi\u001b[0m\u001b[1;33m\u001b[0m\u001b[1;33m\u001b[0m\u001b[0m\n",
      "\u001b[1;32mC:\\Anaconda3\\lib\\site-packages\\sklearn\\model_selection\\_split.py\u001b[0m in \u001b[0;36m_make_test_folds\u001b[1;34m(self, X, y)\u001b[0m\n\u001b[0;32m    643\u001b[0m         \u001b[0mallowed_target_types\u001b[0m \u001b[1;33m=\u001b[0m \u001b[1;33m(\u001b[0m\u001b[1;34m'binary'\u001b[0m\u001b[1;33m,\u001b[0m \u001b[1;34m'multiclass'\u001b[0m\u001b[1;33m)\u001b[0m\u001b[1;33m\u001b[0m\u001b[1;33m\u001b[0m\u001b[0m\n\u001b[0;32m    644\u001b[0m         \u001b[1;32mif\u001b[0m \u001b[0mtype_of_target_y\u001b[0m \u001b[1;32mnot\u001b[0m \u001b[1;32min\u001b[0m \u001b[0mallowed_target_types\u001b[0m\u001b[1;33m:\u001b[0m\u001b[1;33m\u001b[0m\u001b[1;33m\u001b[0m\u001b[0m\n\u001b[1;32m--> 645\u001b[1;33m             raise ValueError(\n\u001b[0m\u001b[0;32m    646\u001b[0m                 'Supported target types are: {}. Got {!r} instead.'.format(\n\u001b[0;32m    647\u001b[0m                     allowed_target_types, type_of_target_y))\n",
      "\u001b[1;31mValueError\u001b[0m: Supported target types are: ('binary', 'multiclass'). Got 'continuous' instead."
     ]
    }
   ],
   "source": [
    "ml(rf, data_train, data_test, label_train, label_test, params_rf)"
   ]
  },
  {
   "cell_type": "markdown",
   "metadata": {
    "collapsed": false
   },
   "source": [
    "### Linear Regression"
   ]
  },
  {
   "cell_type": "code",
   "execution_count": null,
   "metadata": {
    "collapsed": false,
    "pycharm": {
     "name": "#%%\n"
    }
   },
   "outputs": [],
   "source": [
    "ml(lr, data_train, data_test, label_train, label_test, None)"
   ]
  },
  {
   "cell_type": "markdown",
   "metadata": {
    "collapsed": false
   },
   "source": [
    "### K Nearest Neighbors Regressor"
   ]
  },
  {
   "cell_type": "code",
   "execution_count": null,
   "metadata": {
    "collapsed": false,
    "pycharm": {
     "name": "#%%\n"
    }
   },
   "outputs": [],
   "source": [
    "ml(knn, data_train, data_test, label_train, label_test, params_knn)"
   ]
  },
  {
   "cell_type": "markdown",
   "metadata": {
    "collapsed": false
   },
   "source": [
    "### Voting Regressor"
   ]
  },
  {
   "cell_type": "code",
   "execution_count": null,
   "metadata": {
    "collapsed": false,
    "pycharm": {
     "name": "#%%\n"
    }
   },
   "outputs": [],
   "source": [
    "ml(voting, data_train, data_test, label_train, label_test, None)"
   ]
  },
  {
   "cell_type": "markdown",
   "metadata": {
    "collapsed": false
   },
   "source": [
    "### Neural Network Regressor"
   ]
  },
  {
   "cell_type": "code",
   "execution_count": null,
   "metadata": {
    "collapsed": false,
    "pycharm": {
     "name": "#%%\n"
    }
   },
   "outputs": [],
   "source": [
    "ml(nn, data_train, data_test, label_train, label_test, params_nn)"
   ]
  },
  {
   "cell_type": "markdown",
   "metadata": {
    "collapsed": false
   },
   "source": [
    "## Fingerprints"
   ]
  },
  {
   "cell_type": "code",
   "execution_count": null,
   "metadata": {
    "collapsed": false,
    "pycharm": {
     "name": "#%%\n"
    }
   },
   "outputs": [],
   "source": [
    "# SPLIT\n",
    "data_train, data_test, label_train, label_test = train_test_split(fingerprint_data_r, fingerprint_label_r, test_size=0.3)"
   ]
  },
  {
   "cell_type": "markdown",
   "metadata": {
    "collapsed": false,
    "pycharm": {
     "name": "#%% md\n"
    }
   },
   "source": [
    "### Random Forest Regressor"
   ]
  },
  {
   "cell_type": "code",
   "execution_count": null,
   "metadata": {
    "collapsed": false,
    "pycharm": {
     "name": "#%%\n"
    }
   },
   "outputs": [],
   "source": [
    "ml(rf, data_train, data_test, label_train, label_test, params_rf)"
   ]
  },
  {
   "cell_type": "markdown",
   "metadata": {
    "collapsed": false,
    "pycharm": {
     "name": "#%% md\n"
    }
   },
   "source": [
    "### Linear Regression"
   ]
  },
  {
   "cell_type": "code",
   "execution_count": null,
   "metadata": {
    "collapsed": false,
    "pycharm": {
     "name": "#%%\n"
    }
   },
   "outputs": [],
   "source": [
    "ml(lr, data_train, data_test, label_train, label_test, None)"
   ]
  },
  {
   "cell_type": "markdown",
   "metadata": {
    "collapsed": false,
    "pycharm": {
     "name": "#%% md\n"
    }
   },
   "source": [
    "### K Nearest Neighbors Regressor"
   ]
  },
  {
   "cell_type": "code",
   "execution_count": null,
   "metadata": {
    "collapsed": false,
    "pycharm": {
     "name": "#%%\n"
    }
   },
   "outputs": [],
   "source": [
    "ml(knn, data_train, data_test, label_train, label_test, params_knn)"
   ]
  },
  {
   "cell_type": "markdown",
   "metadata": {
    "collapsed": false,
    "pycharm": {
     "name": "#%% md\n"
    }
   },
   "source": [
    "### Voting Regressor"
   ]
  },
  {
   "cell_type": "code",
   "execution_count": null,
   "metadata": {
    "collapsed": false,
    "pycharm": {
     "name": "#%%\n"
    }
   },
   "outputs": [],
   "source": [
    "ml(voting, data_train, data_test, label_train, label_test, None)"
   ]
  },
  {
   "cell_type": "markdown",
   "metadata": {
    "collapsed": false,
    "pycharm": {
     "name": "#%% md\n"
    }
   },
   "source": [
    "### Neural Network Regressor"
   ]
  },
  {
   "cell_type": "code",
   "execution_count": null,
   "metadata": {
    "collapsed": false,
    "pycharm": {
     "name": "#%%\n"
    }
   },
   "outputs": [],
   "source": [
    "ml(nn, data_train, data_test, label_train, label_test, params_nn)"
   ]
  }
 ],
 "metadata": {
  "kernelspec": {
   "display_name": "Python 3 (ipykernel)",
   "language": "python",
   "name": "python3"
  },
  "language_info": {
   "codemirror_mode": {
    "name": "ipython",
    "version": 3
   },
   "file_extension": ".py",
   "mimetype": "text/x-python",
   "name": "python",
   "nbconvert_exporter": "python",
   "pygments_lexer": "ipython3",
   "version": "3.9.7"
  }
 },
 "nbformat": 4,
 "nbformat_minor": 1
}

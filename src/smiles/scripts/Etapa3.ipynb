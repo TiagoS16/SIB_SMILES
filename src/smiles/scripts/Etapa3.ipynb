{
 "cells": [
  {
   "cell_type": "markdown",
   "metadata": {
    "pycharm": {
     "name": "#%% md\n"
    }
   },
   "source": [
    "# Etapa 3 - Machine Learning"
   ]
  },
  {
   "cell_type": "markdown",
   "metadata": {},
   "source": [
    "## Imports"
   ]
  },
  {
   "cell_type": "code",
   "execution_count": 1,
   "metadata": {
    "pycharm": {
     "name": "#%%\n"
    }
   },
   "outputs": [],
   "source": [
    "import warnings\n",
    "import numpy as np\n",
    "import pandas as pd\n",
    "import matplotlib.pyplot as plt\n",
    "from sklearn.model_selection import train_test_split, cross_val_score, StratifiedKFold\n",
    "from sklearn.metrics import (classification_report, confusion_matrix, accuracy_score, f1_score, recall_score, matthews_corrcoef, ConfusionMatrixDisplay, precision_score, mean_squared_error, r2_score, explained_variance_score)\n",
    "from sklearn.neural_network import MLPClassifier, MLPRegressor\n",
    "from sklearn.ensemble import RandomForestClassifier, VotingClassifier, RandomForestRegressor, VotingRegressor\n",
    "from sklearn.naive_bayes import GaussianNB\n",
    "from sklearn.neighbors import KNeighborsClassifier, KNeighborsRegressor\n",
    "from sklearn.linear_model import LinearRegression\n",
    "from sklearn.experimental import enable_halving_search_cv\n",
    "from sklearn.model_selection import HalvingGridSearchCV\n",
    "from sklearn.preprocessing import StandardScaler\n",
    "from imblearn.under_sampling import ClusterCentroids\n",
    "\n",
    "%matplotlib inline\n",
    "\n",
    "warnings.filterwarnings('ignore')"
   ]
  },
  {
   "cell_type": "markdown",
   "metadata": {},
   "source": [
    "# Functions"
   ]
  },
  {
   "cell_type": "markdown",
   "metadata": {},
   "source": [
    "Metrics"
   ]
  },
  {
   "cell_type": "code",
   "execution_count": 2,
   "metadata": {
    "pycharm": {
     "name": "#%%\n"
    }
   },
   "outputs": [],
   "source": [
    "def metrics(label_test, predict, reg=False):\n",
    "    print('METRICS:')\n",
    "    if reg is False:\n",
    "        print(f\"Accuracy score:\\n{accuracy_score(label_test, predict)}\\n\")\n",
    "        print(f\"Recall score:\\n{recall_score(label_test, predict, average='micro')}\\n\")\n",
    "        print(f\"Precison score:\\n{precision_score(label_test, predict, average='micro', zero_division=0)}\\n\")\n",
    "        print(f\"F1-score:\\n{f1_score(label_test, predict, average='micro')}\\n\")\n",
    "        print(f\"MCC score:\\n{matthews_corrcoef(label_test, predict)}\\n\")\n",
    "        print(f\"Confusion matrix:\\n{confusion_matrix(label_test, predict)}\\n\")\n",
    "        print(f\"Classification report:\\n{classification_report(label_test, predict, zero_division=0, digits=3)}\\n\")\n",
    "        ConfusionMatrixDisplay(confusion_matrix(label_test, predict)).plot(cmap=plt.cm.Blues)\n",
    "    else:\n",
    "        print(f\"Explained variance score:\\n{explained_variance_score(label_test, predict)}\\n\")\n",
    "        print(f\"R2 score:\\n{r2_score(label_test, predict)}\\n\")\n",
    "        print(f\"Mean squared error:\\n{mean_squared_error(label_test, predict)}\\n\")\n"
   ]
  },
  {
   "cell_type": "markdown",
   "metadata": {},
   "source": [
    "ML"
   ]
  },
  {
   "cell_type": "code",
   "execution_count": 3,
   "metadata": {
    "pycharm": {
     "name": "#%%\n"
    }
   },
   "outputs": [],
   "source": [
    "def ml(model, data_train, data_test, label_train, label_test, param=None, reg=False, sampling=False):\n",
    "    if sampling is True:\n",
    "        data_train, label_train = ClusterCentroids(n_jobs=4).fit_resample(data_train, label_train)\n",
    "\n",
    "    # k-fold\n",
    "    kfold = StratifiedKFold(n_splits=5, random_state=None, shuffle=False)\n",
    "    # Cross validation\n",
    "    if reg is False:\n",
    "        scores_scoring = cross_val_score(model, X=data_train, y=label_train, cv=kfold, scoring='accuracy')\n",
    "        print(f'Cross Validation accuracy score: {np.mean(scores_scoring)}\\n')\n",
    "    else:\n",
    "        scores_scoring = cross_val_score(model, X=data_train, y=label_train, cv=kfold, scoring='explained_variance')\n",
    "        print(f'Cross Validation accuracy score: {np.mean(scores_scoring)}\\n')\n",
    "\n",
    "    # model training - FIT\n",
    "    model.fit(data_train, label_train)\n",
    "\n",
    "    # PREDICT\n",
    "    predict = model.predict(X=data_test)\n",
    "    if reg is False:\n",
    "        base_model = accuracy_score(label_test, predict)\n",
    "        print('Base Model Accuracy: {:.3f}\\n'.format(base_model))\n",
    "    else:\n",
    "        base_model = explained_variance_score(label_test, predict)\n",
    "        print('Base Model Explained variance: {:.3f}\\n'.format(base_model))\n",
    "\n",
    "    if param != None:\n",
    "        ## OPTIMIZATION\n",
    "        if reg is False:\n",
    "            search = HalvingGridSearchCV(estimator=model, param_grid=param, cv=kfold, scoring='accuracy', random_state=None,\n",
    "                                         n_jobs=4)\n",
    "        else:\n",
    "            search = HalvingGridSearchCV(estimator=model, param_grid=param, cv=kfold, scoring='explained_variance', random_state=None,\n",
    "                                         n_jobs=4)\n",
    "        search.fit(X=data_train, y=label_train)\n",
    "\n",
    "        best_params = search.best_params_\n",
    "        print(f'{best_params}\\n')\n",
    "        # OPTI MODEL FITTED\n",
    "        best_model = search.best_estimator_\n",
    "        predict_opt = best_model.predict(X=data_test)\n",
    "        if reg is False:\n",
    "            opt_model = accuracy_score(label_test, predict_opt)\n",
    "            print('Optimized Model Accuracy: {:.3f}\\n'.format(opt_model))\n",
    "        else:\n",
    "            opt_model = accuracy_score(label_test, predict_opt)\n",
    "            print('Optimized Model Explained variance: {:.3f}\\n'.format(opt_model))\n",
    "\n",
    "        improv = ((opt_model-base_model)/base_model*100)\n",
    "        print('Optimized model improved {:.3f}% over base model.\\n'.format(improv))\n",
    "\n",
    "        if improv >= 0:\n",
    "            predict = predict_opt\n",
    "\n",
    "    # Metrics\n",
    "    metrics(label_test, predict, reg=reg)"
   ]
  },
  {
   "cell_type": "markdown",
   "metadata": {},
   "source": [
    "The *ml* function will firstly do a cross validation to evaluate the model adaptation to the data. Secondly, it will fit the model and then predict the test set labels and it's corresponding accuracy. Lastly, it will do a hyperparameter optimization and then use the best parameters to predict the test set labels and it's accuracy."
   ]
  },
  {
   "cell_type": "markdown",
   "metadata": {},
   "source": [
    "# Models"
   ]
  },
  {
   "cell_type": "code",
   "execution_count": 4,
   "metadata": {
    "pycharm": {
     "name": "#%%\n"
    }
   },
   "outputs": [],
   "source": [
    "rf = RandomForestClassifier(n_jobs=4)\n",
    "nb = GaussianNB()\n",
    "knn = KNeighborsClassifier(n_jobs=4)\n",
    "voting = VotingClassifier(estimators=[('Random Forest', rf), ('Naive Bayes', nb), ('KNN', knn)], voting='soft', n_jobs=4)\n",
    "nn = MLPClassifier(early_stopping=True)"
   ]
  },
  {
   "cell_type": "markdown",
   "metadata": {},
   "source": [
    "# Hyperparameters"
   ]
  },
  {
   "cell_type": "code",
   "execution_count": 5,
   "metadata": {
    "pycharm": {
     "name": "#%%\n"
    }
   },
   "outputs": [],
   "source": [
    "params_rf = {'n_estimators': range(50, 251, 25), 'criterion': ['entropy', 'gini'], 'max_features': ['sqrt', 'log2', None],\n",
    "          'bootstrap': [True, False]}\n",
    "params_knn = {'n_neighbors': range(2, 17, 2), 'weights': ['distance', 'uniform'], 'leaf_size': range(10, 50, 10), 'p': [1, 2]}\n",
    "params_nn = {'activation': ['identity', 'logistic', 'tanh', 'relu'], 'learning_rate': ['constant', 'invscaling', 'adaptive']}"
   ]
  },
  {
   "cell_type": "markdown",
   "metadata": {},
   "source": [
    "# Binary Classification"
   ]
  },
  {
   "cell_type": "markdown",
   "metadata": {},
   "source": [
    "### Load data"
   ]
  },
  {
   "cell_type": "code",
   "execution_count": 13,
   "metadata": {
    "pycharm": {
     "name": "#%%\n"
    }
   },
   "outputs": [],
   "source": [
    "descriptors = pd.read_csv('../dataset/binary_class/descriptors_fs.csv', sep=',')\n",
    "fingerprint = pd.read_csv('../dataset/binary_class/rdk_fs.csv', sep=',')\n",
    "\n",
    "descriptors_data_b = descriptors.drop(\"activity\", axis=1)\n",
    "descriptors_label_b = descriptors[\"activity\"]\n",
    "fingerprint_data_b = fingerprint.drop(\"activity\", axis=1)\n",
    "fingerprint_label_b = fingerprint[\"activity\"]"
   ]
  },
  {
   "cell_type": "markdown",
   "metadata": {},
   "source": [
    "## Descriptors"
   ]
  },
  {
   "cell_type": "code",
   "execution_count": null,
   "outputs": [],
   "source": [
    "# SPLIT\n",
    "data_train, data_test, label_train, label_test = train_test_split(descriptors_data_b, descriptors_label_b, test_size=0.3)"
   ],
   "metadata": {
    "collapsed": false,
    "pycharm": {
     "name": "#%%\n"
    }
   }
  },
  {
   "cell_type": "markdown",
   "metadata": {},
   "source": [
    "### Random Forest"
   ]
  },
  {
   "cell_type": "code",
   "execution_count": 14,
   "metadata": {
    "pycharm": {
     "name": "#%%\n"
    }
   },
   "outputs": [
    {
     "name": "stdout",
     "output_type": "stream",
     "text": [
      "Cross Validation accuracy score: 0.8117317624408636\n",
      "\n",
      "Base Model Accuracy: 0.824\n",
      "\n",
      "{'bootstrap': False, 'criterion': 'entropy', 'max_features': 'sqrt', 'n_estimators': 160}\n",
      "\n",
      "Optimized Model Accuracy: 0.833\n",
      "\n",
      "Optimized model improved 1.102% over base model.\n",
      "\n",
      "METRICS:\n",
      "Accuracy score:\n",
      "0.8332916562473952\n",
      "\n",
      "Recall score:\n",
      "0.8332916562473952\n",
      "\n",
      "Precison score:\n",
      "0.8332926495289666\n",
      "\n",
      "F1-score:\n",
      "0.8332788085209805\n",
      "\n",
      "MCC score:\n",
      "0.6664863480577609\n",
      "\n",
      "Confusion matrix:\n",
      "[[5114  976]\n",
      " [1024 4883]]\n",
      "\n",
      "Classification report:\n",
      "              precision    recall  f1-score   support\n",
      "\n",
      "           0       0.83      0.84      0.84      6090\n",
      "           1       0.83      0.83      0.83      5907\n",
      "\n",
      "    accuracy                           0.83     11997\n",
      "   macro avg       0.83      0.83      0.83     11997\n",
      "weighted avg       0.83      0.83      0.83     11997\n",
      "\n",
      "\n"
     ]
    },
    {
     "data": {
      "image/png": "[encoded data removed]",
      "text/plain": [
       "<Figure size 432x288 with 2 Axes>"
      ]
     },
     "metadata": {
      "needs_background": "light"
     },
     "output_type": "display_data"
    }
   ],
   "source": [
    "ml(rf, data_train, data_test, label_train, label_test, params_rf)"
   ]
  },
  {
   "cell_type": "markdown",
   "metadata": {},
   "source": [
    "### Gaussian Naive Bayes"
   ]
  },
  {
   "cell_type": "code",
   "execution_count": 15,
   "metadata": {
    "pycharm": {
     "name": "#%%\n"
    }
   },
   "outputs": [
    {
     "name": "stdout",
     "output_type": "stream",
     "text": [
      "Cross Validation accuracy score: 0.6967344242620778\n",
      "\n",
      "Base Model Accuracy: 0.707\n",
      "\n",
      "METRICS:\n",
      "Accuracy score:\n",
      "0.7071767941985496\n",
      "\n",
      "Recall score:\n",
      "0.7071767941985496\n",
      "\n",
      "Precison score:\n",
      "0.7074790560002674\n",
      "\n",
      "F1-score:\n",
      "0.7071048441615977\n",
      "\n",
      "MCC score:\n",
      "0.4146875143305593\n",
      "\n",
      "Confusion matrix:\n",
      "[[4325 1650]\n",
      " [1863 4159]]\n",
      "\n",
      "Classification report:\n",
      "              precision    recall  f1-score   support\n",
      "\n",
      "           0       0.70      0.72      0.71      5975\n",
      "           1       0.72      0.69      0.70      6022\n",
      "\n",
      "    accuracy                           0.71     11997\n",
      "   macro avg       0.71      0.71      0.71     11997\n",
      "weighted avg       0.71      0.71      0.71     11997\n",
      "\n",
      "\n"
     ]
    },
    {
     "data": {
      "image/png": "[encoded data removed]",
      "text/plain": [
       "<Figure size 432x288 with 2 Axes>"
      ]
     },
     "metadata": {
      "needs_background": "light"
     },
     "output_type": "display_data"
    }
   ],
   "source": [
    "ml(nb, data_train, data_test, label_train, label_test, None)"
   ]
  },
  {
   "cell_type": "markdown",
   "metadata": {},
   "source": [
    "### K Nearest Neighbors"
   ]
  },
  {
   "cell_type": "code",
   "execution_count": 16,
   "metadata": {
    "pycharm": {
     "name": "#%%\n"
    }
   },
   "outputs": [
    {
     "name": "stdout",
     "output_type": "stream",
     "text": [
      "Cross Validation accuracy score: 0.7936196882501029\n",
      "\n",
      "Base Model Accuracy: 0.797\n",
      "\n",
      "{'leaf_size': 30, 'n_neighbors': 10, 'p': 1, 'weights': 'distance'}\n",
      "\n",
      "Optimized Model Accuracy: 0.815\n",
      "\n",
      "Optimized model improved 2.164% over base model.\n",
      "\n",
      "METRICS:\n",
      "Accuracy score:\n",
      "0.8145369675752271\n",
      "\n",
      "Recall score:\n",
      "0.8145369675752271\n",
      "\n",
      "Precison score:\n",
      "0.81501094796687\n",
      "\n",
      "F1-score:\n",
      "0.8144392063275383\n",
      "\n",
      "MCC score:\n",
      "0.6294922242154073\n",
      "\n",
      "Confusion matrix:\n",
      "[[5042  991]\n",
      " [1234 4730]]\n",
      "\n",
      "Classification report:\n",
      "              precision    recall  f1-score   support\n",
      "\n",
      "           0       0.80      0.84      0.82      6033\n",
      "           1       0.83      0.79      0.81      5964\n",
      "\n",
      "    accuracy                           0.81     11997\n",
      "   macro avg       0.82      0.81      0.81     11997\n",
      "weighted avg       0.82      0.81      0.81     11997\n",
      "\n",
      "\n"
     ]
    },
    {
     "data": {
      "image/png": "[encoded data removed]",
      "text/plain": [
       "<Figure size 432x288 with 2 Axes>"
      ]
     },
     "metadata": {
      "needs_background": "light"
     },
     "output_type": "display_data"
    }
   ],
   "source": [
    "ml(knn, data_train, data_test, label_train, label_test, params_knn)"
   ]
  },
  {
   "cell_type": "markdown",
   "metadata": {},
   "source": [
    "### Voting Classifier\n",
    "This model will include all the previous models."
   ]
  },
  {
   "cell_type": "code",
   "execution_count": 17,
   "metadata": {
    "pycharm": {
     "name": "#%%\n"
    }
   },
   "outputs": [
    {
     "name": "stdout",
     "output_type": "stream",
     "text": [
      "Cross Validation accuracy score: 0.7674695201849511\n",
      "\n",
      "Base Model Accuracy: 0.777\n",
      "\n",
      "METRICS:\n",
      "Accuracy score:\n",
      "0.7770275902308911\n",
      "\n",
      "Recall score:\n",
      "0.7770275902308911\n",
      "\n",
      "Precison score:\n",
      "0.7781368131495846\n",
      "\n",
      "F1-score:\n",
      "0.7767959677161521\n",
      "\n",
      "MCC score:\n",
      "0.5551499090386763\n",
      "\n",
      "Confusion matrix:\n",
      "[[4857 1147]\n",
      " [1528 4465]]\n",
      "\n",
      "Classification report:\n",
      "              precision    recall  f1-score   support\n",
      "\n",
      "           0       0.76      0.81      0.78      6004\n",
      "           1       0.80      0.75      0.77      5993\n",
      "\n",
      "    accuracy                           0.78     11997\n",
      "   macro avg       0.78      0.78      0.78     11997\n",
      "weighted avg       0.78      0.78      0.78     11997\n",
      "\n",
      "\n"
     ]
    },
    {
     "data": {
      "image/png": "[encoded data removed]",
      "text/plain": [
       "<Figure size 432x288 with 2 Axes>"
      ]
     },
     "metadata": {
      "needs_background": "light"
     },
     "output_type": "display_data"
    }
   ],
   "source": [
    "ml(voting, data_train, data_test, label_train, label_test, None)"
   ]
  },
  {
   "cell_type": "markdown",
   "metadata": {},
   "source": [
    "### Neural Network"
   ]
  },
  {
   "cell_type": "code",
   "execution_count": 18,
   "metadata": {
    "pycharm": {
     "name": "#%%\n"
    }
   },
   "outputs": [
    {
     "name": "stdout",
     "output_type": "stream",
     "text": [
      "Cross Validation accuracy score: 0.8001932412648841\n",
      "\n",
      "Base Model Accuracy: 0.798\n",
      "\n",
      "{'activation': 'tanh', 'learning_rate': 'invscaling'}\n",
      "\n",
      "Optimized Model Accuracy: 0.801\n",
      "\n",
      "Optimized model improved 0.345% over base model.\n",
      "\n",
      "METRICS:\n",
      "Accuracy score:\n",
      "0.8011169459031424\n",
      "\n",
      "Recall score:\n",
      "0.8011169459031424\n",
      "\n",
      "Precison score:\n",
      "0.8011195746600436\n",
      "\n",
      "F1-score:\n",
      "0.8011168353572717\n",
      "\n",
      "MCC score:\n",
      "0.6022366725614786\n",
      "\n",
      "Confusion matrix:\n",
      "[[4803 1201]\n",
      " [1185 4808]]\n",
      "\n",
      "Classification report:\n",
      "              precision    recall  f1-score   support\n",
      "\n",
      "           0       0.80      0.80      0.80      6004\n",
      "           1       0.80      0.80      0.80      5993\n",
      "\n",
      "    accuracy                           0.80     11997\n",
      "   macro avg       0.80      0.80      0.80     11997\n",
      "weighted avg       0.80      0.80      0.80     11997\n",
      "\n",
      "\n"
     ]
    },
    {
     "data": {
      "image/png": "[encoded data removed]",
      "text/plain": [
       "<Figure size 432x288 with 2 Axes>"
      ]
     },
     "metadata": {
      "needs_background": "light"
     },
     "output_type": "display_data"
    }
   ],
   "source": [
    "ml(nn, data_train, data_test, label_train, label_test, params_nn)"
   ]
  },
  {
   "cell_type": "markdown",
   "source": [
    "## Descriptors without feature selection"
   ],
   "metadata": {
    "collapsed": false,
    "pycharm": {
     "name": "#%% md\n"
    }
   }
  },
  {
   "cell_type": "code",
   "execution_count": null,
   "outputs": [],
   "source": [
    "descriptors = pd.read_csv('../dataset/binary_class/descriptors_binary.csv', sep=',')\n",
    "\n",
    "descriptors_data_b = descriptors.drop(\"activity\", axis=1)\n",
    "descriptors_data_b = StandardScaler().fit_transform(descriptors_data_b)\n",
    "descriptors_label_b = descriptors[\"activity\"]"
   ],
   "metadata": {
    "collapsed": false,
    "pycharm": {
     "name": "#%%\n"
    }
   }
  },
  {
   "cell_type": "markdown",
   "source": [
    "### Random Forest"
   ],
   "metadata": {
    "collapsed": false,
    "pycharm": {
     "name": "#%% md\n"
    }
   }
  },
  {
   "cell_type": "code",
   "execution_count": null,
   "outputs": [],
   "source": [
    "ml(rf, data_train, data_test, label_train, label_test, params_rf)"
   ],
   "metadata": {
    "collapsed": false,
    "pycharm": {
     "name": "#%%\n"
    }
   }
  },
  {
   "cell_type": "markdown",
   "source": [
    "comparaçao"
   ],
   "metadata": {
    "collapsed": false
   }
  },
  {
   "cell_type": "markdown",
   "metadata": {},
   "source": [
    "## Fingerprints"
   ]
  },
  {
   "cell_type": "code",
   "execution_count": null,
   "outputs": [],
   "source": [
    "# SPLIT\n",
    "data_train, data_test, label_train, label_test = train_test_split(fingerprint_data_b, fingerprint_label_b, test_size=0.3)"
   ],
   "metadata": {
    "collapsed": false,
    "pycharm": {
     "name": "#%%\n"
    }
   }
  },
  {
   "cell_type": "markdown",
   "metadata": {
    "pycharm": {
     "name": "#%% md\n"
    }
   },
   "source": [
    "### Random Forest"
   ]
  },
  {
   "cell_type": "code",
   "execution_count": 19,
   "metadata": {
    "pycharm": {
     "name": "#%%\n"
    }
   },
   "outputs": [
    {
     "name": "stdout",
     "output_type": "stream",
     "text": [
      "Cross Validation accuracy score: 0.8015575753874795\n",
      "\n",
      "Base Model Accuracy: 0.816\n",
      "\n",
      "{'bootstrap': False, 'criterion': 'entropy', 'max_features': 'sqrt', 'n_estimators': 210}\n",
      "\n",
      "Optimized Model Accuracy: 0.820\n",
      "\n",
      "Optimized model improved 0.562% over base model.\n",
      "\n",
      "METRICS:\n",
      "Accuracy score:\n",
      "0.8203717596065683\n",
      "\n",
      "Recall score:\n",
      "0.8203717596065683\n",
      "\n",
      "Precison score:\n",
      "0.8205397270938765\n",
      "\n",
      "F1-score:\n",
      "0.8203324861962663\n",
      "\n",
      "MCC score:\n",
      "0.6408756689014522\n",
      "\n",
      "Confusion matrix:\n",
      "[[5028 1004]\n",
      " [1151 4814]]\n",
      "\n",
      "Classification report:\n",
      "              precision    recall  f1-score   support\n",
      "\n",
      "           0       0.81      0.83      0.82      6032\n",
      "           1       0.83      0.81      0.82      5965\n",
      "\n",
      "    accuracy                           0.82     11997\n",
      "   macro avg       0.82      0.82      0.82     11997\n",
      "weighted avg       0.82      0.82      0.82     11997\n",
      "\n",
      "\n"
     ]
    },
    {
     "data": {
      "image/png": "[encoded data removed]",
      "text/plain": [
       "<Figure size 432x288 with 2 Axes>"
      ]
     },
     "metadata": {
      "needs_background": "light"
     },
     "output_type": "display_data"
    }
   ],
   "source": [
    "ml(rf, data_train, data_test, label_train, label_test, params_rf)"
   ]
  },
  {
   "cell_type": "markdown",
   "metadata": {
    "pycharm": {
     "name": "#%% md\n"
    }
   },
   "source": [
    "### Gaussian Naive Bayes"
   ]
  },
  {
   "cell_type": "code",
   "execution_count": 20,
   "metadata": {
    "pycharm": {
     "name": "#%%\n"
    }
   },
   "outputs": [
    {
     "name": "stdout",
     "output_type": "stream",
     "text": [
      "Cross Validation accuracy score: 0.665309275038332\n",
      "\n",
      "Base Model Accuracy: 0.658\n",
      "\n",
      "METRICS:\n",
      "Accuracy score:\n",
      "0.6579144786196549\n",
      "\n",
      "Recall score:\n",
      "0.6579144786196549\n",
      "\n",
      "Precison score:\n",
      "0.6579471064272943\n",
      "\n",
      "F1-score:\n",
      "0.6579143360127254\n",
      "\n",
      "MCC score:\n",
      "0.31586186548716466\n",
      "\n",
      "Confusion matrix:\n",
      "[[3946 2082]\n",
      " [2022 3947]]\n",
      "\n",
      "Classification report:\n",
      "              precision    recall  f1-score   support\n",
      "\n",
      "           0       0.66      0.65      0.66      6028\n",
      "           1       0.65      0.66      0.66      5969\n",
      "\n",
      "    accuracy                           0.66     11997\n",
      "   macro avg       0.66      0.66      0.66     11997\n",
      "weighted avg       0.66      0.66      0.66     11997\n",
      "\n",
      "\n"
     ]
    },
    {
     "data": {
      "image/png": "[encoded data removed]",
      "text/plain": [
       "<Figure size 432x288 with 2 Axes>"
      ]
     },
     "metadata": {
      "needs_background": "light"
     },
     "output_type": "display_data"
    }
   ],
   "source": [
    "ml(nb, data_train, data_test, label_train, label_test, None)"
   ]
  },
  {
   "cell_type": "markdown",
   "metadata": {
    "pycharm": {
     "name": "#%% md\n"
    }
   },
   "source": [
    "### K Nearest Neighbors"
   ]
  },
  {
   "cell_type": "code",
   "execution_count": 21,
   "metadata": {
    "pycharm": {
     "name": "#%%\n"
    }
   },
   "outputs": [
    {
     "name": "stdout",
     "output_type": "stream",
     "text": [
      "Cross Validation accuracy score: 0.7755867189319074\n",
      "\n",
      "Base Model Accuracy: 0.784\n",
      "\n",
      "{'leaf_size': 20, 'n_neighbors': 6, 'p': 1, 'weights': 'distance'}\n",
      "\n",
      "Optimized Model Accuracy: 0.804\n",
      "\n",
      "Optimized model improved 2.595% over base model.\n",
      "\n",
      "METRICS:\n",
      "Accuracy score:\n",
      "0.8041176960906894\n",
      "\n",
      "Recall score:\n",
      "0.8041176960906894\n",
      "\n",
      "Precison score:\n",
      "0.8080916250182635\n",
      "\n",
      "F1-score:\n",
      "0.8034134789190079\n",
      "\n",
      "MCC score:\n",
      "0.6120798437521021\n",
      "\n",
      "Confusion matrix:\n",
      "[[5197  830]\n",
      " [1520 4450]]\n",
      "\n",
      "Classification report:\n",
      "              precision    recall  f1-score   support\n",
      "\n",
      "           0       0.77      0.86      0.82      6027\n",
      "           1       0.84      0.75      0.79      5970\n",
      "\n",
      "    accuracy                           0.80     11997\n",
      "   macro avg       0.81      0.80      0.80     11997\n",
      "weighted avg       0.81      0.80      0.80     11997\n",
      "\n",
      "\n"
     ]
    },
    {
     "data": {
      "image/png": "[encoded data removed]",
      "text/plain": [
       "<Figure size 432x288 with 2 Axes>"
      ]
     },
     "metadata": {
      "needs_background": "light"
     },
     "output_type": "display_data"
    }
   ],
   "source": [
    "ml(knn, data_train, data_test, label_train, label_test, params_knn)"
   ]
  },
  {
   "cell_type": "markdown",
   "metadata": {
    "pycharm": {
     "name": "#%% md\n"
    }
   },
   "source": [
    "### Voting Classifier\n",
    "This model will include all the previous models."
   ]
  },
  {
   "cell_type": "code",
   "execution_count": 22,
   "metadata": {
    "pycharm": {
     "name": "#%%\n"
    }
   },
   "outputs": [
    {
     "name": "stdout",
     "output_type": "stream",
     "text": [
      "Cross Validation accuracy score: 0.7471509515843339\n",
      "\n",
      "Base Model Accuracy: 0.760\n",
      "\n",
      "METRICS:\n",
      "Accuracy score:\n",
      "0.7596899224806202\n",
      "\n",
      "Recall score:\n",
      "0.7596899224806202\n",
      "\n",
      "Precison score:\n",
      "0.76041145989187\n",
      "\n",
      "F1-score:\n",
      "0.7595969494836776\n",
      "\n",
      "MCC score:\n",
      "0.5201663853394132\n",
      "\n",
      "Confusion matrix:\n",
      "[[4652 1295]\n",
      " [1588 4462]]\n",
      "\n",
      "Classification report:\n",
      "              precision    recall  f1-score   support\n",
      "\n",
      "           0       0.75      0.78      0.76      5947\n",
      "           1       0.78      0.74      0.76      6050\n",
      "\n",
      "    accuracy                           0.76     11997\n",
      "   macro avg       0.76      0.76      0.76     11997\n",
      "weighted avg       0.76      0.76      0.76     11997\n",
      "\n",
      "\n"
     ]
    },
    {
     "data": {
      "image/png": "[encoded data removed]",
      "text/plain": [
       "<Figure size 432x288 with 2 Axes>"
      ]
     },
     "metadata": {
      "needs_background": "light"
     },
     "output_type": "display_data"
    }
   ],
   "source": [
    "ml(voting, data_train, data_test, label_train, label_test, None)"
   ]
  },
  {
   "cell_type": "markdown",
   "metadata": {
    "pycharm": {
     "name": "#%% md\n"
    }
   },
   "source": [
    "### Neural Network"
   ]
  },
  {
   "cell_type": "code",
   "execution_count": 23,
   "metadata": {
    "pycharm": {
     "name": "#%%\n"
    }
   },
   "outputs": [
    {
     "name": "stdout",
     "output_type": "stream",
     "text": [
      "Cross Validation accuracy score: 0.7750150351581819\n",
      "\n",
      "Base Model Accuracy: 0.782\n",
      "\n",
      "{'activation': 'relu', 'learning_rate': 'invscaling'}\n",
      "\n",
      "Optimized Model Accuracy: 0.781\n",
      "\n",
      "Optimized model improved -0.053% over base model.\n",
      "\n",
      "METRICS:\n",
      "Accuracy score:\n",
      "0.781695423855964\n",
      "\n",
      "Recall score:\n",
      "0.781695423855964\n",
      "\n",
      "Precison score:\n",
      "0.7816934058802414\n",
      "\n",
      "F1-score:\n",
      "0.7816928451809112\n",
      "\n",
      "MCC score:\n",
      "0.5633636498870724\n",
      "\n",
      "Confusion matrix:\n",
      "[[4639 1318]\n",
      " [1301 4739]]\n",
      "\n",
      "Classification report:\n",
      "              precision    recall  f1-score   support\n",
      "\n",
      "           0       0.78      0.78      0.78      5957\n",
      "           1       0.78      0.78      0.78      6040\n",
      "\n",
      "    accuracy                           0.78     11997\n",
      "   macro avg       0.78      0.78      0.78     11997\n",
      "weighted avg       0.78      0.78      0.78     11997\n",
      "\n",
      "\n"
     ]
    },
    {
     "data": {
      "image/png": "[encoded data removed]",
      "text/plain": [
       "<Figure size 432x288 with 2 Axes>"
      ]
     },
     "metadata": {
      "needs_background": "light"
     },
     "output_type": "display_data"
    }
   ],
   "source": [
    "ml(nn, data_train, data_test, label_train, label_test, params_nn)"
   ]
  },
  {
   "cell_type": "markdown",
   "source": [
    "## Comparation"
   ],
   "metadata": {
    "collapsed": false
   }
  },
  {
   "cell_type": "markdown",
   "source": [
    "TABLE HERE"
   ],
   "metadata": {
    "collapsed": false
   }
  },
  {
   "cell_type": "markdown",
   "metadata": {},
   "source": [
    "# Multiclass"
   ]
  },
  {
   "cell_type": "markdown",
   "metadata": {},
   "source": [
    "### Load data"
   ]
  },
  {
   "cell_type": "code",
   "execution_count": 24,
   "metadata": {
    "pycharm": {
     "name": "#%%\n"
    }
   },
   "outputs": [],
   "source": [
    "descriptors = pd.read_csv('../dataset/multiclass/descriptors_fs.csv', sep=',')\n",
    "fingerprint = pd.read_csv('../dataset/multiclass/rdk_fs.csv', sep=',')\n",
    "\n",
    "descriptors_data_m = descriptors.drop(\"Activity at 46.23 uM\", axis=1)\n",
    "descriptors_label_m = descriptors[\"Activity at 46.23 uM\"]\n",
    "fingerprint_data_m = fingerprint.drop(\"Activity at 46.23 uM\", axis=1)\n",
    "fingerprint_label_m = fingerprint[\"Activity at 46.23 uM\"]"
   ]
  },
  {
   "cell_type": "markdown",
   "source": [
    "## Descriptors"
   ],
   "metadata": {
    "collapsed": false
   }
  },
  {
   "cell_type": "code",
   "execution_count": null,
   "outputs": [],
   "source": [
    "# SPLIT\n",
    "data_train, data_test, label_train, label_test = train_test_split(descriptors_data_m, descriptors_label_m, test_size=0.3)"
   ],
   "metadata": {
    "collapsed": false,
    "pycharm": {
     "name": "#%%\n"
    }
   }
  },
  {
   "cell_type": "markdown",
   "metadata": {
    "pycharm": {
     "name": "#%% md\n"
    }
   },
   "source": [
    "### Random Forest Classifier"
   ]
  },
  {
   "cell_type": "code",
   "execution_count": 25,
   "metadata": {
    "pycharm": {
     "name": "#%%\n"
    }
   },
   "outputs": [
    {
     "name": "stdout",
     "output_type": "stream",
     "text": [
      "Cross Validation accuracy score: 0.563946638253488\n",
      "\n",
      "Base Model Accuracy: 0.572\n",
      "\n",
      "{'bootstrap': True, 'criterion': 'entropy', 'max_features': 'sqrt', 'n_estimators': 210}\n",
      "\n",
      "Optimized Model Accuracy: 0.575\n",
      "\n",
      "Optimized model improved 0.642% over base model.\n",
      "\n",
      "METRICS:\n",
      "Accuracy score:\n",
      "0.575227140118363\n",
      "\n",
      "Recall score:\n",
      "0.575227140118363\n",
      "\n",
      "Precison score:\n",
      "0.5353013516612782\n",
      "\n",
      "F1-score:\n",
      "0.5168199335001102\n",
      "\n",
      "MCC score:\n",
      "0.3574525635356896\n",
      "\n",
      "Confusion matrix:\n",
      "[[ 143 1163  296    3]\n",
      " [ 149 3297  950   15]\n",
      " [  18  833 3368  161]\n",
      " [   3  177 1328   93]]\n",
      "\n",
      "Classification report:\n",
      "              precision    recall  f1-score   support\n",
      "\n",
      "           0       0.46      0.09      0.15      1605\n",
      "           1       0.60      0.75      0.67      4411\n",
      "           2       0.57      0.77      0.65      4380\n",
      "           3       0.34      0.06      0.10      1601\n",
      "\n",
      "    accuracy                           0.58     11997\n",
      "   macro avg       0.49      0.42      0.39     11997\n",
      "weighted avg       0.54      0.58      0.52     11997\n",
      "\n",
      "\n"
     ]
    },
    {
     "data": {
      "image/png": "[encoded data removed]",
      "text/plain": [
       "<Figure size 432x288 with 2 Axes>"
      ]
     },
     "metadata": {
      "needs_background": "light"
     },
     "output_type": "display_data"
    }
   ],
   "source": [
    "ml(rf, data_train, data_test, label_train, label_test, params_rf)"
   ]
  },
  {
   "cell_type": "markdown",
   "metadata": {
    "pycharm": {
     "name": "#%% md\n"
    }
   },
   "source": [
    "### Gaussian Naive Bayes"
   ]
  },
  {
   "cell_type": "code",
   "execution_count": 26,
   "metadata": {
    "pycharm": {
     "name": "#%%\n"
    }
   },
   "outputs": [
    {
     "name": "stdout",
     "output_type": "stream",
     "text": [
      "Cross Validation accuracy score: 0.3935058198584816\n",
      "\n",
      "Base Model Accuracy: 0.397\n",
      "\n",
      "METRICS:\n",
      "Accuracy score:\n",
      "0.3973493373343336\n",
      "\n",
      "Recall score:\n",
      "0.3973493373343336\n",
      "\n",
      "Precison score:\n",
      "0.4058501290111436\n",
      "\n",
      "F1-score:\n",
      "0.388028234845088\n",
      "\n",
      "MCC score:\n",
      "0.16275122554902954\n",
      "\n",
      "Confusion matrix:\n",
      "[[ 242  865  294  231]\n",
      " [ 517 2563  889  448]\n",
      " [ 184 1214 1151 1760]\n",
      " [  56  336  436  811]]\n",
      "\n",
      "Classification report:\n",
      "              precision    recall  f1-score   support\n",
      "\n",
      "           0       0.24      0.15      0.18      1632\n",
      "           1       0.51      0.58      0.55      4417\n",
      "           2       0.42      0.27      0.33      4309\n",
      "           3       0.25      0.49      0.33      1639\n",
      "\n",
      "    accuracy                           0.40     11997\n",
      "   macro avg       0.36      0.37      0.35     11997\n",
      "weighted avg       0.41      0.40      0.39     11997\n",
      "\n",
      "\n"
     ]
    },
    {
     "data": {
      "image/png": "[encoded data removed]",
      "text/plain": [
       "<Figure size 432x288 with 2 Axes>"
      ]
     },
     "metadata": {
      "needs_background": "light"
     },
     "output_type": "display_data"
    }
   ],
   "source": [
    "ml(nb, data_train, data_test, label_train, label_test, None)"
   ]
  },
  {
   "cell_type": "markdown",
   "metadata": {
    "pycharm": {
     "name": "#%% md\n"
    }
   },
   "source": [
    "### K Nearest Neighbors Classifier"
   ]
  },
  {
   "cell_type": "code",
   "execution_count": 27,
   "metadata": {
    "pycharm": {
     "is_executing": true,
     "name": "#%%\n"
    }
   },
   "outputs": [
    {
     "name": "stdout",
     "output_type": "stream",
     "text": [
      "Cross Validation accuracy score: 0.5166477439031277\n",
      "\n",
      "Base Model Accuracy: 0.523\n",
      "\n",
      "{'leaf_size': 30, 'n_neighbors': 10, 'p': 1, 'weights': 'distance'}\n",
      "\n",
      "Optimized Model Accuracy: 0.552\n",
      "\n",
      "Optimized model improved 5.532% over base model.\n",
      "\n",
      "METRICS:\n",
      "Accuracy score:\n",
      "0.551804617821122\n",
      "\n",
      "Recall score:\n",
      "0.551804617821122\n",
      "\n",
      "Precison score:\n",
      "0.5118843979935901\n",
      "\n",
      "F1-score:\n",
      "0.5165410851772404\n",
      "\n",
      "MCC score:\n",
      "0.32831677912751794\n",
      "\n",
      "Confusion matrix:\n",
      "[[ 207 1069  294   16]\n",
      " [ 350 3042  967   70]\n",
      " [  61  740 3154  397]\n",
      " [  11  172 1230  217]]\n",
      "\n",
      "Classification report:\n",
      "              precision    recall  f1-score   support\n",
      "\n",
      "           0       0.33      0.13      0.19      1586\n",
      "           1       0.61      0.69      0.64      4429\n",
      "           2       0.56      0.72      0.63      4352\n",
      "           3       0.31      0.13      0.19      1630\n",
      "\n",
      "    accuracy                           0.55     11997\n",
      "   macro avg       0.45      0.42      0.41     11997\n",
      "weighted avg       0.51      0.55      0.52     11997\n",
      "\n",
      "\n"
     ]
    },
    {
     "data": {
      "image/png": "[encoded data removed]",
      "text/plain": [
       "<Figure size 432x288 with 2 Axes>"
      ]
     },
     "metadata": {
      "needs_background": "light"
     },
     "output_type": "display_data"
    }
   ],
   "source": [
    "ml(knn, data_train, data_test, label_train, label_test, params_knn)"
   ]
  },
  {
   "cell_type": "markdown",
   "metadata": {
    "pycharm": {
     "name": "#%% md\n"
    }
   },
   "source": [
    "### Voting Classifier\n",
    "This model will include all the previous models."
   ]
  },
  {
   "cell_type": "code",
   "execution_count": 28,
   "metadata": {
    "pycharm": {
     "is_executing": true,
     "name": "#%%\n"
    }
   },
   "outputs": [
    {
     "name": "stdout",
     "output_type": "stream",
     "text": [
      "Cross Validation accuracy score: 0.4961419002436318\n",
      "\n",
      "Base Model Accuracy: 0.513\n",
      "\n",
      "METRICS:\n",
      "Accuracy score:\n",
      "0.5130449278986413\n",
      "\n",
      "Recall score:\n",
      "0.5130449278986413\n",
      "\n",
      "Precison score:\n",
      "0.4924136605970901\n",
      "\n",
      "F1-score:\n",
      "0.49560174636436144\n",
      "\n",
      "MCC score:\n",
      "0.28157634782535407\n",
      "\n",
      "Confusion matrix:\n",
      "[[ 174  980  297   92]\n",
      " [ 299 2939  938  197]\n",
      " [  70  972 2547  872]\n",
      " [  29  219  877  495]]\n",
      "\n",
      "Classification report:\n",
      "              precision    recall  f1-score   support\n",
      "\n",
      "           0       0.30      0.11      0.16      1543\n",
      "           1       0.58      0.67      0.62      4373\n",
      "           2       0.55      0.57      0.56      4461\n",
      "           3       0.30      0.31      0.30      1620\n",
      "\n",
      "    accuracy                           0.51     11997\n",
      "   macro avg       0.43      0.42      0.41     11997\n",
      "weighted avg       0.49      0.51      0.50     11997\n",
      "\n",
      "\n"
     ]
    },
    {
     "data": {
      "image/png": "[encoded data removed]",
      "text/plain": [
       "<Figure size 432x288 with 2 Axes>"
      ]
     },
     "metadata": {
      "needs_background": "light"
     },
     "output_type": "display_data"
    }
   ],
   "source": [
    "ml(voting, data_train, data_test, label_train, label_test, None)"
   ]
  },
  {
   "cell_type": "markdown",
   "metadata": {
    "pycharm": {
     "name": "#%% md\n"
    }
   },
   "source": [
    "### Neural Network Classifier"
   ]
  },
  {
   "cell_type": "code",
   "execution_count": 29,
   "metadata": {
    "pycharm": {
     "is_executing": true,
     "name": "#%%\n"
    }
   },
   "outputs": [
    {
     "name": "stdout",
     "output_type": "stream",
     "text": [
      "Cross Validation accuracy score: 0.555015495864143\n",
      "\n",
      "Base Model Accuracy: 0.561\n",
      "\n",
      "{'activation': 'tanh', 'learning_rate': 'adaptive'}\n",
      "\n",
      "Optimized Model Accuracy: 0.556\n",
      "\n",
      "Optimized model improved -0.832% over base model.\n",
      "\n",
      "METRICS:\n",
      "Accuracy score:\n",
      "0.5608902225556389\n",
      "\n",
      "Recall score:\n",
      "0.5608902225556389\n",
      "\n",
      "Precison score:\n",
      "0.529934108289522\n",
      "\n",
      "F1-score:\n",
      "0.4819057720049258\n",
      "\n",
      "MCC score:\n",
      "0.331488424285268\n",
      "\n",
      "Confusion matrix:\n",
      "[[  48 1195  340    1]\n",
      " [  54 3379  978    0]\n",
      " [   9 1053 3293   10]\n",
      " [   0  256 1372    9]]\n",
      "\n",
      "Classification report:\n",
      "              precision    recall  f1-score   support\n",
      "\n",
      "           0       0.43      0.03      0.06      1584\n",
      "           1       0.57      0.77      0.66      4411\n",
      "           2       0.55      0.75      0.64      4365\n",
      "           3       0.45      0.01      0.01      1637\n",
      "\n",
      "    accuracy                           0.56     11997\n",
      "   macro avg       0.50      0.39      0.34     11997\n",
      "weighted avg       0.53      0.56      0.48     11997\n",
      "\n",
      "\n"
     ]
    },
    {
     "data": {
      "image/png": "[encoded data removed]",
      "text/plain": [
       "<Figure size 432x288 with 2 Axes>"
      ]
     },
     "metadata": {
      "needs_background": "light"
     },
     "output_type": "display_data"
    }
   ],
   "source": [
    "ml(nn, data_train, data_test, label_train, label_test, params_nn)"
   ]
  },
  {
   "cell_type": "markdown",
   "source": [
    "### Undersampling"
   ],
   "metadata": {
    "collapsed": false
   }
  },
  {
   "cell_type": "code",
   "execution_count": null,
   "outputs": [],
   "source": [
    "ml(rf, data_train, data_test, label_train, label_test, params_rf, sampling=True)"
   ],
   "metadata": {
    "collapsed": false,
    "pycharm": {
     "name": "#%%\n"
    }
   }
  },
  {
   "cell_type": "markdown",
   "metadata": {
    "pycharm": {
     "name": "#%% md\n"
    }
   },
   "source": [
    "## Fingerprints"
   ]
  },
  {
   "cell_type": "code",
   "execution_count": null,
   "outputs": [],
   "source": [
    "# SPLIT\n",
    "data_train, data_test, label_train, label_test = train_test_split(fingerprint_data_m, fingerprint_label_m, test_size=0.3)"
   ],
   "metadata": {
    "collapsed": false,
    "pycharm": {
     "name": "#%%\n"
    }
   }
  },
  {
   "cell_type": "markdown",
   "metadata": {
    "pycharm": {
     "name": "#%% md\n"
    }
   },
   "source": [
    "### Random Forest Classifier"
   ]
  },
  {
   "cell_type": "code",
   "execution_count": 30,
   "metadata": {
    "pycharm": {
     "is_executing": true,
     "name": "#%%\n"
    }
   },
   "outputs": [
    {
     "name": "stdout",
     "output_type": "stream",
     "text": [
      "Cross Validation accuracy score: 0.5484230424192142\n",
      "\n",
      "Base Model Accuracy: 0.546\n",
      "\n",
      "{'bootstrap': True, 'criterion': 'gini', 'max_features': 'log2', 'n_estimators': 210}\n",
      "\n",
      "Optimized Model Accuracy: 0.548\n",
      "\n",
      "Optimized model improved 0.458% over base model.\n",
      "\n",
      "METRICS:\n",
      "Accuracy score:\n",
      "0.5483870967741935\n",
      "\n",
      "Recall score:\n",
      "0.5483870967741935\n",
      "\n",
      "Precison score:\n",
      "0.5094890839063946\n",
      "\n",
      "F1-score:\n",
      "0.5149232844489811\n",
      "\n",
      "MCC score:\n",
      "0.3214667763615083\n",
      "\n",
      "Confusion matrix:\n",
      "[[ 229 1018  292   12]\n",
      " [ 389 2981  944   57]\n",
      " [  46  823 3164  411]\n",
      " [  10  215 1201  205]]\n",
      "\n",
      "Classification report:\n",
      "              precision    recall  f1-score   support\n",
      "\n",
      "           0       0.34      0.15      0.21      1551\n",
      "           1       0.59      0.68      0.63      4371\n",
      "           2       0.56      0.71      0.63      4444\n",
      "           3       0.30      0.13      0.18      1631\n",
      "\n",
      "    accuracy                           0.55     11997\n",
      "   macro avg       0.45      0.42      0.41     11997\n",
      "weighted avg       0.51      0.55      0.51     11997\n",
      "\n",
      "\n"
     ]
    },
    {
     "data": {
      "image/png": "[encoded data removed]",
      "text/plain": [
       "<Figure size 432x288 with 2 Axes>"
      ]
     },
     "metadata": {
      "needs_background": "light"
     },
     "output_type": "display_data"
    }
   ],
   "source": [
    "ml(rf, data_train, data_test, label_train, label_test, params_rf)"
   ]
  },
  {
   "cell_type": "markdown",
   "metadata": {
    "pycharm": {
     "name": "#%% md\n"
    }
   },
   "source": [
    "### Gaussian Naive Bayes"
   ]
  },
  {
   "cell_type": "code",
   "execution_count": 31,
   "metadata": {
    "pycharm": {
     "is_executing": true,
     "name": "#%%\n"
    }
   },
   "outputs": [
    {
     "name": "stdout",
     "output_type": "stream",
     "text": [
      "Cross Validation accuracy score: 0.3443003813075639\n",
      "\n",
      "Base Model Accuracy: 0.348\n",
      "\n",
      "METRICS:\n",
      "Accuracy score:\n",
      "0.34817037592731515\n",
      "\n",
      "Recall score:\n",
      "0.34817037592731515\n",
      "\n",
      "Precison score:\n",
      "0.3911982434705235\n",
      "\n",
      "F1-score:\n",
      "0.3526614849137124\n",
      "\n",
      "MCC score:\n",
      "0.12771329098294856\n",
      "\n",
      "Confusion matrix:\n",
      "[[ 445  667  261  277]\n",
      " [1040 1906  783  681]\n",
      " [ 476  998 1030 1803]\n",
      " [ 149  327  358  796]]\n",
      "\n",
      "Classification report:\n",
      "              precision    recall  f1-score   support\n",
      "\n",
      "           0       0.21      0.27      0.24      1650\n",
      "           1       0.49      0.43      0.46      4410\n",
      "           2       0.42      0.24      0.31      4307\n",
      "           3       0.22      0.49      0.31      1630\n",
      "\n",
      "    accuracy                           0.35     11997\n",
      "   macro avg       0.34      0.36      0.33     11997\n",
      "weighted avg       0.39      0.35      0.35     11997\n",
      "\n",
      "\n"
     ]
    },
    {
     "data": {
      "image/png": "[encoded data removed]",
      "text/plain": [
       "<Figure size 432x288 with 2 Axes>"
      ]
     },
     "metadata": {
      "needs_background": "light"
     },
     "output_type": "display_data"
    }
   ],
   "source": [
    "ml(nb, data_train, data_test, label_train, label_test, None)"
   ]
  },
  {
   "cell_type": "markdown",
   "metadata": {
    "pycharm": {
     "name": "#%% md\n"
    }
   },
   "source": [
    "### K Nearest Neighbors Classifier"
   ]
  },
  {
   "cell_type": "code",
   "execution_count": 32,
   "metadata": {
    "pycharm": {
     "is_executing": true,
     "name": "#%%\n"
    }
   },
   "outputs": [
    {
     "name": "stdout",
     "output_type": "stream",
     "text": [
      "Cross Validation accuracy score: 0.5169862606890004\n",
      "\n",
      "Base Model Accuracy: 0.519\n",
      "\n",
      "{'leaf_size': 20, 'n_neighbors': 10, 'p': 1, 'weights': 'distance'}\n",
      "\n",
      "Optimized Model Accuracy: 0.541\n",
      "\n",
      "Optimized model improved 4.125% over base model.\n",
      "\n",
      "METRICS:\n",
      "Accuracy score:\n",
      "0.54080186713345\n",
      "\n",
      "Recall score:\n",
      "0.54080186713345\n",
      "\n",
      "Precison score:\n",
      "0.5118754720682028\n",
      "\n",
      "F1-score:\n",
      "0.5143145470406674\n",
      "\n",
      "MCC score:\n",
      "0.3164430876903785\n",
      "\n",
      "Confusion matrix:\n",
      "[[ 293  954  353   37]\n",
      " [ 408 2710 1159   97]\n",
      " [  74  612 3248  481]\n",
      " [  21  139 1174  237]]\n",
      "\n",
      "Classification report:\n",
      "              precision    recall  f1-score   support\n",
      "\n",
      "           0       0.37      0.18      0.24      1637\n",
      "           1       0.61      0.62      0.62      4374\n",
      "           2       0.55      0.74      0.63      4415\n",
      "           3       0.28      0.15      0.20      1571\n",
      "\n",
      "    accuracy                           0.54     11997\n",
      "   macro avg       0.45      0.42      0.42     11997\n",
      "weighted avg       0.51      0.54      0.51     11997\n",
      "\n",
      "\n"
     ]
    },
    {
     "data": {
      "image/png": "[encoded data removed]",
      "text/plain": [
       "<Figure size 432x288 with 2 Axes>"
      ]
     },
     "metadata": {
      "needs_background": "light"
     },
     "output_type": "display_data"
    }
   ],
   "source": [
    "ml(knn, data_train, data_test, label_train, label_test, params_knn)"
   ]
  },
  {
   "cell_type": "markdown",
   "metadata": {
    "pycharm": {
     "name": "#%% md\n"
    }
   },
   "source": [
    "### Voting Classifier\n",
    "This model will include all the previous models."
   ]
  },
  {
   "cell_type": "code",
   "execution_count": 33,
   "metadata": {
    "pycharm": {
     "is_executing": true,
     "name": "#%%\n"
    }
   },
   "outputs": [
    {
     "name": "stdout",
     "output_type": "stream",
     "text": [
      "Cross Validation accuracy score: 0.48176343948521916\n",
      "\n",
      "Base Model Accuracy: 0.484\n",
      "\n",
      "METRICS:\n",
      "Accuracy score:\n",
      "0.4837042593981829\n",
      "\n",
      "Recall score:\n",
      "0.4837042593981829\n",
      "\n",
      "Precison score:\n",
      "0.4777098481521277\n",
      "\n",
      "F1-score:\n",
      "0.47665120002509037\n",
      "\n",
      "MCC score:\n",
      "0.2524074739692947\n",
      "\n",
      "Confusion matrix:\n",
      "[[ 234  943  263  143]\n",
      " [ 382 2762  904  365]\n",
      " [ 141  861 2301 1071]\n",
      " [  45  222  854  506]]\n",
      "\n",
      "Classification report:\n",
      "              precision    recall  f1-score   support\n",
      "\n",
      "           0       0.29      0.15      0.20      1583\n",
      "           1       0.58      0.63      0.60      4413\n",
      "           2       0.53      0.53      0.53      4374\n",
      "           3       0.24      0.31      0.27      1627\n",
      "\n",
      "    accuracy                           0.48     11997\n",
      "   macro avg       0.41      0.40      0.40     11997\n",
      "weighted avg       0.48      0.48      0.48     11997\n",
      "\n",
      "\n"
     ]
    },
    {
     "data": {
      "image/png": "[encoded data removed]",
      "text/plain": [
       "<Figure size 432x288 with 2 Axes>"
      ]
     },
     "metadata": {
      "needs_background": "light"
     },
     "output_type": "display_data"
    }
   ],
   "source": [
    "ml(voting, data_train, data_test, label_train, label_test, None)"
   ]
  },
  {
   "cell_type": "markdown",
   "metadata": {
    "pycharm": {
     "name": "#%% md\n"
    }
   },
   "source": [
    "### Neural Network Classifier"
   ]
  },
  {
   "cell_type": "code",
   "execution_count": 34,
   "metadata": {
    "pycharm": {
     "is_executing": true,
     "name": "#%%\n"
    }
   },
   "outputs": [
    {
     "name": "stdout",
     "output_type": "stream",
     "text": [
      "Cross Validation accuracy score: 0.5320620720244217\n",
      "\n",
      "Base Model Accuracy: 0.550\n",
      "\n",
      "{'activation': 'tanh', 'learning_rate': 'invscaling'}\n",
      "\n",
      "Optimized Model Accuracy: 0.548\n",
      "\n",
      "Optimized model improved -0.379% over base model.\n",
      "\n",
      "METRICS:\n",
      "Accuracy score:\n",
      "0.5497207635242144\n",
      "\n",
      "Recall score:\n",
      "0.5497207635242144\n",
      "\n",
      "Precison score:\n",
      "0.49153190681590936\n",
      "\n",
      "F1-score:\n",
      "0.4821873995655315\n",
      "\n",
      "MCC score:\n",
      "0.31092571968534516\n",
      "\n",
      "Confusion matrix:\n",
      "[[  34 1204  374   15]\n",
      " [  55 3303 1073   40]\n",
      " [  13 1053 3189  114]\n",
      " [   3  231 1227   69]]\n",
      "\n",
      "Classification report:\n",
      "              precision    recall  f1-score   support\n",
      "\n",
      "           0       0.32      0.02      0.04      1627\n",
      "           1       0.57      0.74      0.64      4471\n",
      "           2       0.54      0.73      0.62      4369\n",
      "           3       0.29      0.05      0.08      1530\n",
      "\n",
      "    accuracy                           0.55     11997\n",
      "   macro avg       0.43      0.38      0.35     11997\n",
      "weighted avg       0.49      0.55      0.48     11997\n",
      "\n",
      "\n"
     ]
    },
    {
     "data": {
      "image/png": "[encoded data removed]",
      "text/plain": [
       "<Figure size 432x288 with 2 Axes>"
      ]
     },
     "metadata": {
      "needs_background": "light"
     },
     "output_type": "display_data"
    }
   ],
   "source": [
    "ml(nn, data_train, data_test, label_train, label_test, params_nn)"
   ]
  },
  {
   "cell_type": "markdown",
   "source": [
    "## Regression"
   ],
   "metadata": {
    "collapsed": false
   }
  },
  {
   "cell_type": "markdown",
   "source": [
    "### Load data"
   ],
   "metadata": {
    "collapsed": false
   }
  },
  {
   "cell_type": "code",
   "execution_count": null,
   "outputs": [],
   "source": [
    "descriptors = pd.read_csv('../dataset/regression/descriptors_fs.csv', sep=',')\n",
    "fingerprint = pd.read_csv('../dataset/regression/rdk_fs.csv', sep=',')\n",
    "\n",
    "descriptors_data_r = descriptors.drop(\"Activity at 46.23 uM\", axis=1)\n",
    "descriptors_label_r = descriptors[\"Activity at 46.23 uM\"]\n",
    "fingerprint_data_r = fingerprint.drop(\"Activity at 46.23 uM\", axis=1)\n",
    "fingerprint_label_r = fingerprint[\"Activity at 46.23 uM\"]"
   ],
   "metadata": {
    "collapsed": false,
    "pycharm": {
     "name": "#%%\n"
    }
   }
  },
  {
   "cell_type": "markdown",
   "source": [
    "### Models"
   ],
   "metadata": {
    "collapsed": false
   }
  },
  {
   "cell_type": "code",
   "execution_count": null,
   "outputs": [],
   "source": [
    "rf = RandomForestRegressor(n_jobs=4)\n",
    "lr = LinearRegression()\n",
    "knn = KNeighborsRegressor(n_jobs=4)\n",
    "voting = VotingRegressor(estimators=[('Random Forest', rf), ('Linear Regression', lr), ('KNN', knn)], n_jobs=4)\n",
    "nn = MLPRegressor(early_stopping=True)"
   ],
   "metadata": {
    "collapsed": false,
    "pycharm": {
     "name": "#%%\n"
    }
   }
  },
  {
   "cell_type": "markdown",
   "source": [
    "## Descriptors"
   ],
   "metadata": {
    "collapsed": false
   }
  },
  {
   "cell_type": "code",
   "execution_count": null,
   "outputs": [],
   "source": [
    "# SPLIT\n",
    "data_train, data_test, label_train, label_test = train_test_split(descriptors_data_r, descriptors_label_r, test_size=0.3)"
   ],
   "metadata": {
    "collapsed": false,
    "pycharm": {
     "name": "#%%\n"
    }
   }
  },
  {
   "cell_type": "markdown",
   "source": [
    "### Random Forest Regressor"
   ],
   "metadata": {
    "collapsed": false
   }
  },
  {
   "cell_type": "code",
   "execution_count": null,
   "outputs": [],
   "source": [
    "ml(rf, data_train, data_test, label_train, label_test, params_rf)"
   ],
   "metadata": {
    "collapsed": false,
    "pycharm": {
     "name": "#%%\n"
    }
   }
  },
  {
   "cell_type": "markdown",
   "source": [
    "### Linear Regression"
   ],
   "metadata": {
    "collapsed": false
   }
  },
  {
   "cell_type": "code",
   "execution_count": null,
   "outputs": [],
   "source": [
    "ml(lr, data_train, data_test, label_train, label_test, None)"
   ],
   "metadata": {
    "collapsed": false,
    "pycharm": {
     "name": "#%%\n"
    }
   }
  },
  {
   "cell_type": "markdown",
   "source": [
    "### K Nearest Neighbors Regressor"
   ],
   "metadata": {
    "collapsed": false
   }
  },
  {
   "cell_type": "code",
   "execution_count": null,
   "outputs": [],
   "source": [
    "ml(knn, data_train, data_test, label_train, label_test, params_knn)"
   ],
   "metadata": {
    "collapsed": false,
    "pycharm": {
     "name": "#%%\n"
    }
   }
  },
  {
   "cell_type": "markdown",
   "source": [
    "### Voting Regressor"
   ],
   "metadata": {
    "collapsed": false
   }
  },
  {
   "cell_type": "code",
   "execution_count": null,
   "outputs": [],
   "source": [
    "ml(voting, data_train, data_test, label_train, label_test, None)"
   ],
   "metadata": {
    "collapsed": false,
    "pycharm": {
     "name": "#%%\n"
    }
   }
  },
  {
   "cell_type": "markdown",
   "source": [
    "### Neural Network Regressor"
   ],
   "metadata": {
    "collapsed": false
   }
  },
  {
   "cell_type": "code",
   "execution_count": null,
   "outputs": [],
   "source": [
    "ml(nn, data_train, data_test, label_train, label_test, params_nn)"
   ],
   "metadata": {
    "collapsed": false,
    "pycharm": {
     "name": "#%%\n"
    }
   }
  },
  {
   "cell_type": "markdown",
   "source": [
    "## Fingerprints"
   ],
   "metadata": {
    "collapsed": false
   }
  },
  {
   "cell_type": "code",
   "execution_count": null,
   "outputs": [],
   "source": [
    "# SPLIT\n",
    "data_train, data_test, label_train, label_test = train_test_split(fingerprint_data_r, fingerprint_label_r, test_size=0.3)"
   ],
   "metadata": {
    "collapsed": false,
    "pycharm": {
     "name": "#%%\n"
    }
   }
  },
  {
   "cell_type": "markdown",
   "source": [
    "### Random Forest Regressor"
   ],
   "metadata": {
    "collapsed": false,
    "pycharm": {
     "name": "#%% md\n"
    }
   }
  },
  {
   "cell_type": "code",
   "source": [
    "ml(rf, data_train, data_test, label_train, label_test, params_rf)"
   ],
   "metadata": {
    "collapsed": false,
    "pycharm": {
     "name": "#%%\n"
    }
   },
   "execution_count": null,
   "outputs": []
  },
  {
   "cell_type": "markdown",
   "source": [
    "### Linear Regression"
   ],
   "metadata": {
    "collapsed": false,
    "pycharm": {
     "name": "#%% md\n"
    }
   }
  },
  {
   "cell_type": "code",
   "execution_count": null,
   "outputs": [],
   "source": [
    "ml(lr, data_train, data_test, label_train, label_test, None)"
   ],
   "metadata": {
    "collapsed": false,
    "pycharm": {
     "name": "#%%\n"
    }
   }
  },
  {
   "cell_type": "markdown",
   "source": [
    "### K Nearest Neighbors Regressor"
   ],
   "metadata": {
    "collapsed": false,
    "pycharm": {
     "name": "#%% md\n"
    }
   }
  },
  {
   "cell_type": "code",
   "execution_count": null,
   "outputs": [],
   "source": [
    "ml(knn, data_train, data_test, label_train, label_test, params_knn)"
   ],
   "metadata": {
    "collapsed": false,
    "pycharm": {
     "name": "#%%\n"
    }
   }
  },
  {
   "cell_type": "markdown",
   "source": [
    "### Voting Regressor"
   ],
   "metadata": {
    "collapsed": false,
    "pycharm": {
     "name": "#%% md\n"
    }
   }
  },
  {
   "cell_type": "code",
   "execution_count": null,
   "outputs": [],
   "source": [
    "ml(voting, data_train, data_test, label_train, label_test, None)"
   ],
   "metadata": {
    "collapsed": false,
    "pycharm": {
     "name": "#%%\n"
    }
   }
  },
  {
   "cell_type": "markdown",
   "source": [
    "### Neural Network Regressor"
   ],
   "metadata": {
    "collapsed": false,
    "pycharm": {
     "name": "#%% md\n"
    }
   }
  },
  {
   "cell_type": "code",
   "execution_count": null,
   "outputs": [],
   "source": [
    "ml(nn, data_train, data_test, label_train, label_test, params_nn)"
   ],
   "metadata": {
    "collapsed": false,
    "pycharm": {
     "name": "#%%\n"
    }
   }
  }
 ],
 "metadata": {
  "kernelspec": {
   "display_name": "Python 3 (ipykernel)",
   "language": "python",
   "name": "python3"
  },
  "language_info": {
   "codemirror_mode": {
    "name": "ipython",
    "version": 3
   },
   "file_extension": ".py",
   "mimetype": "text/x-python",
   "name": "python",
   "nbconvert_exporter": "python",
   "pygments_lexer": "ipython3",
   "version": "3.9.7"
  }
 },
 "nbformat": 4,
 "nbformat_minor": 1
}
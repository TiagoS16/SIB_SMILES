{
 "cells": [
  {
   "cell_type": "markdown",
   "metadata": {
    "pycharm": {
     "name": "#%% md\n"
    }
   },
   "source": [
    "# Etapa 3 - Machine Learning\n",
    "\n",
    "## Carla Rafaela Silva, pg42862; José Pereira, pg42871; Tiago Silva, pg42885."
   ]
  },
  {
   "cell_type": "markdown",
   "metadata": {
    "collapsed": false
   },
   "source": [
    "Following the work done previously, we decided to use the molecule's descriptors and the RDK fingerprint, which we deemed to be the best. Each of these was used individualy as features in the machine learning task.\n",
    "To amplify the study, we proposed to do a binary and multiclass classification, and also a regression.\n",
    "The binary classification used the activity outcome as label. This label is divided between \"Active\" (1) and \"Inactive\" (0).\n",
    "The multiclass classification derived from the 'Activity at 46.23 uM' column. We attributed the values a label corresponding to the interval it belong. Label 0: -150 <= value < -100; Label 1: -100 <= value < -50; Label 2: -50 <= value < 0; Label 3: 0 <= value 50.\n",
    "Finnaly, the regression used the same column as the multiclass one, except it used the raw values.\n",
    "\n",
    "All the datasets were divided. 70% for train set and 30% for test set."
   ]
  },
  {
   "cell_type": "markdown",
   "metadata": {},
   "source": [
    "## Imports"
   ]
  },
  {
   "cell_type": "code",
   "execution_count": 1,
   "metadata": {
    "pycharm": {
     "name": "#%%\n"
    }
   },
   "outputs": [
    {
     "name": "stderr",
     "output_type": "stream",
     "text": [
      "2022-01-15 15:45:34.956165: W tensorflow/stream_executor/platform/default/dso_loader.cc:64] Could not load dynamic library 'libcudart.so.11.0'; dlerror: libcudart.so.11.0: cannot open shared object file: No such file or directory; LD_LIBRARY_PATH: \n",
      "2022-01-15 15:45:34.956190: I tensorflow/stream_executor/cuda/cudart_stub.cc:29] Ignore above cudart dlerror if you do not have a GPU set up on your machine.\n"
     ]
    }
   ],
   "source": [
    "import warnings\n",
    "import numpy as np\n",
    "import pandas as pd\n",
    "import matplotlib.pyplot as plt\n",
    "from sklearn.model_selection import train_test_split, cross_val_score, StratifiedKFold\n",
    "from sklearn.metrics import (classification_report, confusion_matrix, accuracy_score, f1_score, recall_score, matthews_corrcoef, ConfusionMatrixDisplay, precision_score, mean_squared_error, r2_score, explained_variance_score)\n",
    "from sklearn.neural_network import MLPClassifier, MLPRegressor\n",
    "from sklearn.ensemble import RandomForestClassifier, VotingClassifier, RandomForestRegressor, VotingRegressor\n",
    "from sklearn.naive_bayes import GaussianNB\n",
    "from sklearn.neighbors import KNeighborsClassifier, KNeighborsRegressor\n",
    "from sklearn.linear_model import LinearRegression\n",
    "from sklearn.experimental import enable_halving_search_cv\n",
    "from sklearn.model_selection import HalvingGridSearchCV\n",
    "from sklearn.preprocessing import StandardScaler\n",
    "from imblearn.under_sampling import ClusterCentroids\n",
    "from loaders.Loaders import CSVLoader\n",
    "from featureImportance.shapValues import ShapValues\n",
    "from utils.utils import draw_rdk_bits, draw_rdk_bit_on_molecule\n",
    "\n",
    "%matplotlib inline\n",
    "\n",
    "warnings.filterwarnings('ignore')"
   ]
  },
  {
   "cell_type": "markdown",
   "metadata": {},
   "source": [
    "# Functions"
   ]
  },
  {
   "cell_type": "code",
   "execution_count": 2,
   "metadata": {
    "pycharm": {
     "name": "#%%\n"
    }
   },
   "outputs": [],
   "source": [
    "def metrics(label_test, predict, reg=False):\n",
    "    print('METRICS:')\n",
    "    if reg is False:\n",
    "        print(f\"Accuracy score:\\n{accuracy_score(label_test, predict)}\\n\")\n",
    "        print(f\"Recall score:\\n{recall_score(label_test, predict, average='macro')}\\n\")\n",
    "        print(f\"Precison score:\\n{precision_score(label_test, predict, average='macro', zero_division=0)}\\n\")\n",
    "        print(f\"F1-score:\\n{f1_score(label_test, predict, average='macro')}\\n\")\n",
    "        print(f\"MCC score:\\n{matthews_corrcoef(label_test, predict)}\\n\")\n",
    "        print(f\"Confusion matrix:\\n{confusion_matrix(label_test, predict)}\\n\")\n",
    "        print(f\"Classification report:\\n{classification_report(label_test, predict, zero_division=0, digits=3)}\\n\")\n",
    "        ConfusionMatrixDisplay(confusion_matrix(label_test, predict)).plot(cmap=plt.cm.Blues)\n",
    "    else:\n",
    "        print(f\"Explained variance score:\\n{explained_variance_score(label_test, predict)}\\n\")\n",
    "        print(f\"R2 score:\\n{r2_score(label_test, predict)}\\n\")\n",
    "        print(f\"Mean squared error:\\n{mean_squared_error(label_test, predict)}\\n\")\n"
   ]
  },
  {
   "cell_type": "markdown",
   "metadata": {
    "collapsed": false
   },
   "source": [
    "The ***metrics*** function recieves the true labels for the test set and the labels predicted by the model and it computes all the relevant metrics as well as the confusion matrix.\n",
    "It also has a optinal argument that indicates if we want to use regrerssion or not. In the case we want regression, the function will show metrics only for regression.\n",
    "\n",
    "Classification scores:\n",
    "**Accuracy score**: Fraction of the prediction the model got right. The best value is 1 and the worst value is 0.\n",
    "**Recall score**: The recall is the ability of the classifier to find all the positive samples. The best value is 1 and the worst value is 0.\n",
    "**Precison score**: The precision is the ability of the classifier not to label as positive a sample that is negative. The best value is 1 and the worst value is 0.\n",
    "**F1-score**: The F1 score can be interpreted as a harmonic mean of the precision and recall. The best value is 1 and the worst value is 0.\n",
    "**MCC score**: Measure of the quality of binary and multiclass classifications. The MCC is in essence a correlation coefficient value between -1 and +1. A coefficient of +1 represents a perfect prediction, 0 an average random prediction and -1 an inverse prediction.\n",
    "\n",
    "Regression scores:\n",
    "**Explained variance score**: Explains the dispersion of errors of a given dataset. Best possible score is 1.0, lower values are worse.\n",
    "**R2 score**: Proportion of the variance in the dependent variable that is predictable from the independent variable. Best possible score is 1.0 and it can be negative (because the model can be arbitrarily worse).\n",
    "**Mean squared error**: Measure of how close a fitted line is to the datapoints. Best possible score is 0.0, higher values are worse."
   ]
  },
  {
   "cell_type": "code",
   "execution_count": 3,
   "metadata": {
    "pycharm": {
     "name": "#%%\n"
    }
   },
   "outputs": [],
   "source": [
    "def ml(model, data_train, data_test, label_train, label_test, param=None, reg=False, sampling=False):\n",
    "    if sampling is True:\n",
    "        data_train, label_train = ClusterCentroids(n_jobs=4).fit_resample(data_train, label_train)\n",
    "        data_test, label_test = ClusterCentroids(n_jobs=4).fit_resample(data_test, label_test)\n",
    "\n",
    "    # k-fold\n",
    "    kfold = StratifiedKFold(n_splits=5, random_state=None, shuffle=False)\n",
    "    # Cross validation\n",
    "    if reg is False:\n",
    "        scores_scoring = cross_val_score(model, X=data_train, y=label_train, cv=kfold, scoring='accuracy')\n",
    "        print(f'Cross Validation Accuracy score: {np.mean(scores_scoring)}\\n')\n",
    "    else:\n",
    "        scores_scoring = cross_val_score(model, X=data_train, y=label_train, cv=5, scoring='explained_variance')\n",
    "        print(f'Cross Validation Explained_variance score: {np.mean(scores_scoring)}\\n')\n",
    "\n",
    "    # model training - FIT\n",
    "    model.fit(data_train, label_train)\n",
    "\n",
    "    # PREDICT\n",
    "    predict = model.predict(X=data_test)\n",
    "    if reg is False:\n",
    "        base_model = accuracy_score(label_test, predict)\n",
    "        print('Base Model Accuracy: {:.3f}\\n'.format(base_model))\n",
    "    else:\n",
    "        base_model = explained_variance_score(label_test, predict)\n",
    "        print('Base Model Explained variance: {:.3f}\\n'.format(base_model))\n",
    "\n",
    "    if param != None:\n",
    "        ## OPTIMIZATION\n",
    "        if reg is False:\n",
    "            search = HalvingGridSearchCV(estimator=model, param_grid=param, cv=kfold, scoring='accuracy', random_state=None,\n",
    "                                         n_jobs=4)\n",
    "        else:\n",
    "            search = HalvingGridSearchCV(estimator=model, param_grid=param, cv=5, scoring='explained_variance', random_state=None,\n",
    "                                         n_jobs=4)\n",
    "        search.fit(X=data_train, y=label_train)\n",
    "\n",
    "        # OPTI MODEL FITTED\n",
    "        best_model = search.best_estimator_\n",
    "        predict_opt = best_model.predict(X=data_test)\n",
    "        if reg is False:\n",
    "            opt_model = accuracy_score(label_test, predict_opt)\n",
    "            print('Optimized Model Accuracy: {:.3f}\\n'.format(opt_model))\n",
    "        else:\n",
    "            opt_model = explained_variance_score(label_test, predict_opt)\n",
    "            print('Optimized Model Explained variance: {:.3f}\\n'.format(opt_model))\n",
    "\n",
    "        improv = ((opt_model-base_model)/base_model*100)\n",
    "        print('Optimized model improved {:.3f}% over base model.\\n'.format(improv))\n",
    "\n",
    "        if improv >= 0:\n",
    "            predict = predict_opt\n",
    "\n",
    "    # Metrics\n",
    "    metrics(label_test, predict, reg=reg)"
   ]
  },
  {
   "cell_type": "markdown",
   "metadata": {},
   "source": [
    "The ***ml*** function will firstly do a cross validation to evaluate the model adaptation to the data. Secondly, it will fit the model and then predict the test set labels and it's corresponding accuracy. Lastly, it will do a hyperparameter optimization and then use the best parameters to predict the test set labels and it's accuracy."
   ]
  },
  {
   "cell_type": "markdown",
   "metadata": {},
   "source": [
    "# Models"
   ]
  },
  {
   "cell_type": "code",
   "execution_count": 4,
   "metadata": {
    "pycharm": {
     "name": "#%%\n"
    }
   },
   "outputs": [],
   "source": [
    "rf = RandomForestClassifier(n_jobs=4)\n",
    "nb = GaussianNB()\n",
    "knn = KNeighborsClassifier(n_jobs=4)\n",
    "voting = VotingClassifier(estimators=[('Random Forest', rf), ('Naive Bayes', nb), ('KNN', knn)], voting='soft', n_jobs=4)\n",
    "nn = MLPClassifier(early_stopping=True)"
   ]
  },
  {
   "cell_type": "markdown",
   "metadata": {
    "collapsed": false
   },
   "source": [
    "These models were used only to classification task.\n",
    "We used **Random Forest**, **Gaussian Naive Bayes**, **K Nearest Neighbors**, **Voting** which used all of the previous models, and **Neural Network** (Multi-Layer Perceptron)."
   ]
  },
  {
   "cell_type": "markdown",
   "metadata": {},
   "source": [
    "# Hyperparameters"
   ]
  },
  {
   "cell_type": "code",
   "execution_count": 5,
   "metadata": {
    "pycharm": {
     "name": "#%%\n"
    }
   },
   "outputs": [],
   "source": [
    "params_rf = {'n_estimators': range(50, 251, 25), 'criterion': ['entropy', 'gini'], 'max_features': ['sqrt', 'log2', 'auto'],\n",
    "          'bootstrap': [True, False]}\n",
    "params_knn = {'n_neighbors': range(2, 17, 2), 'weights': ['distance', 'uniform'], 'leaf_size': range(10, 50, 10), 'p': [1, 2]}\n",
    "params_nn = {'activation': ['identity', 'logistic', 'tanh', 'relu'], 'learning_rate': ['constant', 'invscaling', 'adaptive']}"
   ]
  },
  {
   "cell_type": "markdown",
   "metadata": {
    "collapsed": false
   },
   "source": [
    "We only optimized the hyperparameters for the random forest, k nearest neighbors, and neural network models."
   ]
  },
  {
   "cell_type": "markdown",
   "metadata": {},
   "source": [
    "# Binary Classification"
   ]
  },
  {
   "cell_type": "markdown",
   "metadata": {},
   "source": [
    "### Load data"
   ]
  },
  {
   "cell_type": "code",
   "execution_count": 6,
   "metadata": {
    "pycharm": {
     "name": "#%%\n"
    }
   },
   "outputs": [],
   "source": [
    "descriptors = pd.read_csv('../dataset/binary_class/descriptors_fs.csv', sep=',')\n",
    "fingerprint = pd.read_csv('../dataset/binary_class/rdk_fs.csv', sep=',')\n",
    "\n",
    "descriptors_data_b = descriptors.drop(\"activity\", axis=1)\n",
    "descriptors_label_b = descriptors[\"activity\"]\n",
    "fingerprint_data_b = fingerprint.drop(\"activity\", axis=1)\n",
    "fingerprint_label_b = fingerprint[\"activity\"]"
   ]
  },
  {
   "cell_type": "code",
   "execution_count": 7,
   "metadata": {
    "collapsed": false,
    "pycharm": {
     "name": "#%%\n"
    }
   },
   "outputs": [
    {
     "data": {
      "text/plain": [
       "activity\n",
       "0    19998\n",
       "1    19991\n",
       "dtype: int64"
      ]
     },
     "execution_count": 7,
     "metadata": {},
     "output_type": "execute_result"
    }
   ],
   "source": [
    "descriptors.groupby('activity').size()"
   ]
  },
  {
   "cell_type": "code",
   "execution_count": 8,
   "metadata": {
    "collapsed": false,
    "pycharm": {
     "name": "#%%\n"
    }
   },
   "outputs": [
    {
     "data": {
      "text/plain": [
       "activity\n",
       "0    19998\n",
       "1    19992\n",
       "dtype: int64"
      ]
     },
     "execution_count": 8,
     "metadata": {},
     "output_type": "execute_result"
    }
   ],
   "source": [
    "fingerprint.groupby('activity').size()"
   ]
  },
  {
   "cell_type": "markdown",
   "metadata": {
    "collapsed": false
   },
   "source": [
    "As we can see, the binary labels are balanced."
   ]
  },
  {
   "cell_type": "markdown",
   "metadata": {},
   "source": [
    "## Descriptors"
   ]
  },
  {
   "cell_type": "code",
   "execution_count": 9,
   "metadata": {
    "collapsed": false,
    "pycharm": {
     "name": "#%%\n"
    }
   },
   "outputs": [],
   "source": [
    "# SPLIT\n",
    "data_train, data_test, label_train, label_test = train_test_split(descriptors_data_b, descriptors_label_b, test_size=0.3)"
   ]
  },
  {
   "cell_type": "markdown",
   "metadata": {},
   "source": [
    "### Random Forest"
   ]
  },
  {
   "cell_type": "code",
   "execution_count": 10,
   "metadata": {
    "pycharm": {
     "name": "#%%\n"
    }
   },
   "outputs": [
    {
     "name": "stdout",
     "output_type": "stream",
     "text": [
      "Cross Validation Accuracy score: 0.8144827194107354\n",
      "\n",
      "Base Model Accuracy: 0.822\n",
      "\n",
      "Optimized Model Accuracy: 0.829\n",
      "\n",
      "Optimized model improved 0.770% over base model.\n",
      "\n",
      "METRICS:\n",
      "Accuracy score:\n",
      "0.8287071767941986\n",
      "\n",
      "Recall score:\n",
      "0.8286989639164151\n",
      "\n",
      "Precison score:\n",
      "0.8287256772173441\n",
      "\n",
      "F1-score:\n",
      "0.8287016734632805\n",
      "\n",
      "MCC score:\n",
      "0.657424640591035\n",
      "\n",
      "Confusion matrix:\n",
      "[[5005 1006]\n",
      " [1049 4937]]\n",
      "\n",
      "Classification report:\n",
      "              precision    recall  f1-score   support\n",
      "\n",
      "           0      0.827     0.833     0.830      6011\n",
      "           1      0.831     0.825     0.828      5986\n",
      "\n",
      "    accuracy                          0.829     11997\n",
      "   macro avg      0.829     0.829     0.829     11997\n",
      "weighted avg      0.829     0.829     0.829     11997\n",
      "\n",
      "\n"
     ]
    },
    {
     "data": {
      "image/png": "[encoded data removed]",
      "text/plain": [
       "<Figure size 432x288 with 2 Axes>"
      ]
     },
     "metadata": {
      "needs_background": "light"
     },
     "output_type": "display_data"
    }
   ],
   "source": [
    "ml(rf, data_train, data_test, label_train, label_test, param=params_rf)"
   ]
  },
  {
   "cell_type": "markdown",
   "metadata": {},
   "source": [
    "### Gaussian Naive Bayes"
   ]
  },
  {
   "cell_type": "code",
   "execution_count": 11,
   "metadata": {
    "pycharm": {
     "name": "#%%\n"
    }
   },
   "outputs": [
    {
     "name": "stdout",
     "output_type": "stream",
     "text": [
      "Cross Validation Accuracy score: 0.6994853748509804\n",
      "\n",
      "Base Model Accuracy: 0.695\n",
      "\n",
      "METRICS:\n",
      "Accuracy score:\n",
      "0.6947570225889805\n",
      "\n",
      "Recall score:\n",
      "0.6947060192520417\n",
      "\n",
      "Precison score:\n",
      "0.6951885191778875\n",
      "\n",
      "F1-score:\n",
      "0.6945517584463263\n",
      "\n",
      "MCC score:\n",
      "0.38989423987962313\n",
      "\n",
      "Confusion matrix:\n",
      "[[4323 1688]\n",
      " [1974 4012]]\n",
      "\n",
      "Classification report:\n",
      "              precision    recall  f1-score   support\n",
      "\n",
      "           0      0.687     0.719     0.702      6011\n",
      "           1      0.704     0.670     0.687      5986\n",
      "\n",
      "    accuracy                          0.695     11997\n",
      "   macro avg      0.695     0.695     0.695     11997\n",
      "weighted avg      0.695     0.695     0.695     11997\n",
      "\n",
      "\n"
     ]
    },
    {
     "data": {
      "image/png": "[encoded data removed]",
      "text/plain": [
       "<Figure size 432x288 with 2 Axes>"
      ]
     },
     "metadata": {
      "needs_background": "light"
     },
     "output_type": "display_data"
    }
   ],
   "source": [
    "ml(nb, data_train, data_test, label_train, label_test, param=None)"
   ]
  },
  {
   "cell_type": "markdown",
   "metadata": {},
   "source": [
    "### K Nearest Neighbors"
   ]
  },
  {
   "cell_type": "code",
   "execution_count": 12,
   "metadata": {
    "pycharm": {
     "name": "#%%\n"
    }
   },
   "outputs": [
    {
     "name": "stdout",
     "output_type": "stream",
     "text": [
      "Cross Validation Accuracy score: 0.7952630557656489\n",
      "\n",
      "Base Model Accuracy: 0.795\n",
      "\n",
      "Optimized Model Accuracy: 0.805\n",
      "\n",
      "Optimized model improved 1.290% over base model.\n",
      "\n",
      "METRICS:\n",
      "Accuracy score:\n",
      "0.8048678836375761\n",
      "\n",
      "Recall score:\n",
      "0.8048039836533123\n",
      "\n",
      "Precison score:\n",
      "0.8060017685889473\n",
      "\n",
      "F1-score:\n",
      "0.8046635681050573\n",
      "\n",
      "MCC score:\n",
      "0.6108045778180453\n",
      "\n",
      "Confusion matrix:\n",
      "[[5022  989]\n",
      " [1352 4634]]\n",
      "\n",
      "Classification report:\n",
      "              precision    recall  f1-score   support\n",
      "\n",
      "           0      0.788     0.835     0.811      6011\n",
      "           1      0.824     0.774     0.798      5986\n",
      "\n",
      "    accuracy                          0.805     11997\n",
      "   macro avg      0.806     0.805     0.805     11997\n",
      "weighted avg      0.806     0.805     0.805     11997\n",
      "\n",
      "\n"
     ]
    },
    {
     "data": {
      "image/png": "[encoded data removed]",
      "text/plain": [
       "<Figure size 432x288 with 2 Axes>"
      ]
     },
     "metadata": {
      "needs_background": "light"
     },
     "output_type": "display_data"
    }
   ],
   "source": [
    "ml(knn, data_train, data_test, label_train, label_test, param=params_knn)"
   ]
  },
  {
   "cell_type": "markdown",
   "metadata": {},
   "source": [
    "### Voting Classifier\n",
    "This model will include all the previous models."
   ]
  },
  {
   "cell_type": "code",
   "execution_count": 13,
   "metadata": {
    "pycharm": {
     "name": "#%%\n"
    }
   },
   "outputs": [
    {
     "name": "stdout",
     "output_type": "stream",
     "text": [
      "Cross Validation Accuracy score: 0.769541248529745\n",
      "\n",
      "Base Model Accuracy: 0.771\n",
      "\n",
      "METRICS:\n",
      "Accuracy score:\n",
      "0.7710260898557972\n",
      "\n",
      "Recall score:\n",
      "0.7709481470183603\n",
      "\n",
      "Precison score:\n",
      "0.7725183721532325\n",
      "\n",
      "F1-score:\n",
      "0.7706771152826666\n",
      "\n",
      "MCC score:\n",
      "0.543464250759434\n",
      "\n",
      "Confusion matrix:\n",
      "[[4859 1152]\n",
      " [1595 4391]]\n",
      "\n",
      "Classification report:\n",
      "              precision    recall  f1-score   support\n",
      "\n",
      "           0      0.753     0.808     0.780      6011\n",
      "           1      0.792     0.734     0.762      5986\n",
      "\n",
      "    accuracy                          0.771     11997\n",
      "   macro avg      0.773     0.771     0.771     11997\n",
      "weighted avg      0.772     0.771     0.771     11997\n",
      "\n",
      "\n"
     ]
    },
    {
     "data": {
      "image/png": "[encoded data removed]",
      "text/plain": [
       "<Figure size 432x288 with 2 Axes>"
      ]
     },
     "metadata": {
      "needs_background": "light"
     },
     "output_type": "display_data"
    }
   ],
   "source": [
    "ml(voting, data_train, data_test, label_train, label_test, param=None)"
   ]
  },
  {
   "cell_type": "markdown",
   "metadata": {},
   "source": [
    "### Neural Network"
   ]
  },
  {
   "cell_type": "code",
   "execution_count": 14,
   "metadata": {
    "pycharm": {
     "name": "#%%\n"
    }
   },
   "outputs": [
    {
     "name": "stdout",
     "output_type": "stream",
     "text": [
      "Cross Validation Accuracy score: 0.8010506201631857\n",
      "\n",
      "Base Model Accuracy: 0.804\n",
      "\n",
      "Optimized Model Accuracy: 0.803\n",
      "\n",
      "Optimized model improved -0.187% over base model.\n",
      "\n",
      "METRICS:\n",
      "Accuracy score:\n",
      "0.8043677586063183\n",
      "\n",
      "Recall score:\n",
      "0.8043413753702353\n",
      "\n",
      "Precison score:\n",
      "0.804555382686476\n",
      "\n",
      "F1-score:\n",
      "0.804327538678759\n",
      "\n",
      "MCC score:\n",
      "0.6088967204484204\n",
      "\n",
      "Confusion matrix:\n",
      "[[4911 1100]\n",
      " [1247 4739]]\n",
      "\n",
      "Classification report:\n",
      "              precision    recall  f1-score   support\n",
      "\n",
      "           0      0.797     0.817     0.807      6011\n",
      "           1      0.812     0.792     0.802      5986\n",
      "\n",
      "    accuracy                          0.804     11997\n",
      "   macro avg      0.805     0.804     0.804     11997\n",
      "weighted avg      0.805     0.804     0.804     11997\n",
      "\n",
      "\n"
     ]
    },
    {
     "data": {
      "image/png": "[encoded data removed]",
      "text/plain": [
       "<Figure size 432x288 with 2 Axes>"
      ]
     },
     "metadata": {
      "needs_background": "light"
     },
     "output_type": "display_data"
    }
   ],
   "source": [
    "ml(nn, data_train, data_test, label_train, label_test, param=params_nn)"
   ]
  },
  {
   "cell_type": "markdown",
   "metadata": {
    "collapsed": false
   },
   "source": [
    "### Model comparison using descriptors"
   ]
  },
  {
   "cell_type": "markdown",
   "metadata": {
    "collapsed": false
   },
   "source": [
    "| Model | Accuracy | Recall | Precision | F1-score | MCC |\n",
    "| :-: | :-: | :-: | :-: | :-: | :-: |\n",
    "| **RF** | **0.829** | **0.829** | **0.829** | **0.829** | **0.657** |\n",
    "| **NB** | 0.695 | 0.695 | 0.695 | 0.695 | 0.390 |\n",
    "| **KNN** | 0.805 | 0.805 | 0.806 | 0.805 | 0.611 |\n",
    "| **Voting** | 0.771 | 0.771 | 0.773 | 0.771 | 0.543 |\n",
    "| **NN** | 0.804 | 0.804 | 0.805 | 0.804 | 0.610 |\n",
    "\n",
    "Following the results, we concluded that the best model to classify the molecule's activity using the descriptors would be **Random Forest**.\n",
    "Tracing back, it is noteworthy that the optimized neural network model did not improve over the default model. This could be explained with the low depth of optimization, but we were also limited by computational resources. The other two models improved with optimization. Random forest improved 0.770% over the default model. K nearest neighbors improved 1.290% over the default model.\n"
   ]
  },
  {
   "cell_type": "markdown",
   "metadata": {
    "collapsed": false,
    "pycharm": {
     "name": "#%% md\n"
    }
   },
   "source": [
    "## Descriptors without feature selection\n",
    "\n",
    "We only used random forest to compare both datasets, firstly because it was the best model, and secondly because we did not had the computational power to do all models."
   ]
  },
  {
   "cell_type": "code",
   "execution_count": 15,
   "metadata": {
    "collapsed": false,
    "pycharm": {
     "name": "#%%\n"
    }
   },
   "outputs": [],
   "source": [
    "descriptors = pd.read_csv('../dataset/binary_class/descriptors_binary.csv', sep=',')\n",
    "\n",
    "descriptors_data_b = descriptors.drop(\"activity\", axis=1)\n",
    "descriptors_data_b = StandardScaler().fit_transform(descriptors_data_b)\n",
    "descriptors_label_b = descriptors[\"activity\"]"
   ]
  },
  {
   "cell_type": "markdown",
   "metadata": {
    "collapsed": false,
    "pycharm": {
     "name": "#%% md\n"
    }
   },
   "source": [
    "### Random Forest"
   ]
  },
  {
   "cell_type": "code",
   "execution_count": 16,
   "metadata": {
    "collapsed": false,
    "pycharm": {
     "name": "#%%\n"
    }
   },
   "outputs": [
    {
     "name": "stdout",
     "output_type": "stream",
     "text": [
      "Cross Validation Accuracy score: 0.8155545626767807\n",
      "\n",
      "Base Model Accuracy: 0.820\n",
      "\n",
      "Optimized Model Accuracy: 0.830\n",
      "\n",
      "Optimized model improved 1.179% over base model.\n",
      "\n",
      "METRICS:\n",
      "Accuracy score:\n",
      "0.8301241977160957\n",
      "\n",
      "Recall score:\n",
      "0.8301116485240918\n",
      "\n",
      "Precison score:\n",
      "0.8301696775935594\n",
      "\n",
      "F1-score:\n",
      "0.830113988833747\n",
      "\n",
      "MCC score:\n",
      "0.660281323567698\n",
      "\n",
      "Confusion matrix:\n",
      "[[5026  985]\n",
      " [1053 4933]]\n",
      "\n",
      "Classification report:\n",
      "              precision    recall  f1-score   support\n",
      "\n",
      "           0      0.827     0.836     0.831      6011\n",
      "           1      0.834     0.824     0.829      5986\n",
      "\n",
      "    accuracy                          0.830     11997\n",
      "   macro avg      0.830     0.830     0.830     11997\n",
      "weighted avg      0.830     0.830     0.830     11997\n",
      "\n",
      "\n"
     ]
    },
    {
     "data": {
      "image/png": "[encoded data removed]",
      "text/plain": [
       "<Figure size 432x288 with 2 Axes>"
      ]
     },
     "metadata": {
      "needs_background": "light"
     },
     "output_type": "display_data"
    }
   ],
   "source": [
    "ml(rf, data_train, data_test, label_train, label_test, param=params_rf)"
   ]
  },
  {
   "cell_type": "markdown",
   "metadata": {
    "collapsed": false
   },
   "source": [
    "### Comparison between feature selection and all features"
   ]
  },
  {
   "cell_type": "markdown",
   "metadata": {
    "collapsed": false
   },
   "source": [
    "| Model | Accuracy | Recall | Precision | F1-score | MCC |\n",
    "| :-: | :-: | :-: | :-: | :-: | :-: |\n",
    "| **RF_FS** | 0.829 | 0.829 | 0.829 | 0.829 | 0.657 |\n",
    "| **RF_noFS** | **0.830** | **0.830** | **0.830** | **0.830** | **0.660** |\n",
    "\n",
    "Compairing the results using the dataset with feature selection and the dataset without feature selection, it is noteworthy that the model performed a small margin better on the dataset without feature selection. This could be explained by the low number of features, as the dataset without feature selection has only **208** features. Even though, the dataset with feature selection performed worse, we deemed it feasible to be used in this case since the difference is negligible."
   ]
  },
  {
   "cell_type": "markdown",
   "metadata": {},
   "source": [
    "## Fingerprints"
   ]
  },
  {
   "cell_type": "code",
   "execution_count": 17,
   "metadata": {
    "collapsed": false,
    "pycharm": {
     "name": "#%%\n"
    }
   },
   "outputs": [],
   "source": [
    "# SPLIT\n",
    "data_train, data_test, label_train, label_test = train_test_split(fingerprint_data_b, fingerprint_label_b, test_size=0.3)"
   ]
  },
  {
   "cell_type": "markdown",
   "metadata": {
    "pycharm": {
     "name": "#%% md\n"
    }
   },
   "source": [
    "### Random Forest"
   ]
  },
  {
   "cell_type": "code",
   "execution_count": 18,
   "metadata": {
    "pycharm": {
     "name": "#%%\n"
    }
   },
   "outputs": [
    {
     "name": "stdout",
     "output_type": "stream",
     "text": [
      "Cross Validation Accuracy score: 0.8070947633237984\n",
      "\n",
      "Base Model Accuracy: 0.812\n",
      "\n",
      "Optimized Model Accuracy: 0.815\n",
      "\n",
      "Optimized model improved 0.339% over base model.\n",
      "\n",
      "METRICS:\n",
      "Accuracy score:\n",
      "0.8151204467783613\n",
      "\n",
      "Recall score:\n",
      "0.8150400586309279\n",
      "\n",
      "Precison score:\n",
      "0.8153943633090053\n",
      "\n",
      "F1-score:\n",
      "0.815049481491927\n",
      "\n",
      "MCC score:\n",
      "0.6304343223801608\n",
      "\n",
      "Confusion matrix:\n",
      "[[5007 1023]\n",
      " [1195 4772]]\n",
      "\n",
      "Classification report:\n",
      "              precision    recall  f1-score   support\n",
      "\n",
      "           0      0.807     0.830     0.819      6030\n",
      "           1      0.823     0.800     0.811      5967\n",
      "\n",
      "    accuracy                          0.815     11997\n",
      "   macro avg      0.815     0.815     0.815     11997\n",
      "weighted avg      0.815     0.815     0.815     11997\n",
      "\n",
      "\n"
     ]
    },
    {
     "data": {
      "image/png": "[encoded data removed]",
      "text/plain": [
       "<Figure size 432x288 with 2 Axes>"
      ]
     },
     "metadata": {
      "needs_background": "light"
     },
     "output_type": "display_data"
    }
   ],
   "source": [
    "ml(rf, data_train, data_test, label_train, label_test, param=params_rf)"
   ]
  },
  {
   "cell_type": "markdown",
   "metadata": {
    "pycharm": {
     "name": "#%% md\n"
    }
   },
   "source": [
    "### Gaussian Naive Bayes"
   ]
  },
  {
   "cell_type": "code",
   "execution_count": 19,
   "metadata": {
    "pycharm": {
     "name": "#%%\n"
    }
   },
   "outputs": [
    {
     "name": "stdout",
     "output_type": "stream",
     "text": [
      "Cross Validation Accuracy score: 0.6613794021427676\n",
      "\n",
      "Base Model Accuracy: 0.668\n",
      "\n",
      "METRICS:\n",
      "Accuracy score:\n",
      "0.6680836875885638\n",
      "\n",
      "Recall score:\n",
      "0.6681043000182596\n",
      "\n",
      "Precison score:\n",
      "0.6681058885229207\n",
      "\n",
      "F1-score:\n",
      "0.668083629935371\n",
      "\n",
      "MCC score:\n",
      "0.3362101885374278\n",
      "\n",
      "Confusion matrix:\n",
      "[[4005 2025]\n",
      " [1957 4010]]\n",
      "\n",
      "Classification report:\n",
      "              precision    recall  f1-score   support\n",
      "\n",
      "           0      0.672     0.664     0.668      6030\n",
      "           1      0.664     0.672     0.668      5967\n",
      "\n",
      "    accuracy                          0.668     11997\n",
      "   macro avg      0.668     0.668     0.668     11997\n",
      "weighted avg      0.668     0.668     0.668     11997\n",
      "\n",
      "\n"
     ]
    },
    {
     "data": {
      "image/png": "[encoded data removed]",
      "text/plain": [
       "<Figure size 432x288 with 2 Axes>"
      ]
     },
     "metadata": {
      "needs_background": "light"
     },
     "output_type": "display_data"
    }
   ],
   "source": [
    "ml(nb, data_train, data_test, label_train, label_test, param=None)"
   ]
  },
  {
   "cell_type": "markdown",
   "metadata": {
    "pycharm": {
     "name": "#%% md\n"
    }
   },
   "source": [
    "### K Nearest Neighbors"
   ]
  },
  {
   "cell_type": "code",
   "execution_count": 20,
   "metadata": {
    "pycharm": {
     "name": "#%%\n"
    }
   },
   "outputs": [
    {
     "name": "stdout",
     "output_type": "stream",
     "text": [
      "Cross Validation Accuracy score: 0.7740506282670163\n",
      "\n",
      "Base Model Accuracy: 0.787\n",
      "\n",
      "Optimized Model Accuracy: 0.800\n",
      "\n",
      "Optimized model improved 1.673% over base model.\n",
      "\n",
      "METRICS:\n",
      "Accuracy score:\n",
      "0.8002834041843794\n",
      "\n",
      "Recall score:\n",
      "0.7999408437951019\n",
      "\n",
      "Precison score:\n",
      "0.8053847383671575\n",
      "\n",
      "F1-score:\n",
      "0.7993158892587884\n",
      "\n",
      "MCC score:\n",
      "0.6053011022887425\n",
      "\n",
      "Confusion matrix:\n",
      "[[5217  813]\n",
      " [1583 4384]]\n",
      "\n",
      "Classification report:\n",
      "              precision    recall  f1-score   support\n",
      "\n",
      "           0      0.767     0.865     0.813      6030\n",
      "           1      0.844     0.735     0.785      5967\n",
      "\n",
      "    accuracy                          0.800     11997\n",
      "   macro avg      0.805     0.800     0.799     11997\n",
      "weighted avg      0.805     0.800     0.799     11997\n",
      "\n",
      "\n"
     ]
    },
    {
     "data": {
      "image/png": "[encoded data removed]",
      "text/plain": [
       "<Figure size 432x288 with 2 Axes>"
      ]
     },
     "metadata": {
      "needs_background": "light"
     },
     "output_type": "display_data"
    }
   ],
   "source": [
    "ml(knn, data_train, data_test, label_train, label_test, param=params_knn)"
   ]
  },
  {
   "cell_type": "markdown",
   "metadata": {
    "pycharm": {
     "name": "#%% md\n"
    }
   },
   "source": [
    "### Voting Classifier\n",
    "This model will include all the previous models."
   ]
  },
  {
   "cell_type": "code",
   "execution_count": 21,
   "metadata": {
    "pycharm": {
     "name": "#%%\n"
    }
   },
   "outputs": [
    {
     "name": "stdout",
     "output_type": "stream",
     "text": [
      "Cross Validation Accuracy score: 0.7505089492771032\n",
      "\n",
      "Base Model Accuracy: 0.764\n",
      "\n",
      "METRICS:\n",
      "Accuracy score:\n",
      "0.7636909227306826\n",
      "\n",
      "Recall score:\n",
      "0.7635745355675119\n",
      "\n",
      "Precison score:\n",
      "0.7641531453953402\n",
      "\n",
      "F1-score:\n",
      "0.7635289313181025\n",
      "\n",
      "MCC score:\n",
      "0.5277273637638064\n",
      "\n",
      "Confusion matrix:\n",
      "[[4738 1292]\n",
      " [1543 4424]]\n",
      "\n",
      "Classification report:\n",
      "              precision    recall  f1-score   support\n",
      "\n",
      "           0      0.754     0.786     0.770      6030\n",
      "           1      0.774     0.741     0.757      5967\n",
      "\n",
      "    accuracy                          0.764     11997\n",
      "   macro avg      0.764     0.764     0.764     11997\n",
      "weighted avg      0.764     0.764     0.764     11997\n",
      "\n",
      "\n"
     ]
    },
    {
     "data": {
      "image/png": "[encoded data removed]",
      "text/plain": [
       "<Figure size 432x288 with 2 Axes>"
      ]
     },
     "metadata": {
      "needs_background": "light"
     },
     "output_type": "display_data"
    }
   ],
   "source": [
    "ml(voting, data_train, data_test, label_train, label_test, param=None)"
   ]
  },
  {
   "cell_type": "markdown",
   "metadata": {
    "pycharm": {
     "name": "#%% md\n"
    }
   },
   "source": [
    "### Neural Network"
   ]
  },
  {
   "cell_type": "code",
   "execution_count": 22,
   "metadata": {
    "pycharm": {
     "name": "#%%\n"
    }
   },
   "outputs": [
    {
     "name": "stdout",
     "output_type": "stream",
     "text": [
      "Cross Validation Accuracy score: 0.7743363808203132\n",
      "\n",
      "Base Model Accuracy: 0.781\n",
      "\n",
      "Optimized Model Accuracy: 0.778\n",
      "\n",
      "Optimized model improved -0.427% over base model.\n",
      "\n",
      "METRICS:\n",
      "Accuracy score:\n",
      "0.780861882137201\n",
      "\n",
      "Recall score:\n",
      "0.7808335146789931\n",
      "\n",
      "Precison score:\n",
      "0.7808789005624875\n",
      "\n",
      "F1-score:\n",
      "0.7808420932429059\n",
      "\n",
      "MCC score:\n",
      "0.5617124134079103\n",
      "\n",
      "Confusion matrix:\n",
      "[[4741 1289]\n",
      " [1340 4627]]\n",
      "\n",
      "Classification report:\n",
      "              precision    recall  f1-score   support\n",
      "\n",
      "           0      0.780     0.786     0.783      6030\n",
      "           1      0.782     0.775     0.779      5967\n",
      "\n",
      "    accuracy                          0.781     11997\n",
      "   macro avg      0.781     0.781     0.781     11997\n",
      "weighted avg      0.781     0.781     0.781     11997\n",
      "\n",
      "\n"
     ]
    },
    {
     "data": {
      "image/png": "[encoded data removed]",
      "text/plain": [
       "<Figure size 432x288 with 2 Axes>"
      ]
     },
     "metadata": {
      "needs_background": "light"
     },
     "output_type": "display_data"
    }
   ],
   "source": [
    "ml(nn, data_train, data_test, label_train, label_test, param=params_nn)"
   ]
  },
  {
   "cell_type": "markdown",
   "metadata": {
    "collapsed": false
   },
   "source": [
    "### Model comparison using fingerprints"
   ]
  },
  {
   "cell_type": "markdown",
   "metadata": {
    "collapsed": false
   },
   "source": [
    "| Model | Accuracy | Recall | Precision | F1-score | MCC |\n",
    "| :-: | :-: | :-: | :-: | :-: | :-: |\n",
    "| **RF** | **0.815** | **0.815** | **0.815** | **0.815** | **0.630** |\n",
    "| **NB** | 0.668 | 0.668 | 0.668 | 0.668 | 0.336 |\n",
    "| **KNN** | 0.800 | 0.800 | 0.805 | 0.799 | 0.605 |\n",
    "| **Voting** | 0.764 | 0.764 | 0.764 | 0.764 | 0.528 |\n",
    "| **NN** | 0.781 | 0.781 | 0.781 | 0.781 | 0.562 |\n",
    "\n",
    "Following the results, we concluded that the best model to classify the molecule's activity using the fingerprints would be **Random Forest**.\n",
    "Tracing back, it is noteworthy that the optimized neural network model did not improve over the default model. The other two models improved with optimization. Random forest improved 0.339% over the base model. K nearest neighbors improved 1.673% over the base model."
   ]
  },
  {
   "cell_type": "markdown",
   "metadata": {
    "collapsed": false
   },
   "source": [
    "## Comparison between descriptors and fingerprints"
   ]
  },
  {
   "cell_type": "markdown",
   "metadata": {
    "collapsed": false
   },
   "source": [
    "| Features | Model | Accuracy | Recall | Precision | F1-score | MCC |\n",
    "|:-: | :-: | :-: | :-: | :-: | :-: | :-: |\n",
    "| **Descriptors** | RF | **0.829** | **0.829** | **0.829** | **0.829** | **0.657** |\n",
    "| **Fingerprints** | RF | 0.815 | 0.815 | 0.815 | 0.815 | 0.630 |\n",
    "\n",
    "Comparing the results from both feature's type, we concluded that the **descriptors** would be better to classify the molecule's activity."
   ]
  },
  {
   "cell_type": "markdown",
   "metadata": {},
   "source": [
    "# Multiclass"
   ]
  },
  {
   "cell_type": "markdown",
   "metadata": {},
   "source": [
    "### Load data"
   ]
  },
  {
   "cell_type": "code",
   "execution_count": 23,
   "metadata": {
    "pycharm": {
     "name": "#%%\n"
    }
   },
   "outputs": [],
   "source": [
    "descriptors = pd.read_csv('../dataset/multiclass/descriptors_fs.csv', sep=',')\n",
    "fingerprint = pd.read_csv('../dataset/multiclass/rdk_fs.csv', sep=',')\n",
    "\n",
    "descriptors_data_m = descriptors.drop(\"Activity at 46.23 uM\", axis=1)\n",
    "descriptors_label_m = descriptors[\"Activity at 46.23 uM\"]\n",
    "fingerprint_data_m = fingerprint.drop(\"Activity at 46.23 uM\", axis=1)\n",
    "fingerprint_label_m = fingerprint[\"Activity at 46.23 uM\"]"
   ]
  },
  {
   "cell_type": "code",
   "execution_count": 24,
   "metadata": {
    "collapsed": false,
    "pycharm": {
     "name": "#%%\n"
    }
   },
   "outputs": [
    {
     "data": {
      "text/plain": [
       "Activity at 46.23 uM\n",
       "0     5295\n",
       "1    14613\n",
       "2    14687\n",
       "3     5346\n",
       "dtype: int64"
      ]
     },
     "execution_count": 24,
     "metadata": {},
     "output_type": "execute_result"
    }
   ],
   "source": [
    "descriptors.groupby(\"Activity at 46.23 uM\").size()"
   ]
  },
  {
   "cell_type": "code",
   "execution_count": 25,
   "metadata": {
    "collapsed": false,
    "pycharm": {
     "name": "#%%\n"
    }
   },
   "outputs": [
    {
     "data": {
      "text/plain": [
       "Activity at 46.23 uM\n",
       "0     5295\n",
       "1    14613\n",
       "2    14687\n",
       "3     5346\n",
       "dtype: int64"
      ]
     },
     "execution_count": 25,
     "metadata": {},
     "output_type": "execute_result"
    }
   ],
   "source": [
    "fingerprint.groupby(\"Activity at 46.23 uM\").size()"
   ]
  },
  {
   "cell_type": "markdown",
   "metadata": {
    "collapsed": false
   },
   "source": [
    "As we can see, the multiclass labels can be divided into two balanced groups: label 0 and 3, and label 1 and 2. The labels from the former group have nearly three times less molecules then the later group. This imbalance could be an issue with the classification."
   ]
  },
  {
   "cell_type": "markdown",
   "metadata": {
    "collapsed": false
   },
   "source": [
    "## Descriptors"
   ]
  },
  {
   "cell_type": "code",
   "execution_count": 26,
   "metadata": {
    "collapsed": false,
    "pycharm": {
     "name": "#%%\n"
    }
   },
   "outputs": [],
   "source": [
    "# SPLIT\n",
    "data_train, data_test, label_train, label_test = train_test_split(descriptors_data_m, descriptors_label_m, test_size=0.3)"
   ]
  },
  {
   "cell_type": "markdown",
   "metadata": {
    "pycharm": {
     "name": "#%% md\n"
    }
   },
   "source": [
    "### Random Forest Classifier"
   ]
  },
  {
   "cell_type": "code",
   "execution_count": 27,
   "metadata": {
    "pycharm": {
     "name": "#%%\n"
    }
   },
   "outputs": [
    {
     "name": "stdout",
     "output_type": "stream",
     "text": [
      "Cross Validation Accuracy score: 0.5687462529832203\n",
      "\n",
      "Base Model Accuracy: 0.567\n",
      "\n",
      "Optimized Model Accuracy: 0.572\n",
      "\n",
      "Optimized model improved 0.898% over base model.\n",
      "\n",
      "METRICS:\n",
      "Accuracy score:\n",
      "0.572060418926813\n",
      "\n",
      "Recall score:\n",
      "0.4122046165424656\n",
      "\n",
      "Precison score:\n",
      "0.46646544489702635\n",
      "\n",
      "F1-score:\n",
      "0.38585287225675485\n",
      "\n",
      "MCC score:\n",
      "0.3530885861910202\n",
      "\n",
      "Confusion matrix:\n",
      "[[ 123 1159  293    7]\n",
      " [ 177 3286  879   12]\n",
      " [  14  854 3355  187]\n",
      " [   1  194 1351   91]]\n",
      "\n",
      "Classification report:\n",
      "              precision    recall  f1-score   support\n",
      "\n",
      "           0      0.390     0.078     0.130      1582\n",
      "           1      0.598     0.755     0.667      4354\n",
      "           2      0.571     0.761     0.652      4410\n",
      "           3      0.306     0.056     0.094      1637\n",
      "\n",
      "    accuracy                          0.572     11983\n",
      "   macro avg      0.466     0.412     0.386     11983\n",
      "weighted avg      0.521     0.572     0.513     11983\n",
      "\n",
      "\n"
     ]
    },
    {
     "data": {
      "image/png": "[encoded data removed]",
      "text/plain": [
       "<Figure size 432x288 with 2 Axes>"
      ]
     },
     "metadata": {
      "needs_background": "light"
     },
     "output_type": "display_data"
    }
   ],
   "source": [
    "ml(rf, data_train, data_test, label_train, label_test, param=params_rf)"
   ]
  },
  {
   "cell_type": "markdown",
   "metadata": {
    "pycharm": {
     "name": "#%% md\n"
    }
   },
   "source": [
    "### Gaussian Naive Bayes"
   ]
  },
  {
   "cell_type": "code",
   "execution_count": 28,
   "metadata": {
    "pycharm": {
     "name": "#%%\n"
    }
   },
   "outputs": [
    {
     "name": "stdout",
     "output_type": "stream",
     "text": [
      "Cross Validation Accuracy score: 0.4006725823153857\n",
      "\n",
      "Base Model Accuracy: 0.399\n",
      "\n",
      "METRICS:\n",
      "Accuracy score:\n",
      "0.39881498789952435\n",
      "\n",
      "Recall score:\n",
      "0.37175794785809474\n",
      "\n",
      "Precison score:\n",
      "0.35886169934493384\n",
      "\n",
      "F1-score:\n",
      "0.347745128014939\n",
      "\n",
      "MCC score:\n",
      "0.15987078547308173\n",
      "\n",
      "Confusion matrix:\n",
      "[[ 221  821  327  213]\n",
      " [ 461 2486  959  448]\n",
      " [ 133 1291 1274 1712]\n",
      " [  46  361  432  798]]\n",
      "\n",
      "Classification report:\n",
      "              precision    recall  f1-score   support\n",
      "\n",
      "           0      0.257     0.140     0.181      1582\n",
      "           1      0.501     0.571     0.534      4354\n",
      "           2      0.426     0.289     0.344      4410\n",
      "           3      0.252     0.487     0.332      1637\n",
      "\n",
      "    accuracy                          0.399     11983\n",
      "   macro avg      0.359     0.372     0.348     11983\n",
      "weighted avg      0.407     0.399     0.390     11983\n",
      "\n",
      "\n"
     ]
    },
    {
     "data": {
      "image/png": "[encoded data removed]",
      "text/plain": [
       "<Figure size 432x288 with 2 Axes>"
      ]
     },
     "metadata": {
      "needs_background": "light"
     },
     "output_type": "display_data"
    }
   ],
   "source": [
    "ml(nb, data_train, data_test, label_train, label_test, param=None)"
   ]
  },
  {
   "cell_type": "markdown",
   "metadata": {
    "pycharm": {
     "name": "#%% md\n"
    }
   },
   "source": [
    "### K Nearest Neighbors Classifier"
   ]
  },
  {
   "cell_type": "code",
   "execution_count": 29,
   "metadata": {
    "pycharm": {
     "is_executing": true,
     "name": "#%%\n"
    }
   },
   "outputs": [
    {
     "name": "stdout",
     "output_type": "stream",
     "text": [
      "Cross Validation Accuracy score: 0.5117672958968135\n",
      "\n",
      "Base Model Accuracy: 0.517\n",
      "\n",
      "Optimized Model Accuracy: 0.549\n",
      "\n",
      "Optimized model improved 6.064% over base model.\n",
      "\n",
      "METRICS:\n",
      "Accuracy score:\n",
      "0.5488608862555286\n",
      "\n",
      "Recall score:\n",
      "0.39603626886329496\n",
      "\n",
      "Precison score:\n",
      "0.43712977646058787\n",
      "\n",
      "F1-score:\n",
      "0.37123371958857765\n",
      "\n",
      "MCC score:\n",
      "0.3163167059913649\n",
      "\n",
      "Confusion matrix:\n",
      "[[ 125 1111  332   14]\n",
      " [ 223 3106 1000   25]\n",
      " [  38  959 3260  153]\n",
      " [  15  217 1319   86]]\n",
      "\n",
      "Classification report:\n",
      "              precision    recall  f1-score   support\n",
      "\n",
      "           0      0.312     0.079     0.126      1582\n",
      "           1      0.576     0.713     0.637      4354\n",
      "           2      0.552     0.739     0.632      4410\n",
      "           3      0.309     0.053     0.090      1637\n",
      "\n",
      "    accuracy                          0.549     11983\n",
      "   macro avg      0.437     0.396     0.371     11983\n",
      "weighted avg      0.496     0.549     0.493     11983\n",
      "\n",
      "\n"
     ]
    },
    {
     "data": {
      "image/png": "[encoded data removed]",
      "text/plain": [
       "<Figure size 432x288 with 2 Axes>"
      ]
     },
     "metadata": {
      "needs_background": "light"
     },
     "output_type": "display_data"
    }
   ],
   "source": [
    "ml(knn, data_train, data_test, label_train, label_test, param=params_knn)"
   ]
  },
  {
   "cell_type": "markdown",
   "metadata": {
    "pycharm": {
     "name": "#%% md\n"
    }
   },
   "source": [
    "### Voting Classifier\n",
    "This model will include all the previous models."
   ]
  },
  {
   "cell_type": "code",
   "execution_count": 30,
   "metadata": {
    "pycharm": {
     "is_executing": true,
     "name": "#%%\n"
    }
   },
   "outputs": [
    {
     "name": "stdout",
     "output_type": "stream",
     "text": [
      "Cross Validation Accuracy score: 0.5008587465190966\n",
      "\n",
      "Base Model Accuracy: 0.502\n",
      "\n",
      "METRICS:\n",
      "Accuracy score:\n",
      "0.5023783693565885\n",
      "\n",
      "Recall score:\n",
      "0.40563315692366686\n",
      "\n",
      "Precison score:\n",
      "0.43063615760547547\n",
      "\n",
      "F1-score:\n",
      "0.4026663602493231\n",
      "\n",
      "MCC score:\n",
      "0.2670684963331119\n",
      "\n",
      "Confusion matrix:\n",
      "[[ 195  981  310   96]\n",
      " [ 266 2959  927  202]\n",
      " [  64 1023 2424  899]\n",
      " [  22  244  929  442]]\n",
      "\n",
      "Classification report:\n",
      "              precision    recall  f1-score   support\n",
      "\n",
      "           0      0.356     0.123     0.183      1582\n",
      "           1      0.568     0.680     0.619      4354\n",
      "           2      0.528     0.550     0.539      4410\n",
      "           3      0.270     0.270     0.270      1637\n",
      "\n",
      "    accuracy                          0.502     11983\n",
      "   macro avg      0.431     0.406     0.403     11983\n",
      "weighted avg      0.485     0.502     0.484     11983\n",
      "\n",
      "\n"
     ]
    },
    {
     "data": {
      "image/png": "[encoded data removed]",
      "text/plain": [
       "<Figure size 432x288 with 2 Axes>"
      ]
     },
     "metadata": {
      "needs_background": "light"
     },
     "output_type": "display_data"
    }
   ],
   "source": [
    "ml(voting, data_train, data_test, label_train, label_test, param=None)"
   ]
  },
  {
   "cell_type": "markdown",
   "metadata": {
    "pycharm": {
     "name": "#%% md\n"
    }
   },
   "source": [
    "### Neural Network Classifier"
   ]
  },
  {
   "cell_type": "code",
   "execution_count": 31,
   "metadata": {
    "pycharm": {
     "is_executing": true,
     "name": "#%%\n"
    }
   },
   "outputs": [
    {
     "name": "stdout",
     "output_type": "stream",
     "text": [
      "Cross Validation Accuracy score: 0.554761247703173\n",
      "\n",
      "Base Model Accuracy: 0.562\n",
      "\n",
      "Optimized Model Accuracy: 0.556\n",
      "\n",
      "Optimized model improved -1.010% over base model.\n",
      "\n",
      "METRICS:\n",
      "Accuracy score:\n",
      "0.5617958774931152\n",
      "\n",
      "Recall score:\n",
      "0.387772252526833\n",
      "\n",
      "Precison score:\n",
      "0.4827514636482493\n",
      "\n",
      "F1-score:\n",
      "0.3355853490127585\n",
      "\n",
      "MCC score:\n",
      "0.33353411400130756\n",
      "\n",
      "Confusion matrix:\n",
      "[[  31 1171  379    1]\n",
      " [  36 3190 1126    2]\n",
      " [   6  892 3504    8]\n",
      " [   2  226 1402    7]]\n",
      "\n",
      "Classification report:\n",
      "              precision    recall  f1-score   support\n",
      "\n",
      "           0      0.413     0.020     0.037      1582\n",
      "           1      0.582     0.733     0.649      4354\n",
      "           2      0.547     0.795     0.648      4410\n",
      "           3      0.389     0.004     0.008      1637\n",
      "\n",
      "    accuracy                          0.562     11983\n",
      "   macro avg      0.483     0.388     0.336     11983\n",
      "weighted avg      0.520     0.562     0.480     11983\n",
      "\n",
      "\n"
     ]
    },
    {
     "data": {
      "image/png": "[encoded data removed]",
      "text/plain": [
       "<Figure size 432x288 with 2 Axes>"
      ]
     },
     "metadata": {
      "needs_background": "light"
     },
     "output_type": "display_data"
    }
   ],
   "source": [
    "ml(nn, data_train, data_test, label_train, label_test, param=params_nn)"
   ]
  },
  {
   "cell_type": "markdown",
   "metadata": {
    "collapsed": false
   },
   "source": [
    "### Undersampling\n",
    "\n",
    "Sampling is method that aims to balance the dataset. Undersampling keeps all of the data in the minority class and decreases the size of the majority class."
   ]
  },
  {
   "cell_type": "code",
   "execution_count": 32,
   "metadata": {
    "collapsed": false,
    "pycharm": {
     "name": "#%%\n"
    }
   },
   "outputs": [
    {
     "name": "stdout",
     "output_type": "stream",
     "text": [
      "Cross Validation Accuracy score: 0.45780412934008136\n",
      "\n",
      "Base Model Accuracy: 0.511\n",
      "\n",
      "Optimized Model Accuracy: 0.532\n",
      "\n",
      "Optimized model improved 4.147% over base model.\n",
      "\n",
      "METRICS:\n",
      "Accuracy score:\n",
      "0.531763590391909\n",
      "\n",
      "Recall score:\n",
      "0.531763590391909\n",
      "\n",
      "Precison score:\n",
      "0.533860817915566\n",
      "\n",
      "F1-score:\n",
      "0.5322884098601687\n",
      "\n",
      "MCC score:\n",
      "0.37591752422120855\n",
      "\n",
      "Confusion matrix:\n",
      "[[820 485 141 136]\n",
      " [384 829 262 107]\n",
      " [112 261 791 418]\n",
      " [108  97 452 925]]\n",
      "\n",
      "Classification report:\n",
      "              precision    recall  f1-score   support\n",
      "\n",
      "           0      0.576     0.518     0.546      1582\n",
      "           1      0.496     0.524     0.510      1582\n",
      "           2      0.481     0.500     0.490      1582\n",
      "           3      0.583     0.585     0.584      1582\n",
      "\n",
      "    accuracy                          0.532      6328\n",
      "   macro avg      0.534     0.532     0.532      6328\n",
      "weighted avg      0.534     0.532     0.532      6328\n",
      "\n",
      "\n"
     ]
    },
    {
     "data": {
      "image/png": "[encoded data removed]",
      "text/plain": [
       "<Figure size 432x288 with 2 Axes>"
      ]
     },
     "metadata": {
      "needs_background": "light"
     },
     "output_type": "display_data"
    }
   ],
   "source": [
    "ml(rf, data_train, data_test, label_train, label_test, param=params_rf, sampling=True)"
   ]
  },
  {
   "cell_type": "markdown",
   "metadata": {
    "collapsed": false
   },
   "source": [
    "### Model comparison using descriptors"
   ]
  },
  {
   "cell_type": "markdown",
   "metadata": {
    "collapsed": false
   },
   "source": [
    "| Model | Accuracy | Recall | Precision | F1-score | MCC |\n",
    "| :-: | :-: | :-: | :-: | :-: | :-: |\n",
    "| **RF** | **0.572** | 0.412 | 0.466 | 0.386 | 0.353 |\n",
    "| **NB** | 0.399 | 0.371 | 0.359 | 0.348 | 0.160 |\n",
    "| **KNN** | 0.549 | 0.396 | 0.437 | 0.371 | 0.316 |\n",
    "| **Voting** | 0.502 | 0.406 | 0.431 | 0.403 | 0.267 |\n",
    "| **NN** | 0.562 | 0.388 | 0.483 | 0.336 | 0.334 |\n",
    "| **Sampling_RF** | 0.532 | **0.532** | **0.534** | **0.532** | **0.376** |\n",
    "\n",
    "Following the results, we concluded that the best model to classify the interval of the molecule's activity at 46.23 uM using the descriptors would be **Random Forest** using the **undersampling** method.\n",
    "Tracing back, it is noteworthy that the optimized neural network model did not improve over the default model. The other models improved with optimization. Random forest improved 0.898% over the default model. K nearest neighbors improved 6.064% over the default modelThe optimized random forest model using the unsersampling technique improved 4.147% over the default model.\n",
    "\n",
    "Overall, the sampling method helps the prediction in this unbalaced classes. With the sampling method, the model is more capable of correctly predicting all 4 labels, even though it is still not effective in this task."
   ]
  },
  {
   "cell_type": "markdown",
   "metadata": {
    "pycharm": {
     "name": "#%% md\n"
    }
   },
   "source": [
    "## Fingerprints"
   ]
  },
  {
   "cell_type": "code",
   "execution_count": 33,
   "metadata": {
    "collapsed": false,
    "pycharm": {
     "name": "#%%\n"
    }
   },
   "outputs": [],
   "source": [
    "# SPLIT\n",
    "data_train, data_test, label_train, label_test = train_test_split(fingerprint_data_m, fingerprint_label_m, test_size=0.3)"
   ]
  },
  {
   "cell_type": "markdown",
   "metadata": {
    "pycharm": {
     "name": "#%% md\n"
    }
   },
   "source": [
    "### Random Forest Classifier"
   ]
  },
  {
   "cell_type": "code",
   "execution_count": 34,
   "metadata": {
    "pycharm": {
     "is_executing": true,
     "name": "#%%\n"
    }
   },
   "outputs": [
    {
     "name": "stdout",
     "output_type": "stream",
     "text": [
      "Cross Validation Accuracy score: 0.5472492642861292\n",
      "\n",
      "Base Model Accuracy: 0.550\n",
      "\n",
      "Optimized Model Accuracy: 0.554\n",
      "\n",
      "Optimized model improved 0.561% over base model.\n",
      "\n",
      "METRICS:\n",
      "Accuracy score:\n",
      "0.5535341734123341\n",
      "\n",
      "Recall score:\n",
      "0.42186430284742255\n",
      "\n",
      "Precison score:\n",
      "0.4525196222365191\n",
      "\n",
      "F1-score:\n",
      "0.41644188008349675\n",
      "\n",
      "MCC score:\n",
      "0.33074540505285555\n",
      "\n",
      "Confusion matrix:\n",
      "[[ 244 1069  279   11]\n",
      " [ 402 3039  912   35]\n",
      " [  55  766 3148  427]\n",
      " [  13  210 1171  202]]\n",
      "\n",
      "Classification report:\n",
      "              precision    recall  f1-score   support\n",
      "\n",
      "           0      0.342     0.152     0.211      1603\n",
      "           1      0.598     0.693     0.642      4388\n",
      "           2      0.571     0.716     0.636      4396\n",
      "           3      0.299     0.127     0.178      1596\n",
      "\n",
      "    accuracy                          0.554     11983\n",
      "   macro avg      0.453     0.422     0.416     11983\n",
      "weighted avg      0.514     0.554     0.520     11983\n",
      "\n",
      "\n"
     ]
    },
    {
     "data": {
      "image/png": "[encoded data removed]",
      "text/plain": [
       "<Figure size 432x288 with 2 Axes>"
      ]
     },
     "metadata": {
      "needs_background": "light"
     },
     "output_type": "display_data"
    }
   ],
   "source": [
    "ml(rf, data_train, data_test, label_train, label_test, param=params_rf)"
   ]
  },
  {
   "cell_type": "markdown",
   "metadata": {
    "pycharm": {
     "name": "#%% md\n"
    }
   },
   "source": [
    "### Gaussian Naive Bayes"
   ]
  },
  {
   "cell_type": "code",
   "execution_count": 35,
   "metadata": {
    "pycharm": {
     "is_executing": true,
     "name": "#%%\n"
    }
   },
   "outputs": [
    {
     "name": "stdout",
     "output_type": "stream",
     "text": [
      "Cross Validation Accuracy score: 0.34251371315385526\n",
      "\n",
      "Base Model Accuracy: 0.336\n",
      "\n",
      "METRICS:\n",
      "Accuracy score:\n",
      "0.3361428690645081\n",
      "\n",
      "Recall score:\n",
      "0.3495667513990663\n",
      "\n",
      "Precison score:\n",
      "0.32846121278089263\n",
      "\n",
      "F1-score:\n",
      "0.31837384259085444\n",
      "\n",
      "MCC score:\n",
      "0.11375013899591954\n",
      "\n",
      "Confusion matrix:\n",
      "[[ 453  608  286  256]\n",
      " [1105 1743  818  722]\n",
      " [ 500 1033 1076 1787]\n",
      " [ 174  311  355  756]]\n",
      "\n",
      "Classification report:\n",
      "              precision    recall  f1-score   support\n",
      "\n",
      "           0      0.203     0.283     0.236      1603\n",
      "           1      0.472     0.397     0.431      4388\n",
      "           2      0.424     0.245     0.310      4396\n",
      "           3      0.215     0.474     0.295      1596\n",
      "\n",
      "    accuracy                          0.336     11983\n",
      "   macro avg      0.328     0.350     0.318     11983\n",
      "weighted avg      0.384     0.336     0.343     11983\n",
      "\n",
      "\n"
     ]
    },
    {
     "data": {
      "image/png": "[encoded data removed]",
      "text/plain": [
       "<Figure size 432x288 with 2 Axes>"
      ]
     },
     "metadata": {
      "needs_background": "light"
     },
     "output_type": "display_data"
    }
   ],
   "source": [
    "ml(nb, data_train, data_test, label_train, label_test, param=None)"
   ]
  },
  {
   "cell_type": "markdown",
   "metadata": {
    "pycharm": {
     "name": "#%% md\n"
    }
   },
   "source": [
    "### K Nearest Neighbors Classifier"
   ]
  },
  {
   "cell_type": "code",
   "execution_count": 36,
   "metadata": {
    "pycharm": {
     "is_executing": true,
     "name": "#%%\n"
    }
   },
   "outputs": [
    {
     "name": "stdout",
     "output_type": "stream",
     "text": [
      "Cross Validation Accuracy score: 0.5125185991485908\n",
      "\n",
      "Base Model Accuracy: 0.513\n",
      "\n",
      "Optimized Model Accuracy: 0.542\n",
      "\n",
      "Optimized model improved 5.577% over base model.\n",
      "\n",
      "METRICS:\n",
      "Accuracy score:\n",
      "0.5418509555203205\n",
      "\n",
      "Recall score:\n",
      "0.4094041145093918\n",
      "\n",
      "Precison score:\n",
      "0.4423059538466376\n",
      "\n",
      "F1-score:\n",
      "0.40163822172051244\n",
      "\n",
      "MCC score:\n",
      "0.3139365044645507\n",
      "\n",
      "Confusion matrix:\n",
      "[[ 210  993  381   19]\n",
      " [ 380 2731 1221   56]\n",
      " [  59  609 3361  367]\n",
      " [  14  154 1237  191]]\n",
      "\n",
      "Classification report:\n",
      "              precision    recall  f1-score   support\n",
      "\n",
      "           0      0.317     0.131     0.185      1603\n",
      "           1      0.609     0.622     0.615      4388\n",
      "           2      0.542     0.765     0.634      4396\n",
      "           3      0.302     0.120     0.171      1596\n",
      "\n",
      "    accuracy                          0.542     11983\n",
      "   macro avg      0.442     0.409     0.402     11983\n",
      "weighted avg      0.504     0.542     0.506     11983\n",
      "\n",
      "\n"
     ]
    },
    {
     "data": {
      "image/png": "[encoded data removed]",
      "text/plain": [
       "<Figure size 432x288 with 2 Axes>"
      ]
     },
     "metadata": {
      "needs_background": "light"
     },
     "output_type": "display_data"
    }
   ],
   "source": [
    "ml(knn, data_train, data_test, label_train, label_test, param=params_knn)"
   ]
  },
  {
   "cell_type": "markdown",
   "metadata": {
    "pycharm": {
     "name": "#%% md\n"
    }
   },
   "source": [
    "### Voting Classifier\n",
    "This model will include all the previous models."
   ]
  },
  {
   "cell_type": "code",
   "execution_count": 37,
   "metadata": {
    "pycharm": {
     "is_executing": true,
     "name": "#%%\n"
    }
   },
   "outputs": [
    {
     "name": "stdout",
     "output_type": "stream",
     "text": [
      "Cross Validation Accuracy score: 0.4727089815048659\n",
      "\n",
      "Base Model Accuracy: 0.471\n",
      "\n",
      "METRICS:\n",
      "Accuracy score:\n",
      "0.4713343903863807\n",
      "\n",
      "Recall score:\n",
      "0.3998829843126428\n",
      "\n",
      "Precison score:\n",
      "0.4025794327796145\n",
      "\n",
      "F1-score:\n",
      "0.3978979307183515\n",
      "\n",
      "MCC score:\n",
      "0.24181648797049088\n",
      "\n",
      "Confusion matrix:\n",
      "[[ 300  887  272  144]\n",
      " [ 552 2575  881  380]\n",
      " [ 197  789 2285 1125]\n",
      " [  61  220  827  488]]\n",
      "\n",
      "Classification report:\n",
      "              precision    recall  f1-score   support\n",
      "\n",
      "           0      0.270     0.187     0.221      1603\n",
      "           1      0.576     0.587     0.581      4388\n",
      "           2      0.536     0.520     0.528      4396\n",
      "           3      0.228     0.306     0.261      1596\n",
      "\n",
      "    accuracy                          0.471     11983\n",
      "   macro avg      0.403     0.400     0.398     11983\n",
      "weighted avg      0.474     0.471     0.471     11983\n",
      "\n",
      "\n"
     ]
    },
    {
     "data": {
      "image/png": "[encoded data removed]",
      "text/plain": [
       "<Figure size 432x288 with 2 Axes>"
      ]
     },
     "metadata": {
      "needs_background": "light"
     },
     "output_type": "display_data"
    }
   ],
   "source": [
    "ml(voting, data_train, data_test, label_train, label_test, param=None)"
   ]
  },
  {
   "cell_type": "markdown",
   "metadata": {
    "pycharm": {
     "name": "#%% md\n"
    }
   },
   "source": [
    "### Neural Network Classifier"
   ]
  },
  {
   "cell_type": "code",
   "execution_count": 38,
   "metadata": {
    "pycharm": {
     "is_executing": true,
     "name": "#%%\n"
    }
   },
   "outputs": [
    {
     "name": "stdout",
     "output_type": "stream",
     "text": [
      "Cross Validation Accuracy score: 0.5333716958764457\n",
      "\n",
      "Base Model Accuracy: 0.540\n",
      "\n",
      "Optimized Model Accuracy: 0.537\n",
      "\n",
      "Optimized model improved -0.571% over base model.\n",
      "\n",
      "METRICS:\n",
      "Accuracy score:\n",
      "0.540348827505633\n",
      "\n",
      "Recall score:\n",
      "0.3862762081920815\n",
      "\n",
      "Precison score:\n",
      "0.4525811163919515\n",
      "\n",
      "F1-score:\n",
      "0.35839310832801013\n",
      "\n",
      "MCC score:\n",
      "0.29976206637643743\n",
      "\n",
      "Confusion matrix:\n",
      "[[  66 1162  361   14]\n",
      " [  76 3178 1098   36]\n",
      " [  20 1062 3119  195]\n",
      " [   4  306 1174  112]]\n",
      "\n",
      "Classification report:\n",
      "              precision    recall  f1-score   support\n",
      "\n",
      "           0      0.398     0.041     0.075      1603\n",
      "           1      0.557     0.724     0.630      4388\n",
      "           2      0.542     0.710     0.615      4396\n",
      "           3      0.314     0.070     0.115      1596\n",
      "\n",
      "    accuracy                          0.540     11983\n",
      "   macro avg      0.453     0.386     0.358     11983\n",
      "weighted avg      0.498     0.540     0.481     11983\n",
      "\n",
      "\n"
     ]
    },
    {
     "data": {
      "image/png": "[encoded data removed]",
      "text/plain": [
       "<Figure size 432x288 with 2 Axes>"
      ]
     },
     "metadata": {
      "needs_background": "light"
     },
     "output_type": "display_data"
    }
   ],
   "source": [
    "ml(nn, data_train, data_test, label_train, label_test, param=params_nn)"
   ]
  },
  {
   "cell_type": "markdown",
   "metadata": {
    "collapsed": false
   },
   "source": [
    "### Model comparison using fingerprints"
   ]
  },
  {
   "cell_type": "markdown",
   "metadata": {
    "collapsed": false
   },
   "source": [
    "| Model | Accuracy | Recall | Precision | F1-score | MCC |\n",
    "| :-: | :-: | :-: | :-: | :-: | :-: |\n",
    "| **RF** | **0.554** | **0.422** | 0.453 | **0.416** | **0.331** |\n",
    "| **NB** | 0.336 | 0.350 | 0.328 | 0.318 | 0.114 |\n",
    "| **KNN** | 0.542 | 0.409 | 0.442 | 0.402 | 0.314 |\n",
    "| **Voting** | 0.471 | 0.400 | 0.403 | 0.398 | 0.242 |\n",
    "| **NN** | 0.540 | 0.386 | **0.453** | 0.358 | 0.300 |\n",
    "\n",
    "Following the results, we concluded that the best model to classify the interval of the molecule's activity at 46.23 uM using the fingerprints would be **Random Forest**.\n",
    "Tracing back, it is noteworthy that the neural network model did not improve with optimization. The other modeld improved with optimization. Random forest improved 0.561% over the default model. K nearest neighbors improved 5.577% over the default model."
   ]
  },
  {
   "cell_type": "markdown",
   "metadata": {
    "collapsed": false
   },
   "source": [
    "## Comparison between descriptors and fingerprints"
   ]
  },
  {
   "cell_type": "markdown",
   "metadata": {
    "collapsed": false
   },
   "source": [
    "| Features | Model | Accuracy | Recall | Precision | F1-score | MCC |\n",
    "|:-: | :-: | :-: | :-: | :-: | :-: | :-: |\n",
    "| **Descriptors** | RF | **0.572** | 0.412 | **0.466** | 0.386 | **0.353** |\n",
    "| **Fingerprints** | RF | 0.554 | **0.422** | 0.453 | **0.416** | 0.331 |\n",
    "\n",
    "Comparing the results from both feature's type, we concluded that the **descriptors** would be better to classify the interval of the molecule's activity at 46.23 uM just by a small margin."
   ]
  },
  {
   "cell_type": "markdown",
   "metadata": {
    "collapsed": false
   },
   "source": [
    "# Regression"
   ]
  },
  {
   "cell_type": "markdown",
   "metadata": {
    "collapsed": false
   },
   "source": [
    "### Load data"
   ]
  },
  {
   "cell_type": "code",
   "execution_count": 4,
   "metadata": {
    "collapsed": false,
    "pycharm": {
     "name": "#%%\n"
    }
   },
   "outputs": [],
   "source": [
    "descriptors = pd.read_csv('../dataset/regression/descriptors_fs.csv', sep=',')\n",
    "fingerprint = pd.read_csv('../dataset/regression/rdk_fs.csv', sep=',')\n",
    "\n",
    "descriptors_data_r = descriptors.drop(\"Activity at 46.23 uM\", axis=1)\n",
    "descriptors_label_r = descriptors[\"Activity at 46.23 uM\"]\n",
    "fingerprint_data_r = fingerprint.drop(\"Activity at 46.23 uM\", axis=1)\n",
    "fingerprint_label_r = fingerprint[\"Activity at 46.23 uM\"]"
   ]
  },
  {
   "cell_type": "markdown",
   "metadata": {
    "collapsed": false
   },
   "source": [
    "### Models\n",
    "\n",
    "The models used previously could not be applied to regression. We used the regresiion version of the same models with the exception of the Gaussian Naive Bayes. We used Linear Regression instead."
   ]
  },
  {
   "cell_type": "code",
   "execution_count": 5,
   "metadata": {
    "collapsed": false,
    "pycharm": {
     "name": "#%%\n"
    }
   },
   "outputs": [],
   "source": [
    "rf = RandomForestRegressor(n_jobs=4)\n",
    "lr = LinearRegression(n_jobs=4)\n",
    "knn = KNeighborsRegressor(n_jobs=4)\n",
    "voting = VotingRegressor(estimators=[('Random Forest', rf), ('Linear Regression', lr), ('KNN', knn)], n_jobs=4)\n",
    "nn = MLPRegressor(early_stopping=True)"
   ]
  },
  {
   "cell_type": "markdown",
   "metadata": {
    "collapsed": false
   },
   "source": [
    "### Hyperparameters"
   ]
  },
  {
   "cell_type": "code",
   "execution_count": 6,
   "metadata": {
    "collapsed": false,
    "pycharm": {
     "name": "#%%\n"
    }
   },
   "outputs": [],
   "source": [
    "params_rf = {'n_estimators': range(50, 251, 25), 'criterion': ['squared_error', 'absolute_error'], 'max_features': ['sqrt', 'log2', 'auto'],\n",
    "          'bootstrap': [True, False]}\n",
    "params_knn = {'n_neighbors': range(2, 17, 2), 'weights': ['distance', 'uniform'], 'leaf_size': range(10, 50, 10), 'p': [1, 2]}\n",
    "params_nn = {'activation': ['identity', 'logistic', 'tanh', 'relu'], 'learning_rate': ['constant', 'invscaling', 'adaptive']}"
   ]
  },
  {
   "cell_type": "markdown",
   "metadata": {
    "collapsed": false
   },
   "source": [
    "## Descriptors"
   ]
  },
  {
   "cell_type": "code",
   "execution_count": 7,
   "metadata": {
    "collapsed": false,
    "pycharm": {
     "name": "#%%\n"
    }
   },
   "outputs": [],
   "source": [
    "# SPLIT\n",
    "data_train, data_test, label_train, label_test = train_test_split(descriptors_data_r, descriptors_label_r, test_size=0.3)"
   ]
  },
  {
   "cell_type": "markdown",
   "metadata": {
    "collapsed": false
   },
   "source": [
    "### Random Forest Regressor"
   ]
  },
  {
   "cell_type": "code",
   "execution_count": 8,
   "metadata": {
    "collapsed": false,
    "pycharm": {
     "name": "#%%\n"
    }
   },
   "outputs": [
    {
     "name": "stdout",
     "output_type": "stream",
     "text": [
      "Cross Validation Explained_variance score: 0.4588372910406228\n",
      "\n",
      "Base Model Explained variance: 0.473\n",
      "\n",
      "Optimized Model Explained variance: 0.509\n",
      "\n",
      "Optimized model improved 7.634% over base model.\n",
      "\n",
      "METRICS:\n",
      "Explained variance score:\n",
      "0.5091043208875254\n",
      "\n",
      "R2 score:\n",
      "0.5088937012572958\n",
      "\n",
      "Mean squared error:\n",
      "914.1765909898854\n",
      "\n"
     ]
    }
   ],
   "source": [
    "ml(rf, data_train, data_test, label_train, label_test, param=params_rf, reg=True)"
   ]
  },
  {
   "cell_type": "markdown",
   "metadata": {
    "collapsed": false
   },
   "source": [
    "### Linear Regression"
   ]
  },
  {
   "cell_type": "code",
   "execution_count": 44,
   "metadata": {
    "collapsed": false,
    "pycharm": {
     "name": "#%%\n"
    }
   },
   "outputs": [
    {
     "name": "stdout",
     "output_type": "stream",
     "text": [
      "Cross Validation Explained_variance score: 0.31468276216666025\n",
      "\n",
      "Base Model Explained variance: 0.303\n",
      "\n",
      "METRICS:\n",
      "Explained variance score:\n",
      "0.30317605884309295\n",
      "\n",
      "R2 score:\n",
      "0.3031494324606383\n",
      "\n",
      "Mean squared error:\n",
      "1289.8297997297748\n",
      "\n"
     ]
    }
   ],
   "source": [
    "ml(lr, data_train, data_test, label_train, label_test, param=None, reg=True)"
   ]
  },
  {
   "cell_type": "markdown",
   "metadata": {
    "collapsed": false
   },
   "source": [
    "### K Nearest Neighbors Regressor"
   ]
  },
  {
   "cell_type": "code",
   "execution_count": 45,
   "metadata": {
    "collapsed": false,
    "pycharm": {
     "name": "#%%\n"
    }
   },
   "outputs": [
    {
     "name": "stdout",
     "output_type": "stream",
     "text": [
      "Cross Validation Explained_variance score: 0.4033563559026378\n",
      "\n",
      "Base Model Explained variance: 0.434\n",
      "\n",
      "Optimized Model Explained variance: 0.486\n",
      "\n",
      "Optimized model improved 11.955% over base model.\n",
      "\n",
      "METRICS:\n",
      "Explained variance score:\n",
      "0.4862161272871336\n",
      "\n",
      "R2 score:\n",
      "0.4846593862594941\n",
      "\n",
      "Mean squared error:\n",
      "953.8654506096678\n",
      "\n"
     ]
    }
   ],
   "source": [
    "ml(knn, data_train, data_test, label_train, label_test, param=params_knn, reg=True)"
   ]
  },
  {
   "cell_type": "markdown",
   "metadata": {
    "collapsed": false
   },
   "source": [
    "### Voting Regressor"
   ]
  },
  {
   "cell_type": "code",
   "execution_count": 46,
   "metadata": {
    "collapsed": false,
    "pycharm": {
     "name": "#%%\n"
    }
   },
   "outputs": [
    {
     "name": "stdout",
     "output_type": "stream",
     "text": [
      "Cross Validation Explained_variance score: -5.461353193824156e+21\n",
      "\n",
      "Base Model Explained variance: 0.468\n",
      "\n",
      "METRICS:\n",
      "Explained variance score:\n",
      "0.4680810419637156\n",
      "\n",
      "R2 score:\n",
      "0.46784098130911067\n",
      "\n",
      "Mean squared error:\n",
      "984.9953382777322\n",
      "\n"
     ]
    }
   ],
   "source": [
    "ml(voting, data_train, data_test, label_train, label_test, param=None, reg=True)"
   ]
  },
  {
   "cell_type": "markdown",
   "metadata": {
    "collapsed": false
   },
   "source": [
    "### Neural Network Regressor"
   ]
  },
  {
   "cell_type": "code",
   "execution_count": 47,
   "metadata": {
    "collapsed": false,
    "pycharm": {
     "name": "#%%\n"
    }
   },
   "outputs": [
    {
     "name": "stdout",
     "output_type": "stream",
     "text": [
      "Cross Validation Explained_variance score: 0.4077551023172276\n",
      "\n",
      "Base Model Explained variance: 0.398\n",
      "\n",
      "Optimized Model Explained variance: 0.397\n",
      "\n",
      "Optimized model improved -0.367% over base model.\n",
      "\n",
      "METRICS:\n",
      "Explained variance score:\n",
      "0.3980188731045762\n",
      "\n",
      "R2 score:\n",
      "0.39801742063755163\n",
      "\n",
      "Mean squared error:\n",
      "1114.23468093254\n",
      "\n"
     ]
    }
   ],
   "source": [
    "ml(nn, data_train, data_test, label_train, label_test, param=params_nn, reg=True)"
   ]
  },
  {
   "cell_type": "markdown",
   "metadata": {
    "collapsed": false
   },
   "source": [
    "### Model comparison using descriptors"
   ]
  },
  {
   "cell_type": "markdown",
   "metadata": {
    "collapsed": false
   },
   "source": [
    "| Model | Explained variance | R squared | Mean squared error |\n",
    "| :-: | :-: | :-: | :-: |\n",
    "| **RF** | **0.509** | **0.509** | **914.177** |\n",
    "| **LR** | 0.303 | 0.303 | 1289.830 |\n",
    "| **KNN** | 0.486 | 0.485 | 953.865 |\n",
    "| **Voting** | 0.468 | 0.468 | 984.995 |\n",
    "| **NN** | 0.398 | 0.398 | 1114.235 |\n",
    "\n",
    "Following the results, we concluded that the best model to predict the value of the molecule's activity at 46.23 uM using the descriptors would be **Random Forest**.\n",
    "Tracing back, it is noteworthy that the optimized neural network model did not improve over the default model. The other two models improved with optimization. Random forest improved 7.634% over the default model. K nearest neighbors improved 11.955% over the default model. In this case, the optimization was successful in improving both models."
   ]
  },
  {
   "cell_type": "markdown",
   "metadata": {
    "collapsed": false
   },
   "source": [
    "## Fingerprints"
   ]
  },
  {
   "cell_type": "code",
   "execution_count": 9,
   "metadata": {
    "collapsed": false,
    "pycharm": {
     "name": "#%%\n"
    }
   },
   "outputs": [],
   "source": [
    "# SPLIT\n",
    "data_train, data_test, label_train, label_test = train_test_split(fingerprint_data_r, fingerprint_label_r, test_size=0.3)"
   ]
  },
  {
   "cell_type": "markdown",
   "metadata": {
    "collapsed": false,
    "pycharm": {
     "name": "#%% md\n"
    }
   },
   "source": [
    "### Random Forest Regressor"
   ]
  },
  {
   "cell_type": "code",
   "execution_count": 10,
   "metadata": {
    "collapsed": false,
    "pycharm": {
     "name": "#%%\n"
    }
   },
   "outputs": [
    {
     "name": "stdout",
     "output_type": "stream",
     "text": [
      "Cross Validation Explained_variance score: 0.41560508051915734\n",
      "\n",
      "Base Model Explained variance: 0.442\n",
      "\n",
      "Optimized Model Explained variance: 0.452\n",
      "\n",
      "Optimized model improved 2.227% over base model.\n",
      "\n",
      "METRICS:\n",
      "Explained variance score:\n",
      "0.45211312979037543\n",
      "\n",
      "R2 score:\n",
      "0.45188607446353835\n",
      "\n",
      "Mean squared error:\n",
      "1013.1012559043622\n",
      "\n"
     ]
    }
   ],
   "source": [
    "ml(rf, data_train, data_test, label_train, label_test, param=params_rf, reg=True)"
   ]
  },
  {
   "cell_type": "markdown",
   "metadata": {
    "collapsed": false,
    "pycharm": {
     "name": "#%% md\n"
    }
   },
   "source": [
    "### Linear Regression"
   ]
  },
  {
   "cell_type": "code",
   "execution_count": 50,
   "metadata": {
    "collapsed": false,
    "pycharm": {
     "name": "#%%\n"
    }
   },
   "outputs": [
    {
     "name": "stdout",
     "output_type": "stream",
     "text": [
      "Cross Validation Explained_variance score: 0.18550560469051397\n",
      "\n",
      "Base Model Explained variance: 0.196\n",
      "\n",
      "METRICS:\n",
      "Explained variance score:\n",
      "0.19610468499273215\n",
      "\n",
      "R2 score:\n",
      "0.19599286606687538\n",
      "\n",
      "Mean squared error:\n",
      "1479.7510971188356\n",
      "\n"
     ]
    }
   ],
   "source": [
    "ml(lr, data_train, data_test, label_train, label_test, param=None, reg=True)"
   ]
  },
  {
   "cell_type": "markdown",
   "metadata": {
    "collapsed": false,
    "pycharm": {
     "name": "#%% md\n"
    }
   },
   "source": [
    "### K Nearest Neighbors Regressor"
   ]
  },
  {
   "cell_type": "code",
   "execution_count": 51,
   "metadata": {
    "collapsed": false,
    "pycharm": {
     "name": "#%%\n"
    }
   },
   "outputs": [
    {
     "name": "stdout",
     "output_type": "stream",
     "text": [
      "Cross Validation Explained_variance score: 0.35155037038016973\n",
      "\n",
      "Base Model Explained variance: 0.378\n",
      "\n",
      "Optimized Model Explained variance: 0.424\n",
      "\n",
      "Optimized model improved 12.183% over base model.\n",
      "\n",
      "METRICS:\n",
      "Explained variance score:\n",
      "0.4244185057453722\n",
      "\n",
      "R2 score:\n",
      "0.4170861374559838\n",
      "\n",
      "Mean squared error:\n",
      "1072.8355399108093\n",
      "\n"
     ]
    }
   ],
   "source": [
    "ml(knn, data_train, data_test, label_train, label_test, param=params_knn, reg=True)"
   ]
  },
  {
   "cell_type": "markdown",
   "metadata": {
    "collapsed": false,
    "pycharm": {
     "name": "#%% md\n"
    }
   },
   "source": [
    "### Voting Regressor"
   ]
  },
  {
   "cell_type": "code",
   "execution_count": 52,
   "metadata": {
    "collapsed": false,
    "pycharm": {
     "name": "#%%\n"
    }
   },
   "outputs": [
    {
     "name": "stdout",
     "output_type": "stream",
     "text": [
      "Cross Validation Explained_variance score: 0.3957369455285372\n",
      "\n",
      "Base Model Explained variance: 0.421\n",
      "\n",
      "METRICS:\n",
      "Explained variance score:\n",
      "0.420675836150464\n",
      "\n",
      "R2 score:\n",
      "0.42013818214812737\n",
      "\n",
      "Mean squared error:\n",
      "1067.2183428847557\n",
      "\n"
     ]
    }
   ],
   "source": [
    "ml(voting, data_train, data_test, label_train, label_test, param=None, reg=True)"
   ]
  },
  {
   "cell_type": "markdown",
   "metadata": {
    "collapsed": false,
    "pycharm": {
     "name": "#%% md\n"
    }
   },
   "source": [
    "### Neural Network Regressor"
   ]
  },
  {
   "cell_type": "code",
   "execution_count": 53,
   "metadata": {
    "collapsed": false,
    "pycharm": {
     "name": "#%%\n"
    }
   },
   "outputs": [
    {
     "name": "stdout",
     "output_type": "stream",
     "text": [
      "Cross Validation Explained_variance score: 0.34177448226821144\n",
      "\n",
      "Base Model Explained variance: 0.353\n",
      "\n",
      "Optimized Model Explained variance: 0.374\n",
      "\n",
      "Optimized model improved 6.146% over base model.\n",
      "\n",
      "METRICS:\n",
      "Explained variance score:\n",
      "0.3742736404687018\n",
      "\n",
      "R2 score:\n",
      "0.3739662834877343\n",
      "\n",
      "Mean squared error:\n",
      "1152.1963422273077\n",
      "\n"
     ]
    }
   ],
   "source": [
    "ml(nn, data_train, data_test, label_train, label_test, param=params_nn, reg=True)"
   ]
  },
  {
   "cell_type": "markdown",
   "metadata": {
    "collapsed": false
   },
   "source": [
    "### Model comparison using fingerprints"
   ]
  },
  {
   "cell_type": "markdown",
   "metadata": {
    "collapsed": false
   },
   "source": [
    "| Model | Explained variance | R squared | Mean squared error |\n",
    "| :-: | :-: | :-: | :-: |\n",
    "| **RF** | **0.452** | **0.452** | **1013.101** |\n",
    "| **LR** | 0.196 | 0.196 | 1479.751 |\n",
    "| **KNN** | 0.424 | 0.417 | 1072.836 |\n",
    "| **Voting** | 0.421 | 0.420 | 1067.218 |\n",
    "| **NN** | 0.374 | 0.374 | 1152.196 |\n",
    "\n",
    "Following the results, we concluded that the best model to predict the value of the molecule's activity at 46.23 uM using the fingerprints would be **Random Forest**.\n",
    "Tracing back, it is noteworthy that all models improved with optimization. Random forest improved 2.227% over the default model. K nearest neighbors improved 12.183% over the default model. Neural network improved 6.146% over the default model. In this case, the optimization was successful in improving the models.\n"
   ]
  },
  {
   "cell_type": "markdown",
   "metadata": {
    "collapsed": false
   },
   "source": [
    "## Comparison between descriptors and fingerprints"
   ]
  },
  {
   "cell_type": "markdown",
   "metadata": {
    "collapsed": false,
    "pycharm": {
     "name": "#%% md\n"
    }
   },
   "source": [
    "| Features | Model | Explained variance | R squared | Mean squared error |\n",
    "|:-: | :-: | :-: | :-: | :-: |\n",
    "| **Descriptors** | RF | **0.509** | **0.509** | **914.177** |\n",
    "| **Fingerprints** | RF | 0.452 | 0.452 | 1013.101 |\n",
    "\n",
    "Comparing the results from both feature's type, we concluded that the **descriptors** would be better to predict the value of the molecule's activity at 46.23 uM."
   ]
  },
  {
   "cell_type": "markdown",
   "metadata": {
    "collapsed": false,
    "pycharm": {
     "name": "#%% md\n"
    }
   },
   "source": [
    "# Conclusion\n",
    "\n",
    "From all these analysis, we concluded that the best model overall was **Random Forest** and the best features to use was the descriptors.\n",
    "It is noteworthy that these models provide a good performance when their task is binary classification. Otherwise, they do not perform as expected.\n",
    "Concluding, we proved that it is possible and efficient to classify the molecule's activity using their descriptors or fingerprints."
   ]
  },
  {
   "cell_type": "markdown",
   "source": [
    "# Feature Importance"
   ],
   "metadata": {
    "collapsed": false
   }
  },
  {
   "cell_type": "code",
   "execution_count": 2,
   "outputs": [],
   "source": [
    "rdk_path = '/home/laptop16/Desktop/Mestrado/2_ano/SIB/Grupo/CODE_SIB/src/smiles/dataset/binary_class/rdk_fs_all.csv'\n",
    "\n",
    "bits = [0, 5, 25, 34, 36, 55, 77, 78, 101, 103, 105, 106, 113, 117, 128, 129, 142, 175, 188, 194, 195, 196, 197, 200,\n",
    "        203, 211, 231, 270, 274, 278, 281, 291, 309, 335, 365, 382, 386, 388, 400, 406, 411, 419, 427, 438, 443, 461,\n",
    "        471, 492, 498, 515, 516, 522, 532, 549, 563, 586, 589, 594, 608, 620, 632, 636, 640, 668, 671, 674, 676, 684,\n",
    "        697, 701, 704, 707, 719, 728, 734, 738, 742, 759, 779, 791, 798, 799, 838, 841, 847, 853, 857, 865, 870, 876,\n",
    "        883, 887, 927, 935, 940, 955, 962, 972, 985, 992, 1016, 1024, 1037, 1043, 1045, 1051, 1072, 1097, 1104, 1113,\n",
    "        1123, 1130, 1133, 1134, 1145, 1155, 1180, 1184, 1222, 1238, 1255, 1265, 1287, 1288, 1295, 1302, 1305, 1338,\n",
    "        1341, 1342, 1346, 1347, 1369, 1374, 1375, 1377, 1389, 1400, 1403, 1420, 1421, 1451, 1456, 1472, 1479, 1483,\n",
    "        1492, 1494, 1500, 1501, 1520, 1522, 1528, 1533, 1536, 1542, 1545, 1548, 1556, 1579, 1599, 1605, 1612, 1652,\n",
    "        1656, 1667, 1670, 1672, 1676, 1681, 1682, 1685, 1686, 1699, 1705, 1707, 1727, 1732, 1734, 1771, 1778, 1792,\n",
    "        1818, 1820, 1823, 1832, 1846, 1849, 1861, 1867, 1872, 1876, 1885, 1889, 1892, 1915, 1921, 1931, 1942, 1971,\n",
    "        1973, 1992, 1995, 2003, 2041]\n",
    "\n",
    "str_bits = list(str(x) for x in bits)"
   ],
   "metadata": {
    "collapsed": false,
    "pycharm": {
     "name": "#%%\n"
    }
   }
  },
  {
   "cell_type": "code",
   "execution_count": 3,
   "outputs": [],
   "source": [
    "loader = CSVLoader(rdk_path, mols_field='smiles', labels_fields='activity', features_fields=str_bits)"
   ],
   "metadata": {
    "collapsed": false,
    "pycharm": {
     "name": "#%%\n"
    }
   }
  },
  {
   "cell_type": "code",
   "execution_count": 4,
   "outputs": [
    {
     "name": "stdout",
     "output_type": "stream",
     "text": [
      "Mols_shape:  39990\n",
      "Features_shape:  (39990, 205)\n",
      "Labels_shape:  (39990,)\n"
     ]
    }
   ],
   "source": [
    "dataset = loader.create_dataset()\n",
    "dataset.get_shape()"
   ],
   "metadata": {
    "collapsed": false,
    "pycharm": {
     "name": "#%%\n"
    }
   }
  },
  {
   "cell_type": "markdown",
   "source": [
    "## Data"
   ],
   "metadata": {
    "collapsed": false
   }
  },
  {
   "cell_type": "code",
   "execution_count": 5,
   "outputs": [],
   "source": [
    "fingerprint = pd.read_csv('../dataset/binary_class/rdk_fs.csv', sep=',')\n",
    "fingerprint_data_b = fingerprint.drop(\"activity\", axis=1)\n",
    "fingerprint_label_b = fingerprint[\"activity\"]"
   ],
   "metadata": {
    "collapsed": false,
    "pycharm": {
     "name": "#%%\n"
    }
   }
  },
  {
   "cell_type": "code",
   "execution_count": 6,
   "outputs": [],
   "source": [
    "data_train, data_test, label_train, label_test = train_test_split(fingerprint_data_b, fingerprint_label_b, test_size=0.3)"
   ],
   "metadata": {
    "collapsed": false,
    "pycharm": {
     "name": "#%%\n"
    }
   }
  },
  {
   "cell_type": "markdown",
   "source": [
    "## Retrain ML Random Forest"
   ],
   "metadata": {
    "collapsed": false,
    "pycharm": {
     "name": "#%% md\n"
    }
   }
  },
  {
   "cell_type": "code",
   "execution_count": 7,
   "outputs": [],
   "source": [
    "model = RandomForestClassifier(n_jobs=-1)"
   ],
   "metadata": {
    "collapsed": false,
    "pycharm": {
     "name": "#%%\n"
    }
   }
  },
  {
   "cell_type": "code",
   "execution_count": 8,
   "outputs": [
    {
     "name": "stdout",
     "output_type": "stream",
     "text": [
      "Cross Validation Accuracy score: 0.8031291889067365\n",
      "\n",
      "Base Model Accuracy: 0.809\n",
      "\n"
     ]
    }
   ],
   "source": [
    "# CV\n",
    "kfold = StratifiedKFold(n_splits=5, random_state=None, shuffle=False)\n",
    "# Cross validation\n",
    "scores_scoring = cross_val_score(model, X=data_train, y=label_train, cv=kfold, scoring='accuracy')\n",
    "print(f'Cross Validation Accuracy score: {np.mean(scores_scoring)}\\n')\n",
    "\n",
    "# FIT\n",
    "model.fit(data_train, label_train)\n",
    "\n",
    "# PREDICT\n",
    "predict = model.predict(X=data_test)\n",
    "\n",
    "base_model = accuracy_score(label_test, predict)\n",
    "print('Base Model Accuracy: {:.3f}\\n'.format(base_model))"
   ],
   "metadata": {
    "collapsed": false,
    "pycharm": {
     "name": "#%%\n"
    }
   }
  },
  {
   "cell_type": "markdown",
   "source": [
    "## SHAP Values"
   ],
   "metadata": {
    "collapsed": false
   }
  },
  {
   "cell_type": "markdown",
   "source": [
    "### Compounds"
   ],
   "metadata": {
    "collapsed": false
   }
  },
  {
   "cell_type": "code",
   "execution_count": 9,
   "outputs": [
    {
     "name": "stdout",
     "output_type": "stream",
     "text": [
      "Mols_shape:  61\n",
      "Features_shape:  (61, 205)\n",
      "Labels_shape:  (61,)\n"
     ]
    }
   ],
   "source": [
    "mole_path = '/home/laptop16/Desktop/Mestrado/2_ano/SIB/Grupo/CODE_SIB/src/smiles/dataset/binary_class/shap_mole.csv'\n",
    "\n",
    "bits = [0,5,25,34,36,55,77,78,101,103,105,106,113,117,128,129,142,175,188,194,195,196,197,200,203,211,231,270,274,278,281,291,309,335,365,382,386,388,400,406,411,419,427,438,443,461,471,492,498,515,516,522,532,549,563,586,589,594,608,620,632,636,640,668,671,674,676,684,697,701,704,707,719,728,734,738,742,759,779,791,798,799,838,841,847,853,857,865,870,876,883,887,927,935,940,955,962,972,985,992,1016,1024,1037,1043,1045,1051,1072,1097,1104,1113,1123,1130,1133,1134,1145,1155,1180,1184,1222,1238,1255,1265,1287,1288,1295,1302,1305,1338,1341,1342,1346,1347,1369,1374,1375,1377,1389,1400,1403,1420,1421,1451,1456,1472,1479,1483,1492,1494,1500,1501,1520,1522,1528,1533,1536,1542,1545,1548,1556,1579,1599,1605,1612,1652,1656,1667,1670,1672,1676,1681,1682,1685,1686,1699,1705,1707,1727,1732,1734,1771,1778,1792,1818,1820,1823,1832,1846,1849,1861,1867,1872,1876,1885,1889,1892,1915,1921,1931,1942,1971,1973,1992,1995,2003,2041]\n",
    "str_bits = [str(x) for x in bits]\n",
    "\n",
    "loader_mole = CSVLoader(mole_path, mols_field='smiles', labels_fields='activity', features_fields=str_bits)\n",
    "mole = loader_mole.create_dataset()\n",
    "mole.get_shape()"
   ],
   "metadata": {
    "collapsed": false,
    "pycharm": {
     "name": "#%%\n"
    }
   }
  },
  {
   "cell_type": "code",
   "execution_count": 11,
   "outputs": [
    {
     "name": "stderr",
     "output_type": "stream",
     "text": [
      "Permutation explainer: 62it [00:14,  1.69it/s]                        \n"
     ]
    },
    {
     "data": {
      "text/plain": "<Figure size 576x396 with 2 Axes>",
      "image/png": "[encoded data removed]"
     },
     "metadata": {
      "needs_background": "light"
     },
     "output_type": "display_data"
    }
   ],
   "source": [
    "shap_calc = ShapValues(mole, model)\n",
    "shap_calc.computePermutationShap()"
   ],
   "metadata": {
    "collapsed": false,
    "pycharm": {
     "name": "#%%\n"
    }
   }
  },
  {
   "cell_type": "code",
   "execution_count": 12,
   "outputs": [
    {
     "data": {
      "text/plain": "<Figure size 576x468 with 3 Axes>",
      "image/png": "[encoded data removed]"
     },
     "metadata": {},
     "output_type": "display_data"
    }
   ],
   "source": [
    "shap_calc.plotSampleExplanation(index=1, plot_type='waterfall')"
   ],
   "metadata": {
    "collapsed": false,
    "pycharm": {
     "name": "#%%\n"
    }
   }
  },
  {
   "cell_type": "code",
   "execution_count": 13,
   "outputs": [
    {
     "data": {
      "text/plain": "<Figure size 576x468 with 3 Axes>",
      "image/png": "[encoded data removed]"
     },
     "metadata": {},
     "output_type": "display_data"
    }
   ],
   "source": [
    "shap_calc.plotSampleExplanation(index=57, plot_type='waterfall')"
   ],
   "metadata": {
    "collapsed": false,
    "pycharm": {
     "name": "#%%\n"
    }
   }
  },
  {
   "cell_type": "code",
   "execution_count": 14,
   "outputs": [
    {
     "data": {
      "text/plain": "<PIL.PngImagePlugin.PngImageFile image mode=RGB size=750x150 at 0x7FCBB9A21F10>",
      "image/png": "[encoded data removed]"
     },
     "execution_count": 14,
     "metadata": {},
     "output_type": "execute_result"
    }
   ],
   "source": [
    "draw_rdk_bits(mole.mols[1], [23])"
   ],
   "metadata": {
    "collapsed": false,
    "pycharm": {
     "name": "#%%\n"
    }
   }
  },
  {
   "cell_type": "code",
   "execution_count": 15,
   "outputs": [
    {
     "name": "stdout",
     "output_type": "stream",
     "text": [
      "Bit 23 with 1 hits!\n"
     ]
    },
    {
     "data": {
      "text/plain": "<PIL.PngImagePlugin.PngImageFile image mode=RGB size=450x200 at 0x7FCBB983F940>",
      "image/png": "[encoded data removed]"
     },
     "metadata": {},
     "output_type": "display_data"
    }
   ],
   "source": [
    "draw_rdk_bit_on_molecule(mole.mols[1], 23)"
   ],
   "metadata": {
    "collapsed": false,
    "pycharm": {
     "name": "#%%\n"
    }
   }
  },
  {
   "cell_type": "code",
   "execution_count": 16,
   "outputs": [
    {
     "data": {
      "text/plain": "<PIL.PngImagePlugin.PngImageFile image mode=RGB size=750x150 at 0x7FCBB98C2AF0>",
      "image/png": "[encoded data removed]"
     },
     "execution_count": 16,
     "metadata": {},
     "output_type": "execute_result"
    }
   ],
   "source": [
    "draw_rdk_bits(mole.mols[57], [23])"
   ],
   "metadata": {
    "collapsed": false,
    "pycharm": {
     "name": "#%%\n"
    }
   }
  },
  {
   "cell_type": "code",
   "execution_count": 17,
   "outputs": [
    {
     "name": "stdout",
     "output_type": "stream",
     "text": [
      "Bit 23 with 3 hits!\n"
     ]
    },
    {
     "data": {
      "text/plain": "<PIL.PngImagePlugin.PngImageFile image mode=RGB size=450x200 at 0x7FCBB9A958E0>",
      "image/png": "[encoded data removed]"
     },
     "metadata": {},
     "output_type": "display_data"
    },
    {
     "data": {
      "text/plain": "<PIL.PngImagePlugin.PngImageFile image mode=RGB size=450x200 at 0x7FCBB9C0F250>",
      "image/png": "[encoded data removed]"
     },
     "metadata": {},
     "output_type": "display_data"
    },
    {
     "data": {
      "text/plain": "<PIL.PngImagePlugin.PngImageFile image mode=RGB size=450x200 at 0x7FCBB9979490>",
      "image/png": "[encoded data removed]"
     },
     "metadata": {},
     "output_type": "display_data"
    }
   ],
   "source": [
    "draw_rdk_bit_on_molecule(mole.mols[57], 23)"
   ],
   "metadata": {
    "collapsed": false,
    "pycharm": {
     "name": "#%%\n"
    }
   }
  }
 ],
 "metadata": {
  "kernelspec": {
   "display_name": "Python 3 (ipykernel)",
   "language": "python",
   "name": "python3"
  },
  "language_info": {
   "codemirror_mode": {
    "name": "ipython",
    "version": 3
   },
   "file_extension": ".py",
   "mimetype": "text/x-python",
   "name": "python",
   "nbconvert_exporter": "python",
   "pygments_lexer": "ipython3",
   "version": "3.9.7"
  }
 },
 "nbformat": 4,
 "nbformat_minor": 1
}
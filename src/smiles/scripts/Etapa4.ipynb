{
 "cells": [
  {
   "cell_type": "code",
   "execution_count": 1,
   "metadata": {},
   "outputs": [
    {
     "name": "stdout",
     "output_type": "stream",
     "text": [
      "2.7.0\n"
     ]
    }
   ],
   "source": [
    "import sys\n",
    "import warnings\n",
    "import numpy as np\n",
    "import pandas as pd\n",
    "from loaders.Loaders import CSVLoader\n",
    "from splitters.splitters import SingletaskStratifiedSplitter\n",
    "from metrics.Metrics import Metric\n",
    "from metrics.metricsFunctions import roc_auc_score, precision_score, accuracy_score, confusion_matrix, classification_report\n",
    "from tensorflow.keras.layers import Dense, Dropout, GaussianNoise, Conv1D, Flatten, Reshape, LSTM\n",
    "from models.kerasModels import KerasModel\n",
    "from tensorflow.keras.models import Sequential\n",
    "from tensorflow.keras.optimizers import Adadelta, Adam, RMSprop\n",
    "\n",
    "import tensorflow as tf\n",
    "print(tf.version.VERSION)\n",
    "\n",
    "warnings.filterwarnings('ignore')"
   ]
  },
  {
   "cell_type": "markdown",
   "metadata": {},
   "source": [
    "# CHECK GPU"
   ]
  },
  {
   "cell_type": "code",
   "execution_count": null,
   "metadata": {
    "pycharm": {
     "name": "#%%\n"
    }
   },
   "outputs": [],
   "source": []
  },
  {
   "cell_type": "code",
   "execution_count": 2,
   "metadata": {
    "pycharm": {
     "name": "#%%\n"
    }
   },
   "outputs": [
    {
     "name": "stderr",
     "output_type": "stream",
     "text": [
      "2022-01-17 17:53:39.996292: I tensorflow/stream_executor/cuda/cuda_gpu_executor.cc:939] successful NUMA node read from SysFS had negative value (-1), but there must be at least one NUMA node, so returning NUMA node zero\n",
      "2022-01-17 17:53:40.004547: I tensorflow/stream_executor/cuda/cuda_gpu_executor.cc:939] successful NUMA node read from SysFS had negative value (-1), but there must be at least one NUMA node, so returning NUMA node zero\n",
      "2022-01-17 17:53:40.005057: I tensorflow/stream_executor/cuda/cuda_gpu_executor.cc:939] successful NUMA node read from SysFS had negative value (-1), but there must be at least one NUMA node, so returning NUMA node zero\n"
     ]
    },
    {
     "data": {
      "text/plain": [
       "[PhysicalDevice(name='/physical_device:GPU:0', device_type='GPU')]"
      ]
     },
     "execution_count": 2,
     "metadata": {},
     "output_type": "execute_result"
    }
   ],
   "source": [
    "tf.config.experimental.list_physical_devices('GPU')"
   ]
  },
  {
   "cell_type": "code",
   "execution_count": 3,
   "metadata": {
    "pycharm": {
     "name": "#%%\n"
    }
   },
   "outputs": [
    {
     "name": "stdout",
     "output_type": "stream",
     "text": [
      "Num GPUs Available:  1\n",
      "Using GPU: /device:GPU:0\n"
     ]
    },
    {
     "name": "stderr",
     "output_type": "stream",
     "text": [
      "2022-01-17 17:53:40.026046: I tensorflow/core/platform/cpu_feature_guard.cc:151] This TensorFlow binary is optimized with oneAPI Deep Neural Network Library (oneDNN) to use the following CPU instructions in performance-critical operations:  AVX2 FMA\n",
      "To enable them in other operations, rebuild TensorFlow with the appropriate compiler flags.\n",
      "2022-01-17 17:53:40.026789: I tensorflow/stream_executor/cuda/cuda_gpu_executor.cc:939] successful NUMA node read from SysFS had negative value (-1), but there must be at least one NUMA node, so returning NUMA node zero\n",
      "2022-01-17 17:53:40.027281: I tensorflow/stream_executor/cuda/cuda_gpu_executor.cc:939] successful NUMA node read from SysFS had negative value (-1), but there must be at least one NUMA node, so returning NUMA node zero\n",
      "2022-01-17 17:53:40.027716: I tensorflow/stream_executor/cuda/cuda_gpu_executor.cc:939] successful NUMA node read from SysFS had negative value (-1), but there must be at least one NUMA node, so returning NUMA node zero\n",
      "2022-01-17 17:53:40.629390: I tensorflow/stream_executor/cuda/cuda_gpu_executor.cc:939] successful NUMA node read from SysFS had negative value (-1), but there must be at least one NUMA node, so returning NUMA node zero\n",
      "2022-01-17 17:53:40.629808: I tensorflow/stream_executor/cuda/cuda_gpu_executor.cc:939] successful NUMA node read from SysFS had negative value (-1), but there must be at least one NUMA node, so returning NUMA node zero\n",
      "2022-01-17 17:53:40.630278: I tensorflow/stream_executor/cuda/cuda_gpu_executor.cc:939] successful NUMA node read from SysFS had negative value (-1), but there must be at least one NUMA node, so returning NUMA node zero\n",
      "2022-01-17 17:53:40.630564: I tensorflow/core/common_runtime/gpu/gpu_device.cc:1525] Created device /device:GPU:0 with 2781 MB memory:  -> device: 0, name: NVIDIA GeForce GTX 965M, pci bus id: 0000:01:00.0, compute capability: 5.2\n"
     ]
    }
   ],
   "source": [
    "print(\"Num GPUs Available: \", len(tf.config.experimental.list_physical_devices('GPU')))\n",
    "device_name = tf.test.gpu_device_name()\n",
    "if device_name == '/device:GPU:0':\n",
    "    print('Using GPU: {}'.format(device_name))\n",
    "else:\n",
    "    raise SystemError('GPU device not found')"
   ]
  },
  {
   "cell_type": "markdown",
   "metadata": {},
   "source": [
    "# Load"
   ]
  },
  {
   "cell_type": "code",
   "execution_count": 4,
   "metadata": {
    "pycharm": {
     "name": "#%%\n"
    }
   },
   "outputs": [],
   "source": [
    "rdk_path = '/home/laptop16/Desktop/Mestrado/2_ano/SIB/Grupo/CODE_SIB/src/smiles/dataset/binary_class/rdk_fs_all.csv'\n",
    "\n",
    "bits = [0,5,25,34,36,55,77,78,101,103,105,106,113,117,128,129,142,175,188,194,195,196,197,200,203,211,231,270,274,278,281,291,309,335,365,382,386,388,400,406,411,419,427,438,443,461,471,492,498,515,516,522,532,549,563,586,589,594,608,620,632,636,640,668,671,674,676,684,697,701,704,707,719,728,734,738,742,759,779,791,798,799,838,841,847,853,857,865,870,876,883,887,927,935,940,955,962,972,985,992,1016,1024,1037,1043,1045,1051,1072,1097,1104,1113,1123,1130,1133,1134,1145,1155,1180,1184,1222,1238,1255,1265,1287,1288,1295,1302,1305,1338,1341,1342,1346,1347,1369,1374,1375,1377,1389,1400,1403,1420,1421,1451,1456,1472,1479,1483,1492,1494,1500,1501,1520,1522,1528,1533,1536,1542,1545,1548,1556,1579,1599,1605,1612,1652,1656,1667,1670,1672,1676,1681,1682,1685,1686,1699,1705,1707,1727,1732,1734,1771,1778,1792,1818,1820,1823,1832,1846,1849,1861,1867,1872,1876,1885,1889,1892,1915,1921,1931,1942,1971,1973,1992,1995,2003,2041]\n",
    "\n",
    "str_bits = list(str(x) for x in bits)"
   ]
  },
  {
   "cell_type": "code",
   "execution_count": 5,
   "metadata": {
    "pycharm": {
     "name": "#%%\n"
    }
   },
   "outputs": [],
   "source": [
    "loader = CSVLoader(rdk_path, mols_field='smiles', labels_fields='activity', features_fields=str_bits)"
   ]
  },
  {
   "cell_type": "code",
   "execution_count": 6,
   "metadata": {
    "pycharm": {
     "name": "#%%\n"
    }
   },
   "outputs": [
    {
     "name": "stdout",
     "output_type": "stream",
     "text": [
      "Mols_shape:  39990\n",
      "Features_shape:  (39990, 205)\n",
      "Labels_shape:  (39990,)\n"
     ]
    }
   ],
   "source": [
    "dataset = loader.create_dataset()\n",
    "dataset.get_shape()"
   ]
  },
  {
   "cell_type": "markdown",
   "metadata": {
    "pycharm": {
     "name": "#%% md\n"
    }
   },
   "source": [
    "# Data Split"
   ]
  },
  {
   "cell_type": "code",
   "execution_count": 7,
   "metadata": {
    "pycharm": {
     "name": "#%%\n"
    }
   },
   "outputs": [
    {
     "name": "stdout",
     "output_type": "stream",
     "text": [
      "(23994, 205)\n",
      "(7998, 205)\n",
      "(7998, 205)\n"
     ]
    }
   ],
   "source": [
    "splitter = SingletaskStratifiedSplitter()\n",
    "train_dataset, valid_dataset, test_dataset = splitter.train_valid_test_split(dataset=dataset, frac_train=0.6,\n",
    "                                                                             frac_valid=0.2, frac_test=0.2)"
   ]
  },
  {
   "cell_type": "markdown",
   "metadata": {},
   "source": [
    "# Model"
   ]
  },
  {
   "cell_type": "markdown",
   "metadata": {},
   "source": [
    "## DNN"
   ]
  },
  {
   "cell_type": "code",
   "execution_count": 8,
   "metadata": {
    "pycharm": {
     "name": "#%%\n"
    }
   },
   "outputs": [],
   "source": [
    "input_dim = train_dataset.X.shape[1]\n",
    "\n",
    "def create_model(optimizer='adam', dropout=0.5, input_dim=input_dim):\n",
    "    # create model\n",
    "    model = Sequential()\n",
    "    model.add(Dense(1024, input_dim=input_dim, activation='relu'))\n",
    "    model.add(Dropout(dropout))\n",
    "    model.add(Dense(256, activation='relu'))\n",
    "    model.add(Dense(64, activation='relu'))\n",
    "    model.add(Dense(8, activation='relu'))\n",
    "    model.add(Dense(1, activation='sigmoid'))\n",
    "    # Compile model\n",
    "    model.compile(loss='binary_crossentropy', optimizer=optimizer, metrics=['accuracy'])\n",
    "    model.summary()\n",
    "    return model"
   ]
  },
  {
   "cell_type": "code",
   "execution_count": 9,
   "metadata": {
    "pycharm": {
     "name": "#%%\n"
    }
   },
   "outputs": [
    {
     "name": "stdout",
     "output_type": "stream",
     "text": [
      "Input dim: 205\n"
     ]
    }
   ],
   "source": [
    "input_dim = train_dataset.X.shape[1]\n",
    "print(f'Input dim: {input_dim}')\n",
    "model = KerasModel(create_model, epochs=30, verbose=1, optimizer='adam')"
   ]
  },
  {
   "cell_type": "code",
   "execution_count": 10,
   "metadata": {
    "pycharm": {
     "name": "#%%\n"
    }
   },
   "outputs": [
    {
     "name": "stdout",
     "output_type": "stream",
     "text": [
      "Train data size: (23994, 205)\n",
      "Train labels size: (23994,)\n",
      "Model: \"sequential\"\n",
      "_________________________________________________________________\n",
      " Layer (type)                Output Shape              Param #   \n",
      "=================================================================\n",
      " dense (Dense)               (None, 1024)              210944    \n",
      "                                                                 \n",
      " dropout (Dropout)           (None, 1024)              0         \n",
      "                                                                 \n",
      " dense_1 (Dense)             (None, 256)               262400    \n",
      "                                                                 \n",
      " dense_2 (Dense)             (None, 64)                16448     \n",
      "                                                                 \n",
      " dense_3 (Dense)             (None, 8)                 520       \n",
      "                                                                 \n",
      " dense_4 (Dense)             (None, 1)                 9         \n",
      "                                                                 \n",
      "=================================================================\n",
      "Total params: 490,321\n",
      "Trainable params: 490,321\n",
      "Non-trainable params: 0\n",
      "_________________________________________________________________\n"
     ]
    },
    {
     "name": "stderr",
     "output_type": "stream",
     "text": [
      "2022-01-17 17:53:42.313729: I tensorflow/stream_executor/cuda/cuda_gpu_executor.cc:939] successful NUMA node read from SysFS had negative value (-1), but there must be at least one NUMA node, so returning NUMA node zero\n",
      "2022-01-17 17:53:42.314211: I tensorflow/stream_executor/cuda/cuda_gpu_executor.cc:939] successful NUMA node read from SysFS had negative value (-1), but there must be at least one NUMA node, so returning NUMA node zero\n",
      "2022-01-17 17:53:42.314613: I tensorflow/stream_executor/cuda/cuda_gpu_executor.cc:939] successful NUMA node read from SysFS had negative value (-1), but there must be at least one NUMA node, so returning NUMA node zero\n",
      "2022-01-17 17:53:42.315063: I tensorflow/stream_executor/cuda/cuda_gpu_executor.cc:939] successful NUMA node read from SysFS had negative value (-1), but there must be at least one NUMA node, so returning NUMA node zero\n",
      "2022-01-17 17:53:42.315743: I tensorflow/stream_executor/cuda/cuda_gpu_executor.cc:939] successful NUMA node read from SysFS had negative value (-1), but there must be at least one NUMA node, so returning NUMA node zero\n",
      "2022-01-17 17:53:42.316584: I tensorflow/core/common_runtime/gpu/gpu_device.cc:1525] Created device /job:localhost/replica:0/task:0/device:GPU:0 with 2781 MB memory:  -> device: 0, name: NVIDIA GeForce GTX 965M, pci bus id: 0000:01:00.0, compute capability: 5.2\n"
     ]
    },
    {
     "name": "stdout",
     "output_type": "stream",
     "text": [
      "Epoch 1/30\n",
      "2400/2400 [==============================] - 9s 3ms/step - loss: 0.6503 - accuracy: 0.6078\n",
      "Epoch 2/30\n",
      "2400/2400 [==============================] - 8s 3ms/step - loss: 0.5945 - accuracy: 0.6822\n",
      "Epoch 3/30\n",
      "2400/2400 [==============================] - 7s 3ms/step - loss: 0.5678 - accuracy: 0.7024\n",
      "Epoch 4/30\n",
      "2400/2400 [==============================] - 8s 3ms/step - loss: 0.5342 - accuracy: 0.7306\n",
      "Epoch 5/30\n",
      "2400/2400 [==============================] - 7s 3ms/step - loss: 0.5073 - accuracy: 0.7559\n",
      "Epoch 6/30\n",
      "2400/2400 [==============================] - 7s 3ms/step - loss: 0.4846 - accuracy: 0.7677\n",
      "Epoch 7/30\n",
      "2400/2400 [==============================] - 6s 3ms/step - loss: 0.4576 - accuracy: 0.7844\n",
      "Epoch 8/30\n",
      "2400/2400 [==============================] - 7s 3ms/step - loss: 0.4402 - accuracy: 0.7950\n",
      "Epoch 9/30\n",
      "2400/2400 [==============================] - 7s 3ms/step - loss: 0.4159 - accuracy: 0.8078\n",
      "Epoch 10/30\n",
      "2400/2400 [==============================] - 7s 3ms/step - loss: 0.4016 - accuracy: 0.8193\n",
      "Epoch 11/30\n",
      "2400/2400 [==============================] - 7s 3ms/step - loss: 0.3842 - accuracy: 0.8273\n",
      "Epoch 12/30\n",
      "2400/2400 [==============================] - 7s 3ms/step - loss: 0.3674 - accuracy: 0.8379\n",
      "Epoch 13/30\n",
      "2400/2400 [==============================] - 7s 3ms/step - loss: 0.3526 - accuracy: 0.8433\n",
      "Epoch 14/30\n",
      "2400/2400 [==============================] - 8s 3ms/step - loss: 0.3401 - accuracy: 0.8510\n",
      "Epoch 15/30\n",
      "2400/2400 [==============================] - 9s 4ms/step - loss: 0.3251 - accuracy: 0.8574\n",
      "Epoch 16/30\n",
      "2400/2400 [==============================] - 8s 3ms/step - loss: 0.3115 - accuracy: 0.8656\n",
      "Epoch 17/30\n",
      "2400/2400 [==============================] - 6s 2ms/step - loss: 0.3062 - accuracy: 0.8679\n",
      "Epoch 18/30\n",
      "2400/2400 [==============================] - 8s 3ms/step - loss: 0.2946 - accuracy: 0.8714\n",
      "Epoch 19/30\n",
      "2400/2400 [==============================] - 7s 3ms/step - loss: 0.2822 - accuracy: 0.8793\n",
      "Epoch 20/30\n",
      "2400/2400 [==============================] - 6s 3ms/step - loss: 0.2699 - accuracy: 0.8832\n",
      "Epoch 21/30\n",
      "2400/2400 [==============================] - 6s 3ms/step - loss: 0.2597 - accuracy: 0.8871\n",
      "Epoch 22/30\n",
      "2400/2400 [==============================] - 8s 3ms/step - loss: 0.2587 - accuracy: 0.8886\n",
      "Epoch 23/30\n",
      "2400/2400 [==============================] - 10s 4ms/step - loss: 0.2491 - accuracy: 0.8936\n",
      "Epoch 24/30\n",
      "2400/2400 [==============================] - 9s 4ms/step - loss: 0.2419 - accuracy: 0.8988\n",
      "Epoch 25/30\n",
      "2400/2400 [==============================] - 10s 4ms/step - loss: 0.2385 - accuracy: 0.8984\n",
      "Epoch 26/30\n",
      "2400/2400 [==============================] - 8s 3ms/step - loss: 0.2308 - accuracy: 0.9054\n",
      "Epoch 27/30\n",
      "2400/2400 [==============================] - 7s 3ms/step - loss: 0.2252 - accuracy: 0.9042\n",
      "Epoch 28/30\n",
      "2400/2400 [==============================] - 7s 3ms/step - loss: 0.2197 - accuracy: 0.9077\n",
      "Epoch 29/30\n",
      "2400/2400 [==============================] - 7s 3ms/step - loss: 0.2142 - accuracy: 0.9119\n",
      "Epoch 30/30\n",
      "2400/2400 [==============================] - 7s 3ms/step - loss: 0.2132 - accuracy: 0.9121\n"
     ]
    }
   ],
   "source": [
    "print(f'Train data size: {train_dataset.X.shape}\\nTrain labels size: {train_dataset.y.shape}')\n",
    "\n",
    "model.fit(train_dataset)"
   ]
  },
  {
   "cell_type": "code",
   "execution_count": 11,
   "metadata": {
    "pycharm": {
     "name": "#%%\n"
    }
   },
   "outputs": [
    {
     "name": "stdout",
     "output_type": "stream",
     "text": [
      "roc_auc_score: \n",
      " 0.9517019343004838\n",
      "precision_score: \n",
      " 0.932051997766967\n",
      "accuracy_score: \n",
      " 0.9516962573976827\n",
      "confusion_matrix: \n",
      " [[11148   852]\n",
      " [  307 11687]]\n",
      "classification_report: \n",
      "               precision    recall  f1-score   support\n",
      "\n",
      "           0       0.97      0.93      0.95     12000\n",
      "           1       0.93      0.97      0.95     11994\n",
      "\n",
      "    accuracy                           0.95     23994\n",
      "   macro avg       0.95      0.95      0.95     23994\n",
      "weighted avg       0.95      0.95      0.95     23994\n",
      "\n",
      "WARNING: task averager  cannot perform reduce with flexible type\n",
      "training set score: {'roc_auc_score': 0.9517019343004838, 'precision_score': 0.932051997766967, 'accuracy_score': 0.9516962573976827, 'confusion_matrix': 5998.5, 'classification_report': None}\n",
      "roc_auc_score: \n",
      " 0.8001910955477738\n",
      "precision_score: \n",
      " 0.7802146523565096\n",
      "accuracy_score: \n",
      " 0.8002000500125032\n",
      "confusion_matrix: \n",
      " [[3056  942]\n",
      " [ 656 3344]]\n",
      "classification_report: \n",
      "               precision    recall  f1-score   support\n",
      "\n",
      "           0       0.82      0.76      0.79      3998\n",
      "           1       0.78      0.84      0.81      4000\n",
      "\n",
      "    accuracy                           0.80      7998\n",
      "   macro avg       0.80      0.80      0.80      7998\n",
      "weighted avg       0.80      0.80      0.80      7998\n",
      "\n",
      "WARNING: task averager  cannot perform reduce with flexible type\n",
      "test set score: {'roc_auc_score': 0.8001910955477738, 'precision_score': 0.7802146523565096, 'accuracy_score': 0.8002000500125032, 'confusion_matrix': 1999.5, 'classification_report': None}\n"
     ]
    }
   ],
   "source": [
    "metrics = [Metric(roc_auc_score),\n",
    "           Metric(precision_score),\n",
    "           Metric(accuracy_score),\n",
    "           Metric(confusion_matrix),\n",
    "           Metric(classification_report)]\n",
    "\n",
    "\n",
    "print('training set score:', model.evaluate(train_dataset, metrics))\n",
    "print('test set score:', model.evaluate(test_dataset, metrics))"
   ]
  },
  {
   "cell_type": "markdown",
   "metadata": {},
   "source": [
    "## CNN"
   ]
  },
  {
   "cell_type": "code",
   "execution_count": 12,
   "metadata": {
    "pycharm": {
     "name": "#%%\n"
    }
   },
   "outputs": [],
   "source": [
    "def make_cnn_model(input_dim=input_dim,\n",
    "                   g_noise = 0.05,\n",
    "                   DENSE=128,\n",
    "                   DROPOUT=0.5,\n",
    "                   C1_K=8,\n",
    "                   C1_S=32,\n",
    "                   C2_K=16,\n",
    "                   C2_S=32,\n",
    "                   activation='relu',\n",
    "                   loss='binary_crossentropy',\n",
    "                   optimizer='adadelta',\n",
    "                   learning_rate=0.01,\n",
    "                   metrics='accuracy'):\n",
    "    model = Sequential()\n",
    "    #Adding a bit of GaussianNoise also works as regularization\n",
    "    model.add(GaussianNoise(g_noise, input_shape=(input_dim,)))\n",
    "    #First two is number of filter + kernel size\n",
    "    model.add(Reshape((input_dim, 1)))\n",
    "    model.add(Conv1D(C1_K, (C1_S), activation=activation, padding=\"same\"))\n",
    "    model.add(Conv1D(C2_K, (C2_S), padding=\"same\", activation=activation))\n",
    "    model.add(Flatten())\n",
    "    model.add(Dropout(DROPOUT))\n",
    "    model.add(Dense(DENSE, activation=activation))\n",
    "    model.add(Dense(1, activation='sigmoid'))\n",
    "    if optimizer=='adadelta':\n",
    "        opt = Adadelta(lr=learning_rate)\n",
    "    elif optimizer=='adam':\n",
    "        opt = Adam(lr=learning_rate)\n",
    "    elif optimizer=='rsmprop':\n",
    "        opt = RMSprop(lr=learning_rate)\n",
    "    else :\n",
    "        opt = optimizer\n",
    "\n",
    "    model.compile(loss=loss, optimizer=opt, metrics=metrics)\n",
    "    model.summary()\n",
    "\n",
    "    return model"
   ]
  },
  {
   "cell_type": "code",
   "execution_count": 13,
   "metadata": {
    "pycharm": {
     "name": "#%%\n"
    }
   },
   "outputs": [
    {
     "name": "stdout",
     "output_type": "stream",
     "text": [
      "205\n"
     ]
    }
   ],
   "source": [
    "input_dim = train_dataset.X.shape[1]\n",
    "print(input_dim)\n",
    "model = KerasModel(make_cnn_model, epochs=30, verbose=1)"
   ]
  },
  {
   "cell_type": "code",
   "execution_count": 14,
   "metadata": {
    "pycharm": {
     "name": "#%%\n"
    }
   },
   "outputs": [
    {
     "name": "stdout",
     "output_type": "stream",
     "text": [
      "(23994, 205) (23994,)\n",
      "Model: \"sequential_1\"\n",
      "_________________________________________________________________\n",
      " Layer (type)                Output Shape              Param #   \n",
      "=================================================================\n",
      " gaussian_noise (GaussianNoi  (None, 205)              0         \n",
      " se)                                                             \n",
      "                                                                 \n",
      " reshape (Reshape)           (None, 205, 1)            0         \n",
      "                                                                 \n",
      " conv1d (Conv1D)             (None, 205, 8)            264       \n",
      "                                                                 \n",
      " conv1d_1 (Conv1D)           (None, 205, 16)           4112      \n",
      "                                                                 \n",
      " flatten (Flatten)           (None, 3280)              0         \n",
      "                                                                 \n",
      " dropout_1 (Dropout)         (None, 3280)              0         \n",
      "                                                                 \n",
      " dense_5 (Dense)             (None, 128)               419968    \n",
      "                                                                 \n",
      " dense_6 (Dense)             (None, 1)                 129       \n",
      "                                                                 \n",
      "=================================================================\n",
      "Total params: 424,473\n",
      "Trainable params: 424,473\n",
      "Non-trainable params: 0\n",
      "_________________________________________________________________\n",
      "Epoch 1/30\n"
     ]
    },
    {
     "name": "stderr",
     "output_type": "stream",
     "text": [
      "2022-01-17 17:57:28.664397: I tensorflow/stream_executor/cuda/cuda_dnn.cc:366] Loaded cuDNN version 8201\n"
     ]
    },
    {
     "name": "stdout",
     "output_type": "stream",
     "text": [
      "2400/2400 [==============================] - 11s 4ms/step - loss: 0.6790 - accuracy: 0.5625\n",
      "Epoch 2/30\n",
      "2400/2400 [==============================] - 11s 5ms/step - loss: 0.6431 - accuracy: 0.6426\n",
      "Epoch 3/30\n",
      "2400/2400 [==============================] - 11s 4ms/step - loss: 0.6203 - accuracy: 0.6634\n",
      "Epoch 4/30\n",
      "2400/2400 [==============================] - 10s 4ms/step - loss: 0.6110 - accuracy: 0.6735\n",
      "Epoch 5/30\n",
      "2400/2400 [==============================] - 11s 5ms/step - loss: 0.6046 - accuracy: 0.6790\n",
      "Epoch 6/30\n",
      "2400/2400 [==============================] - 10s 4ms/step - loss: 0.5994 - accuracy: 0.6817\n",
      "Epoch 7/30\n",
      "2400/2400 [==============================] - 11s 5ms/step - loss: 0.5940 - accuracy: 0.6880\n",
      "Epoch 8/30\n",
      "2400/2400 [==============================] - 10s 4ms/step - loss: 0.5902 - accuracy: 0.6910\n",
      "Epoch 9/30\n",
      "2400/2400 [==============================] - 9s 4ms/step - loss: 0.5884 - accuracy: 0.6899\n",
      "Epoch 10/30\n",
      "2400/2400 [==============================] - 9s 4ms/step - loss: 0.5838 - accuracy: 0.6949\n",
      "Epoch 11/30\n",
      "2400/2400 [==============================] - 10s 4ms/step - loss: 0.5838 - accuracy: 0.6947\n",
      "Epoch 12/30\n",
      "2400/2400 [==============================] - 10s 4ms/step - loss: 0.5807 - accuracy: 0.6985\n",
      "Epoch 13/30\n",
      "2400/2400 [==============================] - 10s 4ms/step - loss: 0.5786 - accuracy: 0.6986\n",
      "Epoch 14/30\n",
      "2400/2400 [==============================] - 11s 5ms/step - loss: 0.5766 - accuracy: 0.7019\n",
      "Epoch 15/30\n",
      "2400/2400 [==============================] - 10s 4ms/step - loss: 0.5743 - accuracy: 0.7025\n",
      "Epoch 16/30\n",
      "2400/2400 [==============================] - 10s 4ms/step - loss: 0.5725 - accuracy: 0.7007\n",
      "Epoch 17/30\n",
      "2400/2400 [==============================] - 11s 4ms/step - loss: 0.5720 - accuracy: 0.7046\n",
      "Epoch 18/30\n",
      "2400/2400 [==============================] - 11s 4ms/step - loss: 0.5694 - accuracy: 0.7053\n",
      "Epoch 19/30\n",
      "2400/2400 [==============================] - 11s 5ms/step - loss: 0.5675 - accuracy: 0.7069\n",
      "Epoch 20/30\n",
      "2400/2400 [==============================] - 10s 4ms/step - loss: 0.5659 - accuracy: 0.7108\n",
      "Epoch 21/30\n",
      "2400/2400 [==============================] - 10s 4ms/step - loss: 0.5654 - accuracy: 0.7100\n",
      "Epoch 22/30\n",
      "2400/2400 [==============================] - 9s 4ms/step - loss: 0.5633 - accuracy: 0.7116\n",
      "Epoch 23/30\n",
      "2400/2400 [==============================] - 9s 4ms/step - loss: 0.5608 - accuracy: 0.7126\n",
      "Epoch 24/30\n",
      "2400/2400 [==============================] - 9s 4ms/step - loss: 0.5630 - accuracy: 0.7123\n",
      "Epoch 25/30\n",
      "2400/2400 [==============================] - 9s 4ms/step - loss: 0.5593 - accuracy: 0.7140\n",
      "Epoch 26/30\n",
      "2400/2400 [==============================] - 10s 4ms/step - loss: 0.5597 - accuracy: 0.7145\n",
      "Epoch 27/30\n",
      "2400/2400 [==============================] - 9s 4ms/step - loss: 0.5568 - accuracy: 0.7169\n",
      "Epoch 28/30\n",
      "2400/2400 [==============================] - 10s 4ms/step - loss: 0.5550 - accuracy: 0.7174\n",
      "Epoch 29/30\n",
      "2400/2400 [==============================] - 10s 4ms/step - loss: 0.5540 - accuracy: 0.7190\n",
      "Epoch 30/30\n",
      "2400/2400 [==============================] - 10s 4ms/step - loss: 0.5537 - accuracy: 0.7206\n"
     ]
    }
   ],
   "source": [
    "print(train_dataset.X.shape, train_dataset.y.shape)\n",
    "\n",
    "model.fit(train_dataset)"
   ]
  },
  {
   "cell_type": "code",
   "execution_count": 15,
   "metadata": {
    "pycharm": {
     "name": "#%%\n"
    }
   },
   "outputs": [
    {
     "name": "stdout",
     "output_type": "stream",
     "text": [
      "roc_auc_score: \n",
      " 0.7317737410371854\n",
      "precision_score: \n",
      " 0.7186123348017621\n",
      "accuracy_score: \n",
      " 0.7317662749020588\n",
      "confusion_matrix: \n",
      " [[8423 3577]\n",
      " [2859 9135]]\n",
      "classification_report: \n",
      "               precision    recall  f1-score   support\n",
      "\n",
      "           0       0.75      0.70      0.72     12000\n",
      "           1       0.72      0.76      0.74     11994\n",
      "\n",
      "    accuracy                           0.73     23994\n",
      "   macro avg       0.73      0.73      0.73     23994\n",
      "weighted avg       0.73      0.73      0.73     23994\n",
      "\n",
      "WARNING: task averager  cannot perform reduce with flexible type\n",
      "training set score: {'roc_auc_score': 0.7317737410371854, 'precision_score': 0.7186123348017621, 'accuracy_score': 0.7317662749020588, 'confusion_matrix': 5998.5, 'classification_report': None}\n",
      "roc_auc_score: \n",
      " 0.7171695222611306\n",
      "precision_score: \n",
      " 0.701530612244898\n",
      "accuracy_score: \n",
      " 0.7171792948237059\n",
      "confusion_matrix: \n",
      " [[2711 1287]\n",
      " [ 975 3025]]\n",
      "classification_report: \n",
      "               precision    recall  f1-score   support\n",
      "\n",
      "           0       0.74      0.68      0.71      3998\n",
      "           1       0.70      0.76      0.73      4000\n",
      "\n",
      "    accuracy                           0.72      7998\n",
      "   macro avg       0.72      0.72      0.72      7998\n",
      "weighted avg       0.72      0.72      0.72      7998\n",
      "\n",
      "WARNING: task averager  cannot perform reduce with flexible type\n",
      "test set score: {'roc_auc_score': 0.7171695222611306, 'precision_score': 0.701530612244898, 'accuracy_score': 0.7171792948237059, 'confusion_matrix': 1999.5, 'classification_report': None}\n"
     ]
    }
   ],
   "source": [
    "metrics = [Metric(roc_auc_score),\n",
    "          Metric(precision_score),\n",
    "          Metric(accuracy_score),\n",
    "          Metric(confusion_matrix),\n",
    "          Metric(classification_report)]\n",
    "\n",
    "print('training set score:', model.evaluate(train_dataset, metrics))\n",
    "print('test set score:', model.evaluate(test_dataset, metrics))"
   ]
  },
  {
   "cell_type": "markdown",
   "metadata": {},
   "source": [
    "## LSTM"
   ]
  },
  {
   "cell_type": "code",
   "execution_count": 16,
   "metadata": {
    "pycharm": {
     "name": "#%%\n"
    }
   },
   "outputs": [],
   "source": [
    "input_dim = train_dataset.X.shape[1]\n",
    "\n",
    "def create_lstm_model(optimizer='adam', input_dim=input_dim):\n",
    "    # create model\n",
    "    model = Sequential()\n",
    "    model.add(Dense(1024, input_dim=input_dim, activation='relu'))\n",
    "    model.add(LSTM(32))\n",
    "    model.add(Dense(8, activation='relu'))\n",
    "    model.add(Dense(1, activation='sigmoid'))\n",
    "    # Compile model\n",
    "    model.compile(loss='binary_crossentropy', optimizer=optimizer, metrics=['accuracy'])\n",
    "    model.summary()\n",
    "    return model"
   ]
  },
  {
   "cell_type": "code",
   "execution_count": 17,
   "metadata": {
    "pycharm": {
     "name": "#%%\n"
    }
   },
   "outputs": [
    {
     "name": "stdout",
     "output_type": "stream",
     "text": [
      "205\n"
     ]
    }
   ],
   "source": [
    "input_dim = train_dataset.X.shape[1]\n",
    "print(input_dim)\n",
    "model = KerasModel(make_cnn_model, epochs=30, verbose=1)"
   ]
  },
  {
   "cell_type": "code",
   "execution_count": 18,
   "metadata": {
    "pycharm": {
     "name": "#%%\n"
    }
   },
   "outputs": [
    {
     "name": "stdout",
     "output_type": "stream",
     "text": [
      "(23994, 205) (23994,)\n",
      "Model: \"sequential_2\"\n",
      "_________________________________________________________________\n",
      " Layer (type)                Output Shape              Param #   \n",
      "=================================================================\n",
      " gaussian_noise_1 (GaussianN  (None, 205)              0         \n",
      " oise)                                                           \n",
      "                                                                 \n",
      " reshape_1 (Reshape)         (None, 205, 1)            0         \n",
      "                                                                 \n",
      " conv1d_2 (Conv1D)           (None, 205, 8)            264       \n",
      "                                                                 \n",
      " conv1d_3 (Conv1D)           (None, 205, 16)           4112      \n",
      "                                                                 \n",
      " flatten_1 (Flatten)         (None, 3280)              0         \n",
      "                                                                 \n",
      " dropout_2 (Dropout)         (None, 3280)              0         \n",
      "                                                                 \n",
      " dense_7 (Dense)             (None, 128)               419968    \n",
      "                                                                 \n",
      " dense_8 (Dense)             (None, 1)                 129       \n",
      "                                                                 \n",
      "=================================================================\n",
      "Total params: 424,473\n",
      "Trainable params: 424,473\n",
      "Non-trainable params: 0\n",
      "_________________________________________________________________\n",
      "Epoch 1/30\n",
      "2400/2400 [==============================] - 12s 5ms/step - loss: 0.6490 - accuracy: 0.6270\n",
      "Epoch 2/30\n",
      "2400/2400 [==============================] - 9s 4ms/step - loss: 0.6206 - accuracy: 0.6604\n",
      "Epoch 3/30\n",
      "2400/2400 [==============================] - 10s 4ms/step - loss: 0.6111 - accuracy: 0.6726\n",
      "Epoch 4/30\n",
      "2400/2400 [==============================] - 12s 5ms/step - loss: 0.6050 - accuracy: 0.6745\n",
      "Epoch 5/30\n",
      "2400/2400 [==============================] - 9s 4ms/step - loss: 0.5994 - accuracy: 0.6811\n",
      "Epoch 6/30\n",
      "2400/2400 [==============================] - 9s 4ms/step - loss: 0.5965 - accuracy: 0.6835\n",
      "Epoch 7/30\n",
      "2400/2400 [==============================] - 10s 4ms/step - loss: 0.5931 - accuracy: 0.6865\n",
      "Epoch 8/30\n",
      "2400/2400 [==============================] - 9s 4ms/step - loss: 0.5890 - accuracy: 0.6886\n",
      "Epoch 9/30\n",
      "2400/2400 [==============================] - 9s 4ms/step - loss: 0.5865 - accuracy: 0.6903\n",
      "Epoch 10/30\n",
      "2400/2400 [==============================] - 9s 4ms/step - loss: 0.5839 - accuracy: 0.6936\n",
      "Epoch 11/30\n",
      "2400/2400 [==============================] - 9s 4ms/step - loss: 0.5813 - accuracy: 0.6951\n",
      "Epoch 12/30\n",
      "2400/2400 [==============================] - 11s 5ms/step - loss: 0.5800 - accuracy: 0.6960\n",
      "Epoch 13/30\n",
      "2400/2400 [==============================] - 10s 4ms/step - loss: 0.5780 - accuracy: 0.7008\n",
      "Epoch 14/30\n",
      "2400/2400 [==============================] - 9s 4ms/step - loss: 0.5757 - accuracy: 0.7000\n",
      "Epoch 15/30\n",
      "2400/2400 [==============================] - 10s 4ms/step - loss: 0.5742 - accuracy: 0.7012\n",
      "Epoch 16/30\n",
      "2400/2400 [==============================] - 10s 4ms/step - loss: 0.5707 - accuracy: 0.7044\n",
      "Epoch 17/30\n",
      "2400/2400 [==============================] - 11s 4ms/step - loss: 0.5692 - accuracy: 0.7053\n",
      "Epoch 18/30\n",
      "2400/2400 [==============================] - 10s 4ms/step - loss: 0.5700 - accuracy: 0.7041\n",
      "Epoch 19/30\n",
      "2400/2400 [==============================] - 10s 4ms/step - loss: 0.5696 - accuracy: 0.7025\n",
      "Epoch 20/30\n",
      "2400/2400 [==============================] - 10s 4ms/step - loss: 0.5652 - accuracy: 0.7095\n",
      "Epoch 21/30\n",
      "2400/2400 [==============================] - 10s 4ms/step - loss: 0.5636 - accuracy: 0.7109\n",
      "Epoch 22/30\n",
      "2400/2400 [==============================] - 9s 4ms/step - loss: 0.5619 - accuracy: 0.7104\n",
      "Epoch 23/30\n",
      "2400/2400 [==============================] - 9s 4ms/step - loss: 0.5621 - accuracy: 0.7108\n",
      "Epoch 24/30\n",
      "2400/2400 [==============================] - 9s 4ms/step - loss: 0.5594 - accuracy: 0.7108\n",
      "Epoch 25/30\n",
      "2400/2400 [==============================] - 10s 4ms/step - loss: 0.5586 - accuracy: 0.7158\n",
      "Epoch 26/30\n",
      "2400/2400 [==============================] - 10s 4ms/step - loss: 0.5579 - accuracy: 0.7151\n",
      "Epoch 27/30\n",
      "2400/2400 [==============================] - 10s 4ms/step - loss: 0.5547 - accuracy: 0.7178\n",
      "Epoch 28/30\n",
      "2400/2400 [==============================] - 10s 4ms/step - loss: 0.5546 - accuracy: 0.7176\n",
      "Epoch 29/30\n",
      "2400/2400 [==============================] - 10s 4ms/step - loss: 0.5534 - accuracy: 0.7181\n",
      "Epoch 30/30\n",
      "2400/2400 [==============================] - 10s 4ms/step - loss: 0.5506 - accuracy: 0.7174\n"
     ]
    }
   ],
   "source": [
    "print(train_dataset.X.shape, train_dataset.y.shape)\n",
    "\n",
    "model.fit(train_dataset)"
   ]
  },
  {
   "cell_type": "code",
   "execution_count": 19,
   "metadata": {
    "pycharm": {
     "name": "#%%\n"
    }
   },
   "outputs": [
    {
     "name": "stdout",
     "output_type": "stream",
     "text": [
      "roc_auc_score: \n",
      " 0.734354844088711\n",
      "precision_score: \n",
      " 0.7259568993245417\n",
      "accuracy_score: \n",
      " 0.7343502542302243\n",
      "confusion_matrix: \n",
      " [[8592 3408]\n",
      " [2966 9028]]\n",
      "classification_report: \n",
      "               precision    recall  f1-score   support\n",
      "\n",
      "           0       0.74      0.72      0.73     12000\n",
      "           1       0.73      0.75      0.74     11994\n",
      "\n",
      "    accuracy                           0.73     23994\n",
      "   macro avg       0.73      0.73      0.73     23994\n",
      "weighted avg       0.73      0.73      0.73     23994\n",
      "\n",
      "WARNING: task averager  cannot perform reduce with flexible type\n",
      "training set score: {'roc_auc_score': 0.734354844088711, 'precision_score': 0.7259568993245417, 'accuracy_score': 0.7343502542302243, 'confusion_matrix': 5998.5, 'classification_report': None}\n",
      "roc_auc_score: \n",
      " 0.7209231490745373\n",
      "precision_score: \n",
      " 0.7091812588736394\n",
      "accuracy_score: \n",
      " 0.7209302325581395\n",
      "confusion_matrix: \n",
      " [[2769 1229]\n",
      " [1003 2997]]\n",
      "classification_report: \n",
      "               precision    recall  f1-score   support\n",
      "\n",
      "           0       0.73      0.69      0.71      3998\n",
      "           1       0.71      0.75      0.73      4000\n",
      "\n",
      "    accuracy                           0.72      7998\n",
      "   macro avg       0.72      0.72      0.72      7998\n",
      "weighted avg       0.72      0.72      0.72      7998\n",
      "\n",
      "WARNING: task averager  cannot perform reduce with flexible type\n",
      "test set score: {'roc_auc_score': 0.7209231490745373, 'precision_score': 0.7091812588736394, 'accuracy_score': 0.7209302325581395, 'confusion_matrix': 1999.5, 'classification_report': None}\n"
     ]
    }
   ],
   "source": [
    "metrics = [Metric(roc_auc_score),\n",
    "          Metric(precision_score),\n",
    "          Metric(accuracy_score),\n",
    "          Metric(confusion_matrix),\n",
    "          Metric(classification_report)]\n",
    "\n",
    "print('training set score:', model.evaluate(train_dataset, metrics))\n",
    "print('test set score:', model.evaluate(test_dataset, metrics))"
   ]
  }
 ],
 "metadata": {
  "kernelspec": {
   "display_name": "Python 3 (ipykernel)",
   "language": "python",
   "name": "python3"
  },
  "language_info": {
   "codemirror_mode": {
    "name": "ipython",
    "version": 3
   },
   "file_extension": ".py",
   "mimetype": "text/x-python",
   "name": "python",
   "nbconvert_exporter": "python",
   "pygments_lexer": "ipython3",
   "version": "3.9.7"
  }
 },
 "nbformat": 4,
 "nbformat_minor": 1
}
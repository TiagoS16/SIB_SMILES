{
 "cells": [
  {
   "cell_type": "markdown",
   "metadata": {
    "pycharm": {
     "name": "#%% md\n"
    }
   },
   "source": [
    "# Etapa 3 - Machine Learning"
   ]
  },
  {
   "cell_type": "markdown",
   "metadata": {},
   "source": [
    "## Imports"
   ]
  },
  {
   "cell_type": "code",
   "execution_count": 1,
   "metadata": {
    "pycharm": {
     "name": "#%%\n"
    }
   },
   "outputs": [],
   "source": [
    "import warnings\n",
    "import random\n",
    "import numpy as np\n",
    "import pandas as pd\n",
    "import matplotlib.pyplot as plt\n",
    "from sklearn.model_selection import train_test_split, cross_val_score, StratifiedKFold\n",
    "from sklearn.metrics import (classification_report, confusion_matrix, accuracy_score, f1_score, recall_score, matthews_corrcoef, ConfusionMatrixDisplay, precision_score)\n",
    "from sklearn.neural_network import MLPClassifier\n",
    "from sklearn.ensemble import RandomForestClassifier, VotingClassifier\n",
    "from sklearn.naive_bayes import GaussianNB\n",
    "from sklearn.neighbors import KNeighborsClassifier\n",
    "from sklearn.experimental import enable_halving_search_cv\n",
    "from sklearn.model_selection import HalvingRandomSearchCV, HalvingGridSearchCV\n",
    "\n",
    "%matplotlib inline\n",
    "\n",
    "warnings.filterwarnings('ignore')\n",
    "\n",
    "# rand = 1483433244"
   ]
  },
  {
   "cell_type": "markdown",
   "metadata": {},
   "source": [
    "# Functions"
   ]
  },
  {
   "cell_type": "markdown",
   "metadata": {},
   "source": [
    "Metrics"
   ]
  },
  {
   "cell_type": "code",
   "execution_count": 2,
   "metadata": {
    "pycharm": {
     "name": "#%%\n"
    }
   },
   "outputs": [],
   "source": [
    "def metrics(label_test, predict):\n",
    "    print('METRICS:')\n",
    "    print(f\"Accuracy score:\\n{accuracy_score(label_test, predict)}\\n\")\n",
    "    print(f\"Recall score:\\n{recall_score(label_test, predict, average='weighted')}\\n\")\n",
    "    print(f\"Precison score:\\n{precision_score(label_test, predict, average='weighted', zero_division=0)}\\n\")\n",
    "    print(f\"F1-score:\\n{f1_score(label_test, predict, average='weighted')}\\n\")\n",
    "    print(f\"MCC score:\\n{matthews_corrcoef(label_test, predict)}\\n\")\n",
    "    print(f\"Confusion matrix:\\n{confusion_matrix(label_test, predict)}\\n\")\n",
    "    print(f\"Classification report:\\n{classification_report(label_test, predict, zero_division=True)}\\n\")\n",
    "    ConfusionMatrixDisplay(confusion_matrix(label_test, predict)).plot(cmap=plt.cm.Blues)\n"
   ]
  },
  {
   "cell_type": "markdown",
   "metadata": {},
   "source": [
    "ML"
   ]
  },
  {
   "cell_type": "code",
   "execution_count": 3,
   "metadata": {
    "pycharm": {
     "name": "#%%\n"
    }
   },
   "outputs": [],
   "source": [
    "def ml(model, dataset, labels, param=None, rand=None):\n",
    "    # SPLIT\n",
    "    data_train, data_test, label_train, label_test = train_test_split(dataset, labels, test_size=0.3)\n",
    "\n",
    "    # k-fold\n",
    "    kfold = StratifiedKFold(n_splits=5, random_state=rand, shuffle=False)\n",
    "    # Cross validation\n",
    "    scores_scoring = cross_val_score(model, X=data_train, y=label_train, cv=kfold, scoring='accuracy')\n",
    "    print(f'Cross Validation accuracy score: {np.mean(scores_scoring)}\\n')\n",
    "\n",
    "    # model training - FIT\n",
    "    model.fit(data_train, label_train)\n",
    "\n",
    "    # PREDICT\n",
    "    predict = model.predict(X=data_test)\n",
    "    base_model = accuracy_score(label_test, predict)\n",
    "    print('Base Model Accuracy: {:.3f}\\n'.format(base_model))\n",
    "\n",
    "    if param != None:\n",
    "        ## OPTIMIZATION\n",
    "        search = HalvingGridSearchCV(estimator=model, param_grid=param, cv=kfold, scoring='accuracy', random_state=rand,\n",
    "                                     n_jobs=-1)\n",
    "        # search = HalvingRandomSearchCV(estimator=model, param_distributions=param, cv=kfold, scoring='accuracy',\n",
    "        #                                random_state=rand, n_jobs=-1)\n",
    "        search.fit(X=data_train, y=label_train)\n",
    "\n",
    "        best_params = search.best_params_\n",
    "        print(f'{best_params}\\n')\n",
    "        # OPTI MODEL FITTED\n",
    "        best_model = search.best_estimator_\n",
    "        predict_opt = best_model.predict(X=data_test)\n",
    "        opt_model = accuracy_score(label_test, predict_opt)\n",
    "        print('Optimized Model Accuracy: {:.3f}\\n'.format(opt_model))\n",
    "\n",
    "        improv = ((opt_model-base_model)/base_model*100)\n",
    "        print('Optimized model improved {:.3f}% over base model.\\n'.format(improv))\n",
    "\n",
    "        if improv >= 0:\n",
    "            predict = predict_opt\n",
    "\n",
    "    # Metrics\n",
    "    metrics(label_test, predict)"
   ]
  },
  {
   "cell_type": "markdown",
   "metadata": {},
   "source": [
    "The *ml* function will firstly do a cross validation to evaluate the model adaptation to the data. Secondly, it will fit the model and then predict the test set labels and it's corresponding accuracy. Lastly, it will do a hyperparameter optimization and then use the best parameters to predict the test set labels and it's accuracy."
   ]
  },
  {
   "cell_type": "markdown",
   "metadata": {},
   "source": [
    "# Models"
   ]
  },
  {
   "cell_type": "code",
   "execution_count": 4,
   "metadata": {
    "pycharm": {
     "name": "#%%\n"
    }
   },
   "outputs": [],
   "source": [
    "rf = RandomForestClassifier(n_jobs=-1)\n",
    "nb = GaussianNB()\n",
    "knn = KNeighborsClassifier(n_jobs=-1)\n",
    "voting = VotingClassifier(estimators=[('Random Forest', rf), ('Naive Bayes', nb), ('KNN', knn)], voting='soft', n_jobs=-1)\n",
    "nn = MLPClassifier(early_stopping=True)"
   ]
  },
  {
   "cell_type": "markdown",
   "metadata": {},
   "source": [
    "# Hyperparameters"
   ]
  },
  {
   "cell_type": "code",
   "execution_count": 5,
   "metadata": {
    "pycharm": {
     "name": "#%%\n"
    }
   },
   "outputs": [],
   "source": [
    "params_rf = {'n_estimators': range(10, 211, 50), 'criterion': ['entropy', 'gini'], 'max_features': ['sqrt', 'log2', None],\n",
    "          'bootstrap': [True, False]}\n",
    "params_knn = {'n_neighbors': range(2, 11, 2), 'weights': ['distance', 'uniform'], 'leaf_size': range(10, 50, 10), 'p': [1, 2]}\n",
    "params_nn = {'activation': ['identity', 'logistic', 'tanh', 'relu'], 'learning_rate': ['constant', 'invscaling', 'adaptive']}"
   ]
  },
  {
   "cell_type": "markdown",
   "metadata": {},
   "source": [
    "# Binary Classification"
   ]
  },
  {
   "cell_type": "markdown",
   "metadata": {},
   "source": [
    "### Load data"
   ]
  },
  {
   "cell_type": "code",
   "execution_count": 6,
   "metadata": {
    "pycharm": {
     "name": "#%%\n"
    }
   },
   "outputs": [],
   "source": [
    "descriptors = pd.read_csv('../dataset/binary_class/descriptors_fs.csv', sep=',')\n",
    "fingerprint = pd.read_csv('../dataset/binary_class/rdk_fs.csv', sep=',')\n",
    "\n",
    "descriptors_data_b = descriptors.drop(\"activity\", axis=1)\n",
    "descriptors_label_b = descriptors[\"activity\"]\n",
    "fingerprint_data_b = fingerprint.drop(\"activity\", axis=1)\n",
    "fingerprint_label_b = fingerprint[\"activity\"]"
   ]
  },
  {
   "cell_type": "markdown",
   "metadata": {},
   "source": [
    "## Descriptors"
   ]
  },
  {
   "cell_type": "markdown",
   "metadata": {},
   "source": [
    "### Random Forest"
   ]
  },
  {
   "cell_type": "code",
   "execution_count": 7,
   "metadata": {
    "pycharm": {
     "name": "#%%\n"
    }
   },
   "outputs": [
    {
     "name": "stdout",
     "output_type": "stream",
     "text": [
      "Cross Validation accuracy score: 0.8148046265343278\n",
      "\n",
      "Base Model Accuracy: 0.814\n",
      "\n"
     ]
    },
    {
     "ename": "KeyboardInterrupt",
     "evalue": "",
     "output_type": "error",
     "traceback": [
      "\u001b[1;31m---------------------------------------------------------------------------\u001b[0m",
      "\u001b[1;31mKeyboardInterrupt\u001b[0m                         Traceback (most recent call last)",
      "\u001b[1;32m~\\AppData\\Local\\Temp/ipykernel_456/4023302262.py\u001b[0m in \u001b[0;36m<module>\u001b[1;34m\u001b[0m\n\u001b[1;32m----> 1\u001b[1;33m \u001b[0mml\u001b[0m\u001b[1;33m(\u001b[0m\u001b[0mrf\u001b[0m\u001b[1;33m,\u001b[0m \u001b[0mdescriptors_data_b\u001b[0m\u001b[1;33m,\u001b[0m \u001b[0mdescriptors_label_b\u001b[0m\u001b[1;33m,\u001b[0m \u001b[0mparams_rf\u001b[0m\u001b[1;33m)\u001b[0m\u001b[1;33m\u001b[0m\u001b[1;33m\u001b[0m\u001b[0m\n\u001b[0m",
      "\u001b[1;32m~\\AppData\\Local\\Temp/ipykernel_456/2862743764.py\u001b[0m in \u001b[0;36mml\u001b[1;34m(model, dataset, labels, param, rand)\u001b[0m\n\u001b[0;32m     23\u001b[0m         \u001b[1;31m# search = HalvingRandomSearchCV(estimator=model, param_distributions=param, cv=kfold, scoring='accuracy',\u001b[0m\u001b[1;33m\u001b[0m\u001b[1;33m\u001b[0m\u001b[0m\n\u001b[0;32m     24\u001b[0m         \u001b[1;31m#                                random_state=rand, n_jobs=-1)\u001b[0m\u001b[1;33m\u001b[0m\u001b[1;33m\u001b[0m\u001b[0m\n\u001b[1;32m---> 25\u001b[1;33m         \u001b[0msearch\u001b[0m\u001b[1;33m.\u001b[0m\u001b[0mfit\u001b[0m\u001b[1;33m(\u001b[0m\u001b[0mX\u001b[0m\u001b[1;33m=\u001b[0m\u001b[0mdata_train\u001b[0m\u001b[1;33m,\u001b[0m \u001b[0my\u001b[0m\u001b[1;33m=\u001b[0m\u001b[0mlabel_train\u001b[0m\u001b[1;33m)\u001b[0m\u001b[1;33m\u001b[0m\u001b[1;33m\u001b[0m\u001b[0m\n\u001b[0m\u001b[0;32m     26\u001b[0m \u001b[1;33m\u001b[0m\u001b[0m\n\u001b[0;32m     27\u001b[0m         \u001b[0mbest_params\u001b[0m \u001b[1;33m=\u001b[0m \u001b[0msearch\u001b[0m\u001b[1;33m.\u001b[0m\u001b[0mbest_params_\u001b[0m\u001b[1;33m\u001b[0m\u001b[1;33m\u001b[0m\u001b[0m\n",
      "\u001b[1;32mC:\\Anaconda3\\lib\\site-packages\\sklearn\\model_selection\\_search_successive_halving.py\u001b[0m in \u001b[0;36mfit\u001b[1;34m(self, X, y, groups, **fit_params)\u001b[0m\n\u001b[0;32m    211\u001b[0m         \u001b[0mself\u001b[0m\u001b[1;33m.\u001b[0m\u001b[0m_n_samples_orig\u001b[0m \u001b[1;33m=\u001b[0m \u001b[0m_num_samples\u001b[0m\u001b[1;33m(\u001b[0m\u001b[0mX\u001b[0m\u001b[1;33m)\u001b[0m\u001b[1;33m\u001b[0m\u001b[1;33m\u001b[0m\u001b[0m\n\u001b[0;32m    212\u001b[0m \u001b[1;33m\u001b[0m\u001b[0m\n\u001b[1;32m--> 213\u001b[1;33m         \u001b[0msuper\u001b[0m\u001b[1;33m(\u001b[0m\u001b[1;33m)\u001b[0m\u001b[1;33m.\u001b[0m\u001b[0mfit\u001b[0m\u001b[1;33m(\u001b[0m\u001b[0mX\u001b[0m\u001b[1;33m,\u001b[0m \u001b[0my\u001b[0m\u001b[1;33m=\u001b[0m\u001b[0my\u001b[0m\u001b[1;33m,\u001b[0m \u001b[0mgroups\u001b[0m\u001b[1;33m=\u001b[0m\u001b[0mgroups\u001b[0m\u001b[1;33m,\u001b[0m \u001b[1;33m**\u001b[0m\u001b[0mfit_params\u001b[0m\u001b[1;33m)\u001b[0m\u001b[1;33m\u001b[0m\u001b[1;33m\u001b[0m\u001b[0m\n\u001b[0m\u001b[0;32m    214\u001b[0m \u001b[1;33m\u001b[0m\u001b[0m\n\u001b[0;32m    215\u001b[0m         \u001b[1;31m# Set best_score_: BaseSearchCV does not set it, as refit is a callable\u001b[0m\u001b[1;33m\u001b[0m\u001b[1;33m\u001b[0m\u001b[0m\n",
      "\u001b[1;32mC:\\Anaconda3\\lib\\site-packages\\sklearn\\utils\\validation.py\u001b[0m in \u001b[0;36minner_f\u001b[1;34m(*args, **kwargs)\u001b[0m\n\u001b[0;32m     61\u001b[0m             \u001b[0mextra_args\u001b[0m \u001b[1;33m=\u001b[0m \u001b[0mlen\u001b[0m\u001b[1;33m(\u001b[0m\u001b[0margs\u001b[0m\u001b[1;33m)\u001b[0m \u001b[1;33m-\u001b[0m \u001b[0mlen\u001b[0m\u001b[1;33m(\u001b[0m\u001b[0mall_args\u001b[0m\u001b[1;33m)\u001b[0m\u001b[1;33m\u001b[0m\u001b[1;33m\u001b[0m\u001b[0m\n\u001b[0;32m     62\u001b[0m             \u001b[1;32mif\u001b[0m \u001b[0mextra_args\u001b[0m \u001b[1;33m<=\u001b[0m \u001b[1;36m0\u001b[0m\u001b[1;33m:\u001b[0m\u001b[1;33m\u001b[0m\u001b[1;33m\u001b[0m\u001b[0m\n\u001b[1;32m---> 63\u001b[1;33m                 \u001b[1;32mreturn\u001b[0m \u001b[0mf\u001b[0m\u001b[1;33m(\u001b[0m\u001b[1;33m*\u001b[0m\u001b[0margs\u001b[0m\u001b[1;33m,\u001b[0m \u001b[1;33m**\u001b[0m\u001b[0mkwargs\u001b[0m\u001b[1;33m)\u001b[0m\u001b[1;33m\u001b[0m\u001b[1;33m\u001b[0m\u001b[0m\n\u001b[0m\u001b[0;32m     64\u001b[0m \u001b[1;33m\u001b[0m\u001b[0m\n\u001b[0;32m     65\u001b[0m             \u001b[1;31m# extra_args > 0\u001b[0m\u001b[1;33m\u001b[0m\u001b[1;33m\u001b[0m\u001b[0m\n",
      "\u001b[1;32mC:\\Anaconda3\\lib\\site-packages\\sklearn\\model_selection\\_search.py\u001b[0m in \u001b[0;36mfit\u001b[1;34m(self, X, y, groups, **fit_params)\u001b[0m\n\u001b[0;32m    839\u001b[0m                 \u001b[1;32mreturn\u001b[0m \u001b[0mresults\u001b[0m\u001b[1;33m\u001b[0m\u001b[1;33m\u001b[0m\u001b[0m\n\u001b[0;32m    840\u001b[0m \u001b[1;33m\u001b[0m\u001b[0m\n\u001b[1;32m--> 841\u001b[1;33m             \u001b[0mself\u001b[0m\u001b[1;33m.\u001b[0m\u001b[0m_run_search\u001b[0m\u001b[1;33m(\u001b[0m\u001b[0mevaluate_candidates\u001b[0m\u001b[1;33m)\u001b[0m\u001b[1;33m\u001b[0m\u001b[1;33m\u001b[0m\u001b[0m\n\u001b[0m\u001b[0;32m    842\u001b[0m \u001b[1;33m\u001b[0m\u001b[0m\n\u001b[0;32m    843\u001b[0m             \u001b[1;31m# multimetric is determined here because in the case of a callable\u001b[0m\u001b[1;33m\u001b[0m\u001b[1;33m\u001b[0m\u001b[0m\n",
      "\u001b[1;32mC:\\Anaconda3\\lib\\site-packages\\sklearn\\model_selection\\_search_successive_halving.py\u001b[0m in \u001b[0;36m_run_search\u001b[1;34m(self, evaluate_candidates)\u001b[0m\n\u001b[0;32m    317\u001b[0m                             'n_resources': [n_resources] * n_candidates}\n\u001b[0;32m    318\u001b[0m \u001b[1;33m\u001b[0m\u001b[0m\n\u001b[1;32m--> 319\u001b[1;33m             results = evaluate_candidates(candidate_params, cv,\n\u001b[0m\u001b[0;32m    320\u001b[0m                                           more_results=more_results)\n\u001b[0;32m    321\u001b[0m \u001b[1;33m\u001b[0m\u001b[0m\n",
      "\u001b[1;32mC:\\Anaconda3\\lib\\site-packages\\sklearn\\model_selection\\_search.py\u001b[0m in \u001b[0;36mevaluate_candidates\u001b[1;34m(candidate_params, cv, more_results)\u001b[0m\n\u001b[0;32m    793\u001b[0m                               n_splits, n_candidates, n_candidates * n_splits))\n\u001b[0;32m    794\u001b[0m \u001b[1;33m\u001b[0m\u001b[0m\n\u001b[1;32m--> 795\u001b[1;33m                 out = parallel(delayed(_fit_and_score)(clone(base_estimator),\n\u001b[0m\u001b[0;32m    796\u001b[0m                                                        \u001b[0mX\u001b[0m\u001b[1;33m,\u001b[0m \u001b[0my\u001b[0m\u001b[1;33m,\u001b[0m\u001b[1;33m\u001b[0m\u001b[1;33m\u001b[0m\u001b[0m\n\u001b[0;32m    797\u001b[0m                                                        \u001b[0mtrain\u001b[0m\u001b[1;33m=\u001b[0m\u001b[0mtrain\u001b[0m\u001b[1;33m,\u001b[0m \u001b[0mtest\u001b[0m\u001b[1;33m=\u001b[0m\u001b[0mtest\u001b[0m\u001b[1;33m,\u001b[0m\u001b[1;33m\u001b[0m\u001b[1;33m\u001b[0m\u001b[0m\n",
      "\u001b[1;32mC:\\Anaconda3\\lib\\site-packages\\joblib\\parallel.py\u001b[0m in \u001b[0;36m__call__\u001b[1;34m(self, iterable)\u001b[0m\n\u001b[0;32m   1054\u001b[0m \u001b[1;33m\u001b[0m\u001b[0m\n\u001b[0;32m   1055\u001b[0m             \u001b[1;32mwith\u001b[0m \u001b[0mself\u001b[0m\u001b[1;33m.\u001b[0m\u001b[0m_backend\u001b[0m\u001b[1;33m.\u001b[0m\u001b[0mretrieval_context\u001b[0m\u001b[1;33m(\u001b[0m\u001b[1;33m)\u001b[0m\u001b[1;33m:\u001b[0m\u001b[1;33m\u001b[0m\u001b[1;33m\u001b[0m\u001b[0m\n\u001b[1;32m-> 1056\u001b[1;33m                 \u001b[0mself\u001b[0m\u001b[1;33m.\u001b[0m\u001b[0mretrieve\u001b[0m\u001b[1;33m(\u001b[0m\u001b[1;33m)\u001b[0m\u001b[1;33m\u001b[0m\u001b[1;33m\u001b[0m\u001b[0m\n\u001b[0m\u001b[0;32m   1057\u001b[0m             \u001b[1;31m# Make sure that we get a last message telling us we are done\u001b[0m\u001b[1;33m\u001b[0m\u001b[1;33m\u001b[0m\u001b[0m\n\u001b[0;32m   1058\u001b[0m             \u001b[0melapsed_time\u001b[0m \u001b[1;33m=\u001b[0m \u001b[0mtime\u001b[0m\u001b[1;33m.\u001b[0m\u001b[0mtime\u001b[0m\u001b[1;33m(\u001b[0m\u001b[1;33m)\u001b[0m \u001b[1;33m-\u001b[0m \u001b[0mself\u001b[0m\u001b[1;33m.\u001b[0m\u001b[0m_start_time\u001b[0m\u001b[1;33m\u001b[0m\u001b[1;33m\u001b[0m\u001b[0m\n",
      "\u001b[1;32mC:\\Anaconda3\\lib\\site-packages\\joblib\\parallel.py\u001b[0m in \u001b[0;36mretrieve\u001b[1;34m(self)\u001b[0m\n\u001b[0;32m    933\u001b[0m             \u001b[1;32mtry\u001b[0m\u001b[1;33m:\u001b[0m\u001b[1;33m\u001b[0m\u001b[1;33m\u001b[0m\u001b[0m\n\u001b[0;32m    934\u001b[0m                 \u001b[1;32mif\u001b[0m \u001b[0mgetattr\u001b[0m\u001b[1;33m(\u001b[0m\u001b[0mself\u001b[0m\u001b[1;33m.\u001b[0m\u001b[0m_backend\u001b[0m\u001b[1;33m,\u001b[0m \u001b[1;34m'supports_timeout'\u001b[0m\u001b[1;33m,\u001b[0m \u001b[1;32mFalse\u001b[0m\u001b[1;33m)\u001b[0m\u001b[1;33m:\u001b[0m\u001b[1;33m\u001b[0m\u001b[1;33m\u001b[0m\u001b[0m\n\u001b[1;32m--> 935\u001b[1;33m                     \u001b[0mself\u001b[0m\u001b[1;33m.\u001b[0m\u001b[0m_output\u001b[0m\u001b[1;33m.\u001b[0m\u001b[0mextend\u001b[0m\u001b[1;33m(\u001b[0m\u001b[0mjob\u001b[0m\u001b[1;33m.\u001b[0m\u001b[0mget\u001b[0m\u001b[1;33m(\u001b[0m\u001b[0mtimeout\u001b[0m\u001b[1;33m=\u001b[0m\u001b[0mself\u001b[0m\u001b[1;33m.\u001b[0m\u001b[0mtimeout\u001b[0m\u001b[1;33m)\u001b[0m\u001b[1;33m)\u001b[0m\u001b[1;33m\u001b[0m\u001b[1;33m\u001b[0m\u001b[0m\n\u001b[0m\u001b[0;32m    936\u001b[0m                 \u001b[1;32melse\u001b[0m\u001b[1;33m:\u001b[0m\u001b[1;33m\u001b[0m\u001b[1;33m\u001b[0m\u001b[0m\n\u001b[0;32m    937\u001b[0m                     \u001b[0mself\u001b[0m\u001b[1;33m.\u001b[0m\u001b[0m_output\u001b[0m\u001b[1;33m.\u001b[0m\u001b[0mextend\u001b[0m\u001b[1;33m(\u001b[0m\u001b[0mjob\u001b[0m\u001b[1;33m.\u001b[0m\u001b[0mget\u001b[0m\u001b[1;33m(\u001b[0m\u001b[1;33m)\u001b[0m\u001b[1;33m)\u001b[0m\u001b[1;33m\u001b[0m\u001b[1;33m\u001b[0m\u001b[0m\n",
      "\u001b[1;32mC:\\Anaconda3\\lib\\site-packages\\joblib\\_parallel_backends.py\u001b[0m in \u001b[0;36mwrap_future_result\u001b[1;34m(future, timeout)\u001b[0m\n\u001b[0;32m    540\u001b[0m         AsyncResults.get from multiprocessing.\"\"\"\n\u001b[0;32m    541\u001b[0m         \u001b[1;32mtry\u001b[0m\u001b[1;33m:\u001b[0m\u001b[1;33m\u001b[0m\u001b[1;33m\u001b[0m\u001b[0m\n\u001b[1;32m--> 542\u001b[1;33m             \u001b[1;32mreturn\u001b[0m \u001b[0mfuture\u001b[0m\u001b[1;33m.\u001b[0m\u001b[0mresult\u001b[0m\u001b[1;33m(\u001b[0m\u001b[0mtimeout\u001b[0m\u001b[1;33m=\u001b[0m\u001b[0mtimeout\u001b[0m\u001b[1;33m)\u001b[0m\u001b[1;33m\u001b[0m\u001b[1;33m\u001b[0m\u001b[0m\n\u001b[0m\u001b[0;32m    543\u001b[0m         \u001b[1;32mexcept\u001b[0m \u001b[0mCfTimeoutError\u001b[0m \u001b[1;32mas\u001b[0m \u001b[0me\u001b[0m\u001b[1;33m:\u001b[0m\u001b[1;33m\u001b[0m\u001b[1;33m\u001b[0m\u001b[0m\n\u001b[0;32m    544\u001b[0m             \u001b[1;32mraise\u001b[0m \u001b[0mTimeoutError\u001b[0m \u001b[1;32mfrom\u001b[0m \u001b[0me\u001b[0m\u001b[1;33m\u001b[0m\u001b[1;33m\u001b[0m\u001b[0m\n",
      "\u001b[1;32mC:\\Anaconda3\\lib\\concurrent\\futures\\_base.py\u001b[0m in \u001b[0;36mresult\u001b[1;34m(self, timeout)\u001b[0m\n\u001b[0;32m    438\u001b[0m                     \u001b[1;32mreturn\u001b[0m \u001b[0mself\u001b[0m\u001b[1;33m.\u001b[0m\u001b[0m__get_result\u001b[0m\u001b[1;33m(\u001b[0m\u001b[1;33m)\u001b[0m\u001b[1;33m\u001b[0m\u001b[1;33m\u001b[0m\u001b[0m\n\u001b[0;32m    439\u001b[0m \u001b[1;33m\u001b[0m\u001b[0m\n\u001b[1;32m--> 440\u001b[1;33m                 \u001b[0mself\u001b[0m\u001b[1;33m.\u001b[0m\u001b[0m_condition\u001b[0m\u001b[1;33m.\u001b[0m\u001b[0mwait\u001b[0m\u001b[1;33m(\u001b[0m\u001b[0mtimeout\u001b[0m\u001b[1;33m)\u001b[0m\u001b[1;33m\u001b[0m\u001b[1;33m\u001b[0m\u001b[0m\n\u001b[0m\u001b[0;32m    441\u001b[0m \u001b[1;33m\u001b[0m\u001b[0m\n\u001b[0;32m    442\u001b[0m                 \u001b[1;32mif\u001b[0m \u001b[0mself\u001b[0m\u001b[1;33m.\u001b[0m\u001b[0m_state\u001b[0m \u001b[1;32min\u001b[0m \u001b[1;33m[\u001b[0m\u001b[0mCANCELLED\u001b[0m\u001b[1;33m,\u001b[0m \u001b[0mCANCELLED_AND_NOTIFIED\u001b[0m\u001b[1;33m]\u001b[0m\u001b[1;33m:\u001b[0m\u001b[1;33m\u001b[0m\u001b[1;33m\u001b[0m\u001b[0m\n",
      "\u001b[1;32mC:\\Anaconda3\\lib\\threading.py\u001b[0m in \u001b[0;36mwait\u001b[1;34m(self, timeout)\u001b[0m\n\u001b[0;32m    310\u001b[0m         \u001b[1;32mtry\u001b[0m\u001b[1;33m:\u001b[0m    \u001b[1;31m# restore state no matter what (e.g., KeyboardInterrupt)\u001b[0m\u001b[1;33m\u001b[0m\u001b[1;33m\u001b[0m\u001b[0m\n\u001b[0;32m    311\u001b[0m             \u001b[1;32mif\u001b[0m \u001b[0mtimeout\u001b[0m \u001b[1;32mis\u001b[0m \u001b[1;32mNone\u001b[0m\u001b[1;33m:\u001b[0m\u001b[1;33m\u001b[0m\u001b[1;33m\u001b[0m\u001b[0m\n\u001b[1;32m--> 312\u001b[1;33m                 \u001b[0mwaiter\u001b[0m\u001b[1;33m.\u001b[0m\u001b[0macquire\u001b[0m\u001b[1;33m(\u001b[0m\u001b[1;33m)\u001b[0m\u001b[1;33m\u001b[0m\u001b[1;33m\u001b[0m\u001b[0m\n\u001b[0m\u001b[0;32m    313\u001b[0m                 \u001b[0mgotit\u001b[0m \u001b[1;33m=\u001b[0m \u001b[1;32mTrue\u001b[0m\u001b[1;33m\u001b[0m\u001b[1;33m\u001b[0m\u001b[0m\n\u001b[0;32m    314\u001b[0m             \u001b[1;32melse\u001b[0m\u001b[1;33m:\u001b[0m\u001b[1;33m\u001b[0m\u001b[1;33m\u001b[0m\u001b[0m\n",
      "\u001b[1;31mKeyboardInterrupt\u001b[0m: "
     ]
    }
   ],
   "source": [
    "ml(rf, descriptors_data_b, descriptors_label_b, params_rf)"
   ]
  },
  {
   "cell_type": "markdown",
   "metadata": {},
   "source": [
    "### Gaussian Naive Bayes"
   ]
  },
  {
   "cell_type": "code",
   "execution_count": null,
   "metadata": {
    "pycharm": {
     "name": "#%%\n"
    }
   },
   "outputs": [
    {
     "name": "stdout",
     "output_type": "stream",
     "text": [
      "Cross Validation accuracy score: 0.6983421540658163\n",
      "\n",
      "Base Model Accuracy: 0.699\n",
      "\n",
      "METRICS:\n",
      "Accuracy score:\n",
      "0.6989247311827957\n",
      "\n",
      "Recall score:\n",
      "0.6989247311827957\n",
      "\n",
      "Precison score:\n",
      "0.6996827491688027\n",
      "\n",
      "F1-score:\n",
      "0.6986587663236885\n",
      "\n",
      "MCC score:\n",
      "0.39862870357232666\n",
      "\n",
      "Confusion matrix:\n",
      "[[4367 1624]\n",
      " [1988 4018]]\n",
      "\n",
      "Classification report:\n",
      "              precision    recall  f1-score   support\n",
      "\n",
      "           0       0.69      0.73      0.71      5991\n",
      "           1       0.71      0.67      0.69      6006\n",
      "\n",
      "    accuracy                           0.70     11997\n",
      "   macro avg       0.70      0.70      0.70     11997\n",
      "weighted avg       0.70      0.70      0.70     11997\n",
      "\n",
      "\n"
     ]
    },
    {
     "data": {
      "image/png": "[encoded data removed]",
      "text/plain": [
       "<Figure size 432x288 with 2 Axes>"
      ]
     },
     "metadata": {
      "needs_background": "light"
     },
     "output_type": "display_data"
    }
   ],
   "source": [
    "ml(nb, descriptors_data_b, descriptors_label_b, None)"
   ]
  },
  {
   "cell_type": "markdown",
   "metadata": {},
   "source": [
    "### K Nearest Neighbors"
   ]
  },
  {
   "cell_type": "code",
   "execution_count": null,
   "metadata": {
    "pycharm": {
     "name": "#%%\n"
    }
   },
   "outputs": [
    {
     "name": "stdout",
     "output_type": "stream",
     "text": [
      "Cross Validation accuracy score: 0.7899041967696856\n",
      "\n",
      "Base Model Accuracy: 0.801\n",
      "\n",
      "METRICS:\n",
      "Accuracy score:\n",
      "0.8007835292156372\n",
      "\n",
      "Recall score:\n",
      "0.8007835292156372\n",
      "\n",
      "Precison score:\n",
      "0.8016774282710658\n",
      "\n",
      "F1-score:\n",
      "0.8006304111294796\n",
      "\n",
      "MCC score:\n",
      "0.6024518861026281\n",
      "\n",
      "Confusion matrix:\n",
      "[[4972 1031]\n",
      " [1359 4635]]\n",
      "\n",
      "Classification report:\n",
      "              precision    recall  f1-score   support\n",
      "\n",
      "           0       0.79      0.83      0.81      6003\n",
      "           1       0.82      0.77      0.80      5994\n",
      "\n",
      "    accuracy                           0.80     11997\n",
      "   macro avg       0.80      0.80      0.80     11997\n",
      "weighted avg       0.80      0.80      0.80     11997\n",
      "\n",
      "\n"
     ]
    },
    {
     "data": {
      "image/png": "[encoded data removed]",
      "text/plain": [
       "<Figure size 432x288 with 2 Axes>"
      ]
     },
     "metadata": {
      "needs_background": "light"
     },
     "output_type": "display_data"
    }
   ],
   "source": [
    "ml(knn, descriptors_data_b, descriptors_label_b, params_knn)"
   ]
  },
  {
   "cell_type": "markdown",
   "metadata": {},
   "source": [
    "### Voting Classifier\n",
    "This model will include all the previous models."
   ]
  },
  {
   "cell_type": "code",
   "execution_count": null,
   "metadata": {
    "pycharm": {
     "name": "#%%\n"
    }
   },
   "outputs": [
    {
     "name": "stdout",
     "output_type": "stream",
     "text": [
      "Cross Validation accuracy score: 0.7710416121492629\n",
      "\n",
      "Base Model Accuracy: 0.770\n",
      "\n",
      "METRICS:\n",
      "Accuracy score:\n",
      "0.7700258397932817\n",
      "\n",
      "Recall score:\n",
      "0.7700258397932817\n",
      "\n",
      "Precison score:\n",
      "0.7707708755203944\n",
      "\n",
      "F1-score:\n",
      "0.7697137388627614\n",
      "\n",
      "MCC score:\n",
      "0.5404659323758255\n",
      "\n",
      "Confusion matrix:\n",
      "[[4892 1201]\n",
      " [1558 4346]]\n",
      "\n",
      "Classification report:\n",
      "              precision    recall  f1-score   support\n",
      "\n",
      "           0       0.76      0.80      0.78      6093\n",
      "           1       0.78      0.74      0.76      5904\n",
      "\n",
      "    accuracy                           0.77     11997\n",
      "   macro avg       0.77      0.77      0.77     11997\n",
      "weighted avg       0.77      0.77      0.77     11997\n",
      "\n",
      "\n"
     ]
    },
    {
     "data": {
      "image/png": "[encoded data removed]",
      "text/plain": [
       "<Figure size 432x288 with 2 Axes>"
      ]
     },
     "metadata": {
      "needs_background": "light"
     },
     "output_type": "display_data"
    }
   ],
   "source": [
    "ml(voting, descriptors_data_b, descriptors_label_b, None)"
   ]
  },
  {
   "cell_type": "markdown",
   "metadata": {},
   "source": [
    "### Neural Network"
   ]
  },
  {
   "cell_type": "code",
   "execution_count": null,
   "metadata": {
    "pycharm": {
     "name": "#%%\n"
    }
   },
   "outputs": [
    {
     "name": "stdout",
     "output_type": "stream",
     "text": [
      "Cross Validation accuracy score: 0.8001572398378443\n",
      "\n",
      "Base Model Accuracy: 0.803\n",
      "\n",
      "METRICS:\n",
      "Accuracy score:\n",
      "0.8027006751687922\n",
      "\n",
      "Recall score:\n",
      "0.8027006751687922\n",
      "\n",
      "Precison score:\n",
      "0.8029833234204763\n",
      "\n",
      "F1-score:\n",
      "0.8026383359207551\n",
      "\n",
      "MCC score:\n",
      "0.6056532530902224\n",
      "\n",
      "Confusion matrix:\n",
      "[[4696 1279]\n",
      " [1088 4934]]\n",
      "\n",
      "Classification report:\n",
      "              precision    recall  f1-score   support\n",
      "\n",
      "           0       0.81      0.79      0.80      5975\n",
      "           1       0.79      0.82      0.81      6022\n",
      "\n",
      "    accuracy                           0.80     11997\n",
      "   macro avg       0.80      0.80      0.80     11997\n",
      "weighted avg       0.80      0.80      0.80     11997\n",
      "\n",
      "\n"
     ]
    },
    {
     "data": {
      "image/png": "[encoded data removed]",
      "text/plain": [
       "<Figure size 432x288 with 2 Axes>"
      ]
     },
     "metadata": {
      "needs_background": "light"
     },
     "output_type": "display_data"
    }
   ],
   "source": [
    "ml(nn, descriptors_data_b, descriptors_label_b, params_nn)"
   ]
  },
  {
   "cell_type": "markdown",
   "metadata": {},
   "source": [
    "## Fingerprints"
   ]
  },
  {
   "cell_type": "markdown",
   "metadata": {
    "pycharm": {
     "name": "#%% md\n"
    }
   },
   "source": [
    "### Random Forest"
   ]
  },
  {
   "cell_type": "code",
   "execution_count": null,
   "metadata": {
    "pycharm": {
     "name": "#%%\n"
    }
   },
   "outputs": [
    {
     "name": "stdout",
     "output_type": "stream",
     "text": [
      "Cross Validation accuracy score: 0.805380177813358\n",
      "\n",
      "Base Model Accuracy: 0.817\n",
      "\n",
      "{'bootstrap': False, 'criterion': 'entropy', 'max_features': 'sqrt', 'n_estimators': 210}\n",
      "\n",
      "Optimized Model Accuracy: 0.818\n",
      "\n",
      "Optimized model improved 0.194% over base model.\n",
      "\n",
      "METRICS:\n",
      "Accuracy score:\n",
      "0.8183712594815371\n",
      "\n",
      "Recall score:\n",
      "0.8183712594815371\n",
      "\n",
      "Precison score:\n",
      "0.8187676164335559\n",
      "\n",
      "F1-score:\n",
      "0.8183441356347549\n",
      "\n",
      "MCC score:\n",
      "0.637163599498311\n",
      "\n",
      "Confusion matrix:\n",
      "[[4963  990]\n",
      " [1189 4855]]\n",
      "\n",
      "Classification report:\n",
      "              precision    recall  f1-score   support\n",
      "\n",
      "           0       0.81      0.83      0.82      5953\n",
      "           1       0.83      0.80      0.82      6044\n",
      "\n",
      "    accuracy                           0.82     11997\n",
      "   macro avg       0.82      0.82      0.82     11997\n",
      "weighted avg       0.82      0.82      0.82     11997\n",
      "\n",
      "\n"
     ]
    },
    {
     "data": {
      "image/png": "[encoded data removed]",
      "text/plain": [
       "<Figure size 432x288 with 2 Axes>"
      ]
     },
     "metadata": {
      "needs_background": "light"
     },
     "output_type": "display_data"
    }
   ],
   "source": [
    "ml(rf, fingerprint_data_b, fingerprint_label_b, params_rf)"
   ]
  },
  {
   "cell_type": "markdown",
   "metadata": {
    "pycharm": {
     "name": "#%% md\n"
    }
   },
   "source": [
    "### Gaussian Naive Bayes"
   ]
  },
  {
   "cell_type": "code",
   "execution_count": null,
   "metadata": {
    "pycharm": {
     "name": "#%%\n"
    }
   },
   "outputs": [
    {
     "name": "stdout",
     "output_type": "stream",
     "text": [
      "Cross Validation accuracy score: 0.6621656459987719\n",
      "\n",
      "Base Model Accuracy: 0.664\n",
      "\n",
      "METRICS:\n",
      "Accuracy score:\n",
      "0.6637492706509961\n",
      "\n",
      "Recall score:\n",
      "0.6637492706509961\n",
      "\n",
      "Precison score:\n",
      "0.663859758292859\n",
      "\n",
      "F1-score:\n",
      "0.6637688028629338\n",
      "\n",
      "MCC score:\n",
      "0.32752780337466125\n",
      "\n",
      "Confusion matrix:\n",
      "[[3934 1973]\n",
      " [2061 4029]]\n",
      "\n",
      "Classification report:\n",
      "              precision    recall  f1-score   support\n",
      "\n",
      "           0       0.66      0.67      0.66      5907\n",
      "           1       0.67      0.66      0.67      6090\n",
      "\n",
      "    accuracy                           0.66     11997\n",
      "   macro avg       0.66      0.66      0.66     11997\n",
      "weighted avg       0.66      0.66      0.66     11997\n",
      "\n",
      "\n"
     ]
    },
    {
     "data": {
      "image/png": "[encoded data removed]",
      "text/plain": [
       "<Figure size 432x288 with 2 Axes>"
      ]
     },
     "metadata": {
      "needs_background": "light"
     },
     "output_type": "display_data"
    }
   ],
   "source": [
    "ml(nb, fingerprint_data_b, fingerprint_label_b, None)"
   ]
  },
  {
   "cell_type": "markdown",
   "metadata": {
    "pycharm": {
     "name": "#%% md\n"
    }
   },
   "source": [
    "### K Nearest Neighbors"
   ]
  },
  {
   "cell_type": "code",
   "execution_count": null,
   "metadata": {
    "pycharm": {
     "name": "#%%\n"
    }
   },
   "outputs": [
    {
     "name": "stdout",
     "output_type": "stream",
     "text": [
      "Cross Validation accuracy score: 0.7734079562132803\n",
      "\n",
      "Base Model Accuracy: 0.785\n",
      "\n",
      "METRICS:\n",
      "Accuracy score:\n",
      "0.7847795282153872\n",
      "\n",
      "Recall score:\n",
      "0.7847795282153872\n",
      "\n",
      "Precison score:\n",
      "0.7895809544882137\n",
      "\n",
      "F1-score:\n",
      "0.7838694160989287\n",
      "\n",
      "MCC score:\n",
      "0.5743191634410555\n",
      "\n",
      "Confusion matrix:\n",
      "[[5099  904]\n",
      " [1678 4316]]\n",
      "\n",
      "Classification report:\n",
      "              precision    recall  f1-score   support\n",
      "\n",
      "           0       0.75      0.85      0.80      6003\n",
      "           1       0.83      0.72      0.77      5994\n",
      "\n",
      "    accuracy                           0.78     11997\n",
      "   macro avg       0.79      0.78      0.78     11997\n",
      "weighted avg       0.79      0.78      0.78     11997\n",
      "\n",
      "\n"
     ]
    },
    {
     "data": {
      "image/png": "[encoded data removed]",
      "text/plain": [
       "<Figure size 432x288 with 2 Axes>"
      ]
     },
     "metadata": {
      "needs_background": "light"
     },
     "output_type": "display_data"
    }
   ],
   "source": [
    "ml(knn, fingerprint_data_b, fingerprint_label_b, params_knn)"
   ]
  },
  {
   "cell_type": "markdown",
   "metadata": {
    "pycharm": {
     "name": "#%% md\n"
    }
   },
   "source": [
    "### Voting Classifier\n",
    "This model will include all the previous models."
   ]
  },
  {
   "cell_type": "code",
   "execution_count": null,
   "metadata": {
    "pycharm": {
     "name": "#%%\n"
    }
   },
   "outputs": [
    {
     "name": "stdout",
     "output_type": "stream",
     "text": [
      "Cross Validation accuracy score: 0.7483658051273767\n",
      "\n",
      "Base Model Accuracy: 0.761\n",
      "\n",
      "METRICS:\n",
      "Accuracy score:\n",
      "0.7605234641993832\n",
      "\n",
      "Recall score:\n",
      "0.7605234641993832\n",
      "\n",
      "Precison score:\n",
      "0.7607767723047341\n",
      "\n",
      "F1-score:\n",
      "0.7604406510377094\n",
      "\n",
      "MCC score:\n",
      "0.5212577273656317\n",
      "\n",
      "Confusion matrix:\n",
      "[[4687 1337]\n",
      " [1536 4437]]\n",
      "\n",
      "Classification report:\n",
      "              precision    recall  f1-score   support\n",
      "\n",
      "           0       0.75      0.78      0.77      6024\n",
      "           1       0.77      0.74      0.76      5973\n",
      "\n",
      "    accuracy                           0.76     11997\n",
      "   macro avg       0.76      0.76      0.76     11997\n",
      "weighted avg       0.76      0.76      0.76     11997\n",
      "\n",
      "\n"
     ]
    },
    {
     "data": {
      "image/png": "[encoded data removed]",
      "text/plain": [
       "<Figure size 432x288 with 2 Axes>"
      ]
     },
     "metadata": {
      "needs_background": "light"
     },
     "output_type": "display_data"
    }
   ],
   "source": [
    "ml(voting, fingerprint_data_b, fingerprint_label_b, None)"
   ]
  },
  {
   "cell_type": "markdown",
   "metadata": {
    "pycharm": {
     "name": "#%% md\n"
    }
   },
   "source": [
    "### Neural Network"
   ]
  },
  {
   "cell_type": "code",
   "execution_count": null,
   "metadata": {
    "pycharm": {
     "name": "#%%\n"
    }
   },
   "outputs": [
    {
     "name": "stdout",
     "output_type": "stream",
     "text": [
      "Cross Validation accuracy score: 0.7750870890600137\n",
      "\n",
      "Base Model Accuracy: 0.780\n",
      "\n",
      "METRICS:\n",
      "Accuracy score:\n",
      "0.7800283404184379\n",
      "\n",
      "Recall score:\n",
      "0.7800283404184379\n",
      "\n",
      "Precison score:\n",
      "0.780131518137668\n",
      "\n",
      "F1-score:\n",
      "0.780028933416382\n",
      "\n",
      "MCC score:\n",
      "0.5601586241369071\n",
      "\n",
      "Confusion matrix:\n",
      "[[4677 1271]\n",
      " [1368 4681]]\n",
      "\n",
      "Classification report:\n",
      "              precision    recall  f1-score   support\n",
      "\n",
      "           0       0.77      0.79      0.78      5948\n",
      "           1       0.79      0.77      0.78      6049\n",
      "\n",
      "    accuracy                           0.78     11997\n",
      "   macro avg       0.78      0.78      0.78     11997\n",
      "weighted avg       0.78      0.78      0.78     11997\n",
      "\n",
      "\n"
     ]
    },
    {
     "data": {
      "image/png": "[encoded data removed]",
      "text/plain": [
       "<Figure size 432x288 with 2 Axes>"
      ]
     },
     "metadata": {
      "needs_background": "light"
     },
     "output_type": "display_data"
    }
   ],
   "source": [
    "ml(nn, fingerprint_data_b, fingerprint_label_b, params_nn)"
   ]
  },
  {
   "cell_type": "markdown",
   "metadata": {},
   "source": [
    "# Multiclass"
   ]
  },
  {
   "cell_type": "markdown",
   "metadata": {},
   "source": [
    "### Load data"
   ]
  },
  {
   "cell_type": "code",
   "execution_count": null,
   "metadata": {
    "pycharm": {
     "name": "#%%\n"
    }
   },
   "outputs": [],
   "source": [
    "descriptors = pd.read_csv('../dataset/multiclass/descriptors_fs.csv', sep=',')\n",
    "fingerprint = pd.read_csv('../dataset/multiclass/rdk_fs.csv', sep=',')\n",
    "\n",
    "descriptors_data_m = descriptors.drop(\"Activity at 46.23 uM\", axis=1)\n",
    "descriptors_label_m = descriptors[\"Activity at 46.23 uM\"]\n",
    "fingerprint_data_m = fingerprint.drop(\"Activity at 46.23 uM\", axis=1)\n",
    "fingerprint_label_m = fingerprint[\"Activity at 46.23 uM\"]"
   ]
  },
  {
   "cell_type": "markdown",
   "metadata": {
    "pycharm": {
     "name": "#%% md\n"
    }
   },
   "source": [
    "### Random Forest"
   ]
  },
  {
   "cell_type": "code",
   "execution_count": null,
   "metadata": {
    "pycharm": {
     "name": "#%%\n"
    }
   },
   "outputs": [
    {
     "name": "stdout",
     "output_type": "stream",
     "text": [
      "Cross Validation accuracy score: 0.5722349363029342\n",
      "\n",
      "Base Model Accuracy: 0.573\n",
      "\n",
      "{'bootstrap': True, 'criterion': 'entropy', 'max_features': 'log2', 'n_estimators': 160}\n",
      "\n",
      "Optimized Model Accuracy: 0.573\n",
      "\n",
      "Optimized model improved -0.015% over base model.\n",
      "\n",
      "METRICS:\n",
      "Accuracy score:\n",
      "0.5728098691339502\n",
      "\n",
      "Recall score:\n",
      "0.5728098691339502\n",
      "\n",
      "Precison score:\n",
      "0.5315649127483056\n",
      "\n",
      "F1-score:\n",
      "0.5207672394274804\n",
      "\n",
      "MCC score:\n",
      "0.3540775376900386\n",
      "\n",
      "Confusion matrix:\n",
      "[[ 167 1096  286    8]\n",
      " [ 205 3262  880   13]\n",
      " [  25  888 3320  206]\n",
      " [   4  210 1304  123]]\n",
      "\n",
      "Classification report:\n",
      "              precision    recall  f1-score   support\n",
      "\n",
      "           0       0.42      0.11      0.17      1557\n",
      "           1       0.60      0.75      0.66      4360\n",
      "           2       0.57      0.75      0.65      4439\n",
      "           3       0.35      0.07      0.12      1641\n",
      "\n",
      "    accuracy                           0.57     11997\n",
      "   macro avg       0.48      0.42      0.40     11997\n",
      "weighted avg       0.53      0.57      0.52     11997\n",
      "\n",
      "\n"
     ]
    },
    {
     "data": {
      "image/png": "[encoded data removed]",
      "text/plain": [
       "<Figure size 432x288 with 2 Axes>"
      ]
     },
     "metadata": {
      "needs_background": "light"
     },
     "output_type": "display_data"
    }
   ],
   "source": [
    "ml(rf, descriptors_data_m, descriptors_label_m, params_rf)"
   ]
  },
  {
   "cell_type": "markdown",
   "metadata": {
    "pycharm": {
     "name": "#%% md\n"
    }
   },
   "source": [
    "### Gaussian Naive Bayes"
   ]
  },
  {
   "cell_type": "code",
   "execution_count": null,
   "metadata": {
    "pycharm": {
     "name": "#%%\n"
    }
   },
   "outputs": [
    {
     "name": "stdout",
     "output_type": "stream",
     "text": [
      "Cross Validation accuracy score: 0.3898975095141843\n",
      "\n",
      "Base Model Accuracy: 0.391\n",
      "\n",
      "METRICS:\n",
      "Accuracy score:\n",
      "0.3907643577561057\n",
      "\n",
      "Recall score:\n",
      "0.3907643577561057\n",
      "\n",
      "Precison score:\n",
      "0.4032951322935615\n",
      "\n",
      "F1-score:\n",
      "0.3816002111266297\n",
      "\n",
      "MCC score:\n",
      "0.1567934711621916\n",
      "\n",
      "Confusion matrix:\n",
      "[[ 232  848  283  230]\n",
      " [ 519 2479  913  487]\n",
      " [ 204 1256 1143 1805]\n",
      " [  59  335  370  834]]\n",
      "\n",
      "Classification report:\n",
      "              precision    recall  f1-score   support\n",
      "\n",
      "           0       0.23      0.15      0.18      1593\n",
      "           1       0.50      0.56      0.53      4398\n",
      "           2       0.42      0.26      0.32      4408\n",
      "           3       0.25      0.52      0.34      1598\n",
      "\n",
      "    accuracy                           0.39     11997\n",
      "   macro avg       0.35      0.37      0.34     11997\n",
      "weighted avg       0.40      0.39      0.38     11997\n",
      "\n",
      "\n"
     ]
    },
    {
     "data": {
      "image/png": "[encoded data removed]",
      "text/plain": [
       "<Figure size 432x288 with 2 Axes>"
      ]
     },
     "metadata": {
      "needs_background": "light"
     },
     "output_type": "display_data"
    }
   ],
   "source": [
    "ml(nb, descriptors_data_m, descriptors_label_m, None)"
   ]
  },
  {
   "cell_type": "markdown",
   "metadata": {
    "pycharm": {
     "name": "#%% md\n"
    }
   },
   "source": [
    "### K Nearest Neighbors"
   ]
  },
  {
   "cell_type": "code",
   "execution_count": null,
   "metadata": {
    "pycharm": {
     "is_executing": true,
     "name": "#%%\n"
    }
   },
   "outputs": [
    {
     "name": "stdout",
     "output_type": "stream",
     "text": [
      "Cross Validation accuracy score: 0.5116462000276807\n",
      "\n",
      "Base Model Accuracy: 0.524\n",
      "\n",
      "METRICS:\n",
      "Accuracy score:\n",
      "0.523964324414437\n",
      "\n",
      "Recall score:\n",
      "0.523964324414437\n",
      "\n",
      "Precison score:\n",
      "0.4954988965809712\n",
      "\n",
      "F1-score:\n",
      "0.502307907850381\n",
      "\n",
      "MCC score:\n",
      "0.2953401072502687\n",
      "\n",
      "Confusion matrix:\n",
      "[[ 345  970  242   12]\n",
      " [ 635 2918  761   58]\n",
      " [ 184  974 2795  433]\n",
      " [  55  243 1144  228]]\n",
      "\n",
      "Classification report:\n",
      "              precision    recall  f1-score   support\n",
      "\n",
      "           0       0.28      0.22      0.25      1569\n",
      "           1       0.57      0.67      0.62      4372\n",
      "           2       0.57      0.64      0.60      4386\n",
      "           3       0.31      0.14      0.19      1670\n",
      "\n",
      "    accuracy                           0.52     11997\n",
      "   macro avg       0.43      0.42      0.41     11997\n",
      "weighted avg       0.50      0.52      0.50     11997\n",
      "\n",
      "\n"
     ]
    },
    {
     "data": {
      "image/png": "[encoded data removed]",
      "text/plain": [
       "<Figure size 432x288 with 2 Axes>"
      ]
     },
     "metadata": {
      "needs_background": "light"
     },
     "output_type": "display_data"
    }
   ],
   "source": [
    "ml(knn, descriptors_data_m, descriptors_label_m, params_knn)"
   ]
  },
  {
   "cell_type": "markdown",
   "metadata": {
    "pycharm": {
     "name": "#%% md\n"
    }
   },
   "source": [
    "### Voting Classifier\n",
    "This model will include all the previous models."
   ]
  },
  {
   "cell_type": "code",
   "execution_count": null,
   "metadata": {
    "pycharm": {
     "is_executing": true,
     "name": "#%%\n"
    }
   },
   "outputs": [
    {
     "name": "stdout",
     "output_type": "stream",
     "text": [
      "Cross Validation accuracy score: 0.5042511036364441\n",
      "\n",
      "Base Model Accuracy: 0.508\n",
      "\n",
      "METRICS:\n",
      "Accuracy score:\n",
      "0.5078769692423106\n",
      "\n",
      "Recall score:\n",
      "0.5078769692423106\n",
      "\n",
      "Precison score:\n",
      "0.4861654413407073\n",
      "\n",
      "F1-score:\n",
      "0.49055656988157453\n",
      "\n",
      "MCC score:\n",
      "0.2737328976862254\n",
      "\n",
      "Confusion matrix:\n",
      "[[ 190 1007  313   99]\n",
      " [ 337 2979  955  180]\n",
      " [  91  944 2490  853]\n",
      " [  25  202  898  434]]\n",
      "\n",
      "Classification report:\n",
      "              precision    recall  f1-score   support\n",
      "\n",
      "           0       0.30      0.12      0.17      1609\n",
      "           1       0.58      0.67      0.62      4451\n",
      "           2       0.53      0.57      0.55      4378\n",
      "           3       0.28      0.28      0.28      1559\n",
      "\n",
      "    accuracy                           0.51     11997\n",
      "   macro avg       0.42      0.41      0.40     11997\n",
      "weighted avg       0.49      0.51      0.49     11997\n",
      "\n",
      "\n"
     ]
    },
    {
     "data": {
      "image/png": "[encoded data removed]",
      "text/plain": [
       "<Figure size 432x288 with 2 Axes>"
      ]
     },
     "metadata": {
      "needs_background": "light"
     },
     "output_type": "display_data"
    }
   ],
   "source": [
    "ml(voting, descriptors_data_m, descriptors_label_m, None)"
   ]
  },
  {
   "cell_type": "markdown",
   "metadata": {
    "pycharm": {
     "name": "#%% md\n"
    }
   },
   "source": [
    "### Neural Network"
   ]
  },
  {
   "cell_type": "code",
   "execution_count": null,
   "metadata": {
    "pycharm": {
     "is_executing": true,
     "name": "#%%\n"
    }
   },
   "outputs": [
    {
     "name": "stdout",
     "output_type": "stream",
     "text": [
      "Cross Validation accuracy score: 0.5552658531824541\n",
      "\n",
      "Base Model Accuracy: 0.559\n",
      "\n",
      "METRICS:\n",
      "Accuracy score:\n",
      "0.5591397849462365\n",
      "\n",
      "Recall score:\n",
      "0.5591397849462365\n",
      "\n",
      "Precison score:\n",
      "0.5078475214412057\n",
      "\n",
      "F1-score:\n",
      "0.4802062220556554\n",
      "\n",
      "MCC score:\n",
      "0.3256064068682482\n",
      "\n",
      "Confusion matrix:\n",
      "[[  36 1200  339    0]\n",
      " [  58 3395  985    1]\n",
      " [  13 1094 3273    5]\n",
      " [   7  254 1333    4]]\n",
      "\n",
      "Classification report:\n",
      "              precision    recall  f1-score   support\n",
      "\n",
      "           0       0.32      0.02      0.04      1575\n",
      "           1       0.57      0.76      0.65      4439\n",
      "           2       0.55      0.75      0.63      4385\n",
      "           3       0.40      0.00      0.00      1598\n",
      "\n",
      "    accuracy                           0.56     11997\n",
      "   macro avg       0.46      0.38      0.33     11997\n",
      "weighted avg       0.51      0.56      0.48     11997\n",
      "\n",
      "\n"
     ]
    },
    {
     "data": {
      "image/png": "[encoded data removed]",
      "text/plain": [
       "<Figure size 432x288 with 2 Axes>"
      ]
     },
     "metadata": {
      "needs_background": "light"
     },
     "output_type": "display_data"
    }
   ],
   "source": [
    "ml(nn, descriptors_data_m, descriptors_label_m, params_nn)"
   ]
  },
  {
   "cell_type": "markdown",
   "metadata": {
    "pycharm": {
     "name": "#%% md\n"
    }
   },
   "source": [
    "## Fingerprints"
   ]
  },
  {
   "cell_type": "markdown",
   "metadata": {
    "pycharm": {
     "name": "#%% md\n"
    }
   },
   "source": [
    "### Random Forest"
   ]
  },
  {
   "cell_type": "code",
   "execution_count": null,
   "metadata": {
    "pycharm": {
     "is_executing": true,
     "name": "#%%\n"
    }
   },
   "outputs": [
    {
     "name": "stdout",
     "output_type": "stream",
     "text": [
      "Cross Validation accuracy score: 0.5472437819211962\n",
      "\n",
      "Base Model Accuracy: 0.547\n",
      "\n",
      "{'bootstrap': True, 'criterion': 'gini', 'max_features': 'sqrt', 'n_estimators': 210}\n",
      "\n",
      "Optimized Model Accuracy: 0.549\n",
      "\n",
      "Optimized model improved 0.274% over base model.\n",
      "\n",
      "METRICS:\n",
      "Accuracy score:\n",
      "0.548803867633575\n",
      "\n",
      "Recall score:\n",
      "0.548803867633575\n",
      "\n",
      "Precison score:\n",
      "0.5093566328365664\n",
      "\n",
      "F1-score:\n",
      "0.5170140621694711\n",
      "\n",
      "MCC score:\n",
      "0.3244774002202486\n",
      "\n",
      "Confusion matrix:\n",
      "[[ 240 1064  266   18]\n",
      " [ 424 3041  904   59]\n",
      " [  63  768 3093  445]\n",
      " [  12  199 1191  210]]\n",
      "\n",
      "Classification report:\n",
      "              precision    recall  f1-score   support\n",
      "\n",
      "           0       0.32      0.15      0.21      1588\n",
      "           1       0.60      0.69      0.64      4428\n",
      "           2       0.57      0.71      0.63      4369\n",
      "           3       0.29      0.13      0.18      1612\n",
      "\n",
      "    accuracy                           0.55     11997\n",
      "   macro avg       0.44      0.42      0.41     11997\n",
      "weighted avg       0.51      0.55      0.52     11997\n",
      "\n",
      "\n"
     ]
    },
    {
     "data": {
      "image/png": "[encoded data removed]",
      "text/plain": [
       "<Figure size 432x288 with 2 Axes>"
      ]
     },
     "metadata": {
      "needs_background": "light"
     },
     "output_type": "display_data"
    }
   ],
   "source": [
    "ml(rf, fingerprint_data_m, fingerprint_label_m, params_rf)"
   ]
  },
  {
   "cell_type": "markdown",
   "metadata": {
    "pycharm": {
     "name": "#%% md\n"
    }
   },
   "source": [
    "### Gaussian Naive Bayes"
   ]
  },
  {
   "cell_type": "code",
   "execution_count": null,
   "metadata": {
    "pycharm": {
     "is_executing": true,
     "name": "#%%\n"
    }
   },
   "outputs": [
    {
     "name": "stdout",
     "output_type": "stream",
     "text": [
      "Cross Validation accuracy score: 0.3536237937655508\n",
      "\n",
      "Base Model Accuracy: 0.352\n",
      "\n",
      "METRICS:\n",
      "Accuracy score:\n",
      "0.35183795948987245\n",
      "\n",
      "Recall score:\n",
      "0.35183795948987245\n",
      "\n",
      "Precison score:\n",
      "0.39139596377727126\n",
      "\n",
      "F1-score:\n",
      "0.35297628856523755\n",
      "\n",
      "MCC score:\n",
      "0.12694688256900294\n",
      "\n",
      "Confusion matrix:\n",
      "[[ 335  730  257  258]\n",
      " [ 801 2088  753  749]\n",
      " [ 462 1111 1006 1853]\n",
      " [ 131  328  343  792]]\n",
      "\n",
      "Classification report:\n",
      "              precision    recall  f1-score   support\n",
      "\n",
      "           0       0.19      0.21      0.20      1580\n",
      "           1       0.49      0.48      0.48      4391\n",
      "           2       0.43      0.23      0.30      4432\n",
      "           3       0.22      0.50      0.30      1594\n",
      "\n",
      "    accuracy                           0.35     11997\n",
      "   macro avg       0.33      0.35      0.32     11997\n",
      "weighted avg       0.39      0.35      0.35     11997\n",
      "\n",
      "\n"
     ]
    },
    {
     "data": {
      "image/png": "[encoded data removed]",
      "text/plain": [
       "<Figure size 432x288 with 2 Axes>"
      ]
     },
     "metadata": {
      "needs_background": "light"
     },
     "output_type": "display_data"
    }
   ],
   "source": [
    "ml(nb, fingerprint_data_m, fingerprint_label_m, None)"
   ]
  },
  {
   "cell_type": "markdown",
   "metadata": {
    "pycharm": {
     "name": "#%% md\n"
    }
   },
   "source": [
    "### K Nearest Neighbors"
   ]
  },
  {
   "cell_type": "code",
   "execution_count": null,
   "metadata": {
    "pycharm": {
     "is_executing": true,
     "name": "#%%\n"
    }
   },
   "outputs": [
    {
     "name": "stdout",
     "output_type": "stream",
     "text": [
      "Cross Validation accuracy score: 0.5106629054683054\n",
      "\n",
      "Base Model Accuracy: 0.516\n",
      "\n",
      "METRICS:\n",
      "Accuracy score:\n",
      "0.5162957406018172\n",
      "\n",
      "Recall score:\n",
      "0.5162957406018172\n",
      "\n",
      "Precison score:\n",
      "0.48672097558069605\n",
      "\n",
      "F1-score:\n",
      "0.4955956791416732\n",
      "\n",
      "MCC score:\n",
      "0.28294694288963496\n",
      "\n",
      "Confusion matrix:\n",
      "[[ 347  926  330   38]\n",
      " [ 649 2627  980   90]\n",
      " [ 153  802 3019  472]\n",
      " [  40  206 1117  201]]\n",
      "\n",
      "Classification report:\n",
      "              precision    recall  f1-score   support\n",
      "\n",
      "           0       0.29      0.21      0.25      1641\n",
      "           1       0.58      0.60      0.59      4346\n",
      "           2       0.55      0.68      0.61      4446\n",
      "           3       0.25      0.13      0.17      1564\n",
      "\n",
      "    accuracy                           0.52     11997\n",
      "   macro avg       0.42      0.41      0.40     11997\n",
      "weighted avg       0.49      0.52      0.50     11997\n",
      "\n",
      "\n"
     ]
    },
    {
     "data": {
      "image/png": "[encoded data removed]",
      "text/plain": [
       "<Figure size 432x288 with 2 Axes>"
      ]
     },
     "metadata": {
      "needs_background": "light"
     },
     "output_type": "display_data"
    }
   ],
   "source": [
    "ml(knn, fingerprint_data_m, fingerprint_label_m, params_knn)"
   ]
  },
  {
   "cell_type": "markdown",
   "metadata": {
    "pycharm": {
     "name": "#%% md\n"
    }
   },
   "source": [
    "### Voting Classifier\n",
    "This model will include all the previous models."
   ]
  },
  {
   "cell_type": "code",
   "execution_count": null,
   "metadata": {
    "pycharm": {
     "is_executing": true,
     "name": "#%%\n"
    }
   },
   "outputs": [
    {
     "name": "stdout",
     "output_type": "stream",
     "text": [
      "Cross Validation accuracy score: 0.463437213594195\n",
      "\n",
      "Base Model Accuracy: 0.469\n",
      "\n",
      "METRICS:\n",
      "Accuracy score:\n",
      "0.46861715428857215\n",
      "\n",
      "Recall score:\n",
      "0.46861715428857215\n",
      "\n",
      "Precison score:\n",
      "0.47616971690671994\n",
      "\n",
      "F1-score:\n",
      "0.47047097283348305\n",
      "\n",
      "MCC score:\n",
      "0.24294116132293417\n",
      "\n",
      "Confusion matrix:\n",
      "[[ 304  844  290  157]\n",
      " [ 638 2561  848  363]\n",
      " [ 219  770 2203 1201]\n",
      " [  57  211  777  554]]\n",
      "\n",
      "Classification report:\n",
      "              precision    recall  f1-score   support\n",
      "\n",
      "           0       0.25      0.19      0.22      1595\n",
      "           1       0.58      0.58      0.58      4410\n",
      "           2       0.53      0.50      0.52      4393\n",
      "           3       0.24      0.35      0.29      1599\n",
      "\n",
      "    accuracy                           0.47     11997\n",
      "   macro avg       0.40      0.40      0.40     11997\n",
      "weighted avg       0.48      0.47      0.47     11997\n",
      "\n",
      "\n"
     ]
    },
    {
     "data": {
      "image/png": "[encoded data removed]",
      "text/plain": [
       "<Figure size 432x288 with 2 Axes>"
      ]
     },
     "metadata": {
      "needs_background": "light"
     },
     "output_type": "display_data"
    }
   ],
   "source": [
    "ml(voting, fingerprint_data_m, fingerprint_label_m, None)"
   ]
  },
  {
   "cell_type": "markdown",
   "metadata": {
    "pycharm": {
     "name": "#%% md\n"
    }
   },
   "source": [
    "### Neural Network"
   ]
  },
  {
   "cell_type": "code",
   "execution_count": null,
   "metadata": {
    "pycharm": {
     "is_executing": true,
     "name": "#%%\n"
    }
   },
   "outputs": [
    {
     "name": "stdout",
     "output_type": "stream",
     "text": [
      "Cross Validation accuracy score: 0.5363121419438894\n",
      "\n",
      "Base Model Accuracy: 0.532\n",
      "\n",
      "METRICS:\n",
      "Accuracy score:\n",
      "0.5322163874301908\n",
      "\n",
      "Recall score:\n",
      "0.5322163874301908\n",
      "\n",
      "Precison score:\n",
      "0.4810984029617236\n",
      "\n",
      "F1-score:\n",
      "0.4819436994223754\n",
      "\n",
      "MCC score:\n",
      "0.2927074957678842\n",
      "\n",
      "Confusion matrix:\n",
      "[[ 129 1210  239   18]\n",
      " [ 209 3251  824   32]\n",
      " [  86 1247 2893  228]\n",
      " [  14  312 1193  112]]\n",
      "\n",
      "Classification report:\n",
      "              precision    recall  f1-score   support\n",
      "\n",
      "           0       0.29      0.08      0.13      1596\n",
      "           1       0.54      0.75      0.63      4316\n",
      "           2       0.56      0.65      0.60      4454\n",
      "           3       0.29      0.07      0.11      1631\n",
      "\n",
      "    accuracy                           0.53     11997\n",
      "   macro avg       0.42      0.39      0.37     11997\n",
      "weighted avg       0.48      0.53      0.48     11997\n",
      "\n",
      "\n"
     ]
    },
    {
     "data": {
      "image/png": "[encoded data removed]",
      "text/plain": [
       "<Figure size 432x288 with 2 Axes>"
      ]
     },
     "metadata": {
      "needs_background": "light"
     },
     "output_type": "display_data"
    }
   ],
   "source": [
    "ml(nn, fingerprint_data_m, fingerprint_label_m, params_nn)"
   ]
  }
 ],
 "metadata": {
  "kernelspec": {
   "display_name": "Python 3 (ipykernel)",
   "language": "python",
   "name": "python3"
  },
  "language_info": {
   "codemirror_mode": {
    "name": "ipython",
    "version": 3
   },
   "file_extension": ".py",
   "mimetype": "text/x-python",
   "name": "python",
   "nbconvert_exporter": "python",
   "pygments_lexer": "ipython3",
   "version": "3.9.7"
  }
 },
 "nbformat": 4,
 "nbformat_minor": 1
}
